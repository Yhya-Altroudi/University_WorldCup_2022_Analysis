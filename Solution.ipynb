{
 "cells": [
  {
   "cell_type": "code",
   "execution_count": 1,
   "metadata": {},
   "outputs": [],
   "source": [
    "import pandas as pd\n",
    "import numpy as np\n",
    "from sklearn.preprocessing import KBinsDiscretizer\n",
    "from sklearn.preprocessing import FunctionTransformer\n",
    "import plotly.express as px\n",
    "from scipy.stats import chi2_contingency\n",
    "\n",
    "pd.options.display.max_columns = None\n",
    "#pd.options.display.max_rows = None"
   ]
  },
  {
   "attachments": {},
   "cell_type": "markdown",
   "metadata": {},
   "source": [
    "# Homework1 Part1"
   ]
  },
  {
   "attachments": {},
   "cell_type": "markdown",
   "metadata": {},
   "source": [
    "## 1.Cleaning and merging data"
   ]
  },
  {
   "attachments": {},
   "cell_type": "markdown",
   "metadata": {},
   "source": [
    "### a.Attendance, matches and stadium merging"
   ]
  },
  {
   "attachments": {},
   "cell_type": "markdown",
   "metadata": {},
   "source": [
    "#### Attendance DataFrame"
   ]
  },
  {
   "cell_type": "code",
   "execution_count": 2,
   "metadata": {},
   "outputs": [
    {
     "data": {
      "text/html": [
       "<div>\n",
       "<style scoped>\n",
       "    .dataframe tbody tr th:only-of-type {\n",
       "        vertical-align: middle;\n",
       "    }\n",
       "\n",
       "    .dataframe tbody tr th {\n",
       "        vertical-align: top;\n",
       "    }\n",
       "\n",
       "    .dataframe thead th {\n",
       "        text-align: right;\n",
       "    }\n",
       "</style>\n",
       "<table border=\"1\" class=\"dataframe\">\n",
       "  <thead>\n",
       "    <tr style=\"text-align: right;\">\n",
       "      <th></th>\n",
       "      <th>home_team</th>\n",
       "      <th>away_team</th>\n",
       "      <th>Attendance</th>\n",
       "      <th>Date</th>\n",
       "    </tr>\n",
       "  </thead>\n",
       "  <tbody>\n",
       "    <tr>\n",
       "      <th>0</th>\n",
       "      <td>Argentina</td>\n",
       "      <td>France</td>\n",
       "      <td>88966</td>\n",
       "      <td>2022-12-18</td>\n",
       "    </tr>\n",
       "    <tr>\n",
       "      <th>1</th>\n",
       "      <td>Croatia</td>\n",
       "      <td>Morocco</td>\n",
       "      <td>44137</td>\n",
       "      <td>2022-12-17</td>\n",
       "    </tr>\n",
       "    <tr>\n",
       "      <th>2</th>\n",
       "      <td>France</td>\n",
       "      <td>Morocco</td>\n",
       "      <td>68294</td>\n",
       "      <td>2022-12-14</td>\n",
       "    </tr>\n",
       "    <tr>\n",
       "      <th>3</th>\n",
       "      <td>Argentina</td>\n",
       "      <td>Croatia</td>\n",
       "      <td>88966</td>\n",
       "      <td>2022-12-13</td>\n",
       "    </tr>\n",
       "    <tr>\n",
       "      <th>4</th>\n",
       "      <td>Morocco</td>\n",
       "      <td>Portugal</td>\n",
       "      <td>44198</td>\n",
       "      <td>2022-12-10</td>\n",
       "    </tr>\n",
       "    <tr>\n",
       "      <th>5</th>\n",
       "      <td>England</td>\n",
       "      <td>France</td>\n",
       "      <td>68895</td>\n",
       "      <td>2022-12-10</td>\n",
       "    </tr>\n",
       "    <tr>\n",
       "      <th>6</th>\n",
       "      <td>Croatia</td>\n",
       "      <td>Brazil</td>\n",
       "      <td>43893</td>\n",
       "      <td>2022-12-09</td>\n",
       "    </tr>\n",
       "    <tr>\n",
       "      <th>7</th>\n",
       "      <td>Netherlands</td>\n",
       "      <td>Argentina</td>\n",
       "      <td>88235</td>\n",
       "      <td>2022-12-09</td>\n",
       "    </tr>\n",
       "    <tr>\n",
       "      <th>8</th>\n",
       "      <td>Morocco</td>\n",
       "      <td>Spain</td>\n",
       "      <td>44667</td>\n",
       "      <td>2022-12-06</td>\n",
       "    </tr>\n",
       "    <tr>\n",
       "      <th>9</th>\n",
       "      <td>Portugal</td>\n",
       "      <td>Switzerland</td>\n",
       "      <td>83720</td>\n",
       "      <td>2022-12-06</td>\n",
       "    </tr>\n",
       "  </tbody>\n",
       "</table>\n",
       "</div>"
      ],
      "text/plain": [
       "     home_team    away_team  Attendance        Date\n",
       "0    Argentina       France       88966  2022-12-18\n",
       "1      Croatia      Morocco       44137  2022-12-17\n",
       "2       France      Morocco       68294  2022-12-14\n",
       "3    Argentina      Croatia       88966  2022-12-13\n",
       "4      Morocco     Portugal       44198  2022-12-10\n",
       "5      England       France       68895  2022-12-10\n",
       "6      Croatia       Brazil       43893  2022-12-09\n",
       "7  Netherlands    Argentina       88235  2022-12-09\n",
       "8      Morocco        Spain       44667  2022-12-06\n",
       "9     Portugal  Switzerland       83720  2022-12-06"
      ]
     },
     "execution_count": 2,
     "metadata": {},
     "output_type": "execute_result"
    }
   ],
   "source": [
    "df_attend = pd.read_csv('attendance.csv')\n",
    "df_attend.head(10)"
   ]
  },
  {
   "cell_type": "code",
   "execution_count": 3,
   "metadata": {},
   "outputs": [
    {
     "data": {
      "text/plain": [
       "(964, 4)"
      ]
     },
     "execution_count": 3,
     "metadata": {},
     "output_type": "execute_result"
    }
   ],
   "source": [
    "df_attend.shape"
   ]
  },
  {
   "cell_type": "code",
   "execution_count": 4,
   "metadata": {},
   "outputs": [
    {
     "data": {
      "text/plain": [
       "Index(['home_team', 'away_team', 'Attendance', 'Date'], dtype='object')"
      ]
     },
     "execution_count": 4,
     "metadata": {},
     "output_type": "execute_result"
    }
   ],
   "source": [
    "attendance_columns = df_attend.columns\n",
    "attendance_columns"
   ]
  },
  {
   "attachments": {},
   "cell_type": "markdown",
   "metadata": {},
   "source": [
    "#### Team DataFrame\n",
    "\n",
    "\n",
    "  "
   ]
  },
  {
   "attachments": {},
   "cell_type": "markdown",
   "metadata": {},
   "source": [
    "* The team Dataframe will be a major help in the merging opeartion:\n",
    "\n",
    "  * It will help to standarize the different spelling of the same country (eg: Türkiye & Turkey)."
   ]
  },
  {
   "cell_type": "code",
   "execution_count": 5,
   "metadata": {},
   "outputs": [
    {
     "data": {
      "text/html": [
       "<div>\n",
       "<style scoped>\n",
       "    .dataframe tbody tr th:only-of-type {\n",
       "        vertical-align: middle;\n",
       "    }\n",
       "\n",
       "    .dataframe tbody tr th {\n",
       "        vertical-align: top;\n",
       "    }\n",
       "\n",
       "    .dataframe thead th {\n",
       "        text-align: right;\n",
       "    }\n",
       "</style>\n",
       "<table border=\"1\" class=\"dataframe\">\n",
       "  <thead>\n",
       "    <tr style=\"text-align: right;\">\n",
       "      <th></th>\n",
       "      <th>key_id</th>\n",
       "      <th>team_id</th>\n",
       "      <th>team_name</th>\n",
       "      <th>team_code</th>\n",
       "      <th>federation_name</th>\n",
       "      <th>region_name</th>\n",
       "      <th>confederation_id</th>\n",
       "      <th>confederation_name</th>\n",
       "      <th>confederation_code</th>\n",
       "      <th>team_wikipedia_link</th>\n",
       "      <th>federation_wikipedia_link</th>\n",
       "    </tr>\n",
       "  </thead>\n",
       "  <tbody>\n",
       "    <tr>\n",
       "      <th>0</th>\n",
       "      <td>1</td>\n",
       "      <td>T-01</td>\n",
       "      <td>Algeria</td>\n",
       "      <td>DZA</td>\n",
       "      <td>Algerian Football Federation</td>\n",
       "      <td>Africa</td>\n",
       "      <td>CF-2</td>\n",
       "      <td>Confederation of African Football</td>\n",
       "      <td>CAF</td>\n",
       "      <td>https://en.wikipedia.org/wiki/Algeria_national...</td>\n",
       "      <td>https://en.wikipedia.org/wiki/Algerian_Footbal...</td>\n",
       "    </tr>\n",
       "    <tr>\n",
       "      <th>1</th>\n",
       "      <td>2</td>\n",
       "      <td>T-02</td>\n",
       "      <td>Angola</td>\n",
       "      <td>AGO</td>\n",
       "      <td>Angolan Football Federation</td>\n",
       "      <td>Africa</td>\n",
       "      <td>CF-2</td>\n",
       "      <td>Confederation of African Football</td>\n",
       "      <td>CAF</td>\n",
       "      <td>https://en.wikipedia.org/wiki/Angola_national_...</td>\n",
       "      <td>https://en.wikipedia.org/wiki/Angolan_Football...</td>\n",
       "    </tr>\n",
       "    <tr>\n",
       "      <th>2</th>\n",
       "      <td>3</td>\n",
       "      <td>T-03</td>\n",
       "      <td>Argentina</td>\n",
       "      <td>ARG</td>\n",
       "      <td>Argentine Football Association</td>\n",
       "      <td>South America</td>\n",
       "      <td>CF-4</td>\n",
       "      <td>South American Football Confederation</td>\n",
       "      <td>CONMEBOL</td>\n",
       "      <td>https://en.wikipedia.org/wiki/Argentina_nation...</td>\n",
       "      <td>https://en.wikipedia.org/wiki/Argentine_Footba...</td>\n",
       "    </tr>\n",
       "    <tr>\n",
       "      <th>3</th>\n",
       "      <td>4</td>\n",
       "      <td>T-04</td>\n",
       "      <td>Australia</td>\n",
       "      <td>AUS</td>\n",
       "      <td>Football Australia</td>\n",
       "      <td>Oceania</td>\n",
       "      <td>CF-1</td>\n",
       "      <td>Asian Football Confederation</td>\n",
       "      <td>AFC</td>\n",
       "      <td>https://en.wikipedia.org/wiki/Australia_men%27...</td>\n",
       "      <td>https://en.wikipedia.org/wiki/Football_Australia</td>\n",
       "    </tr>\n",
       "    <tr>\n",
       "      <th>4</th>\n",
       "      <td>5</td>\n",
       "      <td>T-05</td>\n",
       "      <td>Austria</td>\n",
       "      <td>AUT</td>\n",
       "      <td>Austrian Football Association</td>\n",
       "      <td>Europe</td>\n",
       "      <td>CF-6</td>\n",
       "      <td>Union of European Football Associations</td>\n",
       "      <td>UEFA</td>\n",
       "      <td>https://en.wikipedia.org/wiki/Austria_national...</td>\n",
       "      <td>https://en.wikipedia.org/wiki/Austrian_Footbal...</td>\n",
       "    </tr>\n",
       "  </tbody>\n",
       "</table>\n",
       "</div>"
      ],
      "text/plain": [
       "   key_id team_id  team_name team_code                 federation_name  \\\n",
       "0       1    T-01    Algeria       DZA    Algerian Football Federation   \n",
       "1       2    T-02     Angola       AGO     Angolan Football Federation   \n",
       "2       3    T-03  Argentina       ARG  Argentine Football Association   \n",
       "3       4    T-04  Australia       AUS              Football Australia   \n",
       "4       5    T-05    Austria       AUT   Austrian Football Association   \n",
       "\n",
       "     region_name confederation_id                       confederation_name  \\\n",
       "0         Africa             CF-2        Confederation of African Football   \n",
       "1         Africa             CF-2        Confederation of African Football   \n",
       "2  South America             CF-4    South American Football Confederation   \n",
       "3        Oceania             CF-1             Asian Football Confederation   \n",
       "4         Europe             CF-6  Union of European Football Associations   \n",
       "\n",
       "  confederation_code                                team_wikipedia_link  \\\n",
       "0                CAF  https://en.wikipedia.org/wiki/Algeria_national...   \n",
       "1                CAF  https://en.wikipedia.org/wiki/Angola_national_...   \n",
       "2           CONMEBOL  https://en.wikipedia.org/wiki/Argentina_nation...   \n",
       "3                AFC  https://en.wikipedia.org/wiki/Australia_men%27...   \n",
       "4               UEFA  https://en.wikipedia.org/wiki/Austria_national...   \n",
       "\n",
       "                           federation_wikipedia_link  \n",
       "0  https://en.wikipedia.org/wiki/Algerian_Footbal...  \n",
       "1  https://en.wikipedia.org/wiki/Angolan_Football...  \n",
       "2  https://en.wikipedia.org/wiki/Argentine_Footba...  \n",
       "3   https://en.wikipedia.org/wiki/Football_Australia  \n",
       "4  https://en.wikipedia.org/wiki/Austrian_Footbal...  "
      ]
     },
     "execution_count": 5,
     "metadata": {},
     "output_type": "execute_result"
    }
   ],
   "source": [
    "df_teams = pd.read_csv('worldcup-1.1.0/data-csv/teams.csv')\n",
    "df_teams.head(5)"
   ]
  },
  {
   "attachments": {},
   "cell_type": "markdown",
   "metadata": {},
   "source": [
    "* Grab from the **teams** dataframe columns[team_name, team_code], to get a dictionary of the team name and the correspondnce team 3-letter code."
   ]
  },
  {
   "cell_type": "code",
   "execution_count": 6,
   "metadata": {},
   "outputs": [],
   "source": [
    "team_name_code = dict(zip(df_teams.team_name, df_teams.team_code))"
   ]
  },
  {
   "attachments": {},
   "cell_type": "markdown",
   "metadata": {},
   "source": [
    "* As we've discussed there are different spelling for the same country, so we want to grab those by applying set difference to get the non-standarized team names."
   ]
  },
  {
   "cell_type": "code",
   "execution_count": 7,
   "metadata": {},
   "outputs": [
    {
     "data": {
      "text/plain": [
       "{'China PR',\n",
       " \"Côte d'Ivoire\",\n",
       " 'FR Yugoslavia',\n",
       " 'Germany DR',\n",
       " 'IR Iran',\n",
       " 'Korea DPR',\n",
       " 'Korea Republic',\n",
       " 'Türkiye'}"
      ]
     },
     "execution_count": 7,
     "metadata": {},
     "output_type": "execute_result"
    }
   ],
   "source": [
    "set_difference = set(df_attend.home_team) - set(df_teams.team_name)\n",
    "set_difference"
   ]
  },
  {
   "attachments": {},
   "cell_type": "markdown",
   "metadata": {},
   "source": [
    "* Now we need to build up a dictionary for the resulted country from the operation above with the correspondnce team code."
   ]
  },
  {
   "cell_type": "code",
   "execution_count": 8,
   "metadata": {},
   "outputs": [],
   "source": [
    "anamoly_countries = { \"China PR\" : 'CHN',\n",
    "                     \"Côte d'Ivoire\" : 'CIV',\n",
    "                     \"FR Yugoslavia\" : 'YUG',\n",
    "                     \"Germany DR\" : 'DDR',\n",
    "                     \"IR Iran\" : 'IRN',\n",
    "                     \"Korea DPR\" : 'PRK',\n",
    "                     \"Korea Republic\" : 'KOR',\n",
    "                     \"Türkiye\" : 'TUR'}"
   ]
  },
  {
   "cell_type": "code",
   "execution_count": 9,
   "metadata": {},
   "outputs": [
    {
     "data": {
      "text/plain": [
       "93"
      ]
     },
     "execution_count": 9,
     "metadata": {},
     "output_type": "execute_result"
    }
   ],
   "source": [
    "team_name_code.update(anamoly_countries)\n",
    "len(team_name_code)"
   ]
  },
  {
   "attachments": {},
   "cell_type": "markdown",
   "metadata": {},
   "source": [
    "* We need to merge based upon home_team_code and away_team_code (THANKS for you directions).\n",
    "* We have to apply the map function and create them based on the dictionary which we've build."
   ]
  },
  {
   "cell_type": "code",
   "execution_count": 10,
   "metadata": {},
   "outputs": [
    {
     "data": {
      "text/html": [
       "<div>\n",
       "<style scoped>\n",
       "    .dataframe tbody tr th:only-of-type {\n",
       "        vertical-align: middle;\n",
       "    }\n",
       "\n",
       "    .dataframe tbody tr th {\n",
       "        vertical-align: top;\n",
       "    }\n",
       "\n",
       "    .dataframe thead th {\n",
       "        text-align: right;\n",
       "    }\n",
       "</style>\n",
       "<table border=\"1\" class=\"dataframe\">\n",
       "  <thead>\n",
       "    <tr style=\"text-align: right;\">\n",
       "      <th></th>\n",
       "      <th>home_team</th>\n",
       "      <th>away_team</th>\n",
       "      <th>Attendance</th>\n",
       "      <th>Date</th>\n",
       "      <th>home_team_code</th>\n",
       "      <th>away_team_code</th>\n",
       "    </tr>\n",
       "  </thead>\n",
       "  <tbody>\n",
       "    <tr>\n",
       "      <th>0</th>\n",
       "      <td>Argentina</td>\n",
       "      <td>France</td>\n",
       "      <td>88966</td>\n",
       "      <td>2022-12-18</td>\n",
       "      <td>ARG</td>\n",
       "      <td>FRA</td>\n",
       "    </tr>\n",
       "    <tr>\n",
       "      <th>1</th>\n",
       "      <td>Croatia</td>\n",
       "      <td>Morocco</td>\n",
       "      <td>44137</td>\n",
       "      <td>2022-12-17</td>\n",
       "      <td>HRV</td>\n",
       "      <td>MAR</td>\n",
       "    </tr>\n",
       "    <tr>\n",
       "      <th>2</th>\n",
       "      <td>France</td>\n",
       "      <td>Morocco</td>\n",
       "      <td>68294</td>\n",
       "      <td>2022-12-14</td>\n",
       "      <td>FRA</td>\n",
       "      <td>MAR</td>\n",
       "    </tr>\n",
       "    <tr>\n",
       "      <th>3</th>\n",
       "      <td>Argentina</td>\n",
       "      <td>Croatia</td>\n",
       "      <td>88966</td>\n",
       "      <td>2022-12-13</td>\n",
       "      <td>ARG</td>\n",
       "      <td>HRV</td>\n",
       "    </tr>\n",
       "    <tr>\n",
       "      <th>4</th>\n",
       "      <td>Morocco</td>\n",
       "      <td>Portugal</td>\n",
       "      <td>44198</td>\n",
       "      <td>2022-12-10</td>\n",
       "      <td>MAR</td>\n",
       "      <td>PRT</td>\n",
       "    </tr>\n",
       "    <tr>\n",
       "      <th>5</th>\n",
       "      <td>England</td>\n",
       "      <td>France</td>\n",
       "      <td>68895</td>\n",
       "      <td>2022-12-10</td>\n",
       "      <td>ENG</td>\n",
       "      <td>FRA</td>\n",
       "    </tr>\n",
       "    <tr>\n",
       "      <th>6</th>\n",
       "      <td>Croatia</td>\n",
       "      <td>Brazil</td>\n",
       "      <td>43893</td>\n",
       "      <td>2022-12-09</td>\n",
       "      <td>HRV</td>\n",
       "      <td>BRA</td>\n",
       "    </tr>\n",
       "    <tr>\n",
       "      <th>7</th>\n",
       "      <td>Netherlands</td>\n",
       "      <td>Argentina</td>\n",
       "      <td>88235</td>\n",
       "      <td>2022-12-09</td>\n",
       "      <td>NLD</td>\n",
       "      <td>ARG</td>\n",
       "    </tr>\n",
       "    <tr>\n",
       "      <th>8</th>\n",
       "      <td>Morocco</td>\n",
       "      <td>Spain</td>\n",
       "      <td>44667</td>\n",
       "      <td>2022-12-06</td>\n",
       "      <td>MAR</td>\n",
       "      <td>ESP</td>\n",
       "    </tr>\n",
       "    <tr>\n",
       "      <th>9</th>\n",
       "      <td>Portugal</td>\n",
       "      <td>Switzerland</td>\n",
       "      <td>83720</td>\n",
       "      <td>2022-12-06</td>\n",
       "      <td>PRT</td>\n",
       "      <td>CHE</td>\n",
       "    </tr>\n",
       "  </tbody>\n",
       "</table>\n",
       "</div>"
      ],
      "text/plain": [
       "     home_team    away_team  Attendance        Date home_team_code  \\\n",
       "0    Argentina       France       88966  2022-12-18            ARG   \n",
       "1      Croatia      Morocco       44137  2022-12-17            HRV   \n",
       "2       France      Morocco       68294  2022-12-14            FRA   \n",
       "3    Argentina      Croatia       88966  2022-12-13            ARG   \n",
       "4      Morocco     Portugal       44198  2022-12-10            MAR   \n",
       "5      England       France       68895  2022-12-10            ENG   \n",
       "6      Croatia       Brazil       43893  2022-12-09            HRV   \n",
       "7  Netherlands    Argentina       88235  2022-12-09            NLD   \n",
       "8      Morocco        Spain       44667  2022-12-06            MAR   \n",
       "9     Portugal  Switzerland       83720  2022-12-06            PRT   \n",
       "\n",
       "  away_team_code  \n",
       "0            FRA  \n",
       "1            MAR  \n",
       "2            MAR  \n",
       "3            HRV  \n",
       "4            PRT  \n",
       "5            FRA  \n",
       "6            BRA  \n",
       "7            ARG  \n",
       "8            ESP  \n",
       "9            CHE  "
      ]
     },
     "execution_count": 10,
     "metadata": {},
     "output_type": "execute_result"
    }
   ],
   "source": [
    "df_attend['home_team_code'] = df_attend.home_team.map(team_name_code)\n",
    "df_attend['away_team_code'] = df_attend.away_team.map(team_name_code)\n",
    "\n",
    "df_attend.head(10)"
   ]
  },
  {
   "attachments": {},
   "cell_type": "markdown",
   "metadata": {},
   "source": [
    "#### Matches DataFrame"
   ]
  },
  {
   "cell_type": "code",
   "execution_count": 11,
   "metadata": {},
   "outputs": [
    {
     "data": {
      "text/html": [
       "<div>\n",
       "<style scoped>\n",
       "    .dataframe tbody tr th:only-of-type {\n",
       "        vertical-align: middle;\n",
       "    }\n",
       "\n",
       "    .dataframe tbody tr th {\n",
       "        vertical-align: top;\n",
       "    }\n",
       "\n",
       "    .dataframe thead th {\n",
       "        text-align: right;\n",
       "    }\n",
       "</style>\n",
       "<table border=\"1\" class=\"dataframe\">\n",
       "  <thead>\n",
       "    <tr style=\"text-align: right;\">\n",
       "      <th></th>\n",
       "      <th>key_id</th>\n",
       "      <th>tournament_id</th>\n",
       "      <th>tournament_name</th>\n",
       "      <th>match_id</th>\n",
       "      <th>match_name</th>\n",
       "      <th>stage_name</th>\n",
       "      <th>group_name</th>\n",
       "      <th>group_stage</th>\n",
       "      <th>knockout_stage</th>\n",
       "      <th>replayed</th>\n",
       "      <th>replay</th>\n",
       "      <th>match_date</th>\n",
       "      <th>match_time</th>\n",
       "      <th>stadium_id</th>\n",
       "      <th>stadium_name</th>\n",
       "      <th>city_name</th>\n",
       "      <th>country_name</th>\n",
       "      <th>home_team_id</th>\n",
       "      <th>home_team_name</th>\n",
       "      <th>home_team_code</th>\n",
       "      <th>away_team_id</th>\n",
       "      <th>away_team_name</th>\n",
       "      <th>away_team_code</th>\n",
       "      <th>score</th>\n",
       "      <th>home_team_score</th>\n",
       "      <th>away_team_score</th>\n",
       "      <th>home_team_score_margin</th>\n",
       "      <th>away_team_score_margin</th>\n",
       "      <th>extra_time</th>\n",
       "      <th>penalty_shootout</th>\n",
       "      <th>score_penalties</th>\n",
       "      <th>home_team_score_penalties</th>\n",
       "      <th>away_team_score_penalties</th>\n",
       "      <th>result</th>\n",
       "      <th>home_team_win</th>\n",
       "      <th>away_team_win</th>\n",
       "      <th>draw</th>\n",
       "    </tr>\n",
       "  </thead>\n",
       "  <tbody>\n",
       "    <tr>\n",
       "      <th>0</th>\n",
       "      <td>1</td>\n",
       "      <td>WC-1930</td>\n",
       "      <td>1930 FIFA World Cup</td>\n",
       "      <td>M-1930-01</td>\n",
       "      <td>France v Mexico</td>\n",
       "      <td>group stage</td>\n",
       "      <td>Group 1</td>\n",
       "      <td>1</td>\n",
       "      <td>0</td>\n",
       "      <td>0</td>\n",
       "      <td>0</td>\n",
       "      <td>1930-07-13</td>\n",
       "      <td>15:00</td>\n",
       "      <td>S-193</td>\n",
       "      <td>Estadio Pocitos</td>\n",
       "      <td>Montevideo</td>\n",
       "      <td>Uruguay</td>\n",
       "      <td>T-28</td>\n",
       "      <td>France</td>\n",
       "      <td>FRA</td>\n",
       "      <td>T-44</td>\n",
       "      <td>Mexico</td>\n",
       "      <td>MEX</td>\n",
       "      <td>4–1</td>\n",
       "      <td>4</td>\n",
       "      <td>1</td>\n",
       "      <td>3</td>\n",
       "      <td>-3</td>\n",
       "      <td>0</td>\n",
       "      <td>0</td>\n",
       "      <td>0-0</td>\n",
       "      <td>0</td>\n",
       "      <td>0</td>\n",
       "      <td>home team win</td>\n",
       "      <td>1</td>\n",
       "      <td>0</td>\n",
       "      <td>0</td>\n",
       "    </tr>\n",
       "    <tr>\n",
       "      <th>1</th>\n",
       "      <td>2</td>\n",
       "      <td>WC-1930</td>\n",
       "      <td>1930 FIFA World Cup</td>\n",
       "      <td>M-1930-02</td>\n",
       "      <td>United States v Belgium</td>\n",
       "      <td>group stage</td>\n",
       "      <td>Group 4</td>\n",
       "      <td>1</td>\n",
       "      <td>0</td>\n",
       "      <td>0</td>\n",
       "      <td>0</td>\n",
       "      <td>1930-07-13</td>\n",
       "      <td>15:00</td>\n",
       "      <td>S-192</td>\n",
       "      <td>Estadio Gran Parque Central</td>\n",
       "      <td>Montevideo</td>\n",
       "      <td>Uruguay</td>\n",
       "      <td>T-80</td>\n",
       "      <td>United States</td>\n",
       "      <td>USA</td>\n",
       "      <td>T-06</td>\n",
       "      <td>Belgium</td>\n",
       "      <td>BEL</td>\n",
       "      <td>3–0</td>\n",
       "      <td>3</td>\n",
       "      <td>0</td>\n",
       "      <td>3</td>\n",
       "      <td>-3</td>\n",
       "      <td>0</td>\n",
       "      <td>0</td>\n",
       "      <td>0-0</td>\n",
       "      <td>0</td>\n",
       "      <td>0</td>\n",
       "      <td>home team win</td>\n",
       "      <td>1</td>\n",
       "      <td>0</td>\n",
       "      <td>0</td>\n",
       "    </tr>\n",
       "    <tr>\n",
       "      <th>2</th>\n",
       "      <td>3</td>\n",
       "      <td>WC-1930</td>\n",
       "      <td>1930 FIFA World Cup</td>\n",
       "      <td>M-1930-03</td>\n",
       "      <td>Yugoslavia v Brazil</td>\n",
       "      <td>group stage</td>\n",
       "      <td>Group 2</td>\n",
       "      <td>1</td>\n",
       "      <td>0</td>\n",
       "      <td>0</td>\n",
       "      <td>0</td>\n",
       "      <td>1930-07-14</td>\n",
       "      <td>12:45</td>\n",
       "      <td>S-192</td>\n",
       "      <td>Estadio Gran Parque Central</td>\n",
       "      <td>Montevideo</td>\n",
       "      <td>Uruguay</td>\n",
       "      <td>T-84</td>\n",
       "      <td>Yugoslavia</td>\n",
       "      <td>YUG</td>\n",
       "      <td>T-09</td>\n",
       "      <td>Brazil</td>\n",
       "      <td>BRA</td>\n",
       "      <td>2–1</td>\n",
       "      <td>2</td>\n",
       "      <td>1</td>\n",
       "      <td>1</td>\n",
       "      <td>-1</td>\n",
       "      <td>0</td>\n",
       "      <td>0</td>\n",
       "      <td>0-0</td>\n",
       "      <td>0</td>\n",
       "      <td>0</td>\n",
       "      <td>home team win</td>\n",
       "      <td>1</td>\n",
       "      <td>0</td>\n",
       "      <td>0</td>\n",
       "    </tr>\n",
       "    <tr>\n",
       "      <th>3</th>\n",
       "      <td>4</td>\n",
       "      <td>WC-1930</td>\n",
       "      <td>1930 FIFA World Cup</td>\n",
       "      <td>M-1930-04</td>\n",
       "      <td>Romania v Peru</td>\n",
       "      <td>group stage</td>\n",
       "      <td>Group 3</td>\n",
       "      <td>1</td>\n",
       "      <td>0</td>\n",
       "      <td>0</td>\n",
       "      <td>0</td>\n",
       "      <td>1930-07-14</td>\n",
       "      <td>14:50</td>\n",
       "      <td>S-193</td>\n",
       "      <td>Estadio Pocitos</td>\n",
       "      <td>Montevideo</td>\n",
       "      <td>Uruguay</td>\n",
       "      <td>T-59</td>\n",
       "      <td>Romania</td>\n",
       "      <td>ROU</td>\n",
       "      <td>T-54</td>\n",
       "      <td>Peru</td>\n",
       "      <td>PER</td>\n",
       "      <td>3–1</td>\n",
       "      <td>3</td>\n",
       "      <td>1</td>\n",
       "      <td>2</td>\n",
       "      <td>-2</td>\n",
       "      <td>0</td>\n",
       "      <td>0</td>\n",
       "      <td>0-0</td>\n",
       "      <td>0</td>\n",
       "      <td>0</td>\n",
       "      <td>home team win</td>\n",
       "      <td>1</td>\n",
       "      <td>0</td>\n",
       "      <td>0</td>\n",
       "    </tr>\n",
       "    <tr>\n",
       "      <th>4</th>\n",
       "      <td>5</td>\n",
       "      <td>WC-1930</td>\n",
       "      <td>1930 FIFA World Cup</td>\n",
       "      <td>M-1930-05</td>\n",
       "      <td>Argentina v France</td>\n",
       "      <td>group stage</td>\n",
       "      <td>Group 1</td>\n",
       "      <td>1</td>\n",
       "      <td>0</td>\n",
       "      <td>0</td>\n",
       "      <td>0</td>\n",
       "      <td>1930-07-15</td>\n",
       "      <td>16:00</td>\n",
       "      <td>S-192</td>\n",
       "      <td>Estadio Gran Parque Central</td>\n",
       "      <td>Montevideo</td>\n",
       "      <td>Uruguay</td>\n",
       "      <td>T-03</td>\n",
       "      <td>Argentina</td>\n",
       "      <td>ARG</td>\n",
       "      <td>T-28</td>\n",
       "      <td>France</td>\n",
       "      <td>FRA</td>\n",
       "      <td>1–0</td>\n",
       "      <td>1</td>\n",
       "      <td>0</td>\n",
       "      <td>1</td>\n",
       "      <td>-1</td>\n",
       "      <td>0</td>\n",
       "      <td>0</td>\n",
       "      <td>0-0</td>\n",
       "      <td>0</td>\n",
       "      <td>0</td>\n",
       "      <td>home team win</td>\n",
       "      <td>1</td>\n",
       "      <td>0</td>\n",
       "      <td>0</td>\n",
       "    </tr>\n",
       "  </tbody>\n",
       "</table>\n",
       "</div>"
      ],
      "text/plain": [
       "   key_id tournament_id      tournament_name   match_id  \\\n",
       "0       1       WC-1930  1930 FIFA World Cup  M-1930-01   \n",
       "1       2       WC-1930  1930 FIFA World Cup  M-1930-02   \n",
       "2       3       WC-1930  1930 FIFA World Cup  M-1930-03   \n",
       "3       4       WC-1930  1930 FIFA World Cup  M-1930-04   \n",
       "4       5       WC-1930  1930 FIFA World Cup  M-1930-05   \n",
       "\n",
       "                match_name   stage_name group_name  group_stage  \\\n",
       "0          France v Mexico  group stage    Group 1            1   \n",
       "1  United States v Belgium  group stage    Group 4            1   \n",
       "2      Yugoslavia v Brazil  group stage    Group 2            1   \n",
       "3           Romania v Peru  group stage    Group 3            1   \n",
       "4       Argentina v France  group stage    Group 1            1   \n",
       "\n",
       "   knockout_stage  replayed  replay  match_date match_time stadium_id  \\\n",
       "0               0         0       0  1930-07-13      15:00      S-193   \n",
       "1               0         0       0  1930-07-13      15:00      S-192   \n",
       "2               0         0       0  1930-07-14      12:45      S-192   \n",
       "3               0         0       0  1930-07-14      14:50      S-193   \n",
       "4               0         0       0  1930-07-15      16:00      S-192   \n",
       "\n",
       "                  stadium_name   city_name country_name home_team_id  \\\n",
       "0              Estadio Pocitos  Montevideo      Uruguay         T-28   \n",
       "1  Estadio Gran Parque Central  Montevideo      Uruguay         T-80   \n",
       "2  Estadio Gran Parque Central  Montevideo      Uruguay         T-84   \n",
       "3              Estadio Pocitos  Montevideo      Uruguay         T-59   \n",
       "4  Estadio Gran Parque Central  Montevideo      Uruguay         T-03   \n",
       "\n",
       "  home_team_name home_team_code away_team_id away_team_name away_team_code  \\\n",
       "0         France            FRA         T-44         Mexico            MEX   \n",
       "1  United States            USA         T-06        Belgium            BEL   \n",
       "2     Yugoslavia            YUG         T-09         Brazil            BRA   \n",
       "3        Romania            ROU         T-54           Peru            PER   \n",
       "4      Argentina            ARG         T-28         France            FRA   \n",
       "\n",
       "  score  home_team_score  away_team_score  home_team_score_margin  \\\n",
       "0   4–1                4                1                       3   \n",
       "1   3–0                3                0                       3   \n",
       "2   2–1                2                1                       1   \n",
       "3   3–1                3                1                       2   \n",
       "4   1–0                1                0                       1   \n",
       "\n",
       "   away_team_score_margin  extra_time  penalty_shootout score_penalties  \\\n",
       "0                      -3           0                 0             0-0   \n",
       "1                      -3           0                 0             0-0   \n",
       "2                      -1           0                 0             0-0   \n",
       "3                      -2           0                 0             0-0   \n",
       "4                      -1           0                 0             0-0   \n",
       "\n",
       "   home_team_score_penalties  away_team_score_penalties         result  \\\n",
       "0                          0                          0  home team win   \n",
       "1                          0                          0  home team win   \n",
       "2                          0                          0  home team win   \n",
       "3                          0                          0  home team win   \n",
       "4                          0                          0  home team win   \n",
       "\n",
       "   home_team_win  away_team_win  draw  \n",
       "0              1              0     0  \n",
       "1              1              0     0  \n",
       "2              1              0     0  \n",
       "3              1              0     0  \n",
       "4              1              0     0  "
      ]
     },
     "execution_count": 11,
     "metadata": {},
     "output_type": "execute_result"
    }
   ],
   "source": [
    "df_matches = pd.read_csv('worldcup-1.1.0\\data-csv\\matches.csv')\n",
    "df_matches.head()"
   ]
  },
  {
   "attachments": {},
   "cell_type": "markdown",
   "metadata": {},
   "source": [
    "* Grabbing all the features of the match table, and adding to it the attendance feature of the attendance table will be useful to select the \n",
    "only columns we want based on the directions. "
   ]
  },
  {
   "cell_type": "code",
   "execution_count": 12,
   "metadata": {},
   "outputs": [
    {
     "data": {
      "text/plain": [
       "['key_id',\n",
       " 'tournament_id',\n",
       " 'tournament_name',\n",
       " 'match_id',\n",
       " 'match_name',\n",
       " 'stage_name',\n",
       " 'group_name',\n",
       " 'group_stage',\n",
       " 'knockout_stage',\n",
       " 'replayed',\n",
       " 'replay',\n",
       " 'match_date',\n",
       " 'match_time',\n",
       " 'stadium_id',\n",
       " 'stadium_name',\n",
       " 'city_name',\n",
       " 'country_name',\n",
       " 'home_team_id',\n",
       " 'home_team_name',\n",
       " 'home_team_code',\n",
       " 'away_team_id',\n",
       " 'away_team_name',\n",
       " 'away_team_code',\n",
       " 'score',\n",
       " 'home_team_score',\n",
       " 'away_team_score',\n",
       " 'home_team_score_margin',\n",
       " 'away_team_score_margin',\n",
       " 'extra_time',\n",
       " 'penalty_shootout',\n",
       " 'score_penalties',\n",
       " 'home_team_score_penalties',\n",
       " 'away_team_score_penalties',\n",
       " 'result',\n",
       " 'home_team_win',\n",
       " 'away_team_win',\n",
       " 'draw',\n",
       " 'Attendance']"
      ]
     },
     "execution_count": 12,
     "metadata": {},
     "output_type": "execute_result"
    }
   ],
   "source": [
    "features_of_attd_and_match = df_matches.columns.to_list()\n",
    "features_of_attd_and_match.append('Attendance')\n",
    "features_of_attd_and_match"
   ]
  },
  {
   "attachments": {},
   "cell_type": "markdown",
   "metadata": {},
   "source": [
    "* We are doing left join based on the features mentioned below, many rows will not get joined because the some values of home_team and away team columns are swapped for the same match."
   ]
  },
  {
   "cell_type": "code",
   "execution_count": 13,
   "metadata": {},
   "outputs": [],
   "source": [
    "merge_result = df_matches.merge(right=df_attend,\n",
    "                                how='left',\n",
    "                                left_on=['home_team_code', 'away_team_code', 'match_date'],\n",
    "                                right_on=['home_team_code', 'away_team_code', 'Date'])\n"
   ]
  },
  {
   "attachments": {},
   "cell_type": "markdown",
   "metadata": {},
   "source": [
    "* Getting the indicies of the rows with swapped values."
   ]
  },
  {
   "cell_type": "code",
   "execution_count": 14,
   "metadata": {},
   "outputs": [],
   "source": [
    "temp = merge_result.isna().any(axis=1)\n",
    "null_idx = temp[temp].index"
   ]
  },
  {
   "attachments": {},
   "cell_type": "markdown",
   "metadata": {},
   "source": [
    "* Perfrom a swap between home_team_code and away_team_code values for the selected indicies only."
   ]
  },
  {
   "cell_type": "code",
   "execution_count": 15,
   "metadata": {},
   "outputs": [],
   "source": [
    "hold__home_team_code = df_matches.loc[null_idx, 'home_team_code'] \n",
    "\n",
    "df_matches.loc[null_idx,'home_team_code'] = df_matches.loc[null_idx, 'away_team_code']\n",
    "df_matches.loc[null_idx, 'away_team_code'] = hold__home_team_code\n"
   ]
  },
  {
   "attachments": {},
   "cell_type": "markdown",
   "metadata": {},
   "source": [
    "* Performing the merge operation, then selecting the columns which are mentioned in the homework."
   ]
  },
  {
   "cell_type": "code",
   "execution_count": 16,
   "metadata": {},
   "outputs": [
    {
     "data": {
      "text/html": [
       "<div>\n",
       "<style scoped>\n",
       "    .dataframe tbody tr th:only-of-type {\n",
       "        vertical-align: middle;\n",
       "    }\n",
       "\n",
       "    .dataframe tbody tr th {\n",
       "        vertical-align: top;\n",
       "    }\n",
       "\n",
       "    .dataframe thead th {\n",
       "        text-align: right;\n",
       "    }\n",
       "</style>\n",
       "<table border=\"1\" class=\"dataframe\">\n",
       "  <thead>\n",
       "    <tr style=\"text-align: right;\">\n",
       "      <th></th>\n",
       "      <th>key_id</th>\n",
       "      <th>tournament_id</th>\n",
       "      <th>tournament_name</th>\n",
       "      <th>match_id</th>\n",
       "      <th>match_name</th>\n",
       "      <th>stage_name</th>\n",
       "      <th>group_name</th>\n",
       "      <th>group_stage</th>\n",
       "      <th>knockout_stage</th>\n",
       "      <th>replayed</th>\n",
       "      <th>replay</th>\n",
       "      <th>match_date</th>\n",
       "      <th>match_time</th>\n",
       "      <th>stadium_id</th>\n",
       "      <th>stadium_name</th>\n",
       "      <th>city_name</th>\n",
       "      <th>country_name</th>\n",
       "      <th>home_team_id</th>\n",
       "      <th>home_team_name</th>\n",
       "      <th>home_team_code</th>\n",
       "      <th>away_team_id</th>\n",
       "      <th>away_team_name</th>\n",
       "      <th>away_team_code</th>\n",
       "      <th>score</th>\n",
       "      <th>home_team_score</th>\n",
       "      <th>away_team_score</th>\n",
       "      <th>home_team_score_margin</th>\n",
       "      <th>away_team_score_margin</th>\n",
       "      <th>extra_time</th>\n",
       "      <th>penalty_shootout</th>\n",
       "      <th>score_penalties</th>\n",
       "      <th>home_team_score_penalties</th>\n",
       "      <th>away_team_score_penalties</th>\n",
       "      <th>result</th>\n",
       "      <th>home_team_win</th>\n",
       "      <th>away_team_win</th>\n",
       "      <th>draw</th>\n",
       "      <th>Attendance</th>\n",
       "    </tr>\n",
       "  </thead>\n",
       "  <tbody>\n",
       "    <tr>\n",
       "      <th>0</th>\n",
       "      <td>1</td>\n",
       "      <td>WC-1930</td>\n",
       "      <td>1930 FIFA World Cup</td>\n",
       "      <td>M-1930-01</td>\n",
       "      <td>France v Mexico</td>\n",
       "      <td>group stage</td>\n",
       "      <td>Group 1</td>\n",
       "      <td>1</td>\n",
       "      <td>0</td>\n",
       "      <td>0</td>\n",
       "      <td>0</td>\n",
       "      <td>1930-07-13</td>\n",
       "      <td>15:00</td>\n",
       "      <td>S-193</td>\n",
       "      <td>Estadio Pocitos</td>\n",
       "      <td>Montevideo</td>\n",
       "      <td>Uruguay</td>\n",
       "      <td>T-28</td>\n",
       "      <td>France</td>\n",
       "      <td>FRA</td>\n",
       "      <td>T-44</td>\n",
       "      <td>Mexico</td>\n",
       "      <td>MEX</td>\n",
       "      <td>4–1</td>\n",
       "      <td>4</td>\n",
       "      <td>1</td>\n",
       "      <td>3</td>\n",
       "      <td>-3</td>\n",
       "      <td>0</td>\n",
       "      <td>0</td>\n",
       "      <td>0-0</td>\n",
       "      <td>0</td>\n",
       "      <td>0</td>\n",
       "      <td>home team win</td>\n",
       "      <td>1</td>\n",
       "      <td>0</td>\n",
       "      <td>0</td>\n",
       "      <td>4444</td>\n",
       "    </tr>\n",
       "    <tr>\n",
       "      <th>1</th>\n",
       "      <td>2</td>\n",
       "      <td>WC-1930</td>\n",
       "      <td>1930 FIFA World Cup</td>\n",
       "      <td>M-1930-02</td>\n",
       "      <td>United States v Belgium</td>\n",
       "      <td>group stage</td>\n",
       "      <td>Group 4</td>\n",
       "      <td>1</td>\n",
       "      <td>0</td>\n",
       "      <td>0</td>\n",
       "      <td>0</td>\n",
       "      <td>1930-07-13</td>\n",
       "      <td>15:00</td>\n",
       "      <td>S-192</td>\n",
       "      <td>Estadio Gran Parque Central</td>\n",
       "      <td>Montevideo</td>\n",
       "      <td>Uruguay</td>\n",
       "      <td>T-80</td>\n",
       "      <td>United States</td>\n",
       "      <td>USA</td>\n",
       "      <td>T-06</td>\n",
       "      <td>Belgium</td>\n",
       "      <td>BEL</td>\n",
       "      <td>3–0</td>\n",
       "      <td>3</td>\n",
       "      <td>0</td>\n",
       "      <td>3</td>\n",
       "      <td>-3</td>\n",
       "      <td>0</td>\n",
       "      <td>0</td>\n",
       "      <td>0-0</td>\n",
       "      <td>0</td>\n",
       "      <td>0</td>\n",
       "      <td>home team win</td>\n",
       "      <td>1</td>\n",
       "      <td>0</td>\n",
       "      <td>0</td>\n",
       "      <td>18346</td>\n",
       "    </tr>\n",
       "    <tr>\n",
       "      <th>2</th>\n",
       "      <td>3</td>\n",
       "      <td>WC-1930</td>\n",
       "      <td>1930 FIFA World Cup</td>\n",
       "      <td>M-1930-03</td>\n",
       "      <td>Yugoslavia v Brazil</td>\n",
       "      <td>group stage</td>\n",
       "      <td>Group 2</td>\n",
       "      <td>1</td>\n",
       "      <td>0</td>\n",
       "      <td>0</td>\n",
       "      <td>0</td>\n",
       "      <td>1930-07-14</td>\n",
       "      <td>12:45</td>\n",
       "      <td>S-192</td>\n",
       "      <td>Estadio Gran Parque Central</td>\n",
       "      <td>Montevideo</td>\n",
       "      <td>Uruguay</td>\n",
       "      <td>T-84</td>\n",
       "      <td>Yugoslavia</td>\n",
       "      <td>YUG</td>\n",
       "      <td>T-09</td>\n",
       "      <td>Brazil</td>\n",
       "      <td>BRA</td>\n",
       "      <td>2–1</td>\n",
       "      <td>2</td>\n",
       "      <td>1</td>\n",
       "      <td>1</td>\n",
       "      <td>-1</td>\n",
       "      <td>0</td>\n",
       "      <td>0</td>\n",
       "      <td>0-0</td>\n",
       "      <td>0</td>\n",
       "      <td>0</td>\n",
       "      <td>home team win</td>\n",
       "      <td>1</td>\n",
       "      <td>0</td>\n",
       "      <td>0</td>\n",
       "      <td>24059</td>\n",
       "    </tr>\n",
       "    <tr>\n",
       "      <th>3</th>\n",
       "      <td>4</td>\n",
       "      <td>WC-1930</td>\n",
       "      <td>1930 FIFA World Cup</td>\n",
       "      <td>M-1930-04</td>\n",
       "      <td>Romania v Peru</td>\n",
       "      <td>group stage</td>\n",
       "      <td>Group 3</td>\n",
       "      <td>1</td>\n",
       "      <td>0</td>\n",
       "      <td>0</td>\n",
       "      <td>0</td>\n",
       "      <td>1930-07-14</td>\n",
       "      <td>14:50</td>\n",
       "      <td>S-193</td>\n",
       "      <td>Estadio Pocitos</td>\n",
       "      <td>Montevideo</td>\n",
       "      <td>Uruguay</td>\n",
       "      <td>T-59</td>\n",
       "      <td>Romania</td>\n",
       "      <td>ROU</td>\n",
       "      <td>T-54</td>\n",
       "      <td>Peru</td>\n",
       "      <td>PER</td>\n",
       "      <td>3–1</td>\n",
       "      <td>3</td>\n",
       "      <td>1</td>\n",
       "      <td>2</td>\n",
       "      <td>-2</td>\n",
       "      <td>0</td>\n",
       "      <td>0</td>\n",
       "      <td>0-0</td>\n",
       "      <td>0</td>\n",
       "      <td>0</td>\n",
       "      <td>home team win</td>\n",
       "      <td>1</td>\n",
       "      <td>0</td>\n",
       "      <td>0</td>\n",
       "      <td>2549</td>\n",
       "    </tr>\n",
       "    <tr>\n",
       "      <th>4</th>\n",
       "      <td>5</td>\n",
       "      <td>WC-1930</td>\n",
       "      <td>1930 FIFA World Cup</td>\n",
       "      <td>M-1930-05</td>\n",
       "      <td>Argentina v France</td>\n",
       "      <td>group stage</td>\n",
       "      <td>Group 1</td>\n",
       "      <td>1</td>\n",
       "      <td>0</td>\n",
       "      <td>0</td>\n",
       "      <td>0</td>\n",
       "      <td>1930-07-15</td>\n",
       "      <td>16:00</td>\n",
       "      <td>S-192</td>\n",
       "      <td>Estadio Gran Parque Central</td>\n",
       "      <td>Montevideo</td>\n",
       "      <td>Uruguay</td>\n",
       "      <td>T-03</td>\n",
       "      <td>Argentina</td>\n",
       "      <td>ARG</td>\n",
       "      <td>T-28</td>\n",
       "      <td>France</td>\n",
       "      <td>FRA</td>\n",
       "      <td>1–0</td>\n",
       "      <td>1</td>\n",
       "      <td>0</td>\n",
       "      <td>1</td>\n",
       "      <td>-1</td>\n",
       "      <td>0</td>\n",
       "      <td>0</td>\n",
       "      <td>0-0</td>\n",
       "      <td>0</td>\n",
       "      <td>0</td>\n",
       "      <td>home team win</td>\n",
       "      <td>1</td>\n",
       "      <td>0</td>\n",
       "      <td>0</td>\n",
       "      <td>23409</td>\n",
       "    </tr>\n",
       "    <tr>\n",
       "      <th>...</th>\n",
       "      <td>...</td>\n",
       "      <td>...</td>\n",
       "      <td>...</td>\n",
       "      <td>...</td>\n",
       "      <td>...</td>\n",
       "      <td>...</td>\n",
       "      <td>...</td>\n",
       "      <td>...</td>\n",
       "      <td>...</td>\n",
       "      <td>...</td>\n",
       "      <td>...</td>\n",
       "      <td>...</td>\n",
       "      <td>...</td>\n",
       "      <td>...</td>\n",
       "      <td>...</td>\n",
       "      <td>...</td>\n",
       "      <td>...</td>\n",
       "      <td>...</td>\n",
       "      <td>...</td>\n",
       "      <td>...</td>\n",
       "      <td>...</td>\n",
       "      <td>...</td>\n",
       "      <td>...</td>\n",
       "      <td>...</td>\n",
       "      <td>...</td>\n",
       "      <td>...</td>\n",
       "      <td>...</td>\n",
       "      <td>...</td>\n",
       "      <td>...</td>\n",
       "      <td>...</td>\n",
       "      <td>...</td>\n",
       "      <td>...</td>\n",
       "      <td>...</td>\n",
       "      <td>...</td>\n",
       "      <td>...</td>\n",
       "      <td>...</td>\n",
       "      <td>...</td>\n",
       "      <td>...</td>\n",
       "    </tr>\n",
       "    <tr>\n",
       "      <th>959</th>\n",
       "      <td>960</td>\n",
       "      <td>WC-2022</td>\n",
       "      <td>2022 FIFA World Cup</td>\n",
       "      <td>M-2022-60</td>\n",
       "      <td>England v France</td>\n",
       "      <td>quarter-finals</td>\n",
       "      <td>not applicable</td>\n",
       "      <td>0</td>\n",
       "      <td>1</td>\n",
       "      <td>0</td>\n",
       "      <td>0</td>\n",
       "      <td>2022-12-10</td>\n",
       "      <td>22:00</td>\n",
       "      <td>S-107</td>\n",
       "      <td>Al Bayt Stadium</td>\n",
       "      <td>Al Khor</td>\n",
       "      <td>Qatar</td>\n",
       "      <td>T-27</td>\n",
       "      <td>England</td>\n",
       "      <td>ENG</td>\n",
       "      <td>T-28</td>\n",
       "      <td>France</td>\n",
       "      <td>FRA</td>\n",
       "      <td>1–2</td>\n",
       "      <td>1</td>\n",
       "      <td>2</td>\n",
       "      <td>-1</td>\n",
       "      <td>1</td>\n",
       "      <td>0</td>\n",
       "      <td>0</td>\n",
       "      <td>0-0</td>\n",
       "      <td>0</td>\n",
       "      <td>0</td>\n",
       "      <td>away team win</td>\n",
       "      <td>0</td>\n",
       "      <td>1</td>\n",
       "      <td>0</td>\n",
       "      <td>68895</td>\n",
       "    </tr>\n",
       "    <tr>\n",
       "      <th>960</th>\n",
       "      <td>961</td>\n",
       "      <td>WC-2022</td>\n",
       "      <td>2022 FIFA World Cup</td>\n",
       "      <td>M-2022-61</td>\n",
       "      <td>Argentina v Croatia</td>\n",
       "      <td>semi-finals</td>\n",
       "      <td>not applicable</td>\n",
       "      <td>0</td>\n",
       "      <td>1</td>\n",
       "      <td>0</td>\n",
       "      <td>0</td>\n",
       "      <td>2022-12-13</td>\n",
       "      <td>22:00</td>\n",
       "      <td>S-114</td>\n",
       "      <td>Lusail Stadium</td>\n",
       "      <td>Lusail</td>\n",
       "      <td>Qatar</td>\n",
       "      <td>T-03</td>\n",
       "      <td>Argentina</td>\n",
       "      <td>ARG</td>\n",
       "      <td>T-17</td>\n",
       "      <td>Croatia</td>\n",
       "      <td>HRV</td>\n",
       "      <td>3–0</td>\n",
       "      <td>3</td>\n",
       "      <td>0</td>\n",
       "      <td>3</td>\n",
       "      <td>-3</td>\n",
       "      <td>0</td>\n",
       "      <td>0</td>\n",
       "      <td>0-0</td>\n",
       "      <td>0</td>\n",
       "      <td>0</td>\n",
       "      <td>home team win</td>\n",
       "      <td>1</td>\n",
       "      <td>0</td>\n",
       "      <td>0</td>\n",
       "      <td>88966</td>\n",
       "    </tr>\n",
       "    <tr>\n",
       "      <th>961</th>\n",
       "      <td>962</td>\n",
       "      <td>WC-2022</td>\n",
       "      <td>2022 FIFA World Cup</td>\n",
       "      <td>M-2022-62</td>\n",
       "      <td>France v Morocco</td>\n",
       "      <td>semi-finals</td>\n",
       "      <td>not applicable</td>\n",
       "      <td>0</td>\n",
       "      <td>1</td>\n",
       "      <td>0</td>\n",
       "      <td>0</td>\n",
       "      <td>2022-12-14</td>\n",
       "      <td>22:00</td>\n",
       "      <td>S-107</td>\n",
       "      <td>Al Bayt Stadium</td>\n",
       "      <td>Al Khor</td>\n",
       "      <td>Qatar</td>\n",
       "      <td>T-28</td>\n",
       "      <td>France</td>\n",
       "      <td>FRA</td>\n",
       "      <td>T-45</td>\n",
       "      <td>Morocco</td>\n",
       "      <td>MAR</td>\n",
       "      <td>2–0</td>\n",
       "      <td>2</td>\n",
       "      <td>0</td>\n",
       "      <td>2</td>\n",
       "      <td>-2</td>\n",
       "      <td>0</td>\n",
       "      <td>0</td>\n",
       "      <td>0-0</td>\n",
       "      <td>0</td>\n",
       "      <td>0</td>\n",
       "      <td>home team win</td>\n",
       "      <td>1</td>\n",
       "      <td>0</td>\n",
       "      <td>0</td>\n",
       "      <td>68294</td>\n",
       "    </tr>\n",
       "    <tr>\n",
       "      <th>962</th>\n",
       "      <td>963</td>\n",
       "      <td>WC-2022</td>\n",
       "      <td>2022 FIFA World Cup</td>\n",
       "      <td>M-2022-63</td>\n",
       "      <td>Croatia v Morocco</td>\n",
       "      <td>third-place match</td>\n",
       "      <td>not applicable</td>\n",
       "      <td>0</td>\n",
       "      <td>1</td>\n",
       "      <td>0</td>\n",
       "      <td>0</td>\n",
       "      <td>2022-12-17</td>\n",
       "      <td>18:00</td>\n",
       "      <td>S-110</td>\n",
       "      <td>Khalifa International Stadium</td>\n",
       "      <td>Al Rayyan</td>\n",
       "      <td>Qatar</td>\n",
       "      <td>T-17</td>\n",
       "      <td>Croatia</td>\n",
       "      <td>HRV</td>\n",
       "      <td>T-45</td>\n",
       "      <td>Morocco</td>\n",
       "      <td>MAR</td>\n",
       "      <td>2–1</td>\n",
       "      <td>2</td>\n",
       "      <td>1</td>\n",
       "      <td>1</td>\n",
       "      <td>-1</td>\n",
       "      <td>0</td>\n",
       "      <td>0</td>\n",
       "      <td>0-0</td>\n",
       "      <td>0</td>\n",
       "      <td>0</td>\n",
       "      <td>home team win</td>\n",
       "      <td>1</td>\n",
       "      <td>0</td>\n",
       "      <td>0</td>\n",
       "      <td>44137</td>\n",
       "    </tr>\n",
       "    <tr>\n",
       "      <th>963</th>\n",
       "      <td>964</td>\n",
       "      <td>WC-2022</td>\n",
       "      <td>2022 FIFA World Cup</td>\n",
       "      <td>M-2022-64</td>\n",
       "      <td>Argentina v France</td>\n",
       "      <td>final</td>\n",
       "      <td>not applicable</td>\n",
       "      <td>0</td>\n",
       "      <td>1</td>\n",
       "      <td>0</td>\n",
       "      <td>0</td>\n",
       "      <td>2022-12-18</td>\n",
       "      <td>18:00</td>\n",
       "      <td>S-114</td>\n",
       "      <td>Lusail Stadium</td>\n",
       "      <td>Lusail</td>\n",
       "      <td>Qatar</td>\n",
       "      <td>T-03</td>\n",
       "      <td>Argentina</td>\n",
       "      <td>ARG</td>\n",
       "      <td>T-28</td>\n",
       "      <td>France</td>\n",
       "      <td>FRA</td>\n",
       "      <td>3–3</td>\n",
       "      <td>3</td>\n",
       "      <td>3</td>\n",
       "      <td>0</td>\n",
       "      <td>0</td>\n",
       "      <td>1</td>\n",
       "      <td>1</td>\n",
       "      <td>4–2</td>\n",
       "      <td>4</td>\n",
       "      <td>2</td>\n",
       "      <td>home team win</td>\n",
       "      <td>1</td>\n",
       "      <td>0</td>\n",
       "      <td>0</td>\n",
       "      <td>88966</td>\n",
       "    </tr>\n",
       "  </tbody>\n",
       "</table>\n",
       "<p>964 rows × 38 columns</p>\n",
       "</div>"
      ],
      "text/plain": [
       "     key_id tournament_id      tournament_name   match_id  \\\n",
       "0         1       WC-1930  1930 FIFA World Cup  M-1930-01   \n",
       "1         2       WC-1930  1930 FIFA World Cup  M-1930-02   \n",
       "2         3       WC-1930  1930 FIFA World Cup  M-1930-03   \n",
       "3         4       WC-1930  1930 FIFA World Cup  M-1930-04   \n",
       "4         5       WC-1930  1930 FIFA World Cup  M-1930-05   \n",
       "..      ...           ...                  ...        ...   \n",
       "959     960       WC-2022  2022 FIFA World Cup  M-2022-60   \n",
       "960     961       WC-2022  2022 FIFA World Cup  M-2022-61   \n",
       "961     962       WC-2022  2022 FIFA World Cup  M-2022-62   \n",
       "962     963       WC-2022  2022 FIFA World Cup  M-2022-63   \n",
       "963     964       WC-2022  2022 FIFA World Cup  M-2022-64   \n",
       "\n",
       "                  match_name         stage_name      group_name  group_stage  \\\n",
       "0            France v Mexico        group stage         Group 1            1   \n",
       "1    United States v Belgium        group stage         Group 4            1   \n",
       "2        Yugoslavia v Brazil        group stage         Group 2            1   \n",
       "3             Romania v Peru        group stage         Group 3            1   \n",
       "4         Argentina v France        group stage         Group 1            1   \n",
       "..                       ...                ...             ...          ...   \n",
       "959         England v France     quarter-finals  not applicable            0   \n",
       "960      Argentina v Croatia        semi-finals  not applicable            0   \n",
       "961         France v Morocco        semi-finals  not applicable            0   \n",
       "962        Croatia v Morocco  third-place match  not applicable            0   \n",
       "963       Argentina v France              final  not applicable            0   \n",
       "\n",
       "     knockout_stage  replayed  replay  match_date match_time stadium_id  \\\n",
       "0                 0         0       0  1930-07-13      15:00      S-193   \n",
       "1                 0         0       0  1930-07-13      15:00      S-192   \n",
       "2                 0         0       0  1930-07-14      12:45      S-192   \n",
       "3                 0         0       0  1930-07-14      14:50      S-193   \n",
       "4                 0         0       0  1930-07-15      16:00      S-192   \n",
       "..              ...       ...     ...         ...        ...        ...   \n",
       "959               1         0       0  2022-12-10      22:00      S-107   \n",
       "960               1         0       0  2022-12-13      22:00      S-114   \n",
       "961               1         0       0  2022-12-14      22:00      S-107   \n",
       "962               1         0       0  2022-12-17      18:00      S-110   \n",
       "963               1         0       0  2022-12-18      18:00      S-114   \n",
       "\n",
       "                      stadium_name   city_name country_name home_team_id  \\\n",
       "0                  Estadio Pocitos  Montevideo      Uruguay         T-28   \n",
       "1      Estadio Gran Parque Central  Montevideo      Uruguay         T-80   \n",
       "2      Estadio Gran Parque Central  Montevideo      Uruguay         T-84   \n",
       "3                  Estadio Pocitos  Montevideo      Uruguay         T-59   \n",
       "4      Estadio Gran Parque Central  Montevideo      Uruguay         T-03   \n",
       "..                             ...         ...          ...          ...   \n",
       "959                Al Bayt Stadium     Al Khor        Qatar         T-27   \n",
       "960                 Lusail Stadium      Lusail        Qatar         T-03   \n",
       "961                Al Bayt Stadium     Al Khor        Qatar         T-28   \n",
       "962  Khalifa International Stadium   Al Rayyan        Qatar         T-17   \n",
       "963                 Lusail Stadium      Lusail        Qatar         T-03   \n",
       "\n",
       "    home_team_name home_team_code away_team_id away_team_name away_team_code  \\\n",
       "0           France            FRA         T-44         Mexico            MEX   \n",
       "1    United States            USA         T-06        Belgium            BEL   \n",
       "2       Yugoslavia            YUG         T-09         Brazil            BRA   \n",
       "3          Romania            ROU         T-54           Peru            PER   \n",
       "4        Argentina            ARG         T-28         France            FRA   \n",
       "..             ...            ...          ...            ...            ...   \n",
       "959        England            ENG         T-28         France            FRA   \n",
       "960      Argentina            ARG         T-17        Croatia            HRV   \n",
       "961         France            FRA         T-45        Morocco            MAR   \n",
       "962        Croatia            HRV         T-45        Morocco            MAR   \n",
       "963      Argentina            ARG         T-28         France            FRA   \n",
       "\n",
       "    score  home_team_score  away_team_score  home_team_score_margin  \\\n",
       "0     4–1                4                1                       3   \n",
       "1     3–0                3                0                       3   \n",
       "2     2–1                2                1                       1   \n",
       "3     3–1                3                1                       2   \n",
       "4     1–0                1                0                       1   \n",
       "..    ...              ...              ...                     ...   \n",
       "959   1–2                1                2                      -1   \n",
       "960   3–0                3                0                       3   \n",
       "961   2–0                2                0                       2   \n",
       "962   2–1                2                1                       1   \n",
       "963   3–3                3                3                       0   \n",
       "\n",
       "     away_team_score_margin  extra_time  penalty_shootout score_penalties  \\\n",
       "0                        -3           0                 0             0-0   \n",
       "1                        -3           0                 0             0-0   \n",
       "2                        -1           0                 0             0-0   \n",
       "3                        -2           0                 0             0-0   \n",
       "4                        -1           0                 0             0-0   \n",
       "..                      ...         ...               ...             ...   \n",
       "959                       1           0                 0             0-0   \n",
       "960                      -3           0                 0             0-0   \n",
       "961                      -2           0                 0             0-0   \n",
       "962                      -1           0                 0             0-0   \n",
       "963                       0           1                 1             4–2   \n",
       "\n",
       "     home_team_score_penalties  away_team_score_penalties         result  \\\n",
       "0                            0                          0  home team win   \n",
       "1                            0                          0  home team win   \n",
       "2                            0                          0  home team win   \n",
       "3                            0                          0  home team win   \n",
       "4                            0                          0  home team win   \n",
       "..                         ...                        ...            ...   \n",
       "959                          0                          0  away team win   \n",
       "960                          0                          0  home team win   \n",
       "961                          0                          0  home team win   \n",
       "962                          0                          0  home team win   \n",
       "963                          4                          2  home team win   \n",
       "\n",
       "     home_team_win  away_team_win  draw  Attendance  \n",
       "0                1              0     0        4444  \n",
       "1                1              0     0       18346  \n",
       "2                1              0     0       24059  \n",
       "3                1              0     0        2549  \n",
       "4                1              0     0       23409  \n",
       "..             ...            ...   ...         ...  \n",
       "959              0              1     0       68895  \n",
       "960              1              0     0       88966  \n",
       "961              1              0     0       68294  \n",
       "962              1              0     0       44137  \n",
       "963              1              0     0       88966  \n",
       "\n",
       "[964 rows x 38 columns]"
      ]
     },
     "execution_count": 16,
     "metadata": {},
     "output_type": "execute_result"
    }
   ],
   "source": [
    "merge_result_phase1 = df_matches.merge(right=df_attend,\n",
    "                                how='inner',\n",
    "                                left_on=['home_team_code', 'away_team_code', 'match_date'],\n",
    "                                right_on=['home_team_code', 'away_team_code', 'Date'])\n",
    "\n",
    "merge_result_phase1 = merge_result_phase1.loc[:, features_of_attd_and_match]\n",
    "merge_result_phase1"
   ]
  },
  {
   "attachments": {},
   "cell_type": "markdown",
   "metadata": {},
   "source": [
    "#### Stadium DataFrame"
   ]
  },
  {
   "cell_type": "code",
   "execution_count": 17,
   "metadata": {},
   "outputs": [],
   "source": [
    "df_stad = pd.read_csv('worldcup-1.1.0\\data-csv\\stadiums.csv')\n",
    "df_stad = df_stad.loc[:, ['stadium_id', 'stadium_capacity']]"
   ]
  },
  {
   "cell_type": "code",
   "execution_count": 18,
   "metadata": {},
   "outputs": [
    {
     "data": {
      "text/plain": [
       "(193, 2)"
      ]
     },
     "execution_count": 18,
     "metadata": {},
     "output_type": "execute_result"
    }
   ],
   "source": [
    "df_stad.shape"
   ]
  },
  {
   "attachments": {},
   "cell_type": "markdown",
   "metadata": {},
   "source": [
    "* Merging with stadium table is an easy task, so we merge on stadium_id because it is the appropriate column to do so."
   ]
  },
  {
   "cell_type": "code",
   "execution_count": 19,
   "metadata": {},
   "outputs": [
    {
     "data": {
      "text/html": [
       "<div>\n",
       "<style scoped>\n",
       "    .dataframe tbody tr th:only-of-type {\n",
       "        vertical-align: middle;\n",
       "    }\n",
       "\n",
       "    .dataframe tbody tr th {\n",
       "        vertical-align: top;\n",
       "    }\n",
       "\n",
       "    .dataframe thead th {\n",
       "        text-align: right;\n",
       "    }\n",
       "</style>\n",
       "<table border=\"1\" class=\"dataframe\">\n",
       "  <thead>\n",
       "    <tr style=\"text-align: right;\">\n",
       "      <th></th>\n",
       "      <th>key_id</th>\n",
       "      <th>tournament_id</th>\n",
       "      <th>tournament_name</th>\n",
       "      <th>match_id</th>\n",
       "      <th>match_name</th>\n",
       "      <th>stage_name</th>\n",
       "      <th>group_name</th>\n",
       "      <th>group_stage</th>\n",
       "      <th>knockout_stage</th>\n",
       "      <th>replayed</th>\n",
       "      <th>replay</th>\n",
       "      <th>match_date</th>\n",
       "      <th>match_time</th>\n",
       "      <th>stadium_id</th>\n",
       "      <th>stadium_name</th>\n",
       "      <th>city_name</th>\n",
       "      <th>country_name</th>\n",
       "      <th>home_team_id</th>\n",
       "      <th>home_team_name</th>\n",
       "      <th>home_team_code</th>\n",
       "      <th>away_team_id</th>\n",
       "      <th>away_team_name</th>\n",
       "      <th>away_team_code</th>\n",
       "      <th>score</th>\n",
       "      <th>home_team_score</th>\n",
       "      <th>away_team_score</th>\n",
       "      <th>home_team_score_margin</th>\n",
       "      <th>away_team_score_margin</th>\n",
       "      <th>extra_time</th>\n",
       "      <th>penalty_shootout</th>\n",
       "      <th>score_penalties</th>\n",
       "      <th>home_team_score_penalties</th>\n",
       "      <th>away_team_score_penalties</th>\n",
       "      <th>result</th>\n",
       "      <th>home_team_win</th>\n",
       "      <th>away_team_win</th>\n",
       "      <th>draw</th>\n",
       "      <th>Attendance</th>\n",
       "      <th>stadium_capacity</th>\n",
       "    </tr>\n",
       "  </thead>\n",
       "  <tbody>\n",
       "    <tr>\n",
       "      <th>0</th>\n",
       "      <td>1</td>\n",
       "      <td>WC-1930</td>\n",
       "      <td>1930 FIFA World Cup</td>\n",
       "      <td>M-1930-01</td>\n",
       "      <td>France v Mexico</td>\n",
       "      <td>group stage</td>\n",
       "      <td>Group 1</td>\n",
       "      <td>1</td>\n",
       "      <td>0</td>\n",
       "      <td>0</td>\n",
       "      <td>0</td>\n",
       "      <td>1930-07-13</td>\n",
       "      <td>15:00</td>\n",
       "      <td>S-193</td>\n",
       "      <td>Estadio Pocitos</td>\n",
       "      <td>Montevideo</td>\n",
       "      <td>Uruguay</td>\n",
       "      <td>T-28</td>\n",
       "      <td>France</td>\n",
       "      <td>FRA</td>\n",
       "      <td>T-44</td>\n",
       "      <td>Mexico</td>\n",
       "      <td>MEX</td>\n",
       "      <td>4–1</td>\n",
       "      <td>4</td>\n",
       "      <td>1</td>\n",
       "      <td>3</td>\n",
       "      <td>-3</td>\n",
       "      <td>0</td>\n",
       "      <td>0</td>\n",
       "      <td>0-0</td>\n",
       "      <td>0</td>\n",
       "      <td>0</td>\n",
       "      <td>home team win</td>\n",
       "      <td>1</td>\n",
       "      <td>0</td>\n",
       "      <td>0</td>\n",
       "      <td>4444</td>\n",
       "      <td>10000</td>\n",
       "    </tr>\n",
       "    <tr>\n",
       "      <th>1</th>\n",
       "      <td>4</td>\n",
       "      <td>WC-1930</td>\n",
       "      <td>1930 FIFA World Cup</td>\n",
       "      <td>M-1930-04</td>\n",
       "      <td>Romania v Peru</td>\n",
       "      <td>group stage</td>\n",
       "      <td>Group 3</td>\n",
       "      <td>1</td>\n",
       "      <td>0</td>\n",
       "      <td>0</td>\n",
       "      <td>0</td>\n",
       "      <td>1930-07-14</td>\n",
       "      <td>14:50</td>\n",
       "      <td>S-193</td>\n",
       "      <td>Estadio Pocitos</td>\n",
       "      <td>Montevideo</td>\n",
       "      <td>Uruguay</td>\n",
       "      <td>T-59</td>\n",
       "      <td>Romania</td>\n",
       "      <td>ROU</td>\n",
       "      <td>T-54</td>\n",
       "      <td>Peru</td>\n",
       "      <td>PER</td>\n",
       "      <td>3–1</td>\n",
       "      <td>3</td>\n",
       "      <td>1</td>\n",
       "      <td>2</td>\n",
       "      <td>-2</td>\n",
       "      <td>0</td>\n",
       "      <td>0</td>\n",
       "      <td>0-0</td>\n",
       "      <td>0</td>\n",
       "      <td>0</td>\n",
       "      <td>home team win</td>\n",
       "      <td>1</td>\n",
       "      <td>0</td>\n",
       "      <td>0</td>\n",
       "      <td>2549</td>\n",
       "      <td>10000</td>\n",
       "    </tr>\n",
       "    <tr>\n",
       "      <th>2</th>\n",
       "      <td>2</td>\n",
       "      <td>WC-1930</td>\n",
       "      <td>1930 FIFA World Cup</td>\n",
       "      <td>M-1930-02</td>\n",
       "      <td>United States v Belgium</td>\n",
       "      <td>group stage</td>\n",
       "      <td>Group 4</td>\n",
       "      <td>1</td>\n",
       "      <td>0</td>\n",
       "      <td>0</td>\n",
       "      <td>0</td>\n",
       "      <td>1930-07-13</td>\n",
       "      <td>15:00</td>\n",
       "      <td>S-192</td>\n",
       "      <td>Estadio Gran Parque Central</td>\n",
       "      <td>Montevideo</td>\n",
       "      <td>Uruguay</td>\n",
       "      <td>T-80</td>\n",
       "      <td>United States</td>\n",
       "      <td>USA</td>\n",
       "      <td>T-06</td>\n",
       "      <td>Belgium</td>\n",
       "      <td>BEL</td>\n",
       "      <td>3–0</td>\n",
       "      <td>3</td>\n",
       "      <td>0</td>\n",
       "      <td>3</td>\n",
       "      <td>-3</td>\n",
       "      <td>0</td>\n",
       "      <td>0</td>\n",
       "      <td>0-0</td>\n",
       "      <td>0</td>\n",
       "      <td>0</td>\n",
       "      <td>home team win</td>\n",
       "      <td>1</td>\n",
       "      <td>0</td>\n",
       "      <td>0</td>\n",
       "      <td>18346</td>\n",
       "      <td>20000</td>\n",
       "    </tr>\n",
       "    <tr>\n",
       "      <th>3</th>\n",
       "      <td>3</td>\n",
       "      <td>WC-1930</td>\n",
       "      <td>1930 FIFA World Cup</td>\n",
       "      <td>M-1930-03</td>\n",
       "      <td>Yugoslavia v Brazil</td>\n",
       "      <td>group stage</td>\n",
       "      <td>Group 2</td>\n",
       "      <td>1</td>\n",
       "      <td>0</td>\n",
       "      <td>0</td>\n",
       "      <td>0</td>\n",
       "      <td>1930-07-14</td>\n",
       "      <td>12:45</td>\n",
       "      <td>S-192</td>\n",
       "      <td>Estadio Gran Parque Central</td>\n",
       "      <td>Montevideo</td>\n",
       "      <td>Uruguay</td>\n",
       "      <td>T-84</td>\n",
       "      <td>Yugoslavia</td>\n",
       "      <td>YUG</td>\n",
       "      <td>T-09</td>\n",
       "      <td>Brazil</td>\n",
       "      <td>BRA</td>\n",
       "      <td>2–1</td>\n",
       "      <td>2</td>\n",
       "      <td>1</td>\n",
       "      <td>1</td>\n",
       "      <td>-1</td>\n",
       "      <td>0</td>\n",
       "      <td>0</td>\n",
       "      <td>0-0</td>\n",
       "      <td>0</td>\n",
       "      <td>0</td>\n",
       "      <td>home team win</td>\n",
       "      <td>1</td>\n",
       "      <td>0</td>\n",
       "      <td>0</td>\n",
       "      <td>24059</td>\n",
       "      <td>20000</td>\n",
       "    </tr>\n",
       "    <tr>\n",
       "      <th>4</th>\n",
       "      <td>5</td>\n",
       "      <td>WC-1930</td>\n",
       "      <td>1930 FIFA World Cup</td>\n",
       "      <td>M-1930-05</td>\n",
       "      <td>Argentina v France</td>\n",
       "      <td>group stage</td>\n",
       "      <td>Group 1</td>\n",
       "      <td>1</td>\n",
       "      <td>0</td>\n",
       "      <td>0</td>\n",
       "      <td>0</td>\n",
       "      <td>1930-07-15</td>\n",
       "      <td>16:00</td>\n",
       "      <td>S-192</td>\n",
       "      <td>Estadio Gran Parque Central</td>\n",
       "      <td>Montevideo</td>\n",
       "      <td>Uruguay</td>\n",
       "      <td>T-03</td>\n",
       "      <td>Argentina</td>\n",
       "      <td>ARG</td>\n",
       "      <td>T-28</td>\n",
       "      <td>France</td>\n",
       "      <td>FRA</td>\n",
       "      <td>1–0</td>\n",
       "      <td>1</td>\n",
       "      <td>0</td>\n",
       "      <td>1</td>\n",
       "      <td>-1</td>\n",
       "      <td>0</td>\n",
       "      <td>0</td>\n",
       "      <td>0-0</td>\n",
       "      <td>0</td>\n",
       "      <td>0</td>\n",
       "      <td>home team win</td>\n",
       "      <td>1</td>\n",
       "      <td>0</td>\n",
       "      <td>0</td>\n",
       "      <td>23409</td>\n",
       "      <td>20000</td>\n",
       "    </tr>\n",
       "  </tbody>\n",
       "</table>\n",
       "</div>"
      ],
      "text/plain": [
       "   key_id tournament_id      tournament_name   match_id  \\\n",
       "0       1       WC-1930  1930 FIFA World Cup  M-1930-01   \n",
       "1       4       WC-1930  1930 FIFA World Cup  M-1930-04   \n",
       "2       2       WC-1930  1930 FIFA World Cup  M-1930-02   \n",
       "3       3       WC-1930  1930 FIFA World Cup  M-1930-03   \n",
       "4       5       WC-1930  1930 FIFA World Cup  M-1930-05   \n",
       "\n",
       "                match_name   stage_name group_name  group_stage  \\\n",
       "0          France v Mexico  group stage    Group 1            1   \n",
       "1           Romania v Peru  group stage    Group 3            1   \n",
       "2  United States v Belgium  group stage    Group 4            1   \n",
       "3      Yugoslavia v Brazil  group stage    Group 2            1   \n",
       "4       Argentina v France  group stage    Group 1            1   \n",
       "\n",
       "   knockout_stage  replayed  replay  match_date match_time stadium_id  \\\n",
       "0               0         0       0  1930-07-13      15:00      S-193   \n",
       "1               0         0       0  1930-07-14      14:50      S-193   \n",
       "2               0         0       0  1930-07-13      15:00      S-192   \n",
       "3               0         0       0  1930-07-14      12:45      S-192   \n",
       "4               0         0       0  1930-07-15      16:00      S-192   \n",
       "\n",
       "                  stadium_name   city_name country_name home_team_id  \\\n",
       "0              Estadio Pocitos  Montevideo      Uruguay         T-28   \n",
       "1              Estadio Pocitos  Montevideo      Uruguay         T-59   \n",
       "2  Estadio Gran Parque Central  Montevideo      Uruguay         T-80   \n",
       "3  Estadio Gran Parque Central  Montevideo      Uruguay         T-84   \n",
       "4  Estadio Gran Parque Central  Montevideo      Uruguay         T-03   \n",
       "\n",
       "  home_team_name home_team_code away_team_id away_team_name away_team_code  \\\n",
       "0         France            FRA         T-44         Mexico            MEX   \n",
       "1        Romania            ROU         T-54           Peru            PER   \n",
       "2  United States            USA         T-06        Belgium            BEL   \n",
       "3     Yugoslavia            YUG         T-09         Brazil            BRA   \n",
       "4      Argentina            ARG         T-28         France            FRA   \n",
       "\n",
       "  score  home_team_score  away_team_score  home_team_score_margin  \\\n",
       "0   4–1                4                1                       3   \n",
       "1   3–1                3                1                       2   \n",
       "2   3–0                3                0                       3   \n",
       "3   2–1                2                1                       1   \n",
       "4   1–0                1                0                       1   \n",
       "\n",
       "   away_team_score_margin  extra_time  penalty_shootout score_penalties  \\\n",
       "0                      -3           0                 0             0-0   \n",
       "1                      -2           0                 0             0-0   \n",
       "2                      -3           0                 0             0-0   \n",
       "3                      -1           0                 0             0-0   \n",
       "4                      -1           0                 0             0-0   \n",
       "\n",
       "   home_team_score_penalties  away_team_score_penalties         result  \\\n",
       "0                          0                          0  home team win   \n",
       "1                          0                          0  home team win   \n",
       "2                          0                          0  home team win   \n",
       "3                          0                          0  home team win   \n",
       "4                          0                          0  home team win   \n",
       "\n",
       "   home_team_win  away_team_win  draw  Attendance  stadium_capacity  \n",
       "0              1              0     0        4444             10000  \n",
       "1              1              0     0        2549             10000  \n",
       "2              1              0     0       18346             20000  \n",
       "3              1              0     0       24059             20000  \n",
       "4              1              0     0       23409             20000  "
      ]
     },
     "execution_count": 19,
     "metadata": {},
     "output_type": "execute_result"
    }
   ],
   "source": [
    "merge_result_phase2 = merge_result_phase1.merge(df_stad, \n",
    "                                                how='inner',\n",
    "                                                on=['stadium_id']\n",
    "                                                )\n",
    "\n",
    "\n",
    "\n",
    "\n",
    "merge_result_phase2.head()"
   ]
  },
  {
   "cell_type": "code",
   "execution_count": 20,
   "metadata": {},
   "outputs": [],
   "source": [
    "features_of_attd_and_match.append('stadium_capacity')"
   ]
  },
  {
   "attachments": {},
   "cell_type": "markdown",
   "metadata": {},
   "source": [
    "* Final Merged table with no null values :)."
   ]
  },
  {
   "cell_type": "code",
   "execution_count": 21,
   "metadata": {},
   "outputs": [
    {
     "data": {
      "text/html": [
       "<div>\n",
       "<style scoped>\n",
       "    .dataframe tbody tr th:only-of-type {\n",
       "        vertical-align: middle;\n",
       "    }\n",
       "\n",
       "    .dataframe tbody tr th {\n",
       "        vertical-align: top;\n",
       "    }\n",
       "\n",
       "    .dataframe thead th {\n",
       "        text-align: right;\n",
       "    }\n",
       "</style>\n",
       "<table border=\"1\" class=\"dataframe\">\n",
       "  <thead>\n",
       "    <tr style=\"text-align: right;\">\n",
       "      <th></th>\n",
       "      <th>key_id</th>\n",
       "      <th>tournament_id</th>\n",
       "      <th>tournament_name</th>\n",
       "      <th>match_id</th>\n",
       "      <th>match_name</th>\n",
       "      <th>stage_name</th>\n",
       "      <th>group_name</th>\n",
       "      <th>group_stage</th>\n",
       "      <th>knockout_stage</th>\n",
       "      <th>replayed</th>\n",
       "      <th>replay</th>\n",
       "      <th>match_date</th>\n",
       "      <th>match_time</th>\n",
       "      <th>stadium_id</th>\n",
       "      <th>stadium_name</th>\n",
       "      <th>city_name</th>\n",
       "      <th>country_name</th>\n",
       "      <th>home_team_id</th>\n",
       "      <th>home_team_name</th>\n",
       "      <th>home_team_code</th>\n",
       "      <th>away_team_id</th>\n",
       "      <th>away_team_name</th>\n",
       "      <th>away_team_code</th>\n",
       "      <th>score</th>\n",
       "      <th>home_team_score</th>\n",
       "      <th>away_team_score</th>\n",
       "      <th>home_team_score_margin</th>\n",
       "      <th>away_team_score_margin</th>\n",
       "      <th>extra_time</th>\n",
       "      <th>penalty_shootout</th>\n",
       "      <th>score_penalties</th>\n",
       "      <th>home_team_score_penalties</th>\n",
       "      <th>away_team_score_penalties</th>\n",
       "      <th>result</th>\n",
       "      <th>home_team_win</th>\n",
       "      <th>away_team_win</th>\n",
       "      <th>draw</th>\n",
       "      <th>Attendance</th>\n",
       "      <th>stadium_capacity</th>\n",
       "    </tr>\n",
       "  </thead>\n",
       "  <tbody>\n",
       "  </tbody>\n",
       "</table>\n",
       "</div>"
      ],
      "text/plain": [
       "Empty DataFrame\n",
       "Columns: [key_id, tournament_id, tournament_name, match_id, match_name, stage_name, group_name, group_stage, knockout_stage, replayed, replay, match_date, match_time, stadium_id, stadium_name, city_name, country_name, home_team_id, home_team_name, home_team_code, away_team_id, away_team_name, away_team_code, score, home_team_score, away_team_score, home_team_score_margin, away_team_score_margin, extra_time, penalty_shootout, score_penalties, home_team_score_penalties, away_team_score_penalties, result, home_team_win, away_team_win, draw, Attendance, stadium_capacity]\n",
       "Index: []"
      ]
     },
     "execution_count": 21,
     "metadata": {},
     "output_type": "execute_result"
    }
   ],
   "source": [
    "merge_result_phase2 = merge_result_phase2.loc[:, features_of_attd_and_match]\n",
    "merge_result_phase2.loc[merge_result_phase2.isna().any(axis=1), :]"
   ]
  },
  {
   "cell_type": "code",
   "execution_count": 22,
   "metadata": {},
   "outputs": [],
   "source": [
    "final_match_df = merge_result_phase2.copy()"
   ]
  },
  {
   "attachments": {},
   "cell_type": "markdown",
   "metadata": {},
   "source": [
    "### b.Create players_teams table"
   ]
  },
  {
   "attachments": {},
   "cell_type": "markdown",
   "metadata": {},
   "source": [
    "* First we will read the tables sqauads and players tabels"
   ]
  },
  {
   "cell_type": "code",
   "execution_count": 23,
   "metadata": {},
   "outputs": [],
   "source": [
    "squads_df = pd.read_csv('worldcup-1.1.0/data-csv/squads.csv')\n",
    "players_df = pd.read_csv('worldcup-1.1.0/data-csv/players.csv')"
   ]
  },
  {
   "attachments": {},
   "cell_type": "markdown",
   "metadata": {},
   "source": [
    " and we will check nans "
   ]
  },
  {
   "cell_type": "code",
   "execution_count": 24,
   "metadata": {},
   "outputs": [],
   "source": [
    "def checkNans(df):\n",
    "    info_df = pd.DataFrame(df.dtypes)\n",
    "    info_df['Nans_number'] = df.isnull().sum()\n",
    "    return info_df.rename(columns={0:'Type'})"
   ]
  },
  {
   "cell_type": "code",
   "execution_count": 25,
   "metadata": {},
   "outputs": [
    {
     "data": {
      "text/html": [
       "<div>\n",
       "<style scoped>\n",
       "    .dataframe tbody tr th:only-of-type {\n",
       "        vertical-align: middle;\n",
       "    }\n",
       "\n",
       "    .dataframe tbody tr th {\n",
       "        vertical-align: top;\n",
       "    }\n",
       "\n",
       "    .dataframe thead th {\n",
       "        text-align: right;\n",
       "    }\n",
       "</style>\n",
       "<table border=\"1\" class=\"dataframe\">\n",
       "  <thead>\n",
       "    <tr style=\"text-align: right;\">\n",
       "      <th></th>\n",
       "      <th>Type</th>\n",
       "      <th>Nans_number</th>\n",
       "    </tr>\n",
       "  </thead>\n",
       "  <tbody>\n",
       "    <tr>\n",
       "      <th>key_id</th>\n",
       "      <td>int64</td>\n",
       "      <td>0</td>\n",
       "    </tr>\n",
       "    <tr>\n",
       "      <th>tournament_id</th>\n",
       "      <td>object</td>\n",
       "      <td>0</td>\n",
       "    </tr>\n",
       "    <tr>\n",
       "      <th>tournament_name</th>\n",
       "      <td>object</td>\n",
       "      <td>0</td>\n",
       "    </tr>\n",
       "    <tr>\n",
       "      <th>team_id</th>\n",
       "      <td>object</td>\n",
       "      <td>0</td>\n",
       "    </tr>\n",
       "    <tr>\n",
       "      <th>team_name</th>\n",
       "      <td>object</td>\n",
       "      <td>0</td>\n",
       "    </tr>\n",
       "    <tr>\n",
       "      <th>team_code</th>\n",
       "      <td>object</td>\n",
       "      <td>0</td>\n",
       "    </tr>\n",
       "    <tr>\n",
       "      <th>player_id</th>\n",
       "      <td>object</td>\n",
       "      <td>0</td>\n",
       "    </tr>\n",
       "    <tr>\n",
       "      <th>family_name</th>\n",
       "      <td>object</td>\n",
       "      <td>0</td>\n",
       "    </tr>\n",
       "    <tr>\n",
       "      <th>given_name</th>\n",
       "      <td>object</td>\n",
       "      <td>0</td>\n",
       "    </tr>\n",
       "    <tr>\n",
       "      <th>shirt_number</th>\n",
       "      <td>int64</td>\n",
       "      <td>0</td>\n",
       "    </tr>\n",
       "    <tr>\n",
       "      <th>position_name</th>\n",
       "      <td>object</td>\n",
       "      <td>0</td>\n",
       "    </tr>\n",
       "    <tr>\n",
       "      <th>position_code</th>\n",
       "      <td>object</td>\n",
       "      <td>0</td>\n",
       "    </tr>\n",
       "  </tbody>\n",
       "</table>\n",
       "</div>"
      ],
      "text/plain": [
       "                   Type  Nans_number\n",
       "key_id            int64            0\n",
       "tournament_id    object            0\n",
       "tournament_name  object            0\n",
       "team_id          object            0\n",
       "team_name        object            0\n",
       "team_code        object            0\n",
       "player_id        object            0\n",
       "family_name      object            0\n",
       "given_name       object            0\n",
       "shirt_number      int64            0\n",
       "position_name    object            0\n",
       "position_code    object            0"
      ]
     },
     "execution_count": 25,
     "metadata": {},
     "output_type": "execute_result"
    }
   ],
   "source": [
    "checkNans(squads_df)"
   ]
  },
  {
   "cell_type": "code",
   "execution_count": 26,
   "metadata": {},
   "outputs": [
    {
     "data": {
      "text/plain": [
       "(10973, 12)"
      ]
     },
     "execution_count": 26,
     "metadata": {},
     "output_type": "execute_result"
    }
   ],
   "source": [
    "squads_df.shape"
   ]
  },
  {
   "cell_type": "code",
   "execution_count": 27,
   "metadata": {},
   "outputs": [
    {
     "data": {
      "text/html": [
       "<div>\n",
       "<style scoped>\n",
       "    .dataframe tbody tr th:only-of-type {\n",
       "        vertical-align: middle;\n",
       "    }\n",
       "\n",
       "    .dataframe tbody tr th {\n",
       "        vertical-align: top;\n",
       "    }\n",
       "\n",
       "    .dataframe thead th {\n",
       "        text-align: right;\n",
       "    }\n",
       "</style>\n",
       "<table border=\"1\" class=\"dataframe\">\n",
       "  <thead>\n",
       "    <tr style=\"text-align: right;\">\n",
       "      <th></th>\n",
       "      <th>Type</th>\n",
       "      <th>Nans_number</th>\n",
       "    </tr>\n",
       "  </thead>\n",
       "  <tbody>\n",
       "    <tr>\n",
       "      <th>key_id</th>\n",
       "      <td>int64</td>\n",
       "      <td>0</td>\n",
       "    </tr>\n",
       "    <tr>\n",
       "      <th>player_id</th>\n",
       "      <td>object</td>\n",
       "      <td>0</td>\n",
       "    </tr>\n",
       "    <tr>\n",
       "      <th>family_name</th>\n",
       "      <td>object</td>\n",
       "      <td>0</td>\n",
       "    </tr>\n",
       "    <tr>\n",
       "      <th>given_name</th>\n",
       "      <td>object</td>\n",
       "      <td>0</td>\n",
       "    </tr>\n",
       "    <tr>\n",
       "      <th>birth_date</th>\n",
       "      <td>object</td>\n",
       "      <td>1</td>\n",
       "    </tr>\n",
       "    <tr>\n",
       "      <th>goal_keeper</th>\n",
       "      <td>int64</td>\n",
       "      <td>0</td>\n",
       "    </tr>\n",
       "    <tr>\n",
       "      <th>defender</th>\n",
       "      <td>int64</td>\n",
       "      <td>0</td>\n",
       "    </tr>\n",
       "    <tr>\n",
       "      <th>midfielder</th>\n",
       "      <td>int64</td>\n",
       "      <td>0</td>\n",
       "    </tr>\n",
       "    <tr>\n",
       "      <th>forward</th>\n",
       "      <td>int64</td>\n",
       "      <td>0</td>\n",
       "    </tr>\n",
       "    <tr>\n",
       "      <th>count_tournaments</th>\n",
       "      <td>int64</td>\n",
       "      <td>0</td>\n",
       "    </tr>\n",
       "    <tr>\n",
       "      <th>list_tournaments</th>\n",
       "      <td>object</td>\n",
       "      <td>0</td>\n",
       "    </tr>\n",
       "    <tr>\n",
       "      <th>player_wikipedia_link</th>\n",
       "      <td>object</td>\n",
       "      <td>0</td>\n",
       "    </tr>\n",
       "  </tbody>\n",
       "</table>\n",
       "</div>"
      ],
      "text/plain": [
       "                         Type  Nans_number\n",
       "key_id                  int64            0\n",
       "player_id              object            0\n",
       "family_name            object            0\n",
       "given_name             object            0\n",
       "birth_date             object            1\n",
       "goal_keeper             int64            0\n",
       "defender                int64            0\n",
       "midfielder              int64            0\n",
       "forward                 int64            0\n",
       "count_tournaments       int64            0\n",
       "list_tournaments       object            0\n",
       "player_wikipedia_link  object            0"
      ]
     },
     "execution_count": 27,
     "metadata": {},
     "output_type": "execute_result"
    }
   ],
   "source": [
    "checkNans(players_df)"
   ]
  },
  {
   "cell_type": "code",
   "execution_count": 28,
   "metadata": {},
   "outputs": [
    {
     "data": {
      "text/plain": [
       "(8485, 12)"
      ]
     },
     "execution_count": 28,
     "metadata": {},
     "output_type": "execute_result"
    }
   ],
   "source": [
    "players_df.shape"
   ]
  },
  {
   "attachments": {},
   "cell_type": "markdown",
   "metadata": {},
   "source": [
    "* Then we will choose the columns that we want"
   ]
  },
  {
   "cell_type": "code",
   "execution_count": 29,
   "metadata": {},
   "outputs": [],
   "source": [
    "sub_squads_df = squads_df.copy()\n",
    "sub_players_df = players_df.copy()\n",
    "sub_players_df = players_df[['player_id','family_name','given_name','count_tournaments','list_tournaments']]\n",
    "sub_squads_df = sub_squads_df[['player_id','team_name','team_code']]"
   ]
  },
  {
   "attachments": {},
   "cell_type": "markdown",
   "metadata": {},
   "source": [
    "and we will remove duplicate raws"
   ]
  },
  {
   "cell_type": "code",
   "execution_count": 30,
   "metadata": {},
   "outputs": [],
   "source": [
    "sub_players_df = sub_players_df.drop_duplicates()\n",
    "sub_squads_df = sub_squads_df.drop_duplicates()"
   ]
  },
  {
   "cell_type": "code",
   "execution_count": 31,
   "metadata": {},
   "outputs": [
    {
     "name": "stdout",
     "output_type": "stream",
     "text": [
      "sub_players_df\n",
      "befor drop duplicate: (8485, 12)\n",
      "after drop duplicate: (8485, 5)\n",
      "sub_squads_df\n",
      "befor drop duplicate: (10973, 12)\n",
      "after drop duplicate: (8520, 3)\n"
     ]
    }
   ],
   "source": [
    "print('sub_players_df')\n",
    "print(f'befor drop duplicate: {players_df.shape}')\n",
    "print(f'after drop duplicate: {sub_players_df.shape}')\n",
    "print('sub_squads_df')\n",
    "print(f'befor drop duplicate: {squads_df.shape}')\n",
    "print(f'after drop duplicate: {sub_squads_df.shape}')"
   ]
  },
  {
   "attachments": {},
   "cell_type": "markdown",
   "metadata": {},
   "source": [
    "here we notice that there are no duplicated raws in sub_players_df table because the player_id is unique, however in the sub_squads_df we have them because we have players that were in the same team in differents tournaments and we don't choose any of tournaments columns"
   ]
  },
  {
   "attachments": {},
   "cell_type": "markdown",
   "metadata": {},
   "source": [
    "* Next we will merge the tables and check nans after merge"
   ]
  },
  {
   "cell_type": "code",
   "execution_count": 32,
   "metadata": {},
   "outputs": [
    {
     "data": {
      "text/html": [
       "<div>\n",
       "<style scoped>\n",
       "    .dataframe tbody tr th:only-of-type {\n",
       "        vertical-align: middle;\n",
       "    }\n",
       "\n",
       "    .dataframe tbody tr th {\n",
       "        vertical-align: top;\n",
       "    }\n",
       "\n",
       "    .dataframe thead th {\n",
       "        text-align: right;\n",
       "    }\n",
       "</style>\n",
       "<table border=\"1\" class=\"dataframe\">\n",
       "  <thead>\n",
       "    <tr style=\"text-align: right;\">\n",
       "      <th></th>\n",
       "      <th>Type</th>\n",
       "      <th>Nans_number</th>\n",
       "    </tr>\n",
       "  </thead>\n",
       "  <tbody>\n",
       "    <tr>\n",
       "      <th>player_id</th>\n",
       "      <td>object</td>\n",
       "      <td>0</td>\n",
       "    </tr>\n",
       "    <tr>\n",
       "      <th>family_name</th>\n",
       "      <td>object</td>\n",
       "      <td>0</td>\n",
       "    </tr>\n",
       "    <tr>\n",
       "      <th>given_name</th>\n",
       "      <td>object</td>\n",
       "      <td>0</td>\n",
       "    </tr>\n",
       "    <tr>\n",
       "      <th>count_tournaments</th>\n",
       "      <td>int64</td>\n",
       "      <td>0</td>\n",
       "    </tr>\n",
       "    <tr>\n",
       "      <th>list_tournaments</th>\n",
       "      <td>object</td>\n",
       "      <td>0</td>\n",
       "    </tr>\n",
       "    <tr>\n",
       "      <th>team_name</th>\n",
       "      <td>object</td>\n",
       "      <td>0</td>\n",
       "    </tr>\n",
       "    <tr>\n",
       "      <th>team_code</th>\n",
       "      <td>object</td>\n",
       "      <td>0</td>\n",
       "    </tr>\n",
       "  </tbody>\n",
       "</table>\n",
       "</div>"
      ],
      "text/plain": [
       "                     Type  Nans_number\n",
       "player_id          object            0\n",
       "family_name        object            0\n",
       "given_name         object            0\n",
       "count_tournaments   int64            0\n",
       "list_tournaments   object            0\n",
       "team_name          object            0\n",
       "team_code          object            0"
      ]
     },
     "execution_count": 32,
     "metadata": {},
     "output_type": "execute_result"
    }
   ],
   "source": [
    "merged_player_df = pd.merge(sub_players_df,sub_squads_df, on='player_id')\n",
    "checkNans(merged_player_df)"
   ]
  },
  {
   "attachments": {},
   "cell_type": "markdown",
   "metadata": {},
   "source": [
    "* After that we will create <strong>list_team_name and list_team_code </strong> columns"
   ]
  },
  {
   "cell_type": "code",
   "execution_count": 33,
   "metadata": {},
   "outputs": [
    {
     "data": {
      "text/plain": [
       "(8485, 3)"
      ]
     },
     "execution_count": 33,
     "metadata": {},
     "output_type": "execute_result"
    }
   ],
   "source": [
    "grouped_byID_df = merged_player_df.groupby('player_id',as_index=False).agg({'team_name':\",\".join,'team_code':','.join})\n",
    "grouped_byID_df.shape"
   ]
  },
  {
   "attachments": {},
   "cell_type": "markdown",
   "metadata": {},
   "source": [
    "we grouped team_name and team_code by player_id and we will merge them with merged_player_df table after remove old team_name and team_code columns"
   ]
  },
  {
   "cell_type": "code",
   "execution_count": 34,
   "metadata": {},
   "outputs": [
    {
     "data": {
      "text/plain": [
       "(8485, 7)"
      ]
     },
     "execution_count": 34,
     "metadata": {},
     "output_type": "execute_result"
    }
   ],
   "source": [
    "final_player_df = pd.merge(merged_player_df.drop(['team_name','team_code'],axis=1),grouped_byID_df).drop_duplicates()\n",
    "final_player_df = final_player_df.rename(columns={'team_name':'list_team_name','team_code':'list_team_code'})\n",
    "final_player_df.shape"
   ]
  },
  {
   "attachments": {},
   "cell_type": "markdown",
   "metadata": {},
   "source": [
    "we notice that final_player_df and players_df has the same <strong>Columns Number (8485) </strong>"
   ]
  },
  {
   "cell_type": "code",
   "execution_count": 35,
   "metadata": {},
   "outputs": [
    {
     "data": {
      "text/html": [
       "<div>\n",
       "<style scoped>\n",
       "    .dataframe tbody tr th:only-of-type {\n",
       "        vertical-align: middle;\n",
       "    }\n",
       "\n",
       "    .dataframe tbody tr th {\n",
       "        vertical-align: top;\n",
       "    }\n",
       "\n",
       "    .dataframe thead th {\n",
       "        text-align: right;\n",
       "    }\n",
       "</style>\n",
       "<table border=\"1\" class=\"dataframe\">\n",
       "  <thead>\n",
       "    <tr style=\"text-align: right;\">\n",
       "      <th></th>\n",
       "      <th>Type</th>\n",
       "      <th>Nans_number</th>\n",
       "    </tr>\n",
       "  </thead>\n",
       "  <tbody>\n",
       "    <tr>\n",
       "      <th>player_id</th>\n",
       "      <td>object</td>\n",
       "      <td>0</td>\n",
       "    </tr>\n",
       "    <tr>\n",
       "      <th>family_name</th>\n",
       "      <td>object</td>\n",
       "      <td>0</td>\n",
       "    </tr>\n",
       "    <tr>\n",
       "      <th>given_name</th>\n",
       "      <td>object</td>\n",
       "      <td>0</td>\n",
       "    </tr>\n",
       "    <tr>\n",
       "      <th>count_tournaments</th>\n",
       "      <td>int64</td>\n",
       "      <td>0</td>\n",
       "    </tr>\n",
       "    <tr>\n",
       "      <th>list_tournaments</th>\n",
       "      <td>object</td>\n",
       "      <td>0</td>\n",
       "    </tr>\n",
       "    <tr>\n",
       "      <th>list_team_name</th>\n",
       "      <td>object</td>\n",
       "      <td>0</td>\n",
       "    </tr>\n",
       "    <tr>\n",
       "      <th>list_team_code</th>\n",
       "      <td>object</td>\n",
       "      <td>0</td>\n",
       "    </tr>\n",
       "  </tbody>\n",
       "</table>\n",
       "</div>"
      ],
      "text/plain": [
       "                     Type  Nans_number\n",
       "player_id          object            0\n",
       "family_name        object            0\n",
       "given_name         object            0\n",
       "count_tournaments   int64            0\n",
       "list_tournaments   object            0\n",
       "list_team_name     object            0\n",
       "list_team_code     object            0"
      ]
     },
     "execution_count": 35,
     "metadata": {},
     "output_type": "execute_result"
    }
   ],
   "source": [
    "checkNans(final_player_df)"
   ]
  },
  {
   "attachments": {},
   "cell_type": "markdown",
   "metadata": {},
   "source": [
    "* Finally we will add <strong>teams_number column</strong>"
   ]
  },
  {
   "cell_type": "code",
   "execution_count": 36,
   "metadata": {},
   "outputs": [],
   "source": [
    "final_player_df['teams_number'] = final_player_df['list_team_code'].apply(lambda str: len(str.split(',')))"
   ]
  },
  {
   "cell_type": "code",
   "execution_count": 37,
   "metadata": {},
   "outputs": [
    {
     "data": {
      "text/html": [
       "<div>\n",
       "<style scoped>\n",
       "    .dataframe tbody tr th:only-of-type {\n",
       "        vertical-align: middle;\n",
       "    }\n",
       "\n",
       "    .dataframe tbody tr th {\n",
       "        vertical-align: top;\n",
       "    }\n",
       "\n",
       "    .dataframe thead th {\n",
       "        text-align: right;\n",
       "    }\n",
       "</style>\n",
       "<table border=\"1\" class=\"dataframe\">\n",
       "  <thead>\n",
       "    <tr style=\"text-align: right;\">\n",
       "      <th></th>\n",
       "      <th>player_id</th>\n",
       "      <th>family_name</th>\n",
       "      <th>given_name</th>\n",
       "      <th>count_tournaments</th>\n",
       "      <th>list_tournaments</th>\n",
       "      <th>list_team_name</th>\n",
       "      <th>list_team_code</th>\n",
       "      <th>teams_number</th>\n",
       "    </tr>\n",
       "  </thead>\n",
       "  <tbody>\n",
       "    <tr>\n",
       "      <th>0</th>\n",
       "      <td>P-08891</td>\n",
       "      <td>A'Court</td>\n",
       "      <td>Alan</td>\n",
       "      <td>1</td>\n",
       "      <td>1958</td>\n",
       "      <td>England</td>\n",
       "      <td>ENG</td>\n",
       "      <td>1</td>\n",
       "    </tr>\n",
       "    <tr>\n",
       "      <th>1</th>\n",
       "      <td>P-08589</td>\n",
       "      <td>Aaronson</td>\n",
       "      <td>Brenden</td>\n",
       "      <td>1</td>\n",
       "      <td>2022</td>\n",
       "      <td>United States</td>\n",
       "      <td>USA</td>\n",
       "      <td>1</td>\n",
       "    </tr>\n",
       "    <tr>\n",
       "      <th>2</th>\n",
       "      <td>P-04897</td>\n",
       "      <td>Abadzhiev</td>\n",
       "      <td>Stefan</td>\n",
       "      <td>1</td>\n",
       "      <td>1966</td>\n",
       "      <td>Bulgaria</td>\n",
       "      <td>BGR</td>\n",
       "      <td>1</td>\n",
       "    </tr>\n",
       "    <tr>\n",
       "      <th>3</th>\n",
       "      <td>P-05556</td>\n",
       "      <td>Abalo</td>\n",
       "      <td>Jean-Paul</td>\n",
       "      <td>1</td>\n",
       "      <td>2006</td>\n",
       "      <td>Togo</td>\n",
       "      <td>TGO</td>\n",
       "      <td>1</td>\n",
       "    </tr>\n",
       "    <tr>\n",
       "      <th>4</th>\n",
       "      <td>P-08163</td>\n",
       "      <td>Abanda</td>\n",
       "      <td>Patrice</td>\n",
       "      <td>1</td>\n",
       "      <td>1998</td>\n",
       "      <td>Cameroon</td>\n",
       "      <td>CMR</td>\n",
       "      <td>1</td>\n",
       "    </tr>\n",
       "  </tbody>\n",
       "</table>\n",
       "</div>"
      ],
      "text/plain": [
       "  player_id family_name given_name  count_tournaments list_tournaments  \\\n",
       "0   P-08891     A'Court       Alan                  1             1958   \n",
       "1   P-08589    Aaronson    Brenden                  1             2022   \n",
       "2   P-04897   Abadzhiev     Stefan                  1             1966   \n",
       "3   P-05556       Abalo  Jean-Paul                  1             2006   \n",
       "4   P-08163      Abanda    Patrice                  1             1998   \n",
       "\n",
       "  list_team_name list_team_code  teams_number  \n",
       "0        England            ENG             1  \n",
       "1  United States            USA             1  \n",
       "2       Bulgaria            BGR             1  \n",
       "3           Togo            TGO             1  \n",
       "4       Cameroon            CMR             1  "
      ]
     },
     "execution_count": 37,
     "metadata": {},
     "output_type": "execute_result"
    }
   ],
   "source": [
    "players_teams_df = final_player_df.copy()\n",
    "players_teams_df.head()"
   ]
  },
  {
   "attachments": {},
   "cell_type": "markdown",
   "metadata": {},
   "source": [
    "## 2.Feature Engineering:"
   ]
  },
  {
   "attachments": {},
   "cell_type": "markdown",
   "metadata": {},
   "source": [
    "### a.Create total_goals_in_match column:"
   ]
  },
  {
   "attachments": {},
   "cell_type": "markdown",
   "metadata": {},
   "source": [
    "* we will add match goals and penalties goal"
   ]
  },
  {
   "cell_type": "code",
   "execution_count": 38,
   "metadata": {},
   "outputs": [],
   "source": [
    "final_match_df['total_goals_in_match'] = final_match_df['home_team_score']\\\n",
    "                                       + final_match_df['away_team_score']"
   ]
  },
  {
   "cell_type": "code",
   "execution_count": 39,
   "metadata": {},
   "outputs": [
    {
     "data": {
      "text/html": [
       "<div>\n",
       "<style scoped>\n",
       "    .dataframe tbody tr th:only-of-type {\n",
       "        vertical-align: middle;\n",
       "    }\n",
       "\n",
       "    .dataframe tbody tr th {\n",
       "        vertical-align: top;\n",
       "    }\n",
       "\n",
       "    .dataframe thead th {\n",
       "        text-align: right;\n",
       "    }\n",
       "</style>\n",
       "<table border=\"1\" class=\"dataframe\">\n",
       "  <thead>\n",
       "    <tr style=\"text-align: right;\">\n",
       "      <th></th>\n",
       "      <th>key_id</th>\n",
       "      <th>tournament_id</th>\n",
       "      <th>tournament_name</th>\n",
       "      <th>match_id</th>\n",
       "      <th>match_name</th>\n",
       "      <th>stage_name</th>\n",
       "      <th>group_name</th>\n",
       "      <th>group_stage</th>\n",
       "      <th>knockout_stage</th>\n",
       "      <th>replayed</th>\n",
       "      <th>replay</th>\n",
       "      <th>match_date</th>\n",
       "      <th>match_time</th>\n",
       "      <th>stadium_id</th>\n",
       "      <th>stadium_name</th>\n",
       "      <th>city_name</th>\n",
       "      <th>country_name</th>\n",
       "      <th>home_team_id</th>\n",
       "      <th>home_team_name</th>\n",
       "      <th>home_team_code</th>\n",
       "      <th>away_team_id</th>\n",
       "      <th>away_team_name</th>\n",
       "      <th>away_team_code</th>\n",
       "      <th>score</th>\n",
       "      <th>home_team_score</th>\n",
       "      <th>away_team_score</th>\n",
       "      <th>home_team_score_margin</th>\n",
       "      <th>away_team_score_margin</th>\n",
       "      <th>extra_time</th>\n",
       "      <th>penalty_shootout</th>\n",
       "      <th>score_penalties</th>\n",
       "      <th>home_team_score_penalties</th>\n",
       "      <th>away_team_score_penalties</th>\n",
       "      <th>result</th>\n",
       "      <th>home_team_win</th>\n",
       "      <th>away_team_win</th>\n",
       "      <th>draw</th>\n",
       "      <th>Attendance</th>\n",
       "      <th>stadium_capacity</th>\n",
       "      <th>total_goals_in_match</th>\n",
       "    </tr>\n",
       "  </thead>\n",
       "  <tbody>\n",
       "    <tr>\n",
       "      <th>0</th>\n",
       "      <td>1</td>\n",
       "      <td>WC-1930</td>\n",
       "      <td>1930 FIFA World Cup</td>\n",
       "      <td>M-1930-01</td>\n",
       "      <td>France v Mexico</td>\n",
       "      <td>group stage</td>\n",
       "      <td>Group 1</td>\n",
       "      <td>1</td>\n",
       "      <td>0</td>\n",
       "      <td>0</td>\n",
       "      <td>0</td>\n",
       "      <td>1930-07-13</td>\n",
       "      <td>15:00</td>\n",
       "      <td>S-193</td>\n",
       "      <td>Estadio Pocitos</td>\n",
       "      <td>Montevideo</td>\n",
       "      <td>Uruguay</td>\n",
       "      <td>T-28</td>\n",
       "      <td>France</td>\n",
       "      <td>FRA</td>\n",
       "      <td>T-44</td>\n",
       "      <td>Mexico</td>\n",
       "      <td>MEX</td>\n",
       "      <td>4–1</td>\n",
       "      <td>4</td>\n",
       "      <td>1</td>\n",
       "      <td>3</td>\n",
       "      <td>-3</td>\n",
       "      <td>0</td>\n",
       "      <td>0</td>\n",
       "      <td>0-0</td>\n",
       "      <td>0</td>\n",
       "      <td>0</td>\n",
       "      <td>home team win</td>\n",
       "      <td>1</td>\n",
       "      <td>0</td>\n",
       "      <td>0</td>\n",
       "      <td>4444</td>\n",
       "      <td>10000</td>\n",
       "      <td>5</td>\n",
       "    </tr>\n",
       "    <tr>\n",
       "      <th>1</th>\n",
       "      <td>4</td>\n",
       "      <td>WC-1930</td>\n",
       "      <td>1930 FIFA World Cup</td>\n",
       "      <td>M-1930-04</td>\n",
       "      <td>Romania v Peru</td>\n",
       "      <td>group stage</td>\n",
       "      <td>Group 3</td>\n",
       "      <td>1</td>\n",
       "      <td>0</td>\n",
       "      <td>0</td>\n",
       "      <td>0</td>\n",
       "      <td>1930-07-14</td>\n",
       "      <td>14:50</td>\n",
       "      <td>S-193</td>\n",
       "      <td>Estadio Pocitos</td>\n",
       "      <td>Montevideo</td>\n",
       "      <td>Uruguay</td>\n",
       "      <td>T-59</td>\n",
       "      <td>Romania</td>\n",
       "      <td>ROU</td>\n",
       "      <td>T-54</td>\n",
       "      <td>Peru</td>\n",
       "      <td>PER</td>\n",
       "      <td>3–1</td>\n",
       "      <td>3</td>\n",
       "      <td>1</td>\n",
       "      <td>2</td>\n",
       "      <td>-2</td>\n",
       "      <td>0</td>\n",
       "      <td>0</td>\n",
       "      <td>0-0</td>\n",
       "      <td>0</td>\n",
       "      <td>0</td>\n",
       "      <td>home team win</td>\n",
       "      <td>1</td>\n",
       "      <td>0</td>\n",
       "      <td>0</td>\n",
       "      <td>2549</td>\n",
       "      <td>10000</td>\n",
       "      <td>4</td>\n",
       "    </tr>\n",
       "    <tr>\n",
       "      <th>2</th>\n",
       "      <td>2</td>\n",
       "      <td>WC-1930</td>\n",
       "      <td>1930 FIFA World Cup</td>\n",
       "      <td>M-1930-02</td>\n",
       "      <td>United States v Belgium</td>\n",
       "      <td>group stage</td>\n",
       "      <td>Group 4</td>\n",
       "      <td>1</td>\n",
       "      <td>0</td>\n",
       "      <td>0</td>\n",
       "      <td>0</td>\n",
       "      <td>1930-07-13</td>\n",
       "      <td>15:00</td>\n",
       "      <td>S-192</td>\n",
       "      <td>Estadio Gran Parque Central</td>\n",
       "      <td>Montevideo</td>\n",
       "      <td>Uruguay</td>\n",
       "      <td>T-80</td>\n",
       "      <td>United States</td>\n",
       "      <td>USA</td>\n",
       "      <td>T-06</td>\n",
       "      <td>Belgium</td>\n",
       "      <td>BEL</td>\n",
       "      <td>3–0</td>\n",
       "      <td>3</td>\n",
       "      <td>0</td>\n",
       "      <td>3</td>\n",
       "      <td>-3</td>\n",
       "      <td>0</td>\n",
       "      <td>0</td>\n",
       "      <td>0-0</td>\n",
       "      <td>0</td>\n",
       "      <td>0</td>\n",
       "      <td>home team win</td>\n",
       "      <td>1</td>\n",
       "      <td>0</td>\n",
       "      <td>0</td>\n",
       "      <td>18346</td>\n",
       "      <td>20000</td>\n",
       "      <td>3</td>\n",
       "    </tr>\n",
       "    <tr>\n",
       "      <th>3</th>\n",
       "      <td>3</td>\n",
       "      <td>WC-1930</td>\n",
       "      <td>1930 FIFA World Cup</td>\n",
       "      <td>M-1930-03</td>\n",
       "      <td>Yugoslavia v Brazil</td>\n",
       "      <td>group stage</td>\n",
       "      <td>Group 2</td>\n",
       "      <td>1</td>\n",
       "      <td>0</td>\n",
       "      <td>0</td>\n",
       "      <td>0</td>\n",
       "      <td>1930-07-14</td>\n",
       "      <td>12:45</td>\n",
       "      <td>S-192</td>\n",
       "      <td>Estadio Gran Parque Central</td>\n",
       "      <td>Montevideo</td>\n",
       "      <td>Uruguay</td>\n",
       "      <td>T-84</td>\n",
       "      <td>Yugoslavia</td>\n",
       "      <td>YUG</td>\n",
       "      <td>T-09</td>\n",
       "      <td>Brazil</td>\n",
       "      <td>BRA</td>\n",
       "      <td>2–1</td>\n",
       "      <td>2</td>\n",
       "      <td>1</td>\n",
       "      <td>1</td>\n",
       "      <td>-1</td>\n",
       "      <td>0</td>\n",
       "      <td>0</td>\n",
       "      <td>0-0</td>\n",
       "      <td>0</td>\n",
       "      <td>0</td>\n",
       "      <td>home team win</td>\n",
       "      <td>1</td>\n",
       "      <td>0</td>\n",
       "      <td>0</td>\n",
       "      <td>24059</td>\n",
       "      <td>20000</td>\n",
       "      <td>3</td>\n",
       "    </tr>\n",
       "    <tr>\n",
       "      <th>4</th>\n",
       "      <td>5</td>\n",
       "      <td>WC-1930</td>\n",
       "      <td>1930 FIFA World Cup</td>\n",
       "      <td>M-1930-05</td>\n",
       "      <td>Argentina v France</td>\n",
       "      <td>group stage</td>\n",
       "      <td>Group 1</td>\n",
       "      <td>1</td>\n",
       "      <td>0</td>\n",
       "      <td>0</td>\n",
       "      <td>0</td>\n",
       "      <td>1930-07-15</td>\n",
       "      <td>16:00</td>\n",
       "      <td>S-192</td>\n",
       "      <td>Estadio Gran Parque Central</td>\n",
       "      <td>Montevideo</td>\n",
       "      <td>Uruguay</td>\n",
       "      <td>T-03</td>\n",
       "      <td>Argentina</td>\n",
       "      <td>ARG</td>\n",
       "      <td>T-28</td>\n",
       "      <td>France</td>\n",
       "      <td>FRA</td>\n",
       "      <td>1–0</td>\n",
       "      <td>1</td>\n",
       "      <td>0</td>\n",
       "      <td>1</td>\n",
       "      <td>-1</td>\n",
       "      <td>0</td>\n",
       "      <td>0</td>\n",
       "      <td>0-0</td>\n",
       "      <td>0</td>\n",
       "      <td>0</td>\n",
       "      <td>home team win</td>\n",
       "      <td>1</td>\n",
       "      <td>0</td>\n",
       "      <td>0</td>\n",
       "      <td>23409</td>\n",
       "      <td>20000</td>\n",
       "      <td>1</td>\n",
       "    </tr>\n",
       "  </tbody>\n",
       "</table>\n",
       "</div>"
      ],
      "text/plain": [
       "   key_id tournament_id      tournament_name   match_id  \\\n",
       "0       1       WC-1930  1930 FIFA World Cup  M-1930-01   \n",
       "1       4       WC-1930  1930 FIFA World Cup  M-1930-04   \n",
       "2       2       WC-1930  1930 FIFA World Cup  M-1930-02   \n",
       "3       3       WC-1930  1930 FIFA World Cup  M-1930-03   \n",
       "4       5       WC-1930  1930 FIFA World Cup  M-1930-05   \n",
       "\n",
       "                match_name   stage_name group_name  group_stage  \\\n",
       "0          France v Mexico  group stage    Group 1            1   \n",
       "1           Romania v Peru  group stage    Group 3            1   \n",
       "2  United States v Belgium  group stage    Group 4            1   \n",
       "3      Yugoslavia v Brazil  group stage    Group 2            1   \n",
       "4       Argentina v France  group stage    Group 1            1   \n",
       "\n",
       "   knockout_stage  replayed  replay  match_date match_time stadium_id  \\\n",
       "0               0         0       0  1930-07-13      15:00      S-193   \n",
       "1               0         0       0  1930-07-14      14:50      S-193   \n",
       "2               0         0       0  1930-07-13      15:00      S-192   \n",
       "3               0         0       0  1930-07-14      12:45      S-192   \n",
       "4               0         0       0  1930-07-15      16:00      S-192   \n",
       "\n",
       "                  stadium_name   city_name country_name home_team_id  \\\n",
       "0              Estadio Pocitos  Montevideo      Uruguay         T-28   \n",
       "1              Estadio Pocitos  Montevideo      Uruguay         T-59   \n",
       "2  Estadio Gran Parque Central  Montevideo      Uruguay         T-80   \n",
       "3  Estadio Gran Parque Central  Montevideo      Uruguay         T-84   \n",
       "4  Estadio Gran Parque Central  Montevideo      Uruguay         T-03   \n",
       "\n",
       "  home_team_name home_team_code away_team_id away_team_name away_team_code  \\\n",
       "0         France            FRA         T-44         Mexico            MEX   \n",
       "1        Romania            ROU         T-54           Peru            PER   \n",
       "2  United States            USA         T-06        Belgium            BEL   \n",
       "3     Yugoslavia            YUG         T-09         Brazil            BRA   \n",
       "4      Argentina            ARG         T-28         France            FRA   \n",
       "\n",
       "  score  home_team_score  away_team_score  home_team_score_margin  \\\n",
       "0   4–1                4                1                       3   \n",
       "1   3–1                3                1                       2   \n",
       "2   3–0                3                0                       3   \n",
       "3   2–1                2                1                       1   \n",
       "4   1–0                1                0                       1   \n",
       "\n",
       "   away_team_score_margin  extra_time  penalty_shootout score_penalties  \\\n",
       "0                      -3           0                 0             0-0   \n",
       "1                      -2           0                 0             0-0   \n",
       "2                      -3           0                 0             0-0   \n",
       "3                      -1           0                 0             0-0   \n",
       "4                      -1           0                 0             0-0   \n",
       "\n",
       "   home_team_score_penalties  away_team_score_penalties         result  \\\n",
       "0                          0                          0  home team win   \n",
       "1                          0                          0  home team win   \n",
       "2                          0                          0  home team win   \n",
       "3                          0                          0  home team win   \n",
       "4                          0                          0  home team win   \n",
       "\n",
       "   home_team_win  away_team_win  draw  Attendance  stadium_capacity  \\\n",
       "0              1              0     0        4444             10000   \n",
       "1              1              0     0        2549             10000   \n",
       "2              1              0     0       18346             20000   \n",
       "3              1              0     0       24059             20000   \n",
       "4              1              0     0       23409             20000   \n",
       "\n",
       "   total_goals_in_match  \n",
       "0                     5  \n",
       "1                     4  \n",
       "2                     3  \n",
       "3                     3  \n",
       "4                     1  "
      ]
     },
     "execution_count": 39,
     "metadata": {},
     "output_type": "execute_result"
    }
   ],
   "source": [
    "final_match_df.head()"
   ]
  },
  {
   "attachments": {},
   "cell_type": "markdown",
   "metadata": {},
   "source": [
    "### b.Create match_for_host column:"
   ]
  },
  {
   "cell_type": "code",
   "execution_count": 40,
   "metadata": {},
   "outputs": [],
   "source": [
    "final_match_df['match_for_host'] = (final_match_df['country_name'] == final_match_df['home_team_name'])\\\n",
    "                                 | (final_match_df['country_name'] == final_match_df['away_team_name'])\n",
    "final_match_df['match_for_host'] = final_match_df['match_for_host'].astype(int)"
   ]
  },
  {
   "attachments": {},
   "cell_type": "markdown",
   "metadata": {},
   "source": [
    "### c.Create used_capacity_ratio column:"
   ]
  },
  {
   "cell_type": "code",
   "execution_count": 41,
   "metadata": {},
   "outputs": [],
   "source": [
    "final_match_df['used_capacity_ratio'] = final_match_df['Attendance']/final_match_df['stadium_capacity']"
   ]
  },
  {
   "attachments": {},
   "cell_type": "markdown",
   "metadata": {},
   "source": [
    "### d.Attendance_category and elative_attendance_category Discretization:"
   ]
  },
  {
   "attachments": {},
   "cell_type": "markdown",
   "metadata": {},
   "source": [
    "* we will created temp_match_df to look at attendances columns summary"
   ]
  },
  {
   "cell_type": "code",
   "execution_count": 42,
   "metadata": {},
   "outputs": [
    {
     "data": {
      "text/html": [
       "<div>\n",
       "<style scoped>\n",
       "    .dataframe tbody tr th:only-of-type {\n",
       "        vertical-align: middle;\n",
       "    }\n",
       "\n",
       "    .dataframe tbody tr th {\n",
       "        vertical-align: top;\n",
       "    }\n",
       "\n",
       "    .dataframe thead th {\n",
       "        text-align: right;\n",
       "    }\n",
       "</style>\n",
       "<table border=\"1\" class=\"dataframe\">\n",
       "  <thead>\n",
       "    <tr style=\"text-align: right;\">\n",
       "      <th></th>\n",
       "      <th>Attendance</th>\n",
       "      <th>stadium_capacity</th>\n",
       "      <th>used_capacity_ratio</th>\n",
       "    </tr>\n",
       "  </thead>\n",
       "  <tbody>\n",
       "    <tr>\n",
       "      <th>0</th>\n",
       "      <td>4444</td>\n",
       "      <td>10000</td>\n",
       "      <td>0.44440</td>\n",
       "    </tr>\n",
       "    <tr>\n",
       "      <th>1</th>\n",
       "      <td>2549</td>\n",
       "      <td>10000</td>\n",
       "      <td>0.25490</td>\n",
       "    </tr>\n",
       "    <tr>\n",
       "      <th>2</th>\n",
       "      <td>18346</td>\n",
       "      <td>20000</td>\n",
       "      <td>0.91730</td>\n",
       "    </tr>\n",
       "    <tr>\n",
       "      <th>3</th>\n",
       "      <td>24059</td>\n",
       "      <td>20000</td>\n",
       "      <td>1.20295</td>\n",
       "    </tr>\n",
       "    <tr>\n",
       "      <th>4</th>\n",
       "      <td>23409</td>\n",
       "      <td>20000</td>\n",
       "      <td>1.17045</td>\n",
       "    </tr>\n",
       "  </tbody>\n",
       "</table>\n",
       "</div>"
      ],
      "text/plain": [
       "   Attendance  stadium_capacity  used_capacity_ratio\n",
       "0        4444             10000              0.44440\n",
       "1        2549             10000              0.25490\n",
       "2       18346             20000              0.91730\n",
       "3       24059             20000              1.20295\n",
       "4       23409             20000              1.17045"
      ]
     },
     "execution_count": 42,
     "metadata": {},
     "output_type": "execute_result"
    }
   ],
   "source": [
    "final_match_df.describe()\n",
    "temp_match_df = final_match_df[['Attendance','stadium_capacity','used_capacity_ratio']]\n",
    "temp_match_df.head()"
   ]
  },
  {
   "cell_type": "code",
   "execution_count": 43,
   "metadata": {},
   "outputs": [
    {
     "data": {
      "text/html": [
       "<div>\n",
       "<style scoped>\n",
       "    .dataframe tbody tr th:only-of-type {\n",
       "        vertical-align: middle;\n",
       "    }\n",
       "\n",
       "    .dataframe tbody tr th {\n",
       "        vertical-align: top;\n",
       "    }\n",
       "\n",
       "    .dataframe thead th {\n",
       "        text-align: right;\n",
       "    }\n",
       "</style>\n",
       "<table border=\"1\" class=\"dataframe\">\n",
       "  <thead>\n",
       "    <tr style=\"text-align: right;\">\n",
       "      <th></th>\n",
       "      <th>Attendance</th>\n",
       "      <th>stadium_capacity</th>\n",
       "      <th>used_capacity_ratio</th>\n",
       "    </tr>\n",
       "  </thead>\n",
       "  <tbody>\n",
       "    <tr>\n",
       "      <th>count</th>\n",
       "      <td>964.000000</td>\n",
       "      <td>964.000000</td>\n",
       "      <td>964.000000</td>\n",
       "    </tr>\n",
       "    <tr>\n",
       "      <th>mean</th>\n",
       "      <td>45693.374481</td>\n",
       "      <td>55544.605809</td>\n",
       "      <td>0.831134</td>\n",
       "    </tr>\n",
       "    <tr>\n",
       "      <th>std</th>\n",
       "      <td>22704.131689</td>\n",
       "      <td>27396.118946</td>\n",
       "      <td>0.229490</td>\n",
       "    </tr>\n",
       "    <tr>\n",
       "      <th>min</th>\n",
       "      <td>2000.000000</td>\n",
       "      <td>7000.000000</td>\n",
       "      <td>0.022222</td>\n",
       "    </tr>\n",
       "    <tr>\n",
       "      <th>25%</th>\n",
       "      <td>31800.000000</td>\n",
       "      <td>41000.000000</td>\n",
       "      <td>0.722222</td>\n",
       "    </tr>\n",
       "    <tr>\n",
       "      <th>50%</th>\n",
       "      <td>42725.000000</td>\n",
       "      <td>48000.000000</td>\n",
       "      <td>0.924674</td>\n",
       "    </tr>\n",
       "    <tr>\n",
       "      <th>75%</th>\n",
       "      <td>60984.500000</td>\n",
       "      <td>66000.000000</td>\n",
       "      <td>0.990742</td>\n",
       "    </tr>\n",
       "    <tr>\n",
       "      <th>max</th>\n",
       "      <td>173850.000000</td>\n",
       "      <td>200000.000000</td>\n",
       "      <td>2.112903</td>\n",
       "    </tr>\n",
       "  </tbody>\n",
       "</table>\n",
       "</div>"
      ],
      "text/plain": [
       "          Attendance  stadium_capacity  used_capacity_ratio\n",
       "count     964.000000        964.000000           964.000000\n",
       "mean    45693.374481      55544.605809             0.831134\n",
       "std     22704.131689      27396.118946             0.229490\n",
       "min      2000.000000       7000.000000             0.022222\n",
       "25%     31800.000000      41000.000000             0.722222\n",
       "50%     42725.000000      48000.000000             0.924674\n",
       "75%     60984.500000      66000.000000             0.990742\n",
       "max    173850.000000     200000.000000             2.112903"
      ]
     },
     "execution_count": 43,
     "metadata": {},
     "output_type": "execute_result"
    }
   ],
   "source": [
    "temp_match_df.describe()"
   ]
  },
  {
   "attachments": {},
   "cell_type": "markdown",
   "metadata": {},
   "source": [
    "* we will create attendance_category which is attendance Discretized version :"
   ]
  },
  {
   "cell_type": "code",
   "execution_count": 44,
   "metadata": {},
   "outputs": [],
   "source": [
    "attendance_transformer = KBinsDiscretizer(n_bins=3,encode='ordinal',strategy='quantile')\n",
    "attendance_category = attendance_transformer.fit_transform(final_match_df['Attendance'].values.reshape(-1,1))"
   ]
  },
  {
   "cell_type": "code",
   "execution_count": 45,
   "metadata": {},
   "outputs": [
    {
     "data": {
      "text/plain": [
       "array([0., 1., 2.])"
      ]
     },
     "execution_count": 45,
     "metadata": {},
     "output_type": "execute_result"
    }
   ],
   "source": [
    "np.unique(attendance_category)"
   ]
  },
  {
   "cell_type": "code",
   "execution_count": 46,
   "metadata": {},
   "outputs": [
    {
     "data": {
      "text/plain": [
       "array([  2000.,  36000.,  52000., 173850.])"
      ]
     },
     "execution_count": 46,
     "metadata": {},
     "output_type": "execute_result"
    }
   ],
   "source": [
    "attendance_transformer.bin_edges_[0]"
   ]
  },
  {
   "attachments": {},
   "cell_type": "markdown",
   "metadata": {},
   "source": [
    "The Ranges are:\n",
    "* [2000,36000] : low\n",
    "* [36000,52000] : medium\n",
    "* [52000,173850] : high"
   ]
  },
  {
   "attachments": {},
   "cell_type": "markdown",
   "metadata": {},
   "source": [
    "* we will create relative_attendance_category which is used_capacity_ratio Discretized version :"
   ]
  },
  {
   "cell_type": "code",
   "execution_count": 47,
   "metadata": {},
   "outputs": [],
   "source": [
    "used_capacity_ratio_transformer = KBinsDiscretizer(n_bins=3,encode='ordinal',strategy='quantile')\n",
    "relative_attendance_category = used_capacity_ratio_transformer.fit_transform(final_match_df['used_capacity_ratio'].values.reshape(-1,1))"
   ]
  },
  {
   "cell_type": "code",
   "execution_count": 48,
   "metadata": {},
   "outputs": [
    {
     "data": {
      "text/plain": [
       "array([0., 1., 2.])"
      ]
     },
     "execution_count": 48,
     "metadata": {},
     "output_type": "execute_result"
    }
   ],
   "source": [
    "np.unique(relative_attendance_category)"
   ]
  },
  {
   "cell_type": "code",
   "execution_count": 49,
   "metadata": {},
   "outputs": [
    {
     "data": {
      "text/plain": [
       "array([0.02222222, 0.81683784, 0.97671642, 2.11290323])"
      ]
     },
     "execution_count": 49,
     "metadata": {},
     "output_type": "execute_result"
    }
   ],
   "source": [
    "used_capacity_ratio_transformer.bin_edges_[0]"
   ]
  },
  {
   "attachments": {},
   "cell_type": "markdown",
   "metadata": {},
   "source": [
    "The Ranges are:\n",
    "* [0.02222222,0.81683784] : low\n",
    "* [0.81683784,0.97671642] : medium\n",
    "* [0.97671642,2.11290323] : high"
   ]
  },
  {
   "attachments": {},
   "cell_type": "markdown",
   "metadata": {},
   "source": [
    "* we will add attendance_category and relative_attendance_category to relative_attendance_category:"
   ]
  },
  {
   "cell_type": "code",
   "execution_count": 50,
   "metadata": {},
   "outputs": [
    {
     "data": {
      "text/html": [
       "<div>\n",
       "<style scoped>\n",
       "    .dataframe tbody tr th:only-of-type {\n",
       "        vertical-align: middle;\n",
       "    }\n",
       "\n",
       "    .dataframe tbody tr th {\n",
       "        vertical-align: top;\n",
       "    }\n",
       "\n",
       "    .dataframe thead th {\n",
       "        text-align: right;\n",
       "    }\n",
       "</style>\n",
       "<table border=\"1\" class=\"dataframe\">\n",
       "  <thead>\n",
       "    <tr style=\"text-align: right;\">\n",
       "      <th></th>\n",
       "      <th>key_id</th>\n",
       "      <th>tournament_id</th>\n",
       "      <th>tournament_name</th>\n",
       "      <th>match_id</th>\n",
       "      <th>match_name</th>\n",
       "      <th>stage_name</th>\n",
       "      <th>group_name</th>\n",
       "      <th>group_stage</th>\n",
       "      <th>knockout_stage</th>\n",
       "      <th>replayed</th>\n",
       "      <th>replay</th>\n",
       "      <th>match_date</th>\n",
       "      <th>match_time</th>\n",
       "      <th>stadium_id</th>\n",
       "      <th>stadium_name</th>\n",
       "      <th>city_name</th>\n",
       "      <th>country_name</th>\n",
       "      <th>home_team_id</th>\n",
       "      <th>home_team_name</th>\n",
       "      <th>home_team_code</th>\n",
       "      <th>away_team_id</th>\n",
       "      <th>away_team_name</th>\n",
       "      <th>away_team_code</th>\n",
       "      <th>score</th>\n",
       "      <th>home_team_score</th>\n",
       "      <th>away_team_score</th>\n",
       "      <th>home_team_score_margin</th>\n",
       "      <th>away_team_score_margin</th>\n",
       "      <th>extra_time</th>\n",
       "      <th>penalty_shootout</th>\n",
       "      <th>score_penalties</th>\n",
       "      <th>home_team_score_penalties</th>\n",
       "      <th>away_team_score_penalties</th>\n",
       "      <th>result</th>\n",
       "      <th>home_team_win</th>\n",
       "      <th>away_team_win</th>\n",
       "      <th>draw</th>\n",
       "      <th>Attendance</th>\n",
       "      <th>stadium_capacity</th>\n",
       "      <th>total_goals_in_match</th>\n",
       "      <th>match_for_host</th>\n",
       "      <th>used_capacity_ratio</th>\n",
       "      <th>attendance_category</th>\n",
       "      <th>relative_attendance_category</th>\n",
       "    </tr>\n",
       "  </thead>\n",
       "  <tbody>\n",
       "    <tr>\n",
       "      <th>0</th>\n",
       "      <td>1</td>\n",
       "      <td>WC-1930</td>\n",
       "      <td>1930 FIFA World Cup</td>\n",
       "      <td>M-1930-01</td>\n",
       "      <td>France v Mexico</td>\n",
       "      <td>group stage</td>\n",
       "      <td>Group 1</td>\n",
       "      <td>1</td>\n",
       "      <td>0</td>\n",
       "      <td>0</td>\n",
       "      <td>0</td>\n",
       "      <td>1930-07-13</td>\n",
       "      <td>15:00</td>\n",
       "      <td>S-193</td>\n",
       "      <td>Estadio Pocitos</td>\n",
       "      <td>Montevideo</td>\n",
       "      <td>Uruguay</td>\n",
       "      <td>T-28</td>\n",
       "      <td>France</td>\n",
       "      <td>FRA</td>\n",
       "      <td>T-44</td>\n",
       "      <td>Mexico</td>\n",
       "      <td>MEX</td>\n",
       "      <td>4–1</td>\n",
       "      <td>4</td>\n",
       "      <td>1</td>\n",
       "      <td>3</td>\n",
       "      <td>-3</td>\n",
       "      <td>0</td>\n",
       "      <td>0</td>\n",
       "      <td>0-0</td>\n",
       "      <td>0</td>\n",
       "      <td>0</td>\n",
       "      <td>home team win</td>\n",
       "      <td>1</td>\n",
       "      <td>0</td>\n",
       "      <td>0</td>\n",
       "      <td>4444</td>\n",
       "      <td>10000</td>\n",
       "      <td>5</td>\n",
       "      <td>0</td>\n",
       "      <td>0.44440</td>\n",
       "      <td>0.0</td>\n",
       "      <td>0.0</td>\n",
       "    </tr>\n",
       "    <tr>\n",
       "      <th>1</th>\n",
       "      <td>4</td>\n",
       "      <td>WC-1930</td>\n",
       "      <td>1930 FIFA World Cup</td>\n",
       "      <td>M-1930-04</td>\n",
       "      <td>Romania v Peru</td>\n",
       "      <td>group stage</td>\n",
       "      <td>Group 3</td>\n",
       "      <td>1</td>\n",
       "      <td>0</td>\n",
       "      <td>0</td>\n",
       "      <td>0</td>\n",
       "      <td>1930-07-14</td>\n",
       "      <td>14:50</td>\n",
       "      <td>S-193</td>\n",
       "      <td>Estadio Pocitos</td>\n",
       "      <td>Montevideo</td>\n",
       "      <td>Uruguay</td>\n",
       "      <td>T-59</td>\n",
       "      <td>Romania</td>\n",
       "      <td>ROU</td>\n",
       "      <td>T-54</td>\n",
       "      <td>Peru</td>\n",
       "      <td>PER</td>\n",
       "      <td>3–1</td>\n",
       "      <td>3</td>\n",
       "      <td>1</td>\n",
       "      <td>2</td>\n",
       "      <td>-2</td>\n",
       "      <td>0</td>\n",
       "      <td>0</td>\n",
       "      <td>0-0</td>\n",
       "      <td>0</td>\n",
       "      <td>0</td>\n",
       "      <td>home team win</td>\n",
       "      <td>1</td>\n",
       "      <td>0</td>\n",
       "      <td>0</td>\n",
       "      <td>2549</td>\n",
       "      <td>10000</td>\n",
       "      <td>4</td>\n",
       "      <td>0</td>\n",
       "      <td>0.25490</td>\n",
       "      <td>0.0</td>\n",
       "      <td>0.0</td>\n",
       "    </tr>\n",
       "    <tr>\n",
       "      <th>2</th>\n",
       "      <td>2</td>\n",
       "      <td>WC-1930</td>\n",
       "      <td>1930 FIFA World Cup</td>\n",
       "      <td>M-1930-02</td>\n",
       "      <td>United States v Belgium</td>\n",
       "      <td>group stage</td>\n",
       "      <td>Group 4</td>\n",
       "      <td>1</td>\n",
       "      <td>0</td>\n",
       "      <td>0</td>\n",
       "      <td>0</td>\n",
       "      <td>1930-07-13</td>\n",
       "      <td>15:00</td>\n",
       "      <td>S-192</td>\n",
       "      <td>Estadio Gran Parque Central</td>\n",
       "      <td>Montevideo</td>\n",
       "      <td>Uruguay</td>\n",
       "      <td>T-80</td>\n",
       "      <td>United States</td>\n",
       "      <td>USA</td>\n",
       "      <td>T-06</td>\n",
       "      <td>Belgium</td>\n",
       "      <td>BEL</td>\n",
       "      <td>3–0</td>\n",
       "      <td>3</td>\n",
       "      <td>0</td>\n",
       "      <td>3</td>\n",
       "      <td>-3</td>\n",
       "      <td>0</td>\n",
       "      <td>0</td>\n",
       "      <td>0-0</td>\n",
       "      <td>0</td>\n",
       "      <td>0</td>\n",
       "      <td>home team win</td>\n",
       "      <td>1</td>\n",
       "      <td>0</td>\n",
       "      <td>0</td>\n",
       "      <td>18346</td>\n",
       "      <td>20000</td>\n",
       "      <td>3</td>\n",
       "      <td>0</td>\n",
       "      <td>0.91730</td>\n",
       "      <td>0.0</td>\n",
       "      <td>1.0</td>\n",
       "    </tr>\n",
       "    <tr>\n",
       "      <th>3</th>\n",
       "      <td>3</td>\n",
       "      <td>WC-1930</td>\n",
       "      <td>1930 FIFA World Cup</td>\n",
       "      <td>M-1930-03</td>\n",
       "      <td>Yugoslavia v Brazil</td>\n",
       "      <td>group stage</td>\n",
       "      <td>Group 2</td>\n",
       "      <td>1</td>\n",
       "      <td>0</td>\n",
       "      <td>0</td>\n",
       "      <td>0</td>\n",
       "      <td>1930-07-14</td>\n",
       "      <td>12:45</td>\n",
       "      <td>S-192</td>\n",
       "      <td>Estadio Gran Parque Central</td>\n",
       "      <td>Montevideo</td>\n",
       "      <td>Uruguay</td>\n",
       "      <td>T-84</td>\n",
       "      <td>Yugoslavia</td>\n",
       "      <td>YUG</td>\n",
       "      <td>T-09</td>\n",
       "      <td>Brazil</td>\n",
       "      <td>BRA</td>\n",
       "      <td>2–1</td>\n",
       "      <td>2</td>\n",
       "      <td>1</td>\n",
       "      <td>1</td>\n",
       "      <td>-1</td>\n",
       "      <td>0</td>\n",
       "      <td>0</td>\n",
       "      <td>0-0</td>\n",
       "      <td>0</td>\n",
       "      <td>0</td>\n",
       "      <td>home team win</td>\n",
       "      <td>1</td>\n",
       "      <td>0</td>\n",
       "      <td>0</td>\n",
       "      <td>24059</td>\n",
       "      <td>20000</td>\n",
       "      <td>3</td>\n",
       "      <td>0</td>\n",
       "      <td>1.20295</td>\n",
       "      <td>0.0</td>\n",
       "      <td>2.0</td>\n",
       "    </tr>\n",
       "    <tr>\n",
       "      <th>4</th>\n",
       "      <td>5</td>\n",
       "      <td>WC-1930</td>\n",
       "      <td>1930 FIFA World Cup</td>\n",
       "      <td>M-1930-05</td>\n",
       "      <td>Argentina v France</td>\n",
       "      <td>group stage</td>\n",
       "      <td>Group 1</td>\n",
       "      <td>1</td>\n",
       "      <td>0</td>\n",
       "      <td>0</td>\n",
       "      <td>0</td>\n",
       "      <td>1930-07-15</td>\n",
       "      <td>16:00</td>\n",
       "      <td>S-192</td>\n",
       "      <td>Estadio Gran Parque Central</td>\n",
       "      <td>Montevideo</td>\n",
       "      <td>Uruguay</td>\n",
       "      <td>T-03</td>\n",
       "      <td>Argentina</td>\n",
       "      <td>ARG</td>\n",
       "      <td>T-28</td>\n",
       "      <td>France</td>\n",
       "      <td>FRA</td>\n",
       "      <td>1–0</td>\n",
       "      <td>1</td>\n",
       "      <td>0</td>\n",
       "      <td>1</td>\n",
       "      <td>-1</td>\n",
       "      <td>0</td>\n",
       "      <td>0</td>\n",
       "      <td>0-0</td>\n",
       "      <td>0</td>\n",
       "      <td>0</td>\n",
       "      <td>home team win</td>\n",
       "      <td>1</td>\n",
       "      <td>0</td>\n",
       "      <td>0</td>\n",
       "      <td>23409</td>\n",
       "      <td>20000</td>\n",
       "      <td>1</td>\n",
       "      <td>0</td>\n",
       "      <td>1.17045</td>\n",
       "      <td>0.0</td>\n",
       "      <td>2.0</td>\n",
       "    </tr>\n",
       "  </tbody>\n",
       "</table>\n",
       "</div>"
      ],
      "text/plain": [
       "   key_id tournament_id      tournament_name   match_id  \\\n",
       "0       1       WC-1930  1930 FIFA World Cup  M-1930-01   \n",
       "1       4       WC-1930  1930 FIFA World Cup  M-1930-04   \n",
       "2       2       WC-1930  1930 FIFA World Cup  M-1930-02   \n",
       "3       3       WC-1930  1930 FIFA World Cup  M-1930-03   \n",
       "4       5       WC-1930  1930 FIFA World Cup  M-1930-05   \n",
       "\n",
       "                match_name   stage_name group_name  group_stage  \\\n",
       "0          France v Mexico  group stage    Group 1            1   \n",
       "1           Romania v Peru  group stage    Group 3            1   \n",
       "2  United States v Belgium  group stage    Group 4            1   \n",
       "3      Yugoslavia v Brazil  group stage    Group 2            1   \n",
       "4       Argentina v France  group stage    Group 1            1   \n",
       "\n",
       "   knockout_stage  replayed  replay  match_date match_time stadium_id  \\\n",
       "0               0         0       0  1930-07-13      15:00      S-193   \n",
       "1               0         0       0  1930-07-14      14:50      S-193   \n",
       "2               0         0       0  1930-07-13      15:00      S-192   \n",
       "3               0         0       0  1930-07-14      12:45      S-192   \n",
       "4               0         0       0  1930-07-15      16:00      S-192   \n",
       "\n",
       "                  stadium_name   city_name country_name home_team_id  \\\n",
       "0              Estadio Pocitos  Montevideo      Uruguay         T-28   \n",
       "1              Estadio Pocitos  Montevideo      Uruguay         T-59   \n",
       "2  Estadio Gran Parque Central  Montevideo      Uruguay         T-80   \n",
       "3  Estadio Gran Parque Central  Montevideo      Uruguay         T-84   \n",
       "4  Estadio Gran Parque Central  Montevideo      Uruguay         T-03   \n",
       "\n",
       "  home_team_name home_team_code away_team_id away_team_name away_team_code  \\\n",
       "0         France            FRA         T-44         Mexico            MEX   \n",
       "1        Romania            ROU         T-54           Peru            PER   \n",
       "2  United States            USA         T-06        Belgium            BEL   \n",
       "3     Yugoslavia            YUG         T-09         Brazil            BRA   \n",
       "4      Argentina            ARG         T-28         France            FRA   \n",
       "\n",
       "  score  home_team_score  away_team_score  home_team_score_margin  \\\n",
       "0   4–1                4                1                       3   \n",
       "1   3–1                3                1                       2   \n",
       "2   3–0                3                0                       3   \n",
       "3   2–1                2                1                       1   \n",
       "4   1–0                1                0                       1   \n",
       "\n",
       "   away_team_score_margin  extra_time  penalty_shootout score_penalties  \\\n",
       "0                      -3           0                 0             0-0   \n",
       "1                      -2           0                 0             0-0   \n",
       "2                      -3           0                 0             0-0   \n",
       "3                      -1           0                 0             0-0   \n",
       "4                      -1           0                 0             0-0   \n",
       "\n",
       "   home_team_score_penalties  away_team_score_penalties         result  \\\n",
       "0                          0                          0  home team win   \n",
       "1                          0                          0  home team win   \n",
       "2                          0                          0  home team win   \n",
       "3                          0                          0  home team win   \n",
       "4                          0                          0  home team win   \n",
       "\n",
       "   home_team_win  away_team_win  draw  Attendance  stadium_capacity  \\\n",
       "0              1              0     0        4444             10000   \n",
       "1              1              0     0        2549             10000   \n",
       "2              1              0     0       18346             20000   \n",
       "3              1              0     0       24059             20000   \n",
       "4              1              0     0       23409             20000   \n",
       "\n",
       "   total_goals_in_match  match_for_host  used_capacity_ratio  \\\n",
       "0                     5               0              0.44440   \n",
       "1                     4               0              0.25490   \n",
       "2                     3               0              0.91730   \n",
       "3                     3               0              1.20295   \n",
       "4                     1               0              1.17045   \n",
       "\n",
       "   attendance_category  relative_attendance_category  \n",
       "0                  0.0                           0.0  \n",
       "1                  0.0                           0.0  \n",
       "2                  0.0                           1.0  \n",
       "3                  0.0                           2.0  \n",
       "4                  0.0                           2.0  "
      ]
     },
     "execution_count": 50,
     "metadata": {},
     "output_type": "execute_result"
    }
   ],
   "source": [
    "final_match_df['attendance_category'] = attendance_category\n",
    "final_match_df['relative_attendance_category'] = relative_attendance_category\n",
    "final_match_df.head()"
   ]
  },
  {
   "attachments": {},
   "cell_type": "markdown",
   "metadata": {},
   "source": [
    "* finally we will map values to <strong>low, medium, high</strong>:"
   ]
  },
  {
   "cell_type": "code",
   "execution_count": 51,
   "metadata": {},
   "outputs": [],
   "source": [
    "categories_map = {0:'low',1:'medium',2:'high'}\n",
    "final_match_df['attendance_category'] = final_match_df['attendance_category'].map(categories_map)\n",
    "final_match_df['relative_attendance_category'] = final_match_df['relative_attendance_category'].map(categories_map)"
   ]
  },
  {
   "cell_type": "code",
   "execution_count": 52,
   "metadata": {},
   "outputs": [
    {
     "data": {
      "text/html": [
       "<div>\n",
       "<style scoped>\n",
       "    .dataframe tbody tr th:only-of-type {\n",
       "        vertical-align: middle;\n",
       "    }\n",
       "\n",
       "    .dataframe tbody tr th {\n",
       "        vertical-align: top;\n",
       "    }\n",
       "\n",
       "    .dataframe thead th {\n",
       "        text-align: right;\n",
       "    }\n",
       "</style>\n",
       "<table border=\"1\" class=\"dataframe\">\n",
       "  <thead>\n",
       "    <tr style=\"text-align: right;\">\n",
       "      <th></th>\n",
       "      <th>key_id</th>\n",
       "      <th>tournament_id</th>\n",
       "      <th>tournament_name</th>\n",
       "      <th>match_id</th>\n",
       "      <th>match_name</th>\n",
       "      <th>stage_name</th>\n",
       "      <th>group_name</th>\n",
       "      <th>group_stage</th>\n",
       "      <th>knockout_stage</th>\n",
       "      <th>replayed</th>\n",
       "      <th>replay</th>\n",
       "      <th>match_date</th>\n",
       "      <th>match_time</th>\n",
       "      <th>stadium_id</th>\n",
       "      <th>stadium_name</th>\n",
       "      <th>city_name</th>\n",
       "      <th>country_name</th>\n",
       "      <th>home_team_id</th>\n",
       "      <th>home_team_name</th>\n",
       "      <th>home_team_code</th>\n",
       "      <th>away_team_id</th>\n",
       "      <th>away_team_name</th>\n",
       "      <th>away_team_code</th>\n",
       "      <th>score</th>\n",
       "      <th>home_team_score</th>\n",
       "      <th>away_team_score</th>\n",
       "      <th>home_team_score_margin</th>\n",
       "      <th>away_team_score_margin</th>\n",
       "      <th>extra_time</th>\n",
       "      <th>penalty_shootout</th>\n",
       "      <th>score_penalties</th>\n",
       "      <th>home_team_score_penalties</th>\n",
       "      <th>away_team_score_penalties</th>\n",
       "      <th>result</th>\n",
       "      <th>home_team_win</th>\n",
       "      <th>away_team_win</th>\n",
       "      <th>draw</th>\n",
       "      <th>Attendance</th>\n",
       "      <th>stadium_capacity</th>\n",
       "      <th>total_goals_in_match</th>\n",
       "      <th>match_for_host</th>\n",
       "      <th>used_capacity_ratio</th>\n",
       "      <th>attendance_category</th>\n",
       "      <th>relative_attendance_category</th>\n",
       "    </tr>\n",
       "  </thead>\n",
       "  <tbody>\n",
       "    <tr>\n",
       "      <th>0</th>\n",
       "      <td>1</td>\n",
       "      <td>WC-1930</td>\n",
       "      <td>1930 FIFA World Cup</td>\n",
       "      <td>M-1930-01</td>\n",
       "      <td>France v Mexico</td>\n",
       "      <td>group stage</td>\n",
       "      <td>Group 1</td>\n",
       "      <td>1</td>\n",
       "      <td>0</td>\n",
       "      <td>0</td>\n",
       "      <td>0</td>\n",
       "      <td>1930-07-13</td>\n",
       "      <td>15:00</td>\n",
       "      <td>S-193</td>\n",
       "      <td>Estadio Pocitos</td>\n",
       "      <td>Montevideo</td>\n",
       "      <td>Uruguay</td>\n",
       "      <td>T-28</td>\n",
       "      <td>France</td>\n",
       "      <td>FRA</td>\n",
       "      <td>T-44</td>\n",
       "      <td>Mexico</td>\n",
       "      <td>MEX</td>\n",
       "      <td>4–1</td>\n",
       "      <td>4</td>\n",
       "      <td>1</td>\n",
       "      <td>3</td>\n",
       "      <td>-3</td>\n",
       "      <td>0</td>\n",
       "      <td>0</td>\n",
       "      <td>0-0</td>\n",
       "      <td>0</td>\n",
       "      <td>0</td>\n",
       "      <td>home team win</td>\n",
       "      <td>1</td>\n",
       "      <td>0</td>\n",
       "      <td>0</td>\n",
       "      <td>4444</td>\n",
       "      <td>10000</td>\n",
       "      <td>5</td>\n",
       "      <td>0</td>\n",
       "      <td>0.44440</td>\n",
       "      <td>low</td>\n",
       "      <td>low</td>\n",
       "    </tr>\n",
       "    <tr>\n",
       "      <th>1</th>\n",
       "      <td>4</td>\n",
       "      <td>WC-1930</td>\n",
       "      <td>1930 FIFA World Cup</td>\n",
       "      <td>M-1930-04</td>\n",
       "      <td>Romania v Peru</td>\n",
       "      <td>group stage</td>\n",
       "      <td>Group 3</td>\n",
       "      <td>1</td>\n",
       "      <td>0</td>\n",
       "      <td>0</td>\n",
       "      <td>0</td>\n",
       "      <td>1930-07-14</td>\n",
       "      <td>14:50</td>\n",
       "      <td>S-193</td>\n",
       "      <td>Estadio Pocitos</td>\n",
       "      <td>Montevideo</td>\n",
       "      <td>Uruguay</td>\n",
       "      <td>T-59</td>\n",
       "      <td>Romania</td>\n",
       "      <td>ROU</td>\n",
       "      <td>T-54</td>\n",
       "      <td>Peru</td>\n",
       "      <td>PER</td>\n",
       "      <td>3–1</td>\n",
       "      <td>3</td>\n",
       "      <td>1</td>\n",
       "      <td>2</td>\n",
       "      <td>-2</td>\n",
       "      <td>0</td>\n",
       "      <td>0</td>\n",
       "      <td>0-0</td>\n",
       "      <td>0</td>\n",
       "      <td>0</td>\n",
       "      <td>home team win</td>\n",
       "      <td>1</td>\n",
       "      <td>0</td>\n",
       "      <td>0</td>\n",
       "      <td>2549</td>\n",
       "      <td>10000</td>\n",
       "      <td>4</td>\n",
       "      <td>0</td>\n",
       "      <td>0.25490</td>\n",
       "      <td>low</td>\n",
       "      <td>low</td>\n",
       "    </tr>\n",
       "    <tr>\n",
       "      <th>2</th>\n",
       "      <td>2</td>\n",
       "      <td>WC-1930</td>\n",
       "      <td>1930 FIFA World Cup</td>\n",
       "      <td>M-1930-02</td>\n",
       "      <td>United States v Belgium</td>\n",
       "      <td>group stage</td>\n",
       "      <td>Group 4</td>\n",
       "      <td>1</td>\n",
       "      <td>0</td>\n",
       "      <td>0</td>\n",
       "      <td>0</td>\n",
       "      <td>1930-07-13</td>\n",
       "      <td>15:00</td>\n",
       "      <td>S-192</td>\n",
       "      <td>Estadio Gran Parque Central</td>\n",
       "      <td>Montevideo</td>\n",
       "      <td>Uruguay</td>\n",
       "      <td>T-80</td>\n",
       "      <td>United States</td>\n",
       "      <td>USA</td>\n",
       "      <td>T-06</td>\n",
       "      <td>Belgium</td>\n",
       "      <td>BEL</td>\n",
       "      <td>3–0</td>\n",
       "      <td>3</td>\n",
       "      <td>0</td>\n",
       "      <td>3</td>\n",
       "      <td>-3</td>\n",
       "      <td>0</td>\n",
       "      <td>0</td>\n",
       "      <td>0-0</td>\n",
       "      <td>0</td>\n",
       "      <td>0</td>\n",
       "      <td>home team win</td>\n",
       "      <td>1</td>\n",
       "      <td>0</td>\n",
       "      <td>0</td>\n",
       "      <td>18346</td>\n",
       "      <td>20000</td>\n",
       "      <td>3</td>\n",
       "      <td>0</td>\n",
       "      <td>0.91730</td>\n",
       "      <td>low</td>\n",
       "      <td>medium</td>\n",
       "    </tr>\n",
       "    <tr>\n",
       "      <th>3</th>\n",
       "      <td>3</td>\n",
       "      <td>WC-1930</td>\n",
       "      <td>1930 FIFA World Cup</td>\n",
       "      <td>M-1930-03</td>\n",
       "      <td>Yugoslavia v Brazil</td>\n",
       "      <td>group stage</td>\n",
       "      <td>Group 2</td>\n",
       "      <td>1</td>\n",
       "      <td>0</td>\n",
       "      <td>0</td>\n",
       "      <td>0</td>\n",
       "      <td>1930-07-14</td>\n",
       "      <td>12:45</td>\n",
       "      <td>S-192</td>\n",
       "      <td>Estadio Gran Parque Central</td>\n",
       "      <td>Montevideo</td>\n",
       "      <td>Uruguay</td>\n",
       "      <td>T-84</td>\n",
       "      <td>Yugoslavia</td>\n",
       "      <td>YUG</td>\n",
       "      <td>T-09</td>\n",
       "      <td>Brazil</td>\n",
       "      <td>BRA</td>\n",
       "      <td>2–1</td>\n",
       "      <td>2</td>\n",
       "      <td>1</td>\n",
       "      <td>1</td>\n",
       "      <td>-1</td>\n",
       "      <td>0</td>\n",
       "      <td>0</td>\n",
       "      <td>0-0</td>\n",
       "      <td>0</td>\n",
       "      <td>0</td>\n",
       "      <td>home team win</td>\n",
       "      <td>1</td>\n",
       "      <td>0</td>\n",
       "      <td>0</td>\n",
       "      <td>24059</td>\n",
       "      <td>20000</td>\n",
       "      <td>3</td>\n",
       "      <td>0</td>\n",
       "      <td>1.20295</td>\n",
       "      <td>low</td>\n",
       "      <td>high</td>\n",
       "    </tr>\n",
       "    <tr>\n",
       "      <th>4</th>\n",
       "      <td>5</td>\n",
       "      <td>WC-1930</td>\n",
       "      <td>1930 FIFA World Cup</td>\n",
       "      <td>M-1930-05</td>\n",
       "      <td>Argentina v France</td>\n",
       "      <td>group stage</td>\n",
       "      <td>Group 1</td>\n",
       "      <td>1</td>\n",
       "      <td>0</td>\n",
       "      <td>0</td>\n",
       "      <td>0</td>\n",
       "      <td>1930-07-15</td>\n",
       "      <td>16:00</td>\n",
       "      <td>S-192</td>\n",
       "      <td>Estadio Gran Parque Central</td>\n",
       "      <td>Montevideo</td>\n",
       "      <td>Uruguay</td>\n",
       "      <td>T-03</td>\n",
       "      <td>Argentina</td>\n",
       "      <td>ARG</td>\n",
       "      <td>T-28</td>\n",
       "      <td>France</td>\n",
       "      <td>FRA</td>\n",
       "      <td>1–0</td>\n",
       "      <td>1</td>\n",
       "      <td>0</td>\n",
       "      <td>1</td>\n",
       "      <td>-1</td>\n",
       "      <td>0</td>\n",
       "      <td>0</td>\n",
       "      <td>0-0</td>\n",
       "      <td>0</td>\n",
       "      <td>0</td>\n",
       "      <td>home team win</td>\n",
       "      <td>1</td>\n",
       "      <td>0</td>\n",
       "      <td>0</td>\n",
       "      <td>23409</td>\n",
       "      <td>20000</td>\n",
       "      <td>1</td>\n",
       "      <td>0</td>\n",
       "      <td>1.17045</td>\n",
       "      <td>low</td>\n",
       "      <td>high</td>\n",
       "    </tr>\n",
       "  </tbody>\n",
       "</table>\n",
       "</div>"
      ],
      "text/plain": [
       "   key_id tournament_id      tournament_name   match_id  \\\n",
       "0       1       WC-1930  1930 FIFA World Cup  M-1930-01   \n",
       "1       4       WC-1930  1930 FIFA World Cup  M-1930-04   \n",
       "2       2       WC-1930  1930 FIFA World Cup  M-1930-02   \n",
       "3       3       WC-1930  1930 FIFA World Cup  M-1930-03   \n",
       "4       5       WC-1930  1930 FIFA World Cup  M-1930-05   \n",
       "\n",
       "                match_name   stage_name group_name  group_stage  \\\n",
       "0          France v Mexico  group stage    Group 1            1   \n",
       "1           Romania v Peru  group stage    Group 3            1   \n",
       "2  United States v Belgium  group stage    Group 4            1   \n",
       "3      Yugoslavia v Brazil  group stage    Group 2            1   \n",
       "4       Argentina v France  group stage    Group 1            1   \n",
       "\n",
       "   knockout_stage  replayed  replay  match_date match_time stadium_id  \\\n",
       "0               0         0       0  1930-07-13      15:00      S-193   \n",
       "1               0         0       0  1930-07-14      14:50      S-193   \n",
       "2               0         0       0  1930-07-13      15:00      S-192   \n",
       "3               0         0       0  1930-07-14      12:45      S-192   \n",
       "4               0         0       0  1930-07-15      16:00      S-192   \n",
       "\n",
       "                  stadium_name   city_name country_name home_team_id  \\\n",
       "0              Estadio Pocitos  Montevideo      Uruguay         T-28   \n",
       "1              Estadio Pocitos  Montevideo      Uruguay         T-59   \n",
       "2  Estadio Gran Parque Central  Montevideo      Uruguay         T-80   \n",
       "3  Estadio Gran Parque Central  Montevideo      Uruguay         T-84   \n",
       "4  Estadio Gran Parque Central  Montevideo      Uruguay         T-03   \n",
       "\n",
       "  home_team_name home_team_code away_team_id away_team_name away_team_code  \\\n",
       "0         France            FRA         T-44         Mexico            MEX   \n",
       "1        Romania            ROU         T-54           Peru            PER   \n",
       "2  United States            USA         T-06        Belgium            BEL   \n",
       "3     Yugoslavia            YUG         T-09         Brazil            BRA   \n",
       "4      Argentina            ARG         T-28         France            FRA   \n",
       "\n",
       "  score  home_team_score  away_team_score  home_team_score_margin  \\\n",
       "0   4–1                4                1                       3   \n",
       "1   3–1                3                1                       2   \n",
       "2   3–0                3                0                       3   \n",
       "3   2–1                2                1                       1   \n",
       "4   1–0                1                0                       1   \n",
       "\n",
       "   away_team_score_margin  extra_time  penalty_shootout score_penalties  \\\n",
       "0                      -3           0                 0             0-0   \n",
       "1                      -2           0                 0             0-0   \n",
       "2                      -3           0                 0             0-0   \n",
       "3                      -1           0                 0             0-0   \n",
       "4                      -1           0                 0             0-0   \n",
       "\n",
       "   home_team_score_penalties  away_team_score_penalties         result  \\\n",
       "0                          0                          0  home team win   \n",
       "1                          0                          0  home team win   \n",
       "2                          0                          0  home team win   \n",
       "3                          0                          0  home team win   \n",
       "4                          0                          0  home team win   \n",
       "\n",
       "   home_team_win  away_team_win  draw  Attendance  stadium_capacity  \\\n",
       "0              1              0     0        4444             10000   \n",
       "1              1              0     0        2549             10000   \n",
       "2              1              0     0       18346             20000   \n",
       "3              1              0     0       24059             20000   \n",
       "4              1              0     0       23409             20000   \n",
       "\n",
       "   total_goals_in_match  match_for_host  used_capacity_ratio  \\\n",
       "0                     5               0              0.44440   \n",
       "1                     4               0              0.25490   \n",
       "2                     3               0              0.91730   \n",
       "3                     3               0              1.20295   \n",
       "4                     1               0              1.17045   \n",
       "\n",
       "  attendance_category relative_attendance_category  \n",
       "0                 low                          low  \n",
       "1                 low                          low  \n",
       "2                 low                       medium  \n",
       "3                 low                         high  \n",
       "4                 low                         high  "
      ]
     },
     "execution_count": 52,
     "metadata": {},
     "output_type": "execute_result"
    }
   ],
   "source": [
    "final_match_df.head()"
   ]
  },
  {
   "attachments": {},
   "cell_type": "markdown",
   "metadata": {},
   "source": [
    "### e.Create host_country_code column:"
   ]
  },
  {
   "attachments": {},
   "cell_type": "markdown",
   "metadata": {},
   "source": [
    "* We will use teams talbe to map between team_name and team_code(Country code)"
   ]
  },
  {
   "cell_type": "code",
   "execution_count": 53,
   "metadata": {},
   "outputs": [
    {
     "data": {
      "text/html": [
       "<div>\n",
       "<style scoped>\n",
       "    .dataframe tbody tr th:only-of-type {\n",
       "        vertical-align: middle;\n",
       "    }\n",
       "\n",
       "    .dataframe tbody tr th {\n",
       "        vertical-align: top;\n",
       "    }\n",
       "\n",
       "    .dataframe thead th {\n",
       "        text-align: right;\n",
       "    }\n",
       "</style>\n",
       "<table border=\"1\" class=\"dataframe\">\n",
       "  <thead>\n",
       "    <tr style=\"text-align: right;\">\n",
       "      <th></th>\n",
       "      <th>team_name</th>\n",
       "      <th>team_code</th>\n",
       "    </tr>\n",
       "  </thead>\n",
       "  <tbody>\n",
       "    <tr>\n",
       "      <th>0</th>\n",
       "      <td>Algeria</td>\n",
       "      <td>DZA</td>\n",
       "    </tr>\n",
       "    <tr>\n",
       "      <th>1</th>\n",
       "      <td>Angola</td>\n",
       "      <td>AGO</td>\n",
       "    </tr>\n",
       "    <tr>\n",
       "      <th>2</th>\n",
       "      <td>Argentina</td>\n",
       "      <td>ARG</td>\n",
       "    </tr>\n",
       "    <tr>\n",
       "      <th>3</th>\n",
       "      <td>Australia</td>\n",
       "      <td>AUS</td>\n",
       "    </tr>\n",
       "    <tr>\n",
       "      <th>4</th>\n",
       "      <td>Austria</td>\n",
       "      <td>AUT</td>\n",
       "    </tr>\n",
       "    <tr>\n",
       "      <th>...</th>\n",
       "      <td>...</td>\n",
       "      <td>...</td>\n",
       "    </tr>\n",
       "    <tr>\n",
       "      <th>80</th>\n",
       "      <td>Uruguay</td>\n",
       "      <td>URY</td>\n",
       "    </tr>\n",
       "    <tr>\n",
       "      <th>81</th>\n",
       "      <td>Wales</td>\n",
       "      <td>WAL</td>\n",
       "    </tr>\n",
       "    <tr>\n",
       "      <th>82</th>\n",
       "      <td>West Germany</td>\n",
       "      <td>DEU</td>\n",
       "    </tr>\n",
       "    <tr>\n",
       "      <th>83</th>\n",
       "      <td>Yugoslavia</td>\n",
       "      <td>YUG</td>\n",
       "    </tr>\n",
       "    <tr>\n",
       "      <th>84</th>\n",
       "      <td>Zaire</td>\n",
       "      <td>COD</td>\n",
       "    </tr>\n",
       "  </tbody>\n",
       "</table>\n",
       "<p>85 rows × 2 columns</p>\n",
       "</div>"
      ],
      "text/plain": [
       "       team_name team_code\n",
       "0        Algeria       DZA\n",
       "1         Angola       AGO\n",
       "2      Argentina       ARG\n",
       "3      Australia       AUS\n",
       "4        Austria       AUT\n",
       "..           ...       ...\n",
       "80       Uruguay       URY\n",
       "81         Wales       WAL\n",
       "82  West Germany       DEU\n",
       "83    Yugoslavia       YUG\n",
       "84         Zaire       COD\n",
       "\n",
       "[85 rows x 2 columns]"
      ]
     },
     "execution_count": 53,
     "metadata": {},
     "output_type": "execute_result"
    }
   ],
   "source": [
    "teams_df = pd.read_csv('worldcup-1.1.0/data-csv/teams.csv')\n",
    "teams_df = teams_df[['team_name','team_code']]\n",
    "teams_df"
   ]
  },
  {
   "attachments": {},
   "cell_type": "markdown",
   "metadata": {},
   "source": [
    "* We will check Nan values:"
   ]
  },
  {
   "cell_type": "code",
   "execution_count": 54,
   "metadata": {},
   "outputs": [
    {
     "data": {
      "text/html": [
       "<div>\n",
       "<style scoped>\n",
       "    .dataframe tbody tr th:only-of-type {\n",
       "        vertical-align: middle;\n",
       "    }\n",
       "\n",
       "    .dataframe tbody tr th {\n",
       "        vertical-align: top;\n",
       "    }\n",
       "\n",
       "    .dataframe thead th {\n",
       "        text-align: right;\n",
       "    }\n",
       "</style>\n",
       "<table border=\"1\" class=\"dataframe\">\n",
       "  <thead>\n",
       "    <tr style=\"text-align: right;\">\n",
       "      <th></th>\n",
       "      <th>Type</th>\n",
       "      <th>Nans_number</th>\n",
       "    </tr>\n",
       "  </thead>\n",
       "  <tbody>\n",
       "    <tr>\n",
       "      <th>team_name</th>\n",
       "      <td>object</td>\n",
       "      <td>0</td>\n",
       "    </tr>\n",
       "    <tr>\n",
       "      <th>team_code</th>\n",
       "      <td>object</td>\n",
       "      <td>0</td>\n",
       "    </tr>\n",
       "  </tbody>\n",
       "</table>\n",
       "</div>"
      ],
      "text/plain": [
       "             Type  Nans_number\n",
       "team_name  object            0\n",
       "team_code  object            0"
      ]
     },
     "execution_count": 54,
     "metadata": {},
     "output_type": "execute_result"
    }
   ],
   "source": [
    "checkNans(teams_df)"
   ]
  },
  {
   "attachments": {},
   "cell_type": "markdown",
   "metadata": {},
   "source": [
    "* check raw duplication :"
   ]
  },
  {
   "cell_type": "code",
   "execution_count": 55,
   "metadata": {},
   "outputs": [
    {
     "data": {
      "text/plain": [
       "(85, 2)"
      ]
     },
     "execution_count": 55,
     "metadata": {},
     "output_type": "execute_result"
    }
   ],
   "source": [
    "teams_df.drop_duplicates().dropna().shape"
   ]
  },
  {
   "attachments": {},
   "cell_type": "markdown",
   "metadata": {},
   "source": [
    "We don't have Nans values or duplicated raws in teams table"
   ]
  },
  {
   "attachments": {},
   "cell_type": "markdown",
   "metadata": {},
   "source": [
    "* convert teams table into dictionary for mapping"
   ]
  },
  {
   "cell_type": "code",
   "execution_count": 56,
   "metadata": {},
   "outputs": [
    {
     "data": {
      "text/plain": [
       "{'Algeria': 'DZA',\n",
       " 'Angola': 'AGO',\n",
       " 'Argentina': 'ARG',\n",
       " 'Australia': 'AUS',\n",
       " 'Austria': 'AUT',\n",
       " 'Belgium': 'BEL',\n",
       " 'Bolivia': 'BOL',\n",
       " 'Bosnia and Herzegovina': 'BIH',\n",
       " 'Brazil': 'BRA',\n",
       " 'Bulgaria': 'BGR',\n",
       " 'Cameroon': 'CMR',\n",
       " 'Canada': 'CAN',\n",
       " 'Chile': 'CHL',\n",
       " 'China': 'CHN',\n",
       " 'Colombia': 'COL',\n",
       " 'Costa Rica': 'CRI',\n",
       " 'Croatia': 'HRV',\n",
       " 'Cuba': 'CUB',\n",
       " 'Czech Republic': 'CZE',\n",
       " 'Czechoslovakia': 'CSK',\n",
       " 'Denmark': 'DNK',\n",
       " 'Dutch East Indies': 'IDN',\n",
       " 'East Germany': 'DDR',\n",
       " 'Ecuador': 'ECU',\n",
       " 'Egypt': 'EGY',\n",
       " 'El Salvador': 'SLV',\n",
       " 'England': 'ENG',\n",
       " 'France': 'FRA',\n",
       " 'Germany': 'DEU',\n",
       " 'Ghana': 'GHA',\n",
       " 'Greece': 'GRC',\n",
       " 'Haiti': 'HTI',\n",
       " 'Honduras': 'HND',\n",
       " 'Hungary': 'HUN',\n",
       " 'Iceland': 'ISL',\n",
       " 'Iran': 'IRN',\n",
       " 'Iraq': 'IRQ',\n",
       " 'Israel': 'ISR',\n",
       " 'Italy': 'ITA',\n",
       " 'Ivory Coast': 'CIV',\n",
       " 'Jamaica': 'JAM',\n",
       " 'Japan': 'JPN',\n",
       " 'Kuwait': 'KWT',\n",
       " 'Mexico': 'MEX',\n",
       " 'Morocco': 'MAR',\n",
       " 'Netherlands': 'NLD',\n",
       " 'New Zealand': 'NZL',\n",
       " 'Nigeria': 'NGA',\n",
       " 'North Korea': 'PRK',\n",
       " 'Northern Ireland': 'NIR',\n",
       " 'Norway': 'NOR',\n",
       " 'Panama': 'PAN',\n",
       " 'Paraguay': 'PRY',\n",
       " 'Peru': 'PER',\n",
       " 'Poland': 'POL',\n",
       " 'Portugal': 'PRT',\n",
       " 'Qatar': 'QAT',\n",
       " 'Republic of Ireland': 'IRL',\n",
       " 'Romania': 'ROU',\n",
       " 'Russia': 'RUS',\n",
       " 'Saudi Arabia': 'SAU',\n",
       " 'Scotland': 'SCO',\n",
       " 'Senegal': 'SEN',\n",
       " 'Serbia': 'SRB',\n",
       " 'Serbia and Montenegro': 'SCG',\n",
       " 'Slovakia': 'SVK',\n",
       " 'Slovenia': 'SVN',\n",
       " 'South Africa': 'ZAF',\n",
       " 'South Korea': 'KOR',\n",
       " 'Soviet Union': 'SUN',\n",
       " 'Spain': 'ESP',\n",
       " 'Sweden': 'SWE',\n",
       " 'Switzerland': 'CHE',\n",
       " 'Togo': 'TGO',\n",
       " 'Trinidad and Tobago': 'TTO',\n",
       " 'Tunisia': 'TUN',\n",
       " 'Turkey': 'TUR',\n",
       " 'Ukraine': 'UKR',\n",
       " 'United Arab Emirates': 'ARE',\n",
       " 'United States': 'USA',\n",
       " 'Uruguay': 'URY',\n",
       " 'Wales': 'WAL',\n",
       " 'West Germany': 'DEU',\n",
       " 'Yugoslavia': 'YUG',\n",
       " 'Zaire': 'COD'}"
      ]
     },
     "execution_count": 56,
     "metadata": {},
     "output_type": "execute_result"
    }
   ],
   "source": [
    "teams_df_dict = teams_df.set_index('team_name').to_dict()['team_code']\n",
    "teams_df_dict"
   ]
  },
  {
   "attachments": {},
   "cell_type": "markdown",
   "metadata": {},
   "source": [
    "* Create <strong>host_country_code</strong> column:"
   ]
  },
  {
   "cell_type": "code",
   "execution_count": 57,
   "metadata": {},
   "outputs": [
    {
     "data": {
      "text/html": [
       "<div>\n",
       "<style scoped>\n",
       "    .dataframe tbody tr th:only-of-type {\n",
       "        vertical-align: middle;\n",
       "    }\n",
       "\n",
       "    .dataframe tbody tr th {\n",
       "        vertical-align: top;\n",
       "    }\n",
       "\n",
       "    .dataframe thead th {\n",
       "        text-align: right;\n",
       "    }\n",
       "</style>\n",
       "<table border=\"1\" class=\"dataframe\">\n",
       "  <thead>\n",
       "    <tr style=\"text-align: right;\">\n",
       "      <th></th>\n",
       "      <th>key_id</th>\n",
       "      <th>tournament_id</th>\n",
       "      <th>tournament_name</th>\n",
       "      <th>match_id</th>\n",
       "      <th>match_name</th>\n",
       "      <th>stage_name</th>\n",
       "      <th>group_name</th>\n",
       "      <th>group_stage</th>\n",
       "      <th>knockout_stage</th>\n",
       "      <th>replayed</th>\n",
       "      <th>replay</th>\n",
       "      <th>match_date</th>\n",
       "      <th>match_time</th>\n",
       "      <th>stadium_id</th>\n",
       "      <th>stadium_name</th>\n",
       "      <th>city_name</th>\n",
       "      <th>country_name</th>\n",
       "      <th>home_team_id</th>\n",
       "      <th>home_team_name</th>\n",
       "      <th>home_team_code</th>\n",
       "      <th>away_team_id</th>\n",
       "      <th>away_team_name</th>\n",
       "      <th>away_team_code</th>\n",
       "      <th>score</th>\n",
       "      <th>home_team_score</th>\n",
       "      <th>away_team_score</th>\n",
       "      <th>home_team_score_margin</th>\n",
       "      <th>away_team_score_margin</th>\n",
       "      <th>extra_time</th>\n",
       "      <th>penalty_shootout</th>\n",
       "      <th>score_penalties</th>\n",
       "      <th>home_team_score_penalties</th>\n",
       "      <th>away_team_score_penalties</th>\n",
       "      <th>result</th>\n",
       "      <th>home_team_win</th>\n",
       "      <th>away_team_win</th>\n",
       "      <th>draw</th>\n",
       "      <th>Attendance</th>\n",
       "      <th>stadium_capacity</th>\n",
       "      <th>total_goals_in_match</th>\n",
       "      <th>match_for_host</th>\n",
       "      <th>used_capacity_ratio</th>\n",
       "      <th>attendance_category</th>\n",
       "      <th>relative_attendance_category</th>\n",
       "      <th>host_country_code</th>\n",
       "    </tr>\n",
       "  </thead>\n",
       "  <tbody>\n",
       "    <tr>\n",
       "      <th>959</th>\n",
       "      <td>921</td>\n",
       "      <td>WC-2022</td>\n",
       "      <td>2022 FIFA World Cup</td>\n",
       "      <td>M-2022-21</td>\n",
       "      <td>Tunisia v Australia</td>\n",
       "      <td>group stage</td>\n",
       "      <td>Group D</td>\n",
       "      <td>1</td>\n",
       "      <td>0</td>\n",
       "      <td>0</td>\n",
       "      <td>0</td>\n",
       "      <td>2022-11-26</td>\n",
       "      <td>13:00</td>\n",
       "      <td>S-111</td>\n",
       "      <td>Al Janoub Stadium</td>\n",
       "      <td>Al Wakrah</td>\n",
       "      <td>Qatar</td>\n",
       "      <td>T-76</td>\n",
       "      <td>Tunisia</td>\n",
       "      <td>TUN</td>\n",
       "      <td>T-04</td>\n",
       "      <td>Australia</td>\n",
       "      <td>AUS</td>\n",
       "      <td>0–1</td>\n",
       "      <td>0</td>\n",
       "      <td>1</td>\n",
       "      <td>-1</td>\n",
       "      <td>1</td>\n",
       "      <td>0</td>\n",
       "      <td>0</td>\n",
       "      <td>0-0</td>\n",
       "      <td>0</td>\n",
       "      <td>0</td>\n",
       "      <td>away team win</td>\n",
       "      <td>0</td>\n",
       "      <td>1</td>\n",
       "      <td>0</td>\n",
       "      <td>41823</td>\n",
       "      <td>44000</td>\n",
       "      <td>1</td>\n",
       "      <td>0</td>\n",
       "      <td>0.950523</td>\n",
       "      <td>medium</td>\n",
       "      <td>medium</td>\n",
       "      <td>QAT</td>\n",
       "    </tr>\n",
       "    <tr>\n",
       "      <th>960</th>\n",
       "      <td>929</td>\n",
       "      <td>WC-2022</td>\n",
       "      <td>2022 FIFA World Cup</td>\n",
       "      <td>M-2022-29</td>\n",
       "      <td>Cameroon v Serbia</td>\n",
       "      <td>group stage</td>\n",
       "      <td>Group G</td>\n",
       "      <td>1</td>\n",
       "      <td>0</td>\n",
       "      <td>0</td>\n",
       "      <td>0</td>\n",
       "      <td>2022-11-28</td>\n",
       "      <td>13:00</td>\n",
       "      <td>S-111</td>\n",
       "      <td>Al Janoub Stadium</td>\n",
       "      <td>Al Wakrah</td>\n",
       "      <td>Qatar</td>\n",
       "      <td>T-11</td>\n",
       "      <td>Cameroon</td>\n",
       "      <td>CMR</td>\n",
       "      <td>T-64</td>\n",
       "      <td>Serbia</td>\n",
       "      <td>SRB</td>\n",
       "      <td>3–3</td>\n",
       "      <td>3</td>\n",
       "      <td>3</td>\n",
       "      <td>0</td>\n",
       "      <td>0</td>\n",
       "      <td>0</td>\n",
       "      <td>0</td>\n",
       "      <td>0-0</td>\n",
       "      <td>0</td>\n",
       "      <td>0</td>\n",
       "      <td>draw</td>\n",
       "      <td>0</td>\n",
       "      <td>0</td>\n",
       "      <td>1</td>\n",
       "      <td>39789</td>\n",
       "      <td>44000</td>\n",
       "      <td>6</td>\n",
       "      <td>0</td>\n",
       "      <td>0.904295</td>\n",
       "      <td>medium</td>\n",
       "      <td>medium</td>\n",
       "      <td>QAT</td>\n",
       "    </tr>\n",
       "    <tr>\n",
       "      <th>961</th>\n",
       "      <td>937</td>\n",
       "      <td>WC-2022</td>\n",
       "      <td>2022 FIFA World Cup</td>\n",
       "      <td>M-2022-37</td>\n",
       "      <td>Australia v Denmark</td>\n",
       "      <td>group stage</td>\n",
       "      <td>Group D</td>\n",
       "      <td>1</td>\n",
       "      <td>0</td>\n",
       "      <td>0</td>\n",
       "      <td>0</td>\n",
       "      <td>2022-11-30</td>\n",
       "      <td>18:00</td>\n",
       "      <td>S-111</td>\n",
       "      <td>Al Janoub Stadium</td>\n",
       "      <td>Al Wakrah</td>\n",
       "      <td>Qatar</td>\n",
       "      <td>T-04</td>\n",
       "      <td>Australia</td>\n",
       "      <td>AUS</td>\n",
       "      <td>T-21</td>\n",
       "      <td>Denmark</td>\n",
       "      <td>DNK</td>\n",
       "      <td>1–0</td>\n",
       "      <td>1</td>\n",
       "      <td>0</td>\n",
       "      <td>1</td>\n",
       "      <td>-1</td>\n",
       "      <td>0</td>\n",
       "      <td>0</td>\n",
       "      <td>0-0</td>\n",
       "      <td>0</td>\n",
       "      <td>0</td>\n",
       "      <td>home team win</td>\n",
       "      <td>1</td>\n",
       "      <td>0</td>\n",
       "      <td>0</td>\n",
       "      <td>41232</td>\n",
       "      <td>44000</td>\n",
       "      <td>1</td>\n",
       "      <td>0</td>\n",
       "      <td>0.937091</td>\n",
       "      <td>medium</td>\n",
       "      <td>medium</td>\n",
       "      <td>QAT</td>\n",
       "    </tr>\n",
       "    <tr>\n",
       "      <th>962</th>\n",
       "      <td>945</td>\n",
       "      <td>WC-2022</td>\n",
       "      <td>2022 FIFA World Cup</td>\n",
       "      <td>M-2022-45</td>\n",
       "      <td>Ghana v Uruguay</td>\n",
       "      <td>group stage</td>\n",
       "      <td>Group H</td>\n",
       "      <td>1</td>\n",
       "      <td>0</td>\n",
       "      <td>0</td>\n",
       "      <td>0</td>\n",
       "      <td>2022-12-02</td>\n",
       "      <td>18:00</td>\n",
       "      <td>S-111</td>\n",
       "      <td>Al Janoub Stadium</td>\n",
       "      <td>Al Wakrah</td>\n",
       "      <td>Qatar</td>\n",
       "      <td>T-30</td>\n",
       "      <td>Ghana</td>\n",
       "      <td>GHA</td>\n",
       "      <td>T-81</td>\n",
       "      <td>Uruguay</td>\n",
       "      <td>URY</td>\n",
       "      <td>0–2</td>\n",
       "      <td>0</td>\n",
       "      <td>2</td>\n",
       "      <td>-2</td>\n",
       "      <td>2</td>\n",
       "      <td>0</td>\n",
       "      <td>0</td>\n",
       "      <td>0-0</td>\n",
       "      <td>0</td>\n",
       "      <td>0</td>\n",
       "      <td>away team win</td>\n",
       "      <td>0</td>\n",
       "      <td>1</td>\n",
       "      <td>0</td>\n",
       "      <td>43443</td>\n",
       "      <td>44000</td>\n",
       "      <td>2</td>\n",
       "      <td>0</td>\n",
       "      <td>0.987341</td>\n",
       "      <td>medium</td>\n",
       "      <td>high</td>\n",
       "      <td>QAT</td>\n",
       "    </tr>\n",
       "    <tr>\n",
       "      <th>963</th>\n",
       "      <td>953</td>\n",
       "      <td>WC-2022</td>\n",
       "      <td>2022 FIFA World Cup</td>\n",
       "      <td>M-2022-53</td>\n",
       "      <td>Japan v Croatia</td>\n",
       "      <td>round of 16</td>\n",
       "      <td>not applicable</td>\n",
       "      <td>0</td>\n",
       "      <td>1</td>\n",
       "      <td>0</td>\n",
       "      <td>0</td>\n",
       "      <td>2022-12-05</td>\n",
       "      <td>18:00</td>\n",
       "      <td>S-111</td>\n",
       "      <td>Al Janoub Stadium</td>\n",
       "      <td>Al Wakrah</td>\n",
       "      <td>Qatar</td>\n",
       "      <td>T-42</td>\n",
       "      <td>Japan</td>\n",
       "      <td>JPN</td>\n",
       "      <td>T-17</td>\n",
       "      <td>Croatia</td>\n",
       "      <td>HRV</td>\n",
       "      <td>1–1</td>\n",
       "      <td>1</td>\n",
       "      <td>1</td>\n",
       "      <td>0</td>\n",
       "      <td>0</td>\n",
       "      <td>1</td>\n",
       "      <td>1</td>\n",
       "      <td>1–3</td>\n",
       "      <td>1</td>\n",
       "      <td>3</td>\n",
       "      <td>away team win</td>\n",
       "      <td>0</td>\n",
       "      <td>1</td>\n",
       "      <td>0</td>\n",
       "      <td>42523</td>\n",
       "      <td>44000</td>\n",
       "      <td>2</td>\n",
       "      <td>0</td>\n",
       "      <td>0.966432</td>\n",
       "      <td>medium</td>\n",
       "      <td>medium</td>\n",
       "      <td>QAT</td>\n",
       "    </tr>\n",
       "  </tbody>\n",
       "</table>\n",
       "</div>"
      ],
      "text/plain": [
       "     key_id tournament_id      tournament_name   match_id  \\\n",
       "959     921       WC-2022  2022 FIFA World Cup  M-2022-21   \n",
       "960     929       WC-2022  2022 FIFA World Cup  M-2022-29   \n",
       "961     937       WC-2022  2022 FIFA World Cup  M-2022-37   \n",
       "962     945       WC-2022  2022 FIFA World Cup  M-2022-45   \n",
       "963     953       WC-2022  2022 FIFA World Cup  M-2022-53   \n",
       "\n",
       "              match_name   stage_name      group_name  group_stage  \\\n",
       "959  Tunisia v Australia  group stage         Group D            1   \n",
       "960    Cameroon v Serbia  group stage         Group G            1   \n",
       "961  Australia v Denmark  group stage         Group D            1   \n",
       "962      Ghana v Uruguay  group stage         Group H            1   \n",
       "963      Japan v Croatia  round of 16  not applicable            0   \n",
       "\n",
       "     knockout_stage  replayed  replay  match_date match_time stadium_id  \\\n",
       "959               0         0       0  2022-11-26      13:00      S-111   \n",
       "960               0         0       0  2022-11-28      13:00      S-111   \n",
       "961               0         0       0  2022-11-30      18:00      S-111   \n",
       "962               0         0       0  2022-12-02      18:00      S-111   \n",
       "963               1         0       0  2022-12-05      18:00      S-111   \n",
       "\n",
       "          stadium_name  city_name country_name home_team_id home_team_name  \\\n",
       "959  Al Janoub Stadium  Al Wakrah        Qatar         T-76        Tunisia   \n",
       "960  Al Janoub Stadium  Al Wakrah        Qatar         T-11       Cameroon   \n",
       "961  Al Janoub Stadium  Al Wakrah        Qatar         T-04      Australia   \n",
       "962  Al Janoub Stadium  Al Wakrah        Qatar         T-30          Ghana   \n",
       "963  Al Janoub Stadium  Al Wakrah        Qatar         T-42          Japan   \n",
       "\n",
       "    home_team_code away_team_id away_team_name away_team_code score  \\\n",
       "959            TUN         T-04      Australia            AUS   0–1   \n",
       "960            CMR         T-64         Serbia            SRB   3–3   \n",
       "961            AUS         T-21        Denmark            DNK   1–0   \n",
       "962            GHA         T-81        Uruguay            URY   0–2   \n",
       "963            JPN         T-17        Croatia            HRV   1–1   \n",
       "\n",
       "     home_team_score  away_team_score  home_team_score_margin  \\\n",
       "959                0                1                      -1   \n",
       "960                3                3                       0   \n",
       "961                1                0                       1   \n",
       "962                0                2                      -2   \n",
       "963                1                1                       0   \n",
       "\n",
       "     away_team_score_margin  extra_time  penalty_shootout score_penalties  \\\n",
       "959                       1           0                 0             0-0   \n",
       "960                       0           0                 0             0-0   \n",
       "961                      -1           0                 0             0-0   \n",
       "962                       2           0                 0             0-0   \n",
       "963                       0           1                 1             1–3   \n",
       "\n",
       "     home_team_score_penalties  away_team_score_penalties         result  \\\n",
       "959                          0                          0  away team win   \n",
       "960                          0                          0           draw   \n",
       "961                          0                          0  home team win   \n",
       "962                          0                          0  away team win   \n",
       "963                          1                          3  away team win   \n",
       "\n",
       "     home_team_win  away_team_win  draw  Attendance  stadium_capacity  \\\n",
       "959              0              1     0       41823             44000   \n",
       "960              0              0     1       39789             44000   \n",
       "961              1              0     0       41232             44000   \n",
       "962              0              1     0       43443             44000   \n",
       "963              0              1     0       42523             44000   \n",
       "\n",
       "     total_goals_in_match  match_for_host  used_capacity_ratio  \\\n",
       "959                     1               0             0.950523   \n",
       "960                     6               0             0.904295   \n",
       "961                     1               0             0.937091   \n",
       "962                     2               0             0.987341   \n",
       "963                     2               0             0.966432   \n",
       "\n",
       "    attendance_category relative_attendance_category host_country_code  \n",
       "959              medium                       medium               QAT  \n",
       "960              medium                       medium               QAT  \n",
       "961              medium                       medium               QAT  \n",
       "962              medium                         high               QAT  \n",
       "963              medium                       medium               QAT  "
      ]
     },
     "execution_count": 57,
     "metadata": {},
     "output_type": "execute_result"
    }
   ],
   "source": [
    "final_match_df['host_country_code'] = final_match_df['country_name'].map(teams_df_dict)\n",
    "final_match_df.tail()"
   ]
  },
  {
   "cell_type": "code",
   "execution_count": 58,
   "metadata": {},
   "outputs": [
    {
     "data": {
      "text/html": [
       "<div>\n",
       "<style scoped>\n",
       "    .dataframe tbody tr th:only-of-type {\n",
       "        vertical-align: middle;\n",
       "    }\n",
       "\n",
       "    .dataframe tbody tr th {\n",
       "        vertical-align: top;\n",
       "    }\n",
       "\n",
       "    .dataframe thead th {\n",
       "        text-align: right;\n",
       "    }\n",
       "</style>\n",
       "<table border=\"1\" class=\"dataframe\">\n",
       "  <thead>\n",
       "    <tr style=\"text-align: right;\">\n",
       "      <th></th>\n",
       "      <th>key_id</th>\n",
       "      <th>tournament_id</th>\n",
       "      <th>tournament_name</th>\n",
       "      <th>match_id</th>\n",
       "      <th>match_name</th>\n",
       "      <th>stage_name</th>\n",
       "      <th>group_name</th>\n",
       "      <th>group_stage</th>\n",
       "      <th>knockout_stage</th>\n",
       "      <th>replayed</th>\n",
       "      <th>replay</th>\n",
       "      <th>match_date</th>\n",
       "      <th>match_time</th>\n",
       "      <th>stadium_id</th>\n",
       "      <th>stadium_name</th>\n",
       "      <th>city_name</th>\n",
       "      <th>country_name</th>\n",
       "      <th>home_team_id</th>\n",
       "      <th>home_team_name</th>\n",
       "      <th>home_team_code</th>\n",
       "      <th>away_team_id</th>\n",
       "      <th>away_team_name</th>\n",
       "      <th>away_team_code</th>\n",
       "      <th>score</th>\n",
       "      <th>home_team_score</th>\n",
       "      <th>away_team_score</th>\n",
       "      <th>home_team_score_margin</th>\n",
       "      <th>away_team_score_margin</th>\n",
       "      <th>extra_time</th>\n",
       "      <th>penalty_shootout</th>\n",
       "      <th>score_penalties</th>\n",
       "      <th>home_team_score_penalties</th>\n",
       "      <th>away_team_score_penalties</th>\n",
       "      <th>result</th>\n",
       "      <th>home_team_win</th>\n",
       "      <th>away_team_win</th>\n",
       "      <th>draw</th>\n",
       "      <th>Attendance</th>\n",
       "      <th>stadium_capacity</th>\n",
       "      <th>total_goals_in_match</th>\n",
       "      <th>match_for_host</th>\n",
       "      <th>used_capacity_ratio</th>\n",
       "      <th>attendance_category</th>\n",
       "      <th>relative_attendance_category</th>\n",
       "      <th>host_country_code</th>\n",
       "    </tr>\n",
       "  </thead>\n",
       "  <tbody>\n",
       "  </tbody>\n",
       "</table>\n",
       "</div>"
      ],
      "text/plain": [
       "Empty DataFrame\n",
       "Columns: [key_id, tournament_id, tournament_name, match_id, match_name, stage_name, group_name, group_stage, knockout_stage, replayed, replay, match_date, match_time, stadium_id, stadium_name, city_name, country_name, home_team_id, home_team_name, home_team_code, away_team_id, away_team_name, away_team_code, score, home_team_score, away_team_score, home_team_score_margin, away_team_score_margin, extra_time, penalty_shootout, score_penalties, home_team_score_penalties, away_team_score_penalties, result, home_team_win, away_team_win, draw, Attendance, stadium_capacity, total_goals_in_match, match_for_host, used_capacity_ratio, attendance_category, relative_attendance_category, host_country_code]\n",
       "Index: []"
      ]
     },
     "execution_count": 58,
     "metadata": {},
     "output_type": "execute_result"
    }
   ],
   "source": [
    "final_match_df[final_match_df.isna().any(axis=1)]"
   ]
  },
  {
   "attachments": {},
   "cell_type": "markdown",
   "metadata": {},
   "source": [
    "### f.Create tournament_year column:"
   ]
  },
  {
   "cell_type": "code",
   "execution_count": 59,
   "metadata": {},
   "outputs": [
    {
     "data": {
      "text/html": [
       "<div>\n",
       "<style scoped>\n",
       "    .dataframe tbody tr th:only-of-type {\n",
       "        vertical-align: middle;\n",
       "    }\n",
       "\n",
       "    .dataframe tbody tr th {\n",
       "        vertical-align: top;\n",
       "    }\n",
       "\n",
       "    .dataframe thead th {\n",
       "        text-align: right;\n",
       "    }\n",
       "</style>\n",
       "<table border=\"1\" class=\"dataframe\">\n",
       "  <thead>\n",
       "    <tr style=\"text-align: right;\">\n",
       "      <th></th>\n",
       "      <th>key_id</th>\n",
       "      <th>tournament_id</th>\n",
       "      <th>tournament_name</th>\n",
       "      <th>match_id</th>\n",
       "      <th>match_name</th>\n",
       "      <th>stage_name</th>\n",
       "      <th>group_name</th>\n",
       "      <th>group_stage</th>\n",
       "      <th>knockout_stage</th>\n",
       "      <th>replayed</th>\n",
       "      <th>replay</th>\n",
       "      <th>match_date</th>\n",
       "      <th>match_time</th>\n",
       "      <th>stadium_id</th>\n",
       "      <th>stadium_name</th>\n",
       "      <th>city_name</th>\n",
       "      <th>country_name</th>\n",
       "      <th>home_team_id</th>\n",
       "      <th>home_team_name</th>\n",
       "      <th>home_team_code</th>\n",
       "      <th>away_team_id</th>\n",
       "      <th>away_team_name</th>\n",
       "      <th>away_team_code</th>\n",
       "      <th>score</th>\n",
       "      <th>home_team_score</th>\n",
       "      <th>away_team_score</th>\n",
       "      <th>home_team_score_margin</th>\n",
       "      <th>away_team_score_margin</th>\n",
       "      <th>extra_time</th>\n",
       "      <th>penalty_shootout</th>\n",
       "      <th>score_penalties</th>\n",
       "      <th>home_team_score_penalties</th>\n",
       "      <th>away_team_score_penalties</th>\n",
       "      <th>result</th>\n",
       "      <th>home_team_win</th>\n",
       "      <th>away_team_win</th>\n",
       "      <th>draw</th>\n",
       "      <th>Attendance</th>\n",
       "      <th>stadium_capacity</th>\n",
       "      <th>total_goals_in_match</th>\n",
       "      <th>match_for_host</th>\n",
       "      <th>used_capacity_ratio</th>\n",
       "      <th>attendance_category</th>\n",
       "      <th>relative_attendance_category</th>\n",
       "      <th>host_country_code</th>\n",
       "      <th>tournament_year</th>\n",
       "    </tr>\n",
       "  </thead>\n",
       "  <tbody>\n",
       "    <tr>\n",
       "      <th>0</th>\n",
       "      <td>1</td>\n",
       "      <td>WC-1930</td>\n",
       "      <td>1930 FIFA World Cup</td>\n",
       "      <td>M-1930-01</td>\n",
       "      <td>France v Mexico</td>\n",
       "      <td>group stage</td>\n",
       "      <td>Group 1</td>\n",
       "      <td>1</td>\n",
       "      <td>0</td>\n",
       "      <td>0</td>\n",
       "      <td>0</td>\n",
       "      <td>1930-07-13</td>\n",
       "      <td>15:00</td>\n",
       "      <td>S-193</td>\n",
       "      <td>Estadio Pocitos</td>\n",
       "      <td>Montevideo</td>\n",
       "      <td>Uruguay</td>\n",
       "      <td>T-28</td>\n",
       "      <td>France</td>\n",
       "      <td>FRA</td>\n",
       "      <td>T-44</td>\n",
       "      <td>Mexico</td>\n",
       "      <td>MEX</td>\n",
       "      <td>4–1</td>\n",
       "      <td>4</td>\n",
       "      <td>1</td>\n",
       "      <td>3</td>\n",
       "      <td>-3</td>\n",
       "      <td>0</td>\n",
       "      <td>0</td>\n",
       "      <td>0-0</td>\n",
       "      <td>0</td>\n",
       "      <td>0</td>\n",
       "      <td>home team win</td>\n",
       "      <td>1</td>\n",
       "      <td>0</td>\n",
       "      <td>0</td>\n",
       "      <td>4444</td>\n",
       "      <td>10000</td>\n",
       "      <td>5</td>\n",
       "      <td>0</td>\n",
       "      <td>0.44440</td>\n",
       "      <td>low</td>\n",
       "      <td>low</td>\n",
       "      <td>URY</td>\n",
       "      <td>1930</td>\n",
       "    </tr>\n",
       "    <tr>\n",
       "      <th>1</th>\n",
       "      <td>4</td>\n",
       "      <td>WC-1930</td>\n",
       "      <td>1930 FIFA World Cup</td>\n",
       "      <td>M-1930-04</td>\n",
       "      <td>Romania v Peru</td>\n",
       "      <td>group stage</td>\n",
       "      <td>Group 3</td>\n",
       "      <td>1</td>\n",
       "      <td>0</td>\n",
       "      <td>0</td>\n",
       "      <td>0</td>\n",
       "      <td>1930-07-14</td>\n",
       "      <td>14:50</td>\n",
       "      <td>S-193</td>\n",
       "      <td>Estadio Pocitos</td>\n",
       "      <td>Montevideo</td>\n",
       "      <td>Uruguay</td>\n",
       "      <td>T-59</td>\n",
       "      <td>Romania</td>\n",
       "      <td>ROU</td>\n",
       "      <td>T-54</td>\n",
       "      <td>Peru</td>\n",
       "      <td>PER</td>\n",
       "      <td>3–1</td>\n",
       "      <td>3</td>\n",
       "      <td>1</td>\n",
       "      <td>2</td>\n",
       "      <td>-2</td>\n",
       "      <td>0</td>\n",
       "      <td>0</td>\n",
       "      <td>0-0</td>\n",
       "      <td>0</td>\n",
       "      <td>0</td>\n",
       "      <td>home team win</td>\n",
       "      <td>1</td>\n",
       "      <td>0</td>\n",
       "      <td>0</td>\n",
       "      <td>2549</td>\n",
       "      <td>10000</td>\n",
       "      <td>4</td>\n",
       "      <td>0</td>\n",
       "      <td>0.25490</td>\n",
       "      <td>low</td>\n",
       "      <td>low</td>\n",
       "      <td>URY</td>\n",
       "      <td>1930</td>\n",
       "    </tr>\n",
       "    <tr>\n",
       "      <th>2</th>\n",
       "      <td>2</td>\n",
       "      <td>WC-1930</td>\n",
       "      <td>1930 FIFA World Cup</td>\n",
       "      <td>M-1930-02</td>\n",
       "      <td>United States v Belgium</td>\n",
       "      <td>group stage</td>\n",
       "      <td>Group 4</td>\n",
       "      <td>1</td>\n",
       "      <td>0</td>\n",
       "      <td>0</td>\n",
       "      <td>0</td>\n",
       "      <td>1930-07-13</td>\n",
       "      <td>15:00</td>\n",
       "      <td>S-192</td>\n",
       "      <td>Estadio Gran Parque Central</td>\n",
       "      <td>Montevideo</td>\n",
       "      <td>Uruguay</td>\n",
       "      <td>T-80</td>\n",
       "      <td>United States</td>\n",
       "      <td>USA</td>\n",
       "      <td>T-06</td>\n",
       "      <td>Belgium</td>\n",
       "      <td>BEL</td>\n",
       "      <td>3–0</td>\n",
       "      <td>3</td>\n",
       "      <td>0</td>\n",
       "      <td>3</td>\n",
       "      <td>-3</td>\n",
       "      <td>0</td>\n",
       "      <td>0</td>\n",
       "      <td>0-0</td>\n",
       "      <td>0</td>\n",
       "      <td>0</td>\n",
       "      <td>home team win</td>\n",
       "      <td>1</td>\n",
       "      <td>0</td>\n",
       "      <td>0</td>\n",
       "      <td>18346</td>\n",
       "      <td>20000</td>\n",
       "      <td>3</td>\n",
       "      <td>0</td>\n",
       "      <td>0.91730</td>\n",
       "      <td>low</td>\n",
       "      <td>medium</td>\n",
       "      <td>URY</td>\n",
       "      <td>1930</td>\n",
       "    </tr>\n",
       "    <tr>\n",
       "      <th>3</th>\n",
       "      <td>3</td>\n",
       "      <td>WC-1930</td>\n",
       "      <td>1930 FIFA World Cup</td>\n",
       "      <td>M-1930-03</td>\n",
       "      <td>Yugoslavia v Brazil</td>\n",
       "      <td>group stage</td>\n",
       "      <td>Group 2</td>\n",
       "      <td>1</td>\n",
       "      <td>0</td>\n",
       "      <td>0</td>\n",
       "      <td>0</td>\n",
       "      <td>1930-07-14</td>\n",
       "      <td>12:45</td>\n",
       "      <td>S-192</td>\n",
       "      <td>Estadio Gran Parque Central</td>\n",
       "      <td>Montevideo</td>\n",
       "      <td>Uruguay</td>\n",
       "      <td>T-84</td>\n",
       "      <td>Yugoslavia</td>\n",
       "      <td>YUG</td>\n",
       "      <td>T-09</td>\n",
       "      <td>Brazil</td>\n",
       "      <td>BRA</td>\n",
       "      <td>2–1</td>\n",
       "      <td>2</td>\n",
       "      <td>1</td>\n",
       "      <td>1</td>\n",
       "      <td>-1</td>\n",
       "      <td>0</td>\n",
       "      <td>0</td>\n",
       "      <td>0-0</td>\n",
       "      <td>0</td>\n",
       "      <td>0</td>\n",
       "      <td>home team win</td>\n",
       "      <td>1</td>\n",
       "      <td>0</td>\n",
       "      <td>0</td>\n",
       "      <td>24059</td>\n",
       "      <td>20000</td>\n",
       "      <td>3</td>\n",
       "      <td>0</td>\n",
       "      <td>1.20295</td>\n",
       "      <td>low</td>\n",
       "      <td>high</td>\n",
       "      <td>URY</td>\n",
       "      <td>1930</td>\n",
       "    </tr>\n",
       "    <tr>\n",
       "      <th>4</th>\n",
       "      <td>5</td>\n",
       "      <td>WC-1930</td>\n",
       "      <td>1930 FIFA World Cup</td>\n",
       "      <td>M-1930-05</td>\n",
       "      <td>Argentina v France</td>\n",
       "      <td>group stage</td>\n",
       "      <td>Group 1</td>\n",
       "      <td>1</td>\n",
       "      <td>0</td>\n",
       "      <td>0</td>\n",
       "      <td>0</td>\n",
       "      <td>1930-07-15</td>\n",
       "      <td>16:00</td>\n",
       "      <td>S-192</td>\n",
       "      <td>Estadio Gran Parque Central</td>\n",
       "      <td>Montevideo</td>\n",
       "      <td>Uruguay</td>\n",
       "      <td>T-03</td>\n",
       "      <td>Argentina</td>\n",
       "      <td>ARG</td>\n",
       "      <td>T-28</td>\n",
       "      <td>France</td>\n",
       "      <td>FRA</td>\n",
       "      <td>1–0</td>\n",
       "      <td>1</td>\n",
       "      <td>0</td>\n",
       "      <td>1</td>\n",
       "      <td>-1</td>\n",
       "      <td>0</td>\n",
       "      <td>0</td>\n",
       "      <td>0-0</td>\n",
       "      <td>0</td>\n",
       "      <td>0</td>\n",
       "      <td>home team win</td>\n",
       "      <td>1</td>\n",
       "      <td>0</td>\n",
       "      <td>0</td>\n",
       "      <td>23409</td>\n",
       "      <td>20000</td>\n",
       "      <td>1</td>\n",
       "      <td>0</td>\n",
       "      <td>1.17045</td>\n",
       "      <td>low</td>\n",
       "      <td>high</td>\n",
       "      <td>URY</td>\n",
       "      <td>1930</td>\n",
       "    </tr>\n",
       "  </tbody>\n",
       "</table>\n",
       "</div>"
      ],
      "text/plain": [
       "   key_id tournament_id      tournament_name   match_id  \\\n",
       "0       1       WC-1930  1930 FIFA World Cup  M-1930-01   \n",
       "1       4       WC-1930  1930 FIFA World Cup  M-1930-04   \n",
       "2       2       WC-1930  1930 FIFA World Cup  M-1930-02   \n",
       "3       3       WC-1930  1930 FIFA World Cup  M-1930-03   \n",
       "4       5       WC-1930  1930 FIFA World Cup  M-1930-05   \n",
       "\n",
       "                match_name   stage_name group_name  group_stage  \\\n",
       "0          France v Mexico  group stage    Group 1            1   \n",
       "1           Romania v Peru  group stage    Group 3            1   \n",
       "2  United States v Belgium  group stage    Group 4            1   \n",
       "3      Yugoslavia v Brazil  group stage    Group 2            1   \n",
       "4       Argentina v France  group stage    Group 1            1   \n",
       "\n",
       "   knockout_stage  replayed  replay  match_date match_time stadium_id  \\\n",
       "0               0         0       0  1930-07-13      15:00      S-193   \n",
       "1               0         0       0  1930-07-14      14:50      S-193   \n",
       "2               0         0       0  1930-07-13      15:00      S-192   \n",
       "3               0         0       0  1930-07-14      12:45      S-192   \n",
       "4               0         0       0  1930-07-15      16:00      S-192   \n",
       "\n",
       "                  stadium_name   city_name country_name home_team_id  \\\n",
       "0              Estadio Pocitos  Montevideo      Uruguay         T-28   \n",
       "1              Estadio Pocitos  Montevideo      Uruguay         T-59   \n",
       "2  Estadio Gran Parque Central  Montevideo      Uruguay         T-80   \n",
       "3  Estadio Gran Parque Central  Montevideo      Uruguay         T-84   \n",
       "4  Estadio Gran Parque Central  Montevideo      Uruguay         T-03   \n",
       "\n",
       "  home_team_name home_team_code away_team_id away_team_name away_team_code  \\\n",
       "0         France            FRA         T-44         Mexico            MEX   \n",
       "1        Romania            ROU         T-54           Peru            PER   \n",
       "2  United States            USA         T-06        Belgium            BEL   \n",
       "3     Yugoslavia            YUG         T-09         Brazil            BRA   \n",
       "4      Argentina            ARG         T-28         France            FRA   \n",
       "\n",
       "  score  home_team_score  away_team_score  home_team_score_margin  \\\n",
       "0   4–1                4                1                       3   \n",
       "1   3–1                3                1                       2   \n",
       "2   3–0                3                0                       3   \n",
       "3   2–1                2                1                       1   \n",
       "4   1–0                1                0                       1   \n",
       "\n",
       "   away_team_score_margin  extra_time  penalty_shootout score_penalties  \\\n",
       "0                      -3           0                 0             0-0   \n",
       "1                      -2           0                 0             0-0   \n",
       "2                      -3           0                 0             0-0   \n",
       "3                      -1           0                 0             0-0   \n",
       "4                      -1           0                 0             0-0   \n",
       "\n",
       "   home_team_score_penalties  away_team_score_penalties         result  \\\n",
       "0                          0                          0  home team win   \n",
       "1                          0                          0  home team win   \n",
       "2                          0                          0  home team win   \n",
       "3                          0                          0  home team win   \n",
       "4                          0                          0  home team win   \n",
       "\n",
       "   home_team_win  away_team_win  draw  Attendance  stadium_capacity  \\\n",
       "0              1              0     0        4444             10000   \n",
       "1              1              0     0        2549             10000   \n",
       "2              1              0     0       18346             20000   \n",
       "3              1              0     0       24059             20000   \n",
       "4              1              0     0       23409             20000   \n",
       "\n",
       "   total_goals_in_match  match_for_host  used_capacity_ratio  \\\n",
       "0                     5               0              0.44440   \n",
       "1                     4               0              0.25490   \n",
       "2                     3               0              0.91730   \n",
       "3                     3               0              1.20295   \n",
       "4                     1               0              1.17045   \n",
       "\n",
       "  attendance_category relative_attendance_category host_country_code  \\\n",
       "0                 low                          low               URY   \n",
       "1                 low                          low               URY   \n",
       "2                 low                       medium               URY   \n",
       "3                 low                         high               URY   \n",
       "4                 low                         high               URY   \n",
       "\n",
       "   tournament_year  \n",
       "0             1930  \n",
       "1             1930  \n",
       "2             1930  \n",
       "3             1930  \n",
       "4             1930  "
      ]
     },
     "execution_count": 59,
     "metadata": {},
     "output_type": "execute_result"
    }
   ],
   "source": [
    "final_match_df['tournament_year'] = final_match_df['tournament_name'].apply(lambda str: int(str.split()[0]))\n",
    "final_match_df.head()"
   ]
  },
  {
   "attachments": {},
   "cell_type": "markdown",
   "metadata": {},
   "source": [
    "### g.Create full_name column:"
   ]
  },
  {
   "attachments": {},
   "cell_type": "markdown",
   "metadata": {},
   "source": [
    "* In Fjelstul database we have some given_name column marked as <strong>'not applicable'</strong> because Some players (and managers) are commonly known by a single name (e.g., Pelé, Ronaldinho, etc.). For these players, the `family_name` variable records the name they are commonly known by and the `given_name` variable is coded `not applicable` and this was mentioned in `README.md` file in in `Data notes` part in that file"
   ]
  },
  {
   "attachments": {},
   "cell_type": "markdown",
   "metadata": {},
   "source": [
    "We will calculate the number of `not applicable` values in `given_name` column:"
   ]
  },
  {
   "cell_type": "code",
   "execution_count": 60,
   "metadata": {},
   "outputs": [
    {
     "data": {
      "text/plain": [
       "385"
      ]
     },
     "execution_count": 60,
     "metadata": {},
     "output_type": "execute_result"
    }
   ],
   "source": [
    "(final_player_df['given_name'] == 'not applicable').sum()"
   ]
  },
  {
   "attachments": {},
   "cell_type": "markdown",
   "metadata": {},
   "source": [
    "We will check if we have any of these values in `family_name` column:"
   ]
  },
  {
   "cell_type": "code",
   "execution_count": 61,
   "metadata": {},
   "outputs": [
    {
     "data": {
      "text/plain": [
       "0"
      ]
     },
     "execution_count": 61,
     "metadata": {},
     "output_type": "execute_result"
    }
   ],
   "source": [
    "(final_player_df['family_name'] == 'not applicable').sum()"
   ]
  },
  {
   "attachments": {},
   "cell_type": "markdown",
   "metadata": {},
   "source": [
    "* To create `full_name` column we will concatinate `given_name` with `family_name` and if we have `not applicable` values in `given_name` we don't use `given_name` value"
   ]
  },
  {
   "attachments": {},
   "cell_type": "markdown",
   "metadata": {},
   "source": [
    "we will create a copy of player names:"
   ]
  },
  {
   "cell_type": "code",
   "execution_count": 62,
   "metadata": {},
   "outputs": [
    {
     "data": {
      "text/html": [
       "<div>\n",
       "<style scoped>\n",
       "    .dataframe tbody tr th:only-of-type {\n",
       "        vertical-align: middle;\n",
       "    }\n",
       "\n",
       "    .dataframe tbody tr th {\n",
       "        vertical-align: top;\n",
       "    }\n",
       "\n",
       "    .dataframe thead th {\n",
       "        text-align: right;\n",
       "    }\n",
       "</style>\n",
       "<table border=\"1\" class=\"dataframe\">\n",
       "  <thead>\n",
       "    <tr style=\"text-align: right;\">\n",
       "      <th></th>\n",
       "      <th>given_name</th>\n",
       "      <th>family_name</th>\n",
       "    </tr>\n",
       "  </thead>\n",
       "  <tbody>\n",
       "    <tr>\n",
       "      <th>0</th>\n",
       "      <td>Alan</td>\n",
       "      <td>A'Court</td>\n",
       "    </tr>\n",
       "    <tr>\n",
       "      <th>1</th>\n",
       "      <td>Brenden</td>\n",
       "      <td>Aaronson</td>\n",
       "    </tr>\n",
       "    <tr>\n",
       "      <th>2</th>\n",
       "      <td>Stefan</td>\n",
       "      <td>Abadzhiev</td>\n",
       "    </tr>\n",
       "    <tr>\n",
       "      <th>3</th>\n",
       "      <td>Jean-Paul</td>\n",
       "      <td>Abalo</td>\n",
       "    </tr>\n",
       "    <tr>\n",
       "      <th>4</th>\n",
       "      <td>Patrice</td>\n",
       "      <td>Abanda</td>\n",
       "    </tr>\n",
       "  </tbody>\n",
       "</table>\n",
       "</div>"
      ],
      "text/plain": [
       "  given_name family_name\n",
       "0       Alan     A'Court\n",
       "1    Brenden    Aaronson\n",
       "2     Stefan   Abadzhiev\n",
       "3  Jean-Paul       Abalo\n",
       "4    Patrice      Abanda"
      ]
     },
     "execution_count": 62,
     "metadata": {},
     "output_type": "execute_result"
    }
   ],
   "source": [
    "players_names_df = final_player_df.copy()[['given_name','family_name']]\n",
    "players_names_df.head()"
   ]
  },
  {
   "attachments": {},
   "cell_type": "markdown",
   "metadata": {},
   "source": [
    "Then we will convert `not applicable` in `given_name` to empty string: "
   ]
  },
  {
   "cell_type": "code",
   "execution_count": 63,
   "metadata": {},
   "outputs": [
    {
     "data": {
      "text/plain": [
       "0"
      ]
     },
     "execution_count": 63,
     "metadata": {},
     "output_type": "execute_result"
    }
   ],
   "source": [
    "players_names_df['given_name']=players_names_df['given_name'].apply(lambda name: \"\" if name=='not applicable' else name)\n",
    "(players_names_df['given_name'] == 'not applicable').sum()"
   ]
  },
  {
   "cell_type": "code",
   "execution_count": 64,
   "metadata": {},
   "outputs": [
    {
     "data": {
      "text/plain": [
       "385"
      ]
     },
     "execution_count": 64,
     "metadata": {},
     "output_type": "execute_result"
    }
   ],
   "source": [
    "(players_names_df['given_name'] == \"\").sum()"
   ]
  },
  {
   "attachments": {},
   "cell_type": "markdown",
   "metadata": {},
   "source": [
    "And we will create `full_name` column and we will add it to `final_player_df` table:"
   ]
  },
  {
   "cell_type": "code",
   "execution_count": 65,
   "metadata": {},
   "outputs": [],
   "source": [
    "final_player_df['full_name'] = players_names_df['given_name'] + \" \" + final_player_df['family_name']"
   ]
  },
  {
   "cell_type": "code",
   "execution_count": 66,
   "metadata": {},
   "outputs": [
    {
     "data": {
      "text/html": [
       "<div>\n",
       "<style scoped>\n",
       "    .dataframe tbody tr th:only-of-type {\n",
       "        vertical-align: middle;\n",
       "    }\n",
       "\n",
       "    .dataframe tbody tr th {\n",
       "        vertical-align: top;\n",
       "    }\n",
       "\n",
       "    .dataframe thead th {\n",
       "        text-align: right;\n",
       "    }\n",
       "</style>\n",
       "<table border=\"1\" class=\"dataframe\">\n",
       "  <thead>\n",
       "    <tr style=\"text-align: right;\">\n",
       "      <th></th>\n",
       "      <th>family_name</th>\n",
       "      <th>given_name</th>\n",
       "      <th>full_name</th>\n",
       "    </tr>\n",
       "  </thead>\n",
       "  <tbody>\n",
       "    <tr>\n",
       "      <th>0</th>\n",
       "      <td>A'Court</td>\n",
       "      <td>Alan</td>\n",
       "      <td>Alan A'Court</td>\n",
       "    </tr>\n",
       "    <tr>\n",
       "      <th>1</th>\n",
       "      <td>Aaronson</td>\n",
       "      <td>Brenden</td>\n",
       "      <td>Brenden Aaronson</td>\n",
       "    </tr>\n",
       "    <tr>\n",
       "      <th>2</th>\n",
       "      <td>Abadzhiev</td>\n",
       "      <td>Stefan</td>\n",
       "      <td>Stefan Abadzhiev</td>\n",
       "    </tr>\n",
       "    <tr>\n",
       "      <th>3</th>\n",
       "      <td>Abalo</td>\n",
       "      <td>Jean-Paul</td>\n",
       "      <td>Jean-Paul Abalo</td>\n",
       "    </tr>\n",
       "    <tr>\n",
       "      <th>4</th>\n",
       "      <td>Abanda</td>\n",
       "      <td>Patrice</td>\n",
       "      <td>Patrice Abanda</td>\n",
       "    </tr>\n",
       "  </tbody>\n",
       "</table>\n",
       "</div>"
      ],
      "text/plain": [
       "  family_name given_name         full_name\n",
       "0     A'Court       Alan      Alan A'Court\n",
       "1    Aaronson    Brenden  Brenden Aaronson\n",
       "2   Abadzhiev     Stefan  Stefan Abadzhiev\n",
       "3       Abalo  Jean-Paul   Jean-Paul Abalo\n",
       "4      Abanda    Patrice    Patrice Abanda"
      ]
     },
     "execution_count": 66,
     "metadata": {},
     "output_type": "execute_result"
    }
   ],
   "source": [
    "final_player_df[['family_name','given_name','full_name']].head()"
   ]
  },
  {
   "attachments": {},
   "cell_type": "markdown",
   "metadata": {},
   "source": [
    "### h.Create short_stage_name column:"
   ]
  },
  {
   "attachments": {},
   "cell_type": "markdown",
   "metadata": {},
   "source": [
    "* Create short_stage_name column:"
   ]
  },
  {
   "cell_type": "code",
   "execution_count": 67,
   "metadata": {},
   "outputs": [
    {
     "data": {
      "text/html": [
       "<div>\n",
       "<style scoped>\n",
       "    .dataframe tbody tr th:only-of-type {\n",
       "        vertical-align: middle;\n",
       "    }\n",
       "\n",
       "    .dataframe tbody tr th {\n",
       "        vertical-align: top;\n",
       "    }\n",
       "\n",
       "    .dataframe thead th {\n",
       "        text-align: right;\n",
       "    }\n",
       "</style>\n",
       "<table border=\"1\" class=\"dataframe\">\n",
       "  <thead>\n",
       "    <tr style=\"text-align: right;\">\n",
       "      <th></th>\n",
       "      <th>key_id</th>\n",
       "      <th>tournament_id</th>\n",
       "      <th>tournament_name</th>\n",
       "      <th>match_id</th>\n",
       "      <th>match_name</th>\n",
       "      <th>stage_name</th>\n",
       "      <th>group_name</th>\n",
       "      <th>group_stage</th>\n",
       "      <th>knockout_stage</th>\n",
       "      <th>replayed</th>\n",
       "      <th>replay</th>\n",
       "      <th>match_date</th>\n",
       "      <th>match_time</th>\n",
       "      <th>stadium_id</th>\n",
       "      <th>stadium_name</th>\n",
       "      <th>city_name</th>\n",
       "      <th>country_name</th>\n",
       "      <th>home_team_id</th>\n",
       "      <th>home_team_name</th>\n",
       "      <th>home_team_code</th>\n",
       "      <th>away_team_id</th>\n",
       "      <th>away_team_name</th>\n",
       "      <th>away_team_code</th>\n",
       "      <th>score</th>\n",
       "      <th>home_team_score</th>\n",
       "      <th>away_team_score</th>\n",
       "      <th>home_team_score_margin</th>\n",
       "      <th>away_team_score_margin</th>\n",
       "      <th>extra_time</th>\n",
       "      <th>penalty_shootout</th>\n",
       "      <th>score_penalties</th>\n",
       "      <th>home_team_score_penalties</th>\n",
       "      <th>away_team_score_penalties</th>\n",
       "      <th>result</th>\n",
       "      <th>home_team_win</th>\n",
       "      <th>away_team_win</th>\n",
       "      <th>draw</th>\n",
       "      <th>Attendance</th>\n",
       "      <th>stadium_capacity</th>\n",
       "      <th>total_goals_in_match</th>\n",
       "      <th>match_for_host</th>\n",
       "      <th>used_capacity_ratio</th>\n",
       "      <th>attendance_category</th>\n",
       "      <th>relative_attendance_category</th>\n",
       "      <th>host_country_code</th>\n",
       "      <th>tournament_year</th>\n",
       "      <th>short_stage_name</th>\n",
       "    </tr>\n",
       "  </thead>\n",
       "  <tbody>\n",
       "    <tr>\n",
       "      <th>0</th>\n",
       "      <td>1</td>\n",
       "      <td>WC-1930</td>\n",
       "      <td>1930 FIFA World Cup</td>\n",
       "      <td>M-1930-01</td>\n",
       "      <td>France v Mexico</td>\n",
       "      <td>group stage</td>\n",
       "      <td>Group 1</td>\n",
       "      <td>1</td>\n",
       "      <td>0</td>\n",
       "      <td>0</td>\n",
       "      <td>0</td>\n",
       "      <td>1930-07-13</td>\n",
       "      <td>15:00</td>\n",
       "      <td>S-193</td>\n",
       "      <td>Estadio Pocitos</td>\n",
       "      <td>Montevideo</td>\n",
       "      <td>Uruguay</td>\n",
       "      <td>T-28</td>\n",
       "      <td>France</td>\n",
       "      <td>FRA</td>\n",
       "      <td>T-44</td>\n",
       "      <td>Mexico</td>\n",
       "      <td>MEX</td>\n",
       "      <td>4–1</td>\n",
       "      <td>4</td>\n",
       "      <td>1</td>\n",
       "      <td>3</td>\n",
       "      <td>-3</td>\n",
       "      <td>0</td>\n",
       "      <td>0</td>\n",
       "      <td>0-0</td>\n",
       "      <td>0</td>\n",
       "      <td>0</td>\n",
       "      <td>home team win</td>\n",
       "      <td>1</td>\n",
       "      <td>0</td>\n",
       "      <td>0</td>\n",
       "      <td>4444</td>\n",
       "      <td>10000</td>\n",
       "      <td>5</td>\n",
       "      <td>0</td>\n",
       "      <td>0.44440</td>\n",
       "      <td>low</td>\n",
       "      <td>low</td>\n",
       "      <td>URY</td>\n",
       "      <td>1930</td>\n",
       "      <td>group</td>\n",
       "    </tr>\n",
       "    <tr>\n",
       "      <th>1</th>\n",
       "      <td>4</td>\n",
       "      <td>WC-1930</td>\n",
       "      <td>1930 FIFA World Cup</td>\n",
       "      <td>M-1930-04</td>\n",
       "      <td>Romania v Peru</td>\n",
       "      <td>group stage</td>\n",
       "      <td>Group 3</td>\n",
       "      <td>1</td>\n",
       "      <td>0</td>\n",
       "      <td>0</td>\n",
       "      <td>0</td>\n",
       "      <td>1930-07-14</td>\n",
       "      <td>14:50</td>\n",
       "      <td>S-193</td>\n",
       "      <td>Estadio Pocitos</td>\n",
       "      <td>Montevideo</td>\n",
       "      <td>Uruguay</td>\n",
       "      <td>T-59</td>\n",
       "      <td>Romania</td>\n",
       "      <td>ROU</td>\n",
       "      <td>T-54</td>\n",
       "      <td>Peru</td>\n",
       "      <td>PER</td>\n",
       "      <td>3–1</td>\n",
       "      <td>3</td>\n",
       "      <td>1</td>\n",
       "      <td>2</td>\n",
       "      <td>-2</td>\n",
       "      <td>0</td>\n",
       "      <td>0</td>\n",
       "      <td>0-0</td>\n",
       "      <td>0</td>\n",
       "      <td>0</td>\n",
       "      <td>home team win</td>\n",
       "      <td>1</td>\n",
       "      <td>0</td>\n",
       "      <td>0</td>\n",
       "      <td>2549</td>\n",
       "      <td>10000</td>\n",
       "      <td>4</td>\n",
       "      <td>0</td>\n",
       "      <td>0.25490</td>\n",
       "      <td>low</td>\n",
       "      <td>low</td>\n",
       "      <td>URY</td>\n",
       "      <td>1930</td>\n",
       "      <td>group</td>\n",
       "    </tr>\n",
       "    <tr>\n",
       "      <th>2</th>\n",
       "      <td>2</td>\n",
       "      <td>WC-1930</td>\n",
       "      <td>1930 FIFA World Cup</td>\n",
       "      <td>M-1930-02</td>\n",
       "      <td>United States v Belgium</td>\n",
       "      <td>group stage</td>\n",
       "      <td>Group 4</td>\n",
       "      <td>1</td>\n",
       "      <td>0</td>\n",
       "      <td>0</td>\n",
       "      <td>0</td>\n",
       "      <td>1930-07-13</td>\n",
       "      <td>15:00</td>\n",
       "      <td>S-192</td>\n",
       "      <td>Estadio Gran Parque Central</td>\n",
       "      <td>Montevideo</td>\n",
       "      <td>Uruguay</td>\n",
       "      <td>T-80</td>\n",
       "      <td>United States</td>\n",
       "      <td>USA</td>\n",
       "      <td>T-06</td>\n",
       "      <td>Belgium</td>\n",
       "      <td>BEL</td>\n",
       "      <td>3–0</td>\n",
       "      <td>3</td>\n",
       "      <td>0</td>\n",
       "      <td>3</td>\n",
       "      <td>-3</td>\n",
       "      <td>0</td>\n",
       "      <td>0</td>\n",
       "      <td>0-0</td>\n",
       "      <td>0</td>\n",
       "      <td>0</td>\n",
       "      <td>home team win</td>\n",
       "      <td>1</td>\n",
       "      <td>0</td>\n",
       "      <td>0</td>\n",
       "      <td>18346</td>\n",
       "      <td>20000</td>\n",
       "      <td>3</td>\n",
       "      <td>0</td>\n",
       "      <td>0.91730</td>\n",
       "      <td>low</td>\n",
       "      <td>medium</td>\n",
       "      <td>URY</td>\n",
       "      <td>1930</td>\n",
       "      <td>group</td>\n",
       "    </tr>\n",
       "    <tr>\n",
       "      <th>3</th>\n",
       "      <td>3</td>\n",
       "      <td>WC-1930</td>\n",
       "      <td>1930 FIFA World Cup</td>\n",
       "      <td>M-1930-03</td>\n",
       "      <td>Yugoslavia v Brazil</td>\n",
       "      <td>group stage</td>\n",
       "      <td>Group 2</td>\n",
       "      <td>1</td>\n",
       "      <td>0</td>\n",
       "      <td>0</td>\n",
       "      <td>0</td>\n",
       "      <td>1930-07-14</td>\n",
       "      <td>12:45</td>\n",
       "      <td>S-192</td>\n",
       "      <td>Estadio Gran Parque Central</td>\n",
       "      <td>Montevideo</td>\n",
       "      <td>Uruguay</td>\n",
       "      <td>T-84</td>\n",
       "      <td>Yugoslavia</td>\n",
       "      <td>YUG</td>\n",
       "      <td>T-09</td>\n",
       "      <td>Brazil</td>\n",
       "      <td>BRA</td>\n",
       "      <td>2–1</td>\n",
       "      <td>2</td>\n",
       "      <td>1</td>\n",
       "      <td>1</td>\n",
       "      <td>-1</td>\n",
       "      <td>0</td>\n",
       "      <td>0</td>\n",
       "      <td>0-0</td>\n",
       "      <td>0</td>\n",
       "      <td>0</td>\n",
       "      <td>home team win</td>\n",
       "      <td>1</td>\n",
       "      <td>0</td>\n",
       "      <td>0</td>\n",
       "      <td>24059</td>\n",
       "      <td>20000</td>\n",
       "      <td>3</td>\n",
       "      <td>0</td>\n",
       "      <td>1.20295</td>\n",
       "      <td>low</td>\n",
       "      <td>high</td>\n",
       "      <td>URY</td>\n",
       "      <td>1930</td>\n",
       "      <td>group</td>\n",
       "    </tr>\n",
       "    <tr>\n",
       "      <th>4</th>\n",
       "      <td>5</td>\n",
       "      <td>WC-1930</td>\n",
       "      <td>1930 FIFA World Cup</td>\n",
       "      <td>M-1930-05</td>\n",
       "      <td>Argentina v France</td>\n",
       "      <td>group stage</td>\n",
       "      <td>Group 1</td>\n",
       "      <td>1</td>\n",
       "      <td>0</td>\n",
       "      <td>0</td>\n",
       "      <td>0</td>\n",
       "      <td>1930-07-15</td>\n",
       "      <td>16:00</td>\n",
       "      <td>S-192</td>\n",
       "      <td>Estadio Gran Parque Central</td>\n",
       "      <td>Montevideo</td>\n",
       "      <td>Uruguay</td>\n",
       "      <td>T-03</td>\n",
       "      <td>Argentina</td>\n",
       "      <td>ARG</td>\n",
       "      <td>T-28</td>\n",
       "      <td>France</td>\n",
       "      <td>FRA</td>\n",
       "      <td>1–0</td>\n",
       "      <td>1</td>\n",
       "      <td>0</td>\n",
       "      <td>1</td>\n",
       "      <td>-1</td>\n",
       "      <td>0</td>\n",
       "      <td>0</td>\n",
       "      <td>0-0</td>\n",
       "      <td>0</td>\n",
       "      <td>0</td>\n",
       "      <td>home team win</td>\n",
       "      <td>1</td>\n",
       "      <td>0</td>\n",
       "      <td>0</td>\n",
       "      <td>23409</td>\n",
       "      <td>20000</td>\n",
       "      <td>1</td>\n",
       "      <td>0</td>\n",
       "      <td>1.17045</td>\n",
       "      <td>low</td>\n",
       "      <td>high</td>\n",
       "      <td>URY</td>\n",
       "      <td>1930</td>\n",
       "      <td>group</td>\n",
       "    </tr>\n",
       "  </tbody>\n",
       "</table>\n",
       "</div>"
      ],
      "text/plain": [
       "   key_id tournament_id      tournament_name   match_id  \\\n",
       "0       1       WC-1930  1930 FIFA World Cup  M-1930-01   \n",
       "1       4       WC-1930  1930 FIFA World Cup  M-1930-04   \n",
       "2       2       WC-1930  1930 FIFA World Cup  M-1930-02   \n",
       "3       3       WC-1930  1930 FIFA World Cup  M-1930-03   \n",
       "4       5       WC-1930  1930 FIFA World Cup  M-1930-05   \n",
       "\n",
       "                match_name   stage_name group_name  group_stage  \\\n",
       "0          France v Mexico  group stage    Group 1            1   \n",
       "1           Romania v Peru  group stage    Group 3            1   \n",
       "2  United States v Belgium  group stage    Group 4            1   \n",
       "3      Yugoslavia v Brazil  group stage    Group 2            1   \n",
       "4       Argentina v France  group stage    Group 1            1   \n",
       "\n",
       "   knockout_stage  replayed  replay  match_date match_time stadium_id  \\\n",
       "0               0         0       0  1930-07-13      15:00      S-193   \n",
       "1               0         0       0  1930-07-14      14:50      S-193   \n",
       "2               0         0       0  1930-07-13      15:00      S-192   \n",
       "3               0         0       0  1930-07-14      12:45      S-192   \n",
       "4               0         0       0  1930-07-15      16:00      S-192   \n",
       "\n",
       "                  stadium_name   city_name country_name home_team_id  \\\n",
       "0              Estadio Pocitos  Montevideo      Uruguay         T-28   \n",
       "1              Estadio Pocitos  Montevideo      Uruguay         T-59   \n",
       "2  Estadio Gran Parque Central  Montevideo      Uruguay         T-80   \n",
       "3  Estadio Gran Parque Central  Montevideo      Uruguay         T-84   \n",
       "4  Estadio Gran Parque Central  Montevideo      Uruguay         T-03   \n",
       "\n",
       "  home_team_name home_team_code away_team_id away_team_name away_team_code  \\\n",
       "0         France            FRA         T-44         Mexico            MEX   \n",
       "1        Romania            ROU         T-54           Peru            PER   \n",
       "2  United States            USA         T-06        Belgium            BEL   \n",
       "3     Yugoslavia            YUG         T-09         Brazil            BRA   \n",
       "4      Argentina            ARG         T-28         France            FRA   \n",
       "\n",
       "  score  home_team_score  away_team_score  home_team_score_margin  \\\n",
       "0   4–1                4                1                       3   \n",
       "1   3–1                3                1                       2   \n",
       "2   3–0                3                0                       3   \n",
       "3   2–1                2                1                       1   \n",
       "4   1–0                1                0                       1   \n",
       "\n",
       "   away_team_score_margin  extra_time  penalty_shootout score_penalties  \\\n",
       "0                      -3           0                 0             0-0   \n",
       "1                      -2           0                 0             0-0   \n",
       "2                      -3           0                 0             0-0   \n",
       "3                      -1           0                 0             0-0   \n",
       "4                      -1           0                 0             0-0   \n",
       "\n",
       "   home_team_score_penalties  away_team_score_penalties         result  \\\n",
       "0                          0                          0  home team win   \n",
       "1                          0                          0  home team win   \n",
       "2                          0                          0  home team win   \n",
       "3                          0                          0  home team win   \n",
       "4                          0                          0  home team win   \n",
       "\n",
       "   home_team_win  away_team_win  draw  Attendance  stadium_capacity  \\\n",
       "0              1              0     0        4444             10000   \n",
       "1              1              0     0        2549             10000   \n",
       "2              1              0     0       18346             20000   \n",
       "3              1              0     0       24059             20000   \n",
       "4              1              0     0       23409             20000   \n",
       "\n",
       "   total_goals_in_match  match_for_host  used_capacity_ratio  \\\n",
       "0                     5               0              0.44440   \n",
       "1                     4               0              0.25490   \n",
       "2                     3               0              0.91730   \n",
       "3                     3               0              1.20295   \n",
       "4                     1               0              1.17045   \n",
       "\n",
       "  attendance_category relative_attendance_category host_country_code  \\\n",
       "0                 low                          low               URY   \n",
       "1                 low                          low               URY   \n",
       "2                 low                       medium               URY   \n",
       "3                 low                         high               URY   \n",
       "4                 low                         high               URY   \n",
       "\n",
       "   tournament_year short_stage_name  \n",
       "0             1930            group  \n",
       "1             1930            group  \n",
       "2             1930            group  \n",
       "3             1930            group  \n",
       "4             1930            group  "
      ]
     },
     "execution_count": 67,
     "metadata": {},
     "output_type": "execute_result"
    }
   ],
   "source": [
    "final_match_df['short_stage_name'] = final_match_df['knockout_stage']\n",
    "final_match_df['short_stage_name'] = final_match_df['short_stage_name'].map({1:'knockout',0:'group'})\n",
    "final_match_df.head()"
   ]
  },
  {
   "attachments": {},
   "cell_type": "markdown",
   "metadata": {},
   "source": [
    "### i.Create winner_code:"
   ]
  },
  {
   "attachments": {},
   "cell_type": "markdown",
   "metadata": {},
   "source": [
    "* Read tournaments table :"
   ]
  },
  {
   "cell_type": "code",
   "execution_count": 68,
   "metadata": {},
   "outputs": [],
   "source": [
    "tournaments_df = pd.read_csv('worldcup-1.1.0/data-csv/Tournaments.csv')"
   ]
  },
  {
   "attachments": {},
   "cell_type": "markdown",
   "metadata": {},
   "source": [
    "* Check Nans value:"
   ]
  },
  {
   "cell_type": "code",
   "execution_count": 69,
   "metadata": {},
   "outputs": [
    {
     "data": {
      "text/html": [
       "<div>\n",
       "<style scoped>\n",
       "    .dataframe tbody tr th:only-of-type {\n",
       "        vertical-align: middle;\n",
       "    }\n",
       "\n",
       "    .dataframe tbody tr th {\n",
       "        vertical-align: top;\n",
       "    }\n",
       "\n",
       "    .dataframe thead th {\n",
       "        text-align: right;\n",
       "    }\n",
       "</style>\n",
       "<table border=\"1\" class=\"dataframe\">\n",
       "  <thead>\n",
       "    <tr style=\"text-align: right;\">\n",
       "      <th></th>\n",
       "      <th>Type</th>\n",
       "      <th>Nans_number</th>\n",
       "    </tr>\n",
       "  </thead>\n",
       "  <tbody>\n",
       "    <tr>\n",
       "      <th>key_id</th>\n",
       "      <td>int64</td>\n",
       "      <td>0</td>\n",
       "    </tr>\n",
       "    <tr>\n",
       "      <th>tournament_id</th>\n",
       "      <td>object</td>\n",
       "      <td>0</td>\n",
       "    </tr>\n",
       "    <tr>\n",
       "      <th>tournament_name</th>\n",
       "      <td>object</td>\n",
       "      <td>0</td>\n",
       "    </tr>\n",
       "    <tr>\n",
       "      <th>year</th>\n",
       "      <td>int64</td>\n",
       "      <td>0</td>\n",
       "    </tr>\n",
       "    <tr>\n",
       "      <th>start_date</th>\n",
       "      <td>object</td>\n",
       "      <td>0</td>\n",
       "    </tr>\n",
       "    <tr>\n",
       "      <th>end_date</th>\n",
       "      <td>object</td>\n",
       "      <td>0</td>\n",
       "    </tr>\n",
       "    <tr>\n",
       "      <th>host_country</th>\n",
       "      <td>object</td>\n",
       "      <td>0</td>\n",
       "    </tr>\n",
       "    <tr>\n",
       "      <th>winner</th>\n",
       "      <td>object</td>\n",
       "      <td>0</td>\n",
       "    </tr>\n",
       "    <tr>\n",
       "      <th>host_won</th>\n",
       "      <td>int64</td>\n",
       "      <td>0</td>\n",
       "    </tr>\n",
       "    <tr>\n",
       "      <th>count_teams</th>\n",
       "      <td>int64</td>\n",
       "      <td>0</td>\n",
       "    </tr>\n",
       "    <tr>\n",
       "      <th>group_stage</th>\n",
       "      <td>int64</td>\n",
       "      <td>0</td>\n",
       "    </tr>\n",
       "    <tr>\n",
       "      <th>second_group_stage</th>\n",
       "      <td>int64</td>\n",
       "      <td>0</td>\n",
       "    </tr>\n",
       "    <tr>\n",
       "      <th>final_round</th>\n",
       "      <td>int64</td>\n",
       "      <td>0</td>\n",
       "    </tr>\n",
       "    <tr>\n",
       "      <th>round_of_16</th>\n",
       "      <td>int64</td>\n",
       "      <td>0</td>\n",
       "    </tr>\n",
       "    <tr>\n",
       "      <th>quarter_finals</th>\n",
       "      <td>int64</td>\n",
       "      <td>0</td>\n",
       "    </tr>\n",
       "    <tr>\n",
       "      <th>semi_finals</th>\n",
       "      <td>int64</td>\n",
       "      <td>0</td>\n",
       "    </tr>\n",
       "    <tr>\n",
       "      <th>third_place_match</th>\n",
       "      <td>int64</td>\n",
       "      <td>0</td>\n",
       "    </tr>\n",
       "    <tr>\n",
       "      <th>final</th>\n",
       "      <td>int64</td>\n",
       "      <td>0</td>\n",
       "    </tr>\n",
       "  </tbody>\n",
       "</table>\n",
       "</div>"
      ],
      "text/plain": [
       "                      Type  Nans_number\n",
       "key_id               int64            0\n",
       "tournament_id       object            0\n",
       "tournament_name     object            0\n",
       "year                 int64            0\n",
       "start_date          object            0\n",
       "end_date            object            0\n",
       "host_country        object            0\n",
       "winner              object            0\n",
       "host_won             int64            0\n",
       "count_teams          int64            0\n",
       "group_stage          int64            0\n",
       "second_group_stage   int64            0\n",
       "final_round          int64            0\n",
       "round_of_16          int64            0\n",
       "quarter_finals       int64            0\n",
       "semi_finals          int64            0\n",
       "third_place_match    int64            0\n",
       "final                int64            0"
      ]
     },
     "execution_count": 69,
     "metadata": {},
     "output_type": "execute_result"
    }
   ],
   "source": [
    "checkNans(tournaments_df)"
   ]
  },
  {
   "attachments": {},
   "cell_type": "markdown",
   "metadata": {},
   "source": [
    "* Print shape and check duplicates:"
   ]
  },
  {
   "cell_type": "code",
   "execution_count": 70,
   "metadata": {},
   "outputs": [
    {
     "data": {
      "text/plain": [
       "(22, 18)"
      ]
     },
     "execution_count": 70,
     "metadata": {},
     "output_type": "execute_result"
    }
   ],
   "source": [
    "tournaments_df.shape"
   ]
  },
  {
   "cell_type": "code",
   "execution_count": 71,
   "metadata": {},
   "outputs": [
    {
     "data": {
      "text/plain": [
       "(22, 18)"
      ]
     },
     "execution_count": 71,
     "metadata": {},
     "output_type": "execute_result"
    }
   ],
   "source": [
    "tournaments_df.drop_duplicates().shape"
   ]
  },
  {
   "cell_type": "code",
   "execution_count": 72,
   "metadata": {},
   "outputs": [
    {
     "data": {
      "text/html": [
       "<div>\n",
       "<style scoped>\n",
       "    .dataframe tbody tr th:only-of-type {\n",
       "        vertical-align: middle;\n",
       "    }\n",
       "\n",
       "    .dataframe tbody tr th {\n",
       "        vertical-align: top;\n",
       "    }\n",
       "\n",
       "    .dataframe thead th {\n",
       "        text-align: right;\n",
       "    }\n",
       "</style>\n",
       "<table border=\"1\" class=\"dataframe\">\n",
       "  <thead>\n",
       "    <tr style=\"text-align: right;\">\n",
       "      <th></th>\n",
       "      <th>key_id</th>\n",
       "      <th>tournament_id</th>\n",
       "      <th>tournament_name</th>\n",
       "      <th>year</th>\n",
       "      <th>start_date</th>\n",
       "      <th>end_date</th>\n",
       "      <th>host_country</th>\n",
       "      <th>winner</th>\n",
       "      <th>host_won</th>\n",
       "      <th>count_teams</th>\n",
       "      <th>group_stage</th>\n",
       "      <th>second_group_stage</th>\n",
       "      <th>final_round</th>\n",
       "      <th>round_of_16</th>\n",
       "      <th>quarter_finals</th>\n",
       "      <th>semi_finals</th>\n",
       "      <th>third_place_match</th>\n",
       "      <th>final</th>\n",
       "    </tr>\n",
       "  </thead>\n",
       "  <tbody>\n",
       "    <tr>\n",
       "      <th>0</th>\n",
       "      <td>1</td>\n",
       "      <td>WC-1930</td>\n",
       "      <td>1930 FIFA World Cup</td>\n",
       "      <td>1930</td>\n",
       "      <td>1930-07-13</td>\n",
       "      <td>1930-07-30</td>\n",
       "      <td>Uruguay</td>\n",
       "      <td>Uruguay</td>\n",
       "      <td>1</td>\n",
       "      <td>13</td>\n",
       "      <td>1</td>\n",
       "      <td>0</td>\n",
       "      <td>0</td>\n",
       "      <td>0</td>\n",
       "      <td>0</td>\n",
       "      <td>1</td>\n",
       "      <td>0</td>\n",
       "      <td>1</td>\n",
       "    </tr>\n",
       "    <tr>\n",
       "      <th>1</th>\n",
       "      <td>2</td>\n",
       "      <td>WC-1934</td>\n",
       "      <td>1934 FIFA World Cup</td>\n",
       "      <td>1934</td>\n",
       "      <td>1934-05-27</td>\n",
       "      <td>1934-06-10</td>\n",
       "      <td>Italy</td>\n",
       "      <td>Italy</td>\n",
       "      <td>1</td>\n",
       "      <td>16</td>\n",
       "      <td>0</td>\n",
       "      <td>0</td>\n",
       "      <td>0</td>\n",
       "      <td>1</td>\n",
       "      <td>1</td>\n",
       "      <td>1</td>\n",
       "      <td>1</td>\n",
       "      <td>1</td>\n",
       "    </tr>\n",
       "    <tr>\n",
       "      <th>2</th>\n",
       "      <td>3</td>\n",
       "      <td>WC-1938</td>\n",
       "      <td>1938 FIFA World Cup</td>\n",
       "      <td>1938</td>\n",
       "      <td>1938-06-04</td>\n",
       "      <td>1938-06-19</td>\n",
       "      <td>France</td>\n",
       "      <td>Italy</td>\n",
       "      <td>0</td>\n",
       "      <td>15</td>\n",
       "      <td>0</td>\n",
       "      <td>0</td>\n",
       "      <td>0</td>\n",
       "      <td>1</td>\n",
       "      <td>1</td>\n",
       "      <td>1</td>\n",
       "      <td>1</td>\n",
       "      <td>1</td>\n",
       "    </tr>\n",
       "    <tr>\n",
       "      <th>3</th>\n",
       "      <td>4</td>\n",
       "      <td>WC-1950</td>\n",
       "      <td>1950 FIFA World Cup</td>\n",
       "      <td>1950</td>\n",
       "      <td>1950-06-24</td>\n",
       "      <td>1950-07-16</td>\n",
       "      <td>Brazil</td>\n",
       "      <td>Uruguay</td>\n",
       "      <td>0</td>\n",
       "      <td>13</td>\n",
       "      <td>1</td>\n",
       "      <td>0</td>\n",
       "      <td>1</td>\n",
       "      <td>0</td>\n",
       "      <td>0</td>\n",
       "      <td>0</td>\n",
       "      <td>0</td>\n",
       "      <td>0</td>\n",
       "    </tr>\n",
       "    <tr>\n",
       "      <th>4</th>\n",
       "      <td>5</td>\n",
       "      <td>WC-1954</td>\n",
       "      <td>1954 FIFA World Cup</td>\n",
       "      <td>1954</td>\n",
       "      <td>1954-06-16</td>\n",
       "      <td>1954-07-04</td>\n",
       "      <td>Switzerland</td>\n",
       "      <td>West Germany</td>\n",
       "      <td>0</td>\n",
       "      <td>16</td>\n",
       "      <td>1</td>\n",
       "      <td>0</td>\n",
       "      <td>0</td>\n",
       "      <td>0</td>\n",
       "      <td>1</td>\n",
       "      <td>1</td>\n",
       "      <td>1</td>\n",
       "      <td>1</td>\n",
       "    </tr>\n",
       "  </tbody>\n",
       "</table>\n",
       "</div>"
      ],
      "text/plain": [
       "   key_id tournament_id      tournament_name  year  start_date    end_date  \\\n",
       "0       1       WC-1930  1930 FIFA World Cup  1930  1930-07-13  1930-07-30   \n",
       "1       2       WC-1934  1934 FIFA World Cup  1934  1934-05-27  1934-06-10   \n",
       "2       3       WC-1938  1938 FIFA World Cup  1938  1938-06-04  1938-06-19   \n",
       "3       4       WC-1950  1950 FIFA World Cup  1950  1950-06-24  1950-07-16   \n",
       "4       5       WC-1954  1954 FIFA World Cup  1954  1954-06-16  1954-07-04   \n",
       "\n",
       "  host_country        winner  host_won  count_teams  group_stage  \\\n",
       "0      Uruguay       Uruguay         1           13            1   \n",
       "1        Italy         Italy         1           16            0   \n",
       "2       France         Italy         0           15            0   \n",
       "3       Brazil       Uruguay         0           13            1   \n",
       "4  Switzerland  West Germany         0           16            1   \n",
       "\n",
       "   second_group_stage  final_round  round_of_16  quarter_finals  semi_finals  \\\n",
       "0                   0            0            0               0            1   \n",
       "1                   0            0            1               1            1   \n",
       "2                   0            0            1               1            1   \n",
       "3                   0            1            0               0            0   \n",
       "4                   0            0            0               1            1   \n",
       "\n",
       "   third_place_match  final  \n",
       "0                  0      1  \n",
       "1                  1      1  \n",
       "2                  1      1  \n",
       "3                  0      0  \n",
       "4                  1      1  "
      ]
     },
     "execution_count": 72,
     "metadata": {},
     "output_type": "execute_result"
    }
   ],
   "source": [
    "tournaments_df.head()"
   ]
  },
  {
   "attachments": {},
   "cell_type": "markdown",
   "metadata": {},
   "source": [
    "* we will use `teams_df_dict` from <strong>2.e</strong> to create `winner_code`:"
   ]
  },
  {
   "cell_type": "code",
   "execution_count": 73,
   "metadata": {},
   "outputs": [],
   "source": [
    "tournaments_df['winner_code'] = tournaments_df['winner']\n",
    "tournaments_df['winner_code'] = tournaments_df['winner_code'].map(teams_df_dict)"
   ]
  },
  {
   "cell_type": "code",
   "execution_count": 74,
   "metadata": {},
   "outputs": [
    {
     "data": {
      "text/html": [
       "<div>\n",
       "<style scoped>\n",
       "    .dataframe tbody tr th:only-of-type {\n",
       "        vertical-align: middle;\n",
       "    }\n",
       "\n",
       "    .dataframe tbody tr th {\n",
       "        vertical-align: top;\n",
       "    }\n",
       "\n",
       "    .dataframe thead th {\n",
       "        text-align: right;\n",
       "    }\n",
       "</style>\n",
       "<table border=\"1\" class=\"dataframe\">\n",
       "  <thead>\n",
       "    <tr style=\"text-align: right;\">\n",
       "      <th></th>\n",
       "      <th>winner</th>\n",
       "      <th>winner_code</th>\n",
       "    </tr>\n",
       "  </thead>\n",
       "  <tbody>\n",
       "    <tr>\n",
       "      <th>0</th>\n",
       "      <td>Uruguay</td>\n",
       "      <td>URY</td>\n",
       "    </tr>\n",
       "    <tr>\n",
       "      <th>1</th>\n",
       "      <td>Italy</td>\n",
       "      <td>ITA</td>\n",
       "    </tr>\n",
       "    <tr>\n",
       "      <th>2</th>\n",
       "      <td>Italy</td>\n",
       "      <td>ITA</td>\n",
       "    </tr>\n",
       "    <tr>\n",
       "      <th>3</th>\n",
       "      <td>Uruguay</td>\n",
       "      <td>URY</td>\n",
       "    </tr>\n",
       "    <tr>\n",
       "      <th>4</th>\n",
       "      <td>West Germany</td>\n",
       "      <td>DEU</td>\n",
       "    </tr>\n",
       "    <tr>\n",
       "      <th>5</th>\n",
       "      <td>Brazil</td>\n",
       "      <td>BRA</td>\n",
       "    </tr>\n",
       "    <tr>\n",
       "      <th>6</th>\n",
       "      <td>Brazil</td>\n",
       "      <td>BRA</td>\n",
       "    </tr>\n",
       "    <tr>\n",
       "      <th>7</th>\n",
       "      <td>England</td>\n",
       "      <td>ENG</td>\n",
       "    </tr>\n",
       "    <tr>\n",
       "      <th>8</th>\n",
       "      <td>Brazil</td>\n",
       "      <td>BRA</td>\n",
       "    </tr>\n",
       "    <tr>\n",
       "      <th>9</th>\n",
       "      <td>West Germany</td>\n",
       "      <td>DEU</td>\n",
       "    </tr>\n",
       "    <tr>\n",
       "      <th>10</th>\n",
       "      <td>Argentina</td>\n",
       "      <td>ARG</td>\n",
       "    </tr>\n",
       "    <tr>\n",
       "      <th>11</th>\n",
       "      <td>Italy</td>\n",
       "      <td>ITA</td>\n",
       "    </tr>\n",
       "    <tr>\n",
       "      <th>12</th>\n",
       "      <td>Argentina</td>\n",
       "      <td>ARG</td>\n",
       "    </tr>\n",
       "    <tr>\n",
       "      <th>13</th>\n",
       "      <td>West Germany</td>\n",
       "      <td>DEU</td>\n",
       "    </tr>\n",
       "    <tr>\n",
       "      <th>14</th>\n",
       "      <td>Brazil</td>\n",
       "      <td>BRA</td>\n",
       "    </tr>\n",
       "    <tr>\n",
       "      <th>15</th>\n",
       "      <td>France</td>\n",
       "      <td>FRA</td>\n",
       "    </tr>\n",
       "    <tr>\n",
       "      <th>16</th>\n",
       "      <td>Brazil</td>\n",
       "      <td>BRA</td>\n",
       "    </tr>\n",
       "    <tr>\n",
       "      <th>17</th>\n",
       "      <td>Italy</td>\n",
       "      <td>ITA</td>\n",
       "    </tr>\n",
       "    <tr>\n",
       "      <th>18</th>\n",
       "      <td>Spain</td>\n",
       "      <td>ESP</td>\n",
       "    </tr>\n",
       "    <tr>\n",
       "      <th>19</th>\n",
       "      <td>Germany</td>\n",
       "      <td>DEU</td>\n",
       "    </tr>\n",
       "    <tr>\n",
       "      <th>20</th>\n",
       "      <td>France</td>\n",
       "      <td>FRA</td>\n",
       "    </tr>\n",
       "    <tr>\n",
       "      <th>21</th>\n",
       "      <td>Argentina</td>\n",
       "      <td>ARG</td>\n",
       "    </tr>\n",
       "  </tbody>\n",
       "</table>\n",
       "</div>"
      ],
      "text/plain": [
       "          winner winner_code\n",
       "0        Uruguay         URY\n",
       "1          Italy         ITA\n",
       "2          Italy         ITA\n",
       "3        Uruguay         URY\n",
       "4   West Germany         DEU\n",
       "5         Brazil         BRA\n",
       "6         Brazil         BRA\n",
       "7        England         ENG\n",
       "8         Brazil         BRA\n",
       "9   West Germany         DEU\n",
       "10     Argentina         ARG\n",
       "11         Italy         ITA\n",
       "12     Argentina         ARG\n",
       "13  West Germany         DEU\n",
       "14        Brazil         BRA\n",
       "15        France         FRA\n",
       "16        Brazil         BRA\n",
       "17         Italy         ITA\n",
       "18         Spain         ESP\n",
       "19       Germany         DEU\n",
       "20        France         FRA\n",
       "21     Argentina         ARG"
      ]
     },
     "execution_count": 74,
     "metadata": {},
     "output_type": "execute_result"
    }
   ],
   "source": [
    "tournaments_df[['winner','winner_code']]"
   ]
  },
  {
   "attachments": {},
   "cell_type": "markdown",
   "metadata": {},
   "source": [
    "### j.Create late_goal column:"
   ]
  },
  {
   "attachments": {},
   "cell_type": "markdown",
   "metadata": {},
   "source": [
    "* We will read goals table:"
   ]
  },
  {
   "cell_type": "code",
   "execution_count": 75,
   "metadata": {},
   "outputs": [],
   "source": [
    "goals_df = pd.read_csv('worldcup-1.1.0/data-csv/goals.csv')"
   ]
  },
  {
   "attachments": {},
   "cell_type": "markdown",
   "metadata": {},
   "source": [
    "* Check Nans and duplicated values:"
   ]
  },
  {
   "cell_type": "code",
   "execution_count": 76,
   "metadata": {},
   "outputs": [
    {
     "data": {
      "text/plain": [
       "(2720, 27)"
      ]
     },
     "execution_count": 76,
     "metadata": {},
     "output_type": "execute_result"
    }
   ],
   "source": [
    "goals_df.shape"
   ]
  },
  {
   "cell_type": "code",
   "execution_count": 77,
   "metadata": {},
   "outputs": [
    {
     "data": {
      "text/plain": [
       "(2720, 27)"
      ]
     },
     "execution_count": 77,
     "metadata": {},
     "output_type": "execute_result"
    }
   ],
   "source": [
    "goals_df.drop_duplicates().shape"
   ]
  },
  {
   "cell_type": "code",
   "execution_count": 78,
   "metadata": {},
   "outputs": [
    {
     "data": {
      "text/html": [
       "<div>\n",
       "<style scoped>\n",
       "    .dataframe tbody tr th:only-of-type {\n",
       "        vertical-align: middle;\n",
       "    }\n",
       "\n",
       "    .dataframe tbody tr th {\n",
       "        vertical-align: top;\n",
       "    }\n",
       "\n",
       "    .dataframe thead th {\n",
       "        text-align: right;\n",
       "    }\n",
       "</style>\n",
       "<table border=\"1\" class=\"dataframe\">\n",
       "  <thead>\n",
       "    <tr style=\"text-align: right;\">\n",
       "      <th></th>\n",
       "      <th>Type</th>\n",
       "      <th>Nans_number</th>\n",
       "    </tr>\n",
       "  </thead>\n",
       "  <tbody>\n",
       "    <tr>\n",
       "      <th>key_id</th>\n",
       "      <td>int64</td>\n",
       "      <td>0</td>\n",
       "    </tr>\n",
       "    <tr>\n",
       "      <th>goal_id</th>\n",
       "      <td>object</td>\n",
       "      <td>0</td>\n",
       "    </tr>\n",
       "    <tr>\n",
       "      <th>tournament_id</th>\n",
       "      <td>object</td>\n",
       "      <td>0</td>\n",
       "    </tr>\n",
       "    <tr>\n",
       "      <th>tournament_name</th>\n",
       "      <td>object</td>\n",
       "      <td>0</td>\n",
       "    </tr>\n",
       "    <tr>\n",
       "      <th>match_id</th>\n",
       "      <td>object</td>\n",
       "      <td>0</td>\n",
       "    </tr>\n",
       "    <tr>\n",
       "      <th>match_name</th>\n",
       "      <td>object</td>\n",
       "      <td>0</td>\n",
       "    </tr>\n",
       "    <tr>\n",
       "      <th>match_date</th>\n",
       "      <td>object</td>\n",
       "      <td>0</td>\n",
       "    </tr>\n",
       "    <tr>\n",
       "      <th>stage_name</th>\n",
       "      <td>object</td>\n",
       "      <td>0</td>\n",
       "    </tr>\n",
       "    <tr>\n",
       "      <th>group_name</th>\n",
       "      <td>object</td>\n",
       "      <td>0</td>\n",
       "    </tr>\n",
       "    <tr>\n",
       "      <th>team_id</th>\n",
       "      <td>object</td>\n",
       "      <td>0</td>\n",
       "    </tr>\n",
       "    <tr>\n",
       "      <th>team_name</th>\n",
       "      <td>object</td>\n",
       "      <td>0</td>\n",
       "    </tr>\n",
       "    <tr>\n",
       "      <th>team_code</th>\n",
       "      <td>object</td>\n",
       "      <td>0</td>\n",
       "    </tr>\n",
       "    <tr>\n",
       "      <th>home_team</th>\n",
       "      <td>int64</td>\n",
       "      <td>0</td>\n",
       "    </tr>\n",
       "    <tr>\n",
       "      <th>away_team</th>\n",
       "      <td>int64</td>\n",
       "      <td>0</td>\n",
       "    </tr>\n",
       "    <tr>\n",
       "      <th>player_id</th>\n",
       "      <td>object</td>\n",
       "      <td>0</td>\n",
       "    </tr>\n",
       "    <tr>\n",
       "      <th>family_name</th>\n",
       "      <td>object</td>\n",
       "      <td>0</td>\n",
       "    </tr>\n",
       "    <tr>\n",
       "      <th>given_name</th>\n",
       "      <td>object</td>\n",
       "      <td>0</td>\n",
       "    </tr>\n",
       "    <tr>\n",
       "      <th>shirt_number</th>\n",
       "      <td>int64</td>\n",
       "      <td>0</td>\n",
       "    </tr>\n",
       "    <tr>\n",
       "      <th>player_team_id</th>\n",
       "      <td>object</td>\n",
       "      <td>0</td>\n",
       "    </tr>\n",
       "    <tr>\n",
       "      <th>player_team_name</th>\n",
       "      <td>object</td>\n",
       "      <td>0</td>\n",
       "    </tr>\n",
       "    <tr>\n",
       "      <th>player_team_code</th>\n",
       "      <td>object</td>\n",
       "      <td>0</td>\n",
       "    </tr>\n",
       "    <tr>\n",
       "      <th>minute_label</th>\n",
       "      <td>object</td>\n",
       "      <td>0</td>\n",
       "    </tr>\n",
       "    <tr>\n",
       "      <th>minute_regulation</th>\n",
       "      <td>int64</td>\n",
       "      <td>0</td>\n",
       "    </tr>\n",
       "    <tr>\n",
       "      <th>minute_stoppage</th>\n",
       "      <td>int64</td>\n",
       "      <td>0</td>\n",
       "    </tr>\n",
       "    <tr>\n",
       "      <th>match_period</th>\n",
       "      <td>object</td>\n",
       "      <td>0</td>\n",
       "    </tr>\n",
       "    <tr>\n",
       "      <th>own_goal</th>\n",
       "      <td>int64</td>\n",
       "      <td>0</td>\n",
       "    </tr>\n",
       "    <tr>\n",
       "      <th>penalty</th>\n",
       "      <td>int64</td>\n",
       "      <td>0</td>\n",
       "    </tr>\n",
       "  </tbody>\n",
       "</table>\n",
       "</div>"
      ],
      "text/plain": [
       "                     Type  Nans_number\n",
       "key_id              int64            0\n",
       "goal_id            object            0\n",
       "tournament_id      object            0\n",
       "tournament_name    object            0\n",
       "match_id           object            0\n",
       "match_name         object            0\n",
       "match_date         object            0\n",
       "stage_name         object            0\n",
       "group_name         object            0\n",
       "team_id            object            0\n",
       "team_name          object            0\n",
       "team_code          object            0\n",
       "home_team           int64            0\n",
       "away_team           int64            0\n",
       "player_id          object            0\n",
       "family_name        object            0\n",
       "given_name         object            0\n",
       "shirt_number        int64            0\n",
       "player_team_id     object            0\n",
       "player_team_name   object            0\n",
       "player_team_code   object            0\n",
       "minute_label       object            0\n",
       "minute_regulation   int64            0\n",
       "minute_stoppage     int64            0\n",
       "match_period       object            0\n",
       "own_goal            int64            0\n",
       "penalty             int64            0"
      ]
     },
     "execution_count": 78,
     "metadata": {},
     "output_type": "execute_result"
    }
   ],
   "source": [
    "checkNans(goals_df)"
   ]
  },
  {
   "cell_type": "code",
   "execution_count": 79,
   "metadata": {},
   "outputs": [
    {
     "data": {
      "text/html": [
       "<div>\n",
       "<style scoped>\n",
       "    .dataframe tbody tr th:only-of-type {\n",
       "        vertical-align: middle;\n",
       "    }\n",
       "\n",
       "    .dataframe tbody tr th {\n",
       "        vertical-align: top;\n",
       "    }\n",
       "\n",
       "    .dataframe thead th {\n",
       "        text-align: right;\n",
       "    }\n",
       "</style>\n",
       "<table border=\"1\" class=\"dataframe\">\n",
       "  <thead>\n",
       "    <tr style=\"text-align: right;\">\n",
       "      <th></th>\n",
       "      <th>key_id</th>\n",
       "      <th>goal_id</th>\n",
       "      <th>tournament_id</th>\n",
       "      <th>tournament_name</th>\n",
       "      <th>match_id</th>\n",
       "      <th>match_name</th>\n",
       "      <th>match_date</th>\n",
       "      <th>stage_name</th>\n",
       "      <th>group_name</th>\n",
       "      <th>team_id</th>\n",
       "      <th>team_name</th>\n",
       "      <th>team_code</th>\n",
       "      <th>home_team</th>\n",
       "      <th>away_team</th>\n",
       "      <th>player_id</th>\n",
       "      <th>family_name</th>\n",
       "      <th>given_name</th>\n",
       "      <th>shirt_number</th>\n",
       "      <th>player_team_id</th>\n",
       "      <th>player_team_name</th>\n",
       "      <th>player_team_code</th>\n",
       "      <th>minute_label</th>\n",
       "      <th>minute_regulation</th>\n",
       "      <th>minute_stoppage</th>\n",
       "      <th>match_period</th>\n",
       "      <th>own_goal</th>\n",
       "      <th>penalty</th>\n",
       "    </tr>\n",
       "  </thead>\n",
       "  <tbody>\n",
       "    <tr>\n",
       "      <th>0</th>\n",
       "      <td>1</td>\n",
       "      <td>G-0001</td>\n",
       "      <td>WC-1930</td>\n",
       "      <td>1930 FIFA World Cup</td>\n",
       "      <td>M-1930-01</td>\n",
       "      <td>France v Mexico</td>\n",
       "      <td>1930-07-13</td>\n",
       "      <td>group stage</td>\n",
       "      <td>Group 1</td>\n",
       "      <td>T-28</td>\n",
       "      <td>France</td>\n",
       "      <td>FRA</td>\n",
       "      <td>1</td>\n",
       "      <td>0</td>\n",
       "      <td>P-08962</td>\n",
       "      <td>Laurent</td>\n",
       "      <td>Lucien</td>\n",
       "      <td>0</td>\n",
       "      <td>T-28</td>\n",
       "      <td>France</td>\n",
       "      <td>FRA</td>\n",
       "      <td>19'</td>\n",
       "      <td>19</td>\n",
       "      <td>0</td>\n",
       "      <td>first half</td>\n",
       "      <td>0</td>\n",
       "      <td>0</td>\n",
       "    </tr>\n",
       "    <tr>\n",
       "      <th>1</th>\n",
       "      <td>2</td>\n",
       "      <td>G-0002</td>\n",
       "      <td>WC-1930</td>\n",
       "      <td>1930 FIFA World Cup</td>\n",
       "      <td>M-1930-01</td>\n",
       "      <td>France v Mexico</td>\n",
       "      <td>1930-07-13</td>\n",
       "      <td>group stage</td>\n",
       "      <td>Group 1</td>\n",
       "      <td>T-28</td>\n",
       "      <td>France</td>\n",
       "      <td>FRA</td>\n",
       "      <td>1</td>\n",
       "      <td>0</td>\n",
       "      <td>P-00280</td>\n",
       "      <td>Langiller</td>\n",
       "      <td>Marcel</td>\n",
       "      <td>0</td>\n",
       "      <td>T-28</td>\n",
       "      <td>France</td>\n",
       "      <td>FRA</td>\n",
       "      <td>40'</td>\n",
       "      <td>40</td>\n",
       "      <td>0</td>\n",
       "      <td>first half</td>\n",
       "      <td>0</td>\n",
       "      <td>0</td>\n",
       "    </tr>\n",
       "    <tr>\n",
       "      <th>2</th>\n",
       "      <td>3</td>\n",
       "      <td>G-0003</td>\n",
       "      <td>WC-1930</td>\n",
       "      <td>1930 FIFA World Cup</td>\n",
       "      <td>M-1930-01</td>\n",
       "      <td>France v Mexico</td>\n",
       "      <td>1930-07-13</td>\n",
       "      <td>group stage</td>\n",
       "      <td>Group 1</td>\n",
       "      <td>T-28</td>\n",
       "      <td>France</td>\n",
       "      <td>FRA</td>\n",
       "      <td>1</td>\n",
       "      <td>0</td>\n",
       "      <td>P-09030</td>\n",
       "      <td>Maschinot</td>\n",
       "      <td>André</td>\n",
       "      <td>0</td>\n",
       "      <td>T-28</td>\n",
       "      <td>France</td>\n",
       "      <td>FRA</td>\n",
       "      <td>43'</td>\n",
       "      <td>43</td>\n",
       "      <td>0</td>\n",
       "      <td>first half</td>\n",
       "      <td>0</td>\n",
       "      <td>0</td>\n",
       "    </tr>\n",
       "    <tr>\n",
       "      <th>3</th>\n",
       "      <td>4</td>\n",
       "      <td>G-0004</td>\n",
       "      <td>WC-1930</td>\n",
       "      <td>1930 FIFA World Cup</td>\n",
       "      <td>M-1930-01</td>\n",
       "      <td>France v Mexico</td>\n",
       "      <td>1930-07-13</td>\n",
       "      <td>group stage</td>\n",
       "      <td>Group 1</td>\n",
       "      <td>T-44</td>\n",
       "      <td>Mexico</td>\n",
       "      <td>MEX</td>\n",
       "      <td>0</td>\n",
       "      <td>1</td>\n",
       "      <td>P-00780</td>\n",
       "      <td>Carreño</td>\n",
       "      <td>Juan</td>\n",
       "      <td>0</td>\n",
       "      <td>T-44</td>\n",
       "      <td>Mexico</td>\n",
       "      <td>MEX</td>\n",
       "      <td>70'</td>\n",
       "      <td>70</td>\n",
       "      <td>0</td>\n",
       "      <td>second half</td>\n",
       "      <td>0</td>\n",
       "      <td>0</td>\n",
       "    </tr>\n",
       "    <tr>\n",
       "      <th>4</th>\n",
       "      <td>5</td>\n",
       "      <td>G-0005</td>\n",
       "      <td>WC-1930</td>\n",
       "      <td>1930 FIFA World Cup</td>\n",
       "      <td>M-1930-01</td>\n",
       "      <td>France v Mexico</td>\n",
       "      <td>1930-07-13</td>\n",
       "      <td>group stage</td>\n",
       "      <td>Group 1</td>\n",
       "      <td>T-28</td>\n",
       "      <td>France</td>\n",
       "      <td>FRA</td>\n",
       "      <td>1</td>\n",
       "      <td>0</td>\n",
       "      <td>P-09030</td>\n",
       "      <td>Maschinot</td>\n",
       "      <td>André</td>\n",
       "      <td>0</td>\n",
       "      <td>T-28</td>\n",
       "      <td>France</td>\n",
       "      <td>FRA</td>\n",
       "      <td>87'</td>\n",
       "      <td>87</td>\n",
       "      <td>0</td>\n",
       "      <td>second half</td>\n",
       "      <td>0</td>\n",
       "      <td>0</td>\n",
       "    </tr>\n",
       "  </tbody>\n",
       "</table>\n",
       "</div>"
      ],
      "text/plain": [
       "   key_id goal_id tournament_id      tournament_name   match_id  \\\n",
       "0       1  G-0001       WC-1930  1930 FIFA World Cup  M-1930-01   \n",
       "1       2  G-0002       WC-1930  1930 FIFA World Cup  M-1930-01   \n",
       "2       3  G-0003       WC-1930  1930 FIFA World Cup  M-1930-01   \n",
       "3       4  G-0004       WC-1930  1930 FIFA World Cup  M-1930-01   \n",
       "4       5  G-0005       WC-1930  1930 FIFA World Cup  M-1930-01   \n",
       "\n",
       "        match_name  match_date   stage_name group_name team_id team_name  \\\n",
       "0  France v Mexico  1930-07-13  group stage    Group 1    T-28    France   \n",
       "1  France v Mexico  1930-07-13  group stage    Group 1    T-28    France   \n",
       "2  France v Mexico  1930-07-13  group stage    Group 1    T-28    France   \n",
       "3  France v Mexico  1930-07-13  group stage    Group 1    T-44    Mexico   \n",
       "4  France v Mexico  1930-07-13  group stage    Group 1    T-28    France   \n",
       "\n",
       "  team_code  home_team  away_team player_id family_name given_name  \\\n",
       "0       FRA          1          0   P-08962     Laurent     Lucien   \n",
       "1       FRA          1          0   P-00280   Langiller     Marcel   \n",
       "2       FRA          1          0   P-09030   Maschinot      André   \n",
       "3       MEX          0          1   P-00780     Carreño       Juan   \n",
       "4       FRA          1          0   P-09030   Maschinot      André   \n",
       "\n",
       "   shirt_number player_team_id player_team_name player_team_code minute_label  \\\n",
       "0             0           T-28           France              FRA          19'   \n",
       "1             0           T-28           France              FRA          40'   \n",
       "2             0           T-28           France              FRA          43'   \n",
       "3             0           T-44           Mexico              MEX          70'   \n",
       "4             0           T-28           France              FRA          87'   \n",
       "\n",
       "   minute_regulation  minute_stoppage match_period  own_goal  penalty  \n",
       "0                 19                0   first half         0        0  \n",
       "1                 40                0   first half         0        0  \n",
       "2                 43                0   first half         0        0  \n",
       "3                 70                0  second half         0        0  \n",
       "4                 87                0  second half         0        0  "
      ]
     },
     "execution_count": 79,
     "metadata": {},
     "output_type": "execute_result"
    }
   ],
   "source": [
    "goals_df.head()"
   ]
  },
  {
   "attachments": {},
   "cell_type": "markdown",
   "metadata": {},
   "source": [
    "<strong>The Late Goal :</strong> it is any goal happened in one of these times:\n",
    " *  In the minute 45 in the first half.\n",
    " *  In the stoppage time in the first half.\n",
    " *  In the minute 90 in the second half.\n",
    " *  In the stoppage time in the second half.\n",
    " *  In any time in the extra time (first extra half and second extra half)."
   ]
  },
  {
   "attachments": {},
   "cell_type": "markdown",
   "metadata": {},
   "source": [
    "We will reate late_goal column and we will check the minute_regulation column only because it has maximum value in the stoppage time and it can tell us the match period without check match_period column"
   ]
  },
  {
   "cell_type": "code",
   "execution_count": 80,
   "metadata": {},
   "outputs": [],
   "source": [
    "goals_df['late_goal'] = (goals_df['minute_regulation'] >= 90) | (goals_df['minute_regulation'] == 45)\n",
    "goals_df['late_goal'] = goals_df['late_goal'].map({True:1,False:0})"
   ]
  },
  {
   "cell_type": "code",
   "execution_count": 81,
   "metadata": {},
   "outputs": [
    {
     "data": {
      "text/html": [
       "<div>\n",
       "<style scoped>\n",
       "    .dataframe tbody tr th:only-of-type {\n",
       "        vertical-align: middle;\n",
       "    }\n",
       "\n",
       "    .dataframe tbody tr th {\n",
       "        vertical-align: top;\n",
       "    }\n",
       "\n",
       "    .dataframe thead th {\n",
       "        text-align: right;\n",
       "    }\n",
       "</style>\n",
       "<table border=\"1\" class=\"dataframe\">\n",
       "  <thead>\n",
       "    <tr style=\"text-align: right;\">\n",
       "      <th></th>\n",
       "      <th>key_id</th>\n",
       "      <th>goal_id</th>\n",
       "      <th>tournament_id</th>\n",
       "      <th>tournament_name</th>\n",
       "      <th>match_id</th>\n",
       "      <th>match_name</th>\n",
       "      <th>match_date</th>\n",
       "      <th>stage_name</th>\n",
       "      <th>group_name</th>\n",
       "      <th>team_id</th>\n",
       "      <th>team_name</th>\n",
       "      <th>team_code</th>\n",
       "      <th>home_team</th>\n",
       "      <th>away_team</th>\n",
       "      <th>player_id</th>\n",
       "      <th>family_name</th>\n",
       "      <th>given_name</th>\n",
       "      <th>shirt_number</th>\n",
       "      <th>player_team_id</th>\n",
       "      <th>player_team_name</th>\n",
       "      <th>player_team_code</th>\n",
       "      <th>minute_label</th>\n",
       "      <th>minute_regulation</th>\n",
       "      <th>minute_stoppage</th>\n",
       "      <th>match_period</th>\n",
       "      <th>own_goal</th>\n",
       "      <th>penalty</th>\n",
       "      <th>late_goal</th>\n",
       "    </tr>\n",
       "  </thead>\n",
       "  <tbody>\n",
       "    <tr>\n",
       "      <th>0</th>\n",
       "      <td>1</td>\n",
       "      <td>G-0001</td>\n",
       "      <td>WC-1930</td>\n",
       "      <td>1930 FIFA World Cup</td>\n",
       "      <td>M-1930-01</td>\n",
       "      <td>France v Mexico</td>\n",
       "      <td>1930-07-13</td>\n",
       "      <td>group stage</td>\n",
       "      <td>Group 1</td>\n",
       "      <td>T-28</td>\n",
       "      <td>France</td>\n",
       "      <td>FRA</td>\n",
       "      <td>1</td>\n",
       "      <td>0</td>\n",
       "      <td>P-08962</td>\n",
       "      <td>Laurent</td>\n",
       "      <td>Lucien</td>\n",
       "      <td>0</td>\n",
       "      <td>T-28</td>\n",
       "      <td>France</td>\n",
       "      <td>FRA</td>\n",
       "      <td>19'</td>\n",
       "      <td>19</td>\n",
       "      <td>0</td>\n",
       "      <td>first half</td>\n",
       "      <td>0</td>\n",
       "      <td>0</td>\n",
       "      <td>0</td>\n",
       "    </tr>\n",
       "    <tr>\n",
       "      <th>1</th>\n",
       "      <td>2</td>\n",
       "      <td>G-0002</td>\n",
       "      <td>WC-1930</td>\n",
       "      <td>1930 FIFA World Cup</td>\n",
       "      <td>M-1930-01</td>\n",
       "      <td>France v Mexico</td>\n",
       "      <td>1930-07-13</td>\n",
       "      <td>group stage</td>\n",
       "      <td>Group 1</td>\n",
       "      <td>T-28</td>\n",
       "      <td>France</td>\n",
       "      <td>FRA</td>\n",
       "      <td>1</td>\n",
       "      <td>0</td>\n",
       "      <td>P-00280</td>\n",
       "      <td>Langiller</td>\n",
       "      <td>Marcel</td>\n",
       "      <td>0</td>\n",
       "      <td>T-28</td>\n",
       "      <td>France</td>\n",
       "      <td>FRA</td>\n",
       "      <td>40'</td>\n",
       "      <td>40</td>\n",
       "      <td>0</td>\n",
       "      <td>first half</td>\n",
       "      <td>0</td>\n",
       "      <td>0</td>\n",
       "      <td>0</td>\n",
       "    </tr>\n",
       "    <tr>\n",
       "      <th>2</th>\n",
       "      <td>3</td>\n",
       "      <td>G-0003</td>\n",
       "      <td>WC-1930</td>\n",
       "      <td>1930 FIFA World Cup</td>\n",
       "      <td>M-1930-01</td>\n",
       "      <td>France v Mexico</td>\n",
       "      <td>1930-07-13</td>\n",
       "      <td>group stage</td>\n",
       "      <td>Group 1</td>\n",
       "      <td>T-28</td>\n",
       "      <td>France</td>\n",
       "      <td>FRA</td>\n",
       "      <td>1</td>\n",
       "      <td>0</td>\n",
       "      <td>P-09030</td>\n",
       "      <td>Maschinot</td>\n",
       "      <td>André</td>\n",
       "      <td>0</td>\n",
       "      <td>T-28</td>\n",
       "      <td>France</td>\n",
       "      <td>FRA</td>\n",
       "      <td>43'</td>\n",
       "      <td>43</td>\n",
       "      <td>0</td>\n",
       "      <td>first half</td>\n",
       "      <td>0</td>\n",
       "      <td>0</td>\n",
       "      <td>0</td>\n",
       "    </tr>\n",
       "    <tr>\n",
       "      <th>3</th>\n",
       "      <td>4</td>\n",
       "      <td>G-0004</td>\n",
       "      <td>WC-1930</td>\n",
       "      <td>1930 FIFA World Cup</td>\n",
       "      <td>M-1930-01</td>\n",
       "      <td>France v Mexico</td>\n",
       "      <td>1930-07-13</td>\n",
       "      <td>group stage</td>\n",
       "      <td>Group 1</td>\n",
       "      <td>T-44</td>\n",
       "      <td>Mexico</td>\n",
       "      <td>MEX</td>\n",
       "      <td>0</td>\n",
       "      <td>1</td>\n",
       "      <td>P-00780</td>\n",
       "      <td>Carreño</td>\n",
       "      <td>Juan</td>\n",
       "      <td>0</td>\n",
       "      <td>T-44</td>\n",
       "      <td>Mexico</td>\n",
       "      <td>MEX</td>\n",
       "      <td>70'</td>\n",
       "      <td>70</td>\n",
       "      <td>0</td>\n",
       "      <td>second half</td>\n",
       "      <td>0</td>\n",
       "      <td>0</td>\n",
       "      <td>0</td>\n",
       "    </tr>\n",
       "    <tr>\n",
       "      <th>4</th>\n",
       "      <td>5</td>\n",
       "      <td>G-0005</td>\n",
       "      <td>WC-1930</td>\n",
       "      <td>1930 FIFA World Cup</td>\n",
       "      <td>M-1930-01</td>\n",
       "      <td>France v Mexico</td>\n",
       "      <td>1930-07-13</td>\n",
       "      <td>group stage</td>\n",
       "      <td>Group 1</td>\n",
       "      <td>T-28</td>\n",
       "      <td>France</td>\n",
       "      <td>FRA</td>\n",
       "      <td>1</td>\n",
       "      <td>0</td>\n",
       "      <td>P-09030</td>\n",
       "      <td>Maschinot</td>\n",
       "      <td>André</td>\n",
       "      <td>0</td>\n",
       "      <td>T-28</td>\n",
       "      <td>France</td>\n",
       "      <td>FRA</td>\n",
       "      <td>87'</td>\n",
       "      <td>87</td>\n",
       "      <td>0</td>\n",
       "      <td>second half</td>\n",
       "      <td>0</td>\n",
       "      <td>0</td>\n",
       "      <td>0</td>\n",
       "    </tr>\n",
       "  </tbody>\n",
       "</table>\n",
       "</div>"
      ],
      "text/plain": [
       "   key_id goal_id tournament_id      tournament_name   match_id  \\\n",
       "0       1  G-0001       WC-1930  1930 FIFA World Cup  M-1930-01   \n",
       "1       2  G-0002       WC-1930  1930 FIFA World Cup  M-1930-01   \n",
       "2       3  G-0003       WC-1930  1930 FIFA World Cup  M-1930-01   \n",
       "3       4  G-0004       WC-1930  1930 FIFA World Cup  M-1930-01   \n",
       "4       5  G-0005       WC-1930  1930 FIFA World Cup  M-1930-01   \n",
       "\n",
       "        match_name  match_date   stage_name group_name team_id team_name  \\\n",
       "0  France v Mexico  1930-07-13  group stage    Group 1    T-28    France   \n",
       "1  France v Mexico  1930-07-13  group stage    Group 1    T-28    France   \n",
       "2  France v Mexico  1930-07-13  group stage    Group 1    T-28    France   \n",
       "3  France v Mexico  1930-07-13  group stage    Group 1    T-44    Mexico   \n",
       "4  France v Mexico  1930-07-13  group stage    Group 1    T-28    France   \n",
       "\n",
       "  team_code  home_team  away_team player_id family_name given_name  \\\n",
       "0       FRA          1          0   P-08962     Laurent     Lucien   \n",
       "1       FRA          1          0   P-00280   Langiller     Marcel   \n",
       "2       FRA          1          0   P-09030   Maschinot      André   \n",
       "3       MEX          0          1   P-00780     Carreño       Juan   \n",
       "4       FRA          1          0   P-09030   Maschinot      André   \n",
       "\n",
       "   shirt_number player_team_id player_team_name player_team_code minute_label  \\\n",
       "0             0           T-28           France              FRA          19'   \n",
       "1             0           T-28           France              FRA          40'   \n",
       "2             0           T-28           France              FRA          43'   \n",
       "3             0           T-44           Mexico              MEX          70'   \n",
       "4             0           T-28           France              FRA          87'   \n",
       "\n",
       "   minute_regulation  minute_stoppage match_period  own_goal  penalty  \\\n",
       "0                 19                0   first half         0        0   \n",
       "1                 40                0   first half         0        0   \n",
       "2                 43                0   first half         0        0   \n",
       "3                 70                0  second half         0        0   \n",
       "4                 87                0  second half         0        0   \n",
       "\n",
       "   late_goal  \n",
       "0          0  \n",
       "1          0  \n",
       "2          0  \n",
       "3          0  \n",
       "4          0  "
      ]
     },
     "execution_count": 81,
     "metadata": {},
     "output_type": "execute_result"
    }
   ],
   "source": [
    "goals_df.head()"
   ]
  },
  {
   "attachments": {},
   "cell_type": "markdown",
   "metadata": {},
   "source": [
    "* Calculate the numbers of the Late goals in the FIFA World Cup history:"
   ]
  },
  {
   "cell_type": "code",
   "execution_count": 82,
   "metadata": {},
   "outputs": [
    {
     "name": "stdout",
     "output_type": "stream",
     "text": [
      "the numbers of the Late goals in the FIFA World Cup history : 232\n"
     ]
    }
   ],
   "source": [
    "print(f\"the numbers of the Late goals in the FIFA World Cup history :\\\n",
    " {goals_df[goals_df['late_goal'] == 1].shape[0]}\")"
   ]
  },
  {
   "attachments": {},
   "cell_type": "markdown",
   "metadata": {},
   "source": [
    "# Homework Part 2"
   ]
  },
  {
   "attachments": {},
   "cell_type": "markdown",
   "metadata": {},
   "source": [
    "## 3.Data Analysis :"
   ]
  },
  {
   "cell_type": "code",
   "execution_count": 83,
   "metadata": {},
   "outputs": [],
   "source": [
    "layout_options = {\n",
    "    'paper_bgcolor':\"#383838\",\n",
    "    'plot_bgcolor':'#383838',\n",
    "    'title_font': dict(color='white'),\n",
    "    'legend_font': dict(color='white'),\n",
    "    'yaxis':dict(color=\"white\"),\n",
    "    'xaxis':dict(color=\"white\")\n",
    "    }"
   ]
  },
  {
   "attachments": {},
   "cell_type": "markdown",
   "metadata": {},
   "source": [
    "### a.Attendance Analysis:"
   ]
  },
  {
   "attachments": {},
   "cell_type": "markdown",
   "metadata": {},
   "source": [
    "#### a.1.attendance mean and median plot:"
   ]
  },
  {
   "cell_type": "code",
   "execution_count": 84,
   "metadata": {},
   "outputs": [],
   "source": [
    "# we will caloculate attendance mean and median for every tournament\n",
    "att_mean_median_df = pd.DataFrame(final_match_df.groupby('tournament_year')['Attendance'].agg(['mean','median']))"
   ]
  },
  {
   "cell_type": "code",
   "execution_count": 85,
   "metadata": {},
   "outputs": [
    {
     "data": {
      "application/vnd.plotly.v1+json": {
       "config": {
        "plotlyServerURL": "https://plot.ly"
       },
       "data": [
        {
         "hovertemplate": "variable=mean<br>tournament_year=%{x}<br>value=%{y}<extra></extra>",
         "legendgroup": "mean",
         "line": {
          "color": "#636efa",
          "dash": "solid"
         },
         "marker": {
          "symbol": "circle"
         },
         "mode": "lines",
         "name": "mean",
         "orientation": "v",
         "showlegend": true,
         "type": "scatter",
         "x": [
          1930,
          1934,
          1938,
          1950,
          1954,
          1958,
          1962,
          1966,
          1970,
          1974,
          1978,
          1982,
          1986,
          1990,
          1994,
          1998,
          2002,
          2006,
          2010,
          2014,
          2018,
          2022
         ],
         "xaxis": "x",
         "y": [
          32808.27777777778,
          21352.941176470587,
          20872.222222222223,
          47511.181818181816,
          29561.80769230769,
          23423.14285714286,
          27911.625,
          48847.96875,
          50124.21875,
          49098.76315789474,
          40678.71052631579,
          40571.596153846156,
          46039.057692307695,
          48388.75,
          68991.11538461539,
          45366.828125,
          42270.890625,
          52384.453125,
          49669.625,
          53591.765625,
          47371.375,
          53191.4375
         ],
         "yaxis": "y"
        },
        {
         "hovertemplate": "variable=median<br>tournament_year=%{x}<br>value=%{y}<extra></extra>",
         "legendgroup": "median",
         "line": {
          "color": "#EF553B",
          "dash": "solid"
         },
         "marker": {
          "symbol": "circle"
         },
         "mode": "lines",
         "name": "median",
         "orientation": "v",
         "showlegend": true,
         "type": "scatter",
         "x": [
          1930,
          1934,
          1938,
          1950,
          1954,
          1958,
          1962,
          1966,
          1970,
          1974,
          1978,
          1982,
          1986,
          1990,
          1994,
          1998,
          2002,
          2006,
          2010,
          2014,
          2018,
          2022
         ],
         "xaxis": "x",
         "y": [
          23734,
          16000,
          18570.5,
          22800.5,
          27000,
          20055,
          11782.5,
          41217.5,
          49926,
          53700,
          37203,
          38350,
          32138.5,
          38966.5,
          63749,
          39100,
          39723.5,
          50000,
          41234,
          54013.5,
          42991,
          44093
         ],
         "yaxis": "y"
        }
       ],
       "layout": {
        "height": 500,
        "legend": {
         "font": {
          "color": "white"
         },
         "title": {
          "text": "variable"
         },
         "tracegroupgap": 0
        },
        "paper_bgcolor": "#383838",
        "plot_bgcolor": "#383838",
        "template": {
         "data": {
          "bar": [
           {
            "error_x": {
             "color": "#2a3f5f"
            },
            "error_y": {
             "color": "#2a3f5f"
            },
            "marker": {
             "line": {
              "color": "#E5ECF6",
              "width": 0.5
             },
             "pattern": {
              "fillmode": "overlay",
              "size": 10,
              "solidity": 0.2
             }
            },
            "type": "bar"
           }
          ],
          "barpolar": [
           {
            "marker": {
             "line": {
              "color": "#E5ECF6",
              "width": 0.5
             },
             "pattern": {
              "fillmode": "overlay",
              "size": 10,
              "solidity": 0.2
             }
            },
            "type": "barpolar"
           }
          ],
          "carpet": [
           {
            "aaxis": {
             "endlinecolor": "#2a3f5f",
             "gridcolor": "white",
             "linecolor": "white",
             "minorgridcolor": "white",
             "startlinecolor": "#2a3f5f"
            },
            "baxis": {
             "endlinecolor": "#2a3f5f",
             "gridcolor": "white",
             "linecolor": "white",
             "minorgridcolor": "white",
             "startlinecolor": "#2a3f5f"
            },
            "type": "carpet"
           }
          ],
          "choropleth": [
           {
            "colorbar": {
             "outlinewidth": 0,
             "ticks": ""
            },
            "type": "choropleth"
           }
          ],
          "contour": [
           {
            "colorbar": {
             "outlinewidth": 0,
             "ticks": ""
            },
            "colorscale": [
             [
              0,
              "#0d0887"
             ],
             [
              0.1111111111111111,
              "#46039f"
             ],
             [
              0.2222222222222222,
              "#7201a8"
             ],
             [
              0.3333333333333333,
              "#9c179e"
             ],
             [
              0.4444444444444444,
              "#bd3786"
             ],
             [
              0.5555555555555556,
              "#d8576b"
             ],
             [
              0.6666666666666666,
              "#ed7953"
             ],
             [
              0.7777777777777778,
              "#fb9f3a"
             ],
             [
              0.8888888888888888,
              "#fdca26"
             ],
             [
              1,
              "#f0f921"
             ]
            ],
            "type": "contour"
           }
          ],
          "contourcarpet": [
           {
            "colorbar": {
             "outlinewidth": 0,
             "ticks": ""
            },
            "type": "contourcarpet"
           }
          ],
          "heatmap": [
           {
            "colorbar": {
             "outlinewidth": 0,
             "ticks": ""
            },
            "colorscale": [
             [
              0,
              "#0d0887"
             ],
             [
              0.1111111111111111,
              "#46039f"
             ],
             [
              0.2222222222222222,
              "#7201a8"
             ],
             [
              0.3333333333333333,
              "#9c179e"
             ],
             [
              0.4444444444444444,
              "#bd3786"
             ],
             [
              0.5555555555555556,
              "#d8576b"
             ],
             [
              0.6666666666666666,
              "#ed7953"
             ],
             [
              0.7777777777777778,
              "#fb9f3a"
             ],
             [
              0.8888888888888888,
              "#fdca26"
             ],
             [
              1,
              "#f0f921"
             ]
            ],
            "type": "heatmap"
           }
          ],
          "heatmapgl": [
           {
            "colorbar": {
             "outlinewidth": 0,
             "ticks": ""
            },
            "colorscale": [
             [
              0,
              "#0d0887"
             ],
             [
              0.1111111111111111,
              "#46039f"
             ],
             [
              0.2222222222222222,
              "#7201a8"
             ],
             [
              0.3333333333333333,
              "#9c179e"
             ],
             [
              0.4444444444444444,
              "#bd3786"
             ],
             [
              0.5555555555555556,
              "#d8576b"
             ],
             [
              0.6666666666666666,
              "#ed7953"
             ],
             [
              0.7777777777777778,
              "#fb9f3a"
             ],
             [
              0.8888888888888888,
              "#fdca26"
             ],
             [
              1,
              "#f0f921"
             ]
            ],
            "type": "heatmapgl"
           }
          ],
          "histogram": [
           {
            "marker": {
             "pattern": {
              "fillmode": "overlay",
              "size": 10,
              "solidity": 0.2
             }
            },
            "type": "histogram"
           }
          ],
          "histogram2d": [
           {
            "colorbar": {
             "outlinewidth": 0,
             "ticks": ""
            },
            "colorscale": [
             [
              0,
              "#0d0887"
             ],
             [
              0.1111111111111111,
              "#46039f"
             ],
             [
              0.2222222222222222,
              "#7201a8"
             ],
             [
              0.3333333333333333,
              "#9c179e"
             ],
             [
              0.4444444444444444,
              "#bd3786"
             ],
             [
              0.5555555555555556,
              "#d8576b"
             ],
             [
              0.6666666666666666,
              "#ed7953"
             ],
             [
              0.7777777777777778,
              "#fb9f3a"
             ],
             [
              0.8888888888888888,
              "#fdca26"
             ],
             [
              1,
              "#f0f921"
             ]
            ],
            "type": "histogram2d"
           }
          ],
          "histogram2dcontour": [
           {
            "colorbar": {
             "outlinewidth": 0,
             "ticks": ""
            },
            "colorscale": [
             [
              0,
              "#0d0887"
             ],
             [
              0.1111111111111111,
              "#46039f"
             ],
             [
              0.2222222222222222,
              "#7201a8"
             ],
             [
              0.3333333333333333,
              "#9c179e"
             ],
             [
              0.4444444444444444,
              "#bd3786"
             ],
             [
              0.5555555555555556,
              "#d8576b"
             ],
             [
              0.6666666666666666,
              "#ed7953"
             ],
             [
              0.7777777777777778,
              "#fb9f3a"
             ],
             [
              0.8888888888888888,
              "#fdca26"
             ],
             [
              1,
              "#f0f921"
             ]
            ],
            "type": "histogram2dcontour"
           }
          ],
          "mesh3d": [
           {
            "colorbar": {
             "outlinewidth": 0,
             "ticks": ""
            },
            "type": "mesh3d"
           }
          ],
          "parcoords": [
           {
            "line": {
             "colorbar": {
              "outlinewidth": 0,
              "ticks": ""
             }
            },
            "type": "parcoords"
           }
          ],
          "pie": [
           {
            "automargin": true,
            "type": "pie"
           }
          ],
          "scatter": [
           {
            "fillpattern": {
             "fillmode": "overlay",
             "size": 10,
             "solidity": 0.2
            },
            "type": "scatter"
           }
          ],
          "scatter3d": [
           {
            "line": {
             "colorbar": {
              "outlinewidth": 0,
              "ticks": ""
             }
            },
            "marker": {
             "colorbar": {
              "outlinewidth": 0,
              "ticks": ""
             }
            },
            "type": "scatter3d"
           }
          ],
          "scattercarpet": [
           {
            "marker": {
             "colorbar": {
              "outlinewidth": 0,
              "ticks": ""
             }
            },
            "type": "scattercarpet"
           }
          ],
          "scattergeo": [
           {
            "marker": {
             "colorbar": {
              "outlinewidth": 0,
              "ticks": ""
             }
            },
            "type": "scattergeo"
           }
          ],
          "scattergl": [
           {
            "marker": {
             "colorbar": {
              "outlinewidth": 0,
              "ticks": ""
             }
            },
            "type": "scattergl"
           }
          ],
          "scattermapbox": [
           {
            "marker": {
             "colorbar": {
              "outlinewidth": 0,
              "ticks": ""
             }
            },
            "type": "scattermapbox"
           }
          ],
          "scatterpolar": [
           {
            "marker": {
             "colorbar": {
              "outlinewidth": 0,
              "ticks": ""
             }
            },
            "type": "scatterpolar"
           }
          ],
          "scatterpolargl": [
           {
            "marker": {
             "colorbar": {
              "outlinewidth": 0,
              "ticks": ""
             }
            },
            "type": "scatterpolargl"
           }
          ],
          "scatterternary": [
           {
            "marker": {
             "colorbar": {
              "outlinewidth": 0,
              "ticks": ""
             }
            },
            "type": "scatterternary"
           }
          ],
          "surface": [
           {
            "colorbar": {
             "outlinewidth": 0,
             "ticks": ""
            },
            "colorscale": [
             [
              0,
              "#0d0887"
             ],
             [
              0.1111111111111111,
              "#46039f"
             ],
             [
              0.2222222222222222,
              "#7201a8"
             ],
             [
              0.3333333333333333,
              "#9c179e"
             ],
             [
              0.4444444444444444,
              "#bd3786"
             ],
             [
              0.5555555555555556,
              "#d8576b"
             ],
             [
              0.6666666666666666,
              "#ed7953"
             ],
             [
              0.7777777777777778,
              "#fb9f3a"
             ],
             [
              0.8888888888888888,
              "#fdca26"
             ],
             [
              1,
              "#f0f921"
             ]
            ],
            "type": "surface"
           }
          ],
          "table": [
           {
            "cells": {
             "fill": {
              "color": "#EBF0F8"
             },
             "line": {
              "color": "white"
             }
            },
            "header": {
             "fill": {
              "color": "#C8D4E3"
             },
             "line": {
              "color": "white"
             }
            },
            "type": "table"
           }
          ]
         },
         "layout": {
          "annotationdefaults": {
           "arrowcolor": "#2a3f5f",
           "arrowhead": 0,
           "arrowwidth": 1
          },
          "autotypenumbers": "strict",
          "coloraxis": {
           "colorbar": {
            "outlinewidth": 0,
            "ticks": ""
           }
          },
          "colorscale": {
           "diverging": [
            [
             0,
             "#8e0152"
            ],
            [
             0.1,
             "#c51b7d"
            ],
            [
             0.2,
             "#de77ae"
            ],
            [
             0.3,
             "#f1b6da"
            ],
            [
             0.4,
             "#fde0ef"
            ],
            [
             0.5,
             "#f7f7f7"
            ],
            [
             0.6,
             "#e6f5d0"
            ],
            [
             0.7,
             "#b8e186"
            ],
            [
             0.8,
             "#7fbc41"
            ],
            [
             0.9,
             "#4d9221"
            ],
            [
             1,
             "#276419"
            ]
           ],
           "sequential": [
            [
             0,
             "#0d0887"
            ],
            [
             0.1111111111111111,
             "#46039f"
            ],
            [
             0.2222222222222222,
             "#7201a8"
            ],
            [
             0.3333333333333333,
             "#9c179e"
            ],
            [
             0.4444444444444444,
             "#bd3786"
            ],
            [
             0.5555555555555556,
             "#d8576b"
            ],
            [
             0.6666666666666666,
             "#ed7953"
            ],
            [
             0.7777777777777778,
             "#fb9f3a"
            ],
            [
             0.8888888888888888,
             "#fdca26"
            ],
            [
             1,
             "#f0f921"
            ]
           ],
           "sequentialminus": [
            [
             0,
             "#0d0887"
            ],
            [
             0.1111111111111111,
             "#46039f"
            ],
            [
             0.2222222222222222,
             "#7201a8"
            ],
            [
             0.3333333333333333,
             "#9c179e"
            ],
            [
             0.4444444444444444,
             "#bd3786"
            ],
            [
             0.5555555555555556,
             "#d8576b"
            ],
            [
             0.6666666666666666,
             "#ed7953"
            ],
            [
             0.7777777777777778,
             "#fb9f3a"
            ],
            [
             0.8888888888888888,
             "#fdca26"
            ],
            [
             1,
             "#f0f921"
            ]
           ]
          },
          "colorway": [
           "#636efa",
           "#EF553B",
           "#00cc96",
           "#ab63fa",
           "#FFA15A",
           "#19d3f3",
           "#FF6692",
           "#B6E880",
           "#FF97FF",
           "#FECB52"
          ],
          "font": {
           "color": "#2a3f5f"
          },
          "geo": {
           "bgcolor": "white",
           "lakecolor": "white",
           "landcolor": "#E5ECF6",
           "showlakes": true,
           "showland": true,
           "subunitcolor": "white"
          },
          "hoverlabel": {
           "align": "left"
          },
          "hovermode": "closest",
          "mapbox": {
           "style": "light"
          },
          "paper_bgcolor": "white",
          "plot_bgcolor": "#E5ECF6",
          "polar": {
           "angularaxis": {
            "gridcolor": "white",
            "linecolor": "white",
            "ticks": ""
           },
           "bgcolor": "#E5ECF6",
           "radialaxis": {
            "gridcolor": "white",
            "linecolor": "white",
            "ticks": ""
           }
          },
          "scene": {
           "xaxis": {
            "backgroundcolor": "#E5ECF6",
            "gridcolor": "white",
            "gridwidth": 2,
            "linecolor": "white",
            "showbackground": true,
            "ticks": "",
            "zerolinecolor": "white"
           },
           "yaxis": {
            "backgroundcolor": "#E5ECF6",
            "gridcolor": "white",
            "gridwidth": 2,
            "linecolor": "white",
            "showbackground": true,
            "ticks": "",
            "zerolinecolor": "white"
           },
           "zaxis": {
            "backgroundcolor": "#E5ECF6",
            "gridcolor": "white",
            "gridwidth": 2,
            "linecolor": "white",
            "showbackground": true,
            "ticks": "",
            "zerolinecolor": "white"
           }
          },
          "shapedefaults": {
           "line": {
            "color": "#2a3f5f"
           }
          },
          "ternary": {
           "aaxis": {
            "gridcolor": "white",
            "linecolor": "white",
            "ticks": ""
           },
           "baxis": {
            "gridcolor": "white",
            "linecolor": "white",
            "ticks": ""
           },
           "bgcolor": "#E5ECF6",
           "caxis": {
            "gridcolor": "white",
            "linecolor": "white",
            "ticks": ""
           }
          },
          "title": {
           "x": 0.05
          },
          "xaxis": {
           "automargin": true,
           "gridcolor": "white",
           "linecolor": "white",
           "ticks": "",
           "title": {
            "standoff": 15
           },
           "zerolinecolor": "white",
           "zerolinewidth": 2
          },
          "yaxis": {
           "automargin": true,
           "gridcolor": "white",
           "linecolor": "white",
           "ticks": "",
           "title": {
            "standoff": 15
           },
           "zerolinecolor": "white",
           "zerolinewidth": 2
          }
         }
        },
        "title": {
         "font": {
          "color": "white"
         },
         "text": "Attendance mean and median"
        },
        "width": 900,
        "xaxis": {
         "anchor": "y",
         "color": "white",
         "domain": [
          0,
          1
         ],
         "title": {
          "text": "tournament_year"
         }
        },
        "yaxis": {
         "anchor": "x",
         "color": "white",
         "domain": [
          0,
          1
         ],
         "title": {
          "text": "Attendance"
         }
        }
       }
      }
     },
     "metadata": {},
     "output_type": "display_data"
    }
   ],
   "source": [
    "#we will plot attendance mean and median\n",
    "a_1_fig = px.line(att_mean_median_df,x=att_mean_median_df.index,y=['mean','median'],\n",
    "                  width=900,height=500,title='Attendance mean and median')\n",
    "a_1_fig.update_yaxes(title_text='Attendance')\n",
    "a_1_fig.update_layout(**layout_options)\n",
    "a_1_fig.show()\n"
   ]
  },
  {
   "attachments": {},
   "cell_type": "markdown",
   "metadata": {},
   "source": [
    "#### <strong> `The results:`</strong>"
   ]
  },
  {
   "attachments": {},
   "cell_type": "markdown",
   "metadata": {},
   "source": [
    "* The mean of attendance was low between 1950 and 1966 because that the World Cup was still recovering from the effects of World War II.\n",
    "* The median was the lowest in 1962 because that the tournament was held in Chile, which is far from Europe and other major footballing nations. This made it difficult for fans to travel to Chile to watch the matches also the stadiums in Chile were not as big as those in Europe at that time.\n",
    "* The mean and median was the highest in 1994 when the USA was the host contry."
   ]
  },
  {
   "attachments": {},
   "cell_type": "markdown",
   "metadata": {},
   "source": [
    "#### <strong> `Refrences:` </strong>"
   ]
  },
  {
   "attachments": {},
   "cell_type": "markdown",
   "metadata": {},
   "source": [
    "* https://en.wikipedia.org/wiki/1950_FIFA_World_Cup\n",
    "* https://en.wikipedia.org/wiki/1962_FIFA_World_Cup\n",
    "* https://www.si.com/soccer/2018/06/01/usa-world-cup-hosting-history"
   ]
  },
  {
   "attachments": {},
   "cell_type": "markdown",
   "metadata": {},
   "source": [
    "#### a.2.attendance distribution Histogram plot:"
   ]
  },
  {
   "attachments": {},
   "cell_type": "markdown",
   "metadata": {},
   "source": [
    "* we will use <strong>`Freedman rule`</strong> which is common rule to determine the number of bins. "
   ]
  },
  {
   "cell_type": "code",
   "execution_count": 86,
   "metadata": {},
   "outputs": [],
   "source": [
    "#  this function calculate  Interquartile Range\n",
    "def cal_IQR(df,column_name):\n",
    "    q75, q25 = q75, q25 = df[column_name].quantile([0.75 ,0.25])\n",
    "    return q75 - q25"
   ]
  },
  {
   "cell_type": "code",
   "execution_count": 87,
   "metadata": {},
   "outputs": [],
   "source": [
    "#  this function calculate bins_width and bins_num using freedman rule\n",
    "def cal_freedman_rule(df,column_name):\n",
    "    bins_width = (2*cal_IQR(df,column_name))/(df[column_name].count()**(1/3))\n",
    "    bins_num = (df[column_name].max()-df[column_name].min())/bins_width\n",
    "    return int(bins_num),bins_width"
   ]
  },
  {
   "cell_type": "code",
   "execution_count": 88,
   "metadata": {},
   "outputs": [
    {
     "data": {
      "text/plain": [
       "964"
      ]
     },
     "execution_count": 88,
     "metadata": {},
     "output_type": "execute_result"
    }
   ],
   "source": [
    "final_match_df['Attendance'].count()"
   ]
  },
  {
   "cell_type": "code",
   "execution_count": 89,
   "metadata": {},
   "outputs": [
    {
     "data": {
      "text/plain": [
       "(29, 5908.6723535381)"
      ]
     },
     "execution_count": 89,
     "metadata": {},
     "output_type": "execute_result"
    }
   ],
   "source": [
    "cal_freedman_rule(final_match_df,'Attendance')"
   ]
  },
  {
   "cell_type": "code",
   "execution_count": 90,
   "metadata": {},
   "outputs": [
    {
     "data": {
      "application/vnd.plotly.v1+json": {
       "config": {
        "plotlyServerURL": "https://plot.ly"
       },
       "data": [
        {
         "alignmentgroup": "True",
         "bingroup": "x",
         "hovertemplate": "variable=Attendance<br>value=%{x}<br>count=%{y}<extra></extra>",
         "legendgroup": "Attendance",
         "marker": {
          "color": "#636efa",
          "pattern": {
           "shape": ""
          }
         },
         "name": "Attendance",
         "nbinsx": 29,
         "offsetgroup": "Attendance",
         "orientation": "v",
         "showlegend": true,
         "type": "histogram",
         "x": [
          4444,
          2549,
          18346,
          24059,
          23409,
          9249,
          18306,
          18306,
          57735,
          2000,
          42100,
          25466,
          12000,
          70022,
          41459,
          72886,
          79867,
          68346,
          16000,
          12000,
          9000,
          8000,
          35000,
          43000,
          9000,
          7000,
          25000,
          15000,
          55000,
          21000,
          30867,
          31823,
          30223,
          31818,
          14000,
          23000,
          30791,
          32257,
          27833,
          34520,
          33000,
          3000,
          35000,
          73780,
          74765,
          71169,
          72510,
          74559,
          73347,
          27152,
          20025,
          20000,
          49000,
          48000,
          45500,
          45500,
          45500,
          44000,
          7000,
          8000,
          30454,
          58455,
          45000,
          9000,
          19000,
          33000,
          55000,
          54587,
          55000,
          57000,
          55000,
          60000,
          60000,
          13452,
          11000,
          22021,
          18141,
          12000,
          35200,
          31800,
          31800,
          31800,
          31800,
          31800,
          15000,
          7000,
          81649,
          29703,
          19790,
          142429,
          74462,
          138886,
          152772,
          173850,
          74738,
          74101,
          73819,
          73749,
          73804,
          74240,
          74738,
          7336,
          10151,
          5284,
          9511,
          7903,
          36502,
          42032,
          25811,
          44802,
          7987,
          11227,
          11078,
          3580,
          8501,
          13470,
          19000,
          4000,
          17000,
          16000,
          43000,
          24637,
          35000,
          45000,
          25000,
          13000,
          26000,
          17000,
          32000,
          20500,
          28000,
          43500,
          40000,
          62500,
          14000,
          34000,
          56000,
          30000,
          28000,
          58000,
          24000,
          34107,
          15150,
          38850,
          30287,
          2823,
          31900,
          27100,
          49737,
          31156,
          21990,
          6196,
          20055,
          10647,
          14174,
          16518,
          11665,
          11800,
          9591,
          12217,
          15343,
          13300,
          17788,
          49348,
          40895,
          50928,
          23182,
          25923,
          49471,
          32483,
          25000,
          16418,
          21239,
          15872,
          13554,
          13103,
          7908,
          9622,
          8829,
          8040,
          9973,
          7167,
          17268,
          65006,
          65440,
          66057,
          64922,
          67224,
          59828,
          63324,
          76594,
          66697,
          68679,
          10484,
          12700,
          14903,
          11875,
          18715,
          10648,
          17736,
          5890,
          7134,
          7938,
          9794,
          7442,
          7945,
          5700,
          11690,
          87148,
          69237,
          92570,
          61112,
          98270,
          90584,
          94493,
          87696,
          96924,
          36127,
          32028,
          32127,
          40007,
          47308,
          51387,
          58479,
          40248,
          38273,
          23006,
          13792,
          17829,
          42738,
          46587,
          42187,
          29886,
          25438,
          24129,
          27199,
          27793,
          16027,
          26844,
          45662,
          107160,
          92205,
          95261,
          103058,
          89979,
          108192,
          26085,
          102444,
          104403,
          107412,
          96000,
          110000,
          114600,
          103763,
          114580,
          98728,
          114580,
          114500,
          114600,
          20654,
          29968,
          18163,
          32000,
          20000,
          26000,
          45000,
          21000,
          50560,
          52897,
          56818,
          66843,
          50804,
          49292,
          54233,
          51261,
          35748,
          48000,
          51000,
          45000,
          65000,
          45000,
          13765,
          12942,
          13537,
          12710,
          17875,
          12299,
          23357,
          65500,
          36540,
          31420,
          32277,
          13433,
          9624,
          9890,
          26851,
          24000,
          20000,
          16000,
          62000,
          62000,
          56000,
          58000,
          62000,
          48000,
          48000,
          48000,
          48000,
          48000,
          81100,
          28300,
          17400,
          72000,
          72000,
          72000,
          72000,
          72000,
          69000,
          17000,
          53300,
          60200,
          49480,
          50000,
          50000,
          50000,
          50000,
          27000,
          53700,
          53300,
          53700,
          62959,
          65000,
          65000,
          65000,
          65000,
          65000,
          23800,
          28300,
          67385,
          67800,
          41300,
          55100,
          13400,
          59863,
          39400,
          43000,
          43000,
          43000,
          43000,
          43000,
          53000,
          25300,
          25900,
          77100,
          78200,
          32700,
          70100,
          70100,
          44955,
          52000,
          52000,
          52000,
          52000,
          52000,
          52000,
          31700,
          36200,
          56548,
          68348,
          54254,
          67579,
          71615,
          71666,
          71712,
          67547,
          66695,
          67433,
          69659,
          71483,
          42373,
          32569,
          26533,
          34771,
          23127,
          35221,
          17396,
          9624,
          22651,
          37091,
          37326,
          37315,
          40841,
          41424,
          42132,
          33431,
          28125,
          35130,
          31278,
          35288,
          39586,
          37927,
          35258,
          7938,
          30667,
          21262,
          25050,
          40750,
          38318,
          95000,
          65000,
          45000,
          65000,
          50000,
          33000,
          25000,
          20000,
          68000,
          70000,
          11000,
          19000,
          25000,
          23000,
          15000,
          37000,
          36000,
          19000,
          45000,
          42000,
          42000,
          41000,
          44172,
          41123,
          39700,
          49562,
          48000,
          49562,
          22500,
          22000,
          16000,
          25000,
          30043,
          28000,
          25000,
          15000,
          25000,
          32093,
          32500,
          28000,
          47379,
          43000,
          37000,
          20000,
          37000,
          43000,
          44000,
          44000,
          75000,
          90089,
          75000,
          90000,
          60000,
          45000,
          65000,
          70000,
          16500,
          13800,
          14200,
          19900,
          19915,
          22700,
          19800,
          41700,
          22000,
          28000,
          28000,
          23000,
          20200,
          23980,
          30500,
          30000,
          36000,
          38500,
          18000,
          26500,
          20000,
          42907,
          38687,
          37307,
          47673,
          51426,
          73303,
          73423,
          73303,
          73303,
          73303,
          73603,
          33266,
          38962,
          34857,
          38971,
          62628,
          58007,
          62502,
          61381,
          62628,
          35238,
          35267,
          34959,
          32790,
          33759,
          35950,
          35500,
          33288,
          33288,
          33288,
          35713,
          32733,
          29039,
          55759,
          52733,
          50026,
          55205,
          59978,
          63117,
          63113,
          63160,
          63089,
          60246,
          56247,
          44132,
          63998,
          63998,
          60277,
          63500,
          73425,
          61428,
          71528,
          77217,
          75338,
          74624,
          76322,
          72404,
          71030,
          72000,
          74110,
          91856,
          93194,
          93869,
          93869,
          90469,
          91856,
          91500,
          94194,
          61219,
          60790,
          62387,
          60578,
          61355,
          52395,
          50535,
          52535,
          52959,
          53121,
          81061,
          83401,
          83401,
          74914,
          84147,
          83500,
          54456,
          54453,
          54453,
          53001,
          54367,
          53400,
          80000,
          77000,
          80000,
          80000,
          80000,
          77000,
          80000,
          80000,
          80000,
          29750,
          27650,
          35500,
          35500,
          35500,
          29800,
          36500,
          33500,
          33500,
          33140,
          33400,
          33000,
          38100,
          38100,
          41275,
          41275,
          42000,
          31800,
          38000,
          38500,
          35500,
          39500,
          38500,
          49500,
          39100,
          43300,
          43300,
          39100,
          39100,
          43300,
          36000,
          36000,
          36000,
          36000,
          30600,
          30600,
          62561,
          43605,
          65625,
          33679,
          32239,
          40582,
          30157,
          33842,
          37337,
          32218,
          31081,
          35927,
          34050,
          35854,
          36472,
          25186,
          48760,
          38070,
          52721,
          55256,
          52328,
          61058,
          28588,
          27217,
          42114,
          30957,
          36194,
          40440,
          37306,
          33681,
          38524,
          38926,
          43500,
          47226,
          60778,
          63483,
          24000,
          31000,
          36380,
          36750,
          30176,
          25176,
          45610,
          45777,
          45666,
          42299,
          48100,
          50239,
          66108,
          65320,
          65862,
          69029,
          39700,
          39291,
          39747,
          47085,
          46640,
          47436,
          44864,
          45213,
          44233,
          31024,
          26482,
          38588,
          64950,
          66000,
          66000,
          66000,
          66000,
          66000,
          52000,
          52000,
          52000,
          52000,
          52000,
          37216,
          43000,
          43000,
          38000,
          43000,
          41000,
          41000,
          41000,
          41000,
          41000,
          45000,
          45000,
          45000,
          45000,
          45000,
          46000,
          46000,
          46000,
          46000,
          46000,
          84490,
          83465,
          82174,
          84455,
          83391,
          84377,
          84017,
          84490,
          64100,
          62869,
          64100,
          63644,
          63093,
          62955,
          64100,
          62479,
          31513,
          37034,
          38294,
          34872,
          36893,
          30597,
          40186,
          36254,
          55686,
          54331,
          45573,
          54386,
          53412,
          54096,
          55359,
          38646,
          23871,
          34812,
          33425,
          27967,
          34976,
          30325,
          35370,
          38891,
          34850,
          38833,
          42658,
          38074,
          35827,
          41958,
          36742,
          62660,
          62453,
          62010,
          61874,
          62712,
          61962,
          60960,
          30620,
          31593,
          26643,
          39415,
          28042,
          40510,
          32664,
          38229,
          37836,
          34763,
          62103,
          62575,
          62996,
          61397,
          63255,
          63267,
          39216,
          39760,
          39485,
          39706,
          48173,
          51081,
          51003,
          48011,
          51227,
          51179,
          40275,
          37603,
          40499,
          40340,
          57174,
          56800,
          57698,
          57823,
          57714,
          58141,
          58679,
          60342,
          59621,
          59095,
          58817,
          60342,
          39800,
          39982,
          40123,
          40322,
          40267,
          40285,
          41212,
          41876,
          41242,
          68351,
          68748,
          69112,
          67540,
          67882,
          68551,
          68034,
          43012,
          42877,
          42732,
          43285,
          43063,
          39081,
          39224,
          39375,
          39311,
          78011,
          78011,
          78011,
          78011,
          78011,
          78011,
          78011,
          27015,
          32789,
          32572,
          33061,
          62548,
          64468,
          64468,
          64468,
          64042,
          64286,
          64406,
          43866,
          43257,
          44287,
          44073,
          44287,
          44287,
          41279,
          42718,
          42873,
          41835,
          42873,
          42873,
          44190,
          44190,
          44190,
          44190,
          44190,
          40502,
          40842,
          41685,
          37168,
          31136,
          33167,
          33973,
          33973,
          41432,
          40727,
          41970,
          41970,
          41970,
          39991,
          43109,
          42678,
          43472,
          43472,
          41466,
          42300,
          43319,
          43319,
          43319,
          40851,
          43319,
          41064,
          40904,
          36823,
          42189,
          67372,
          59407,
          68463,
          68895,
          66784,
          67054,
          65985,
          68895,
          68294,
          45334,
          42608,
          44833,
          44374,
          44569,
          44851,
          44846,
          44137,
          41721,
          40013,
          41797,
          43738,
          42127,
          43102,
          40989,
          44198,
          43418,
          40432,
          40875,
          41479,
          44297,
          43984,
          45032,
          88012,
          88103,
          88966,
          88668,
          84985,
          85986,
          83720,
          88235,
          88966,
          88966,
          42925,
          41663,
          44259,
          43983,
          43627,
          44097,
          44667,
          43893,
          39369,
          42662,
          42860,
          43649,
          44089,
          41378,
          43847,
          40875,
          39089,
          41823,
          39789,
          41232,
          43443,
          42523
         ],
         "xaxis": "x",
         "yaxis": "y"
        }
       ],
       "layout": {
        "barmode": "relative",
        "height": 500,
        "legend": {
         "font": {
          "color": "white"
         },
         "title": {
          "text": "variable"
         },
         "tracegroupgap": 0
        },
        "paper_bgcolor": "#383838",
        "plot_bgcolor": "#383838",
        "template": {
         "data": {
          "bar": [
           {
            "error_x": {
             "color": "#2a3f5f"
            },
            "error_y": {
             "color": "#2a3f5f"
            },
            "marker": {
             "line": {
              "color": "#E5ECF6",
              "width": 0.5
             },
             "pattern": {
              "fillmode": "overlay",
              "size": 10,
              "solidity": 0.2
             }
            },
            "type": "bar"
           }
          ],
          "barpolar": [
           {
            "marker": {
             "line": {
              "color": "#E5ECF6",
              "width": 0.5
             },
             "pattern": {
              "fillmode": "overlay",
              "size": 10,
              "solidity": 0.2
             }
            },
            "type": "barpolar"
           }
          ],
          "carpet": [
           {
            "aaxis": {
             "endlinecolor": "#2a3f5f",
             "gridcolor": "white",
             "linecolor": "white",
             "minorgridcolor": "white",
             "startlinecolor": "#2a3f5f"
            },
            "baxis": {
             "endlinecolor": "#2a3f5f",
             "gridcolor": "white",
             "linecolor": "white",
             "minorgridcolor": "white",
             "startlinecolor": "#2a3f5f"
            },
            "type": "carpet"
           }
          ],
          "choropleth": [
           {
            "colorbar": {
             "outlinewidth": 0,
             "ticks": ""
            },
            "type": "choropleth"
           }
          ],
          "contour": [
           {
            "colorbar": {
             "outlinewidth": 0,
             "ticks": ""
            },
            "colorscale": [
             [
              0,
              "#0d0887"
             ],
             [
              0.1111111111111111,
              "#46039f"
             ],
             [
              0.2222222222222222,
              "#7201a8"
             ],
             [
              0.3333333333333333,
              "#9c179e"
             ],
             [
              0.4444444444444444,
              "#bd3786"
             ],
             [
              0.5555555555555556,
              "#d8576b"
             ],
             [
              0.6666666666666666,
              "#ed7953"
             ],
             [
              0.7777777777777778,
              "#fb9f3a"
             ],
             [
              0.8888888888888888,
              "#fdca26"
             ],
             [
              1,
              "#f0f921"
             ]
            ],
            "type": "contour"
           }
          ],
          "contourcarpet": [
           {
            "colorbar": {
             "outlinewidth": 0,
             "ticks": ""
            },
            "type": "contourcarpet"
           }
          ],
          "heatmap": [
           {
            "colorbar": {
             "outlinewidth": 0,
             "ticks": ""
            },
            "colorscale": [
             [
              0,
              "#0d0887"
             ],
             [
              0.1111111111111111,
              "#46039f"
             ],
             [
              0.2222222222222222,
              "#7201a8"
             ],
             [
              0.3333333333333333,
              "#9c179e"
             ],
             [
              0.4444444444444444,
              "#bd3786"
             ],
             [
              0.5555555555555556,
              "#d8576b"
             ],
             [
              0.6666666666666666,
              "#ed7953"
             ],
             [
              0.7777777777777778,
              "#fb9f3a"
             ],
             [
              0.8888888888888888,
              "#fdca26"
             ],
             [
              1,
              "#f0f921"
             ]
            ],
            "type": "heatmap"
           }
          ],
          "heatmapgl": [
           {
            "colorbar": {
             "outlinewidth": 0,
             "ticks": ""
            },
            "colorscale": [
             [
              0,
              "#0d0887"
             ],
             [
              0.1111111111111111,
              "#46039f"
             ],
             [
              0.2222222222222222,
              "#7201a8"
             ],
             [
              0.3333333333333333,
              "#9c179e"
             ],
             [
              0.4444444444444444,
              "#bd3786"
             ],
             [
              0.5555555555555556,
              "#d8576b"
             ],
             [
              0.6666666666666666,
              "#ed7953"
             ],
             [
              0.7777777777777778,
              "#fb9f3a"
             ],
             [
              0.8888888888888888,
              "#fdca26"
             ],
             [
              1,
              "#f0f921"
             ]
            ],
            "type": "heatmapgl"
           }
          ],
          "histogram": [
           {
            "marker": {
             "pattern": {
              "fillmode": "overlay",
              "size": 10,
              "solidity": 0.2
             }
            },
            "type": "histogram"
           }
          ],
          "histogram2d": [
           {
            "colorbar": {
             "outlinewidth": 0,
             "ticks": ""
            },
            "colorscale": [
             [
              0,
              "#0d0887"
             ],
             [
              0.1111111111111111,
              "#46039f"
             ],
             [
              0.2222222222222222,
              "#7201a8"
             ],
             [
              0.3333333333333333,
              "#9c179e"
             ],
             [
              0.4444444444444444,
              "#bd3786"
             ],
             [
              0.5555555555555556,
              "#d8576b"
             ],
             [
              0.6666666666666666,
              "#ed7953"
             ],
             [
              0.7777777777777778,
              "#fb9f3a"
             ],
             [
              0.8888888888888888,
              "#fdca26"
             ],
             [
              1,
              "#f0f921"
             ]
            ],
            "type": "histogram2d"
           }
          ],
          "histogram2dcontour": [
           {
            "colorbar": {
             "outlinewidth": 0,
             "ticks": ""
            },
            "colorscale": [
             [
              0,
              "#0d0887"
             ],
             [
              0.1111111111111111,
              "#46039f"
             ],
             [
              0.2222222222222222,
              "#7201a8"
             ],
             [
              0.3333333333333333,
              "#9c179e"
             ],
             [
              0.4444444444444444,
              "#bd3786"
             ],
             [
              0.5555555555555556,
              "#d8576b"
             ],
             [
              0.6666666666666666,
              "#ed7953"
             ],
             [
              0.7777777777777778,
              "#fb9f3a"
             ],
             [
              0.8888888888888888,
              "#fdca26"
             ],
             [
              1,
              "#f0f921"
             ]
            ],
            "type": "histogram2dcontour"
           }
          ],
          "mesh3d": [
           {
            "colorbar": {
             "outlinewidth": 0,
             "ticks": ""
            },
            "type": "mesh3d"
           }
          ],
          "parcoords": [
           {
            "line": {
             "colorbar": {
              "outlinewidth": 0,
              "ticks": ""
             }
            },
            "type": "parcoords"
           }
          ],
          "pie": [
           {
            "automargin": true,
            "type": "pie"
           }
          ],
          "scatter": [
           {
            "fillpattern": {
             "fillmode": "overlay",
             "size": 10,
             "solidity": 0.2
            },
            "type": "scatter"
           }
          ],
          "scatter3d": [
           {
            "line": {
             "colorbar": {
              "outlinewidth": 0,
              "ticks": ""
             }
            },
            "marker": {
             "colorbar": {
              "outlinewidth": 0,
              "ticks": ""
             }
            },
            "type": "scatter3d"
           }
          ],
          "scattercarpet": [
           {
            "marker": {
             "colorbar": {
              "outlinewidth": 0,
              "ticks": ""
             }
            },
            "type": "scattercarpet"
           }
          ],
          "scattergeo": [
           {
            "marker": {
             "colorbar": {
              "outlinewidth": 0,
              "ticks": ""
             }
            },
            "type": "scattergeo"
           }
          ],
          "scattergl": [
           {
            "marker": {
             "colorbar": {
              "outlinewidth": 0,
              "ticks": ""
             }
            },
            "type": "scattergl"
           }
          ],
          "scattermapbox": [
           {
            "marker": {
             "colorbar": {
              "outlinewidth": 0,
              "ticks": ""
             }
            },
            "type": "scattermapbox"
           }
          ],
          "scatterpolar": [
           {
            "marker": {
             "colorbar": {
              "outlinewidth": 0,
              "ticks": ""
             }
            },
            "type": "scatterpolar"
           }
          ],
          "scatterpolargl": [
           {
            "marker": {
             "colorbar": {
              "outlinewidth": 0,
              "ticks": ""
             }
            },
            "type": "scatterpolargl"
           }
          ],
          "scatterternary": [
           {
            "marker": {
             "colorbar": {
              "outlinewidth": 0,
              "ticks": ""
             }
            },
            "type": "scatterternary"
           }
          ],
          "surface": [
           {
            "colorbar": {
             "outlinewidth": 0,
             "ticks": ""
            },
            "colorscale": [
             [
              0,
              "#0d0887"
             ],
             [
              0.1111111111111111,
              "#46039f"
             ],
             [
              0.2222222222222222,
              "#7201a8"
             ],
             [
              0.3333333333333333,
              "#9c179e"
             ],
             [
              0.4444444444444444,
              "#bd3786"
             ],
             [
              0.5555555555555556,
              "#d8576b"
             ],
             [
              0.6666666666666666,
              "#ed7953"
             ],
             [
              0.7777777777777778,
              "#fb9f3a"
             ],
             [
              0.8888888888888888,
              "#fdca26"
             ],
             [
              1,
              "#f0f921"
             ]
            ],
            "type": "surface"
           }
          ],
          "table": [
           {
            "cells": {
             "fill": {
              "color": "#EBF0F8"
             },
             "line": {
              "color": "white"
             }
            },
            "header": {
             "fill": {
              "color": "#C8D4E3"
             },
             "line": {
              "color": "white"
             }
            },
            "type": "table"
           }
          ]
         },
         "layout": {
          "annotationdefaults": {
           "arrowcolor": "#2a3f5f",
           "arrowhead": 0,
           "arrowwidth": 1
          },
          "autotypenumbers": "strict",
          "coloraxis": {
           "colorbar": {
            "outlinewidth": 0,
            "ticks": ""
           }
          },
          "colorscale": {
           "diverging": [
            [
             0,
             "#8e0152"
            ],
            [
             0.1,
             "#c51b7d"
            ],
            [
             0.2,
             "#de77ae"
            ],
            [
             0.3,
             "#f1b6da"
            ],
            [
             0.4,
             "#fde0ef"
            ],
            [
             0.5,
             "#f7f7f7"
            ],
            [
             0.6,
             "#e6f5d0"
            ],
            [
             0.7,
             "#b8e186"
            ],
            [
             0.8,
             "#7fbc41"
            ],
            [
             0.9,
             "#4d9221"
            ],
            [
             1,
             "#276419"
            ]
           ],
           "sequential": [
            [
             0,
             "#0d0887"
            ],
            [
             0.1111111111111111,
             "#46039f"
            ],
            [
             0.2222222222222222,
             "#7201a8"
            ],
            [
             0.3333333333333333,
             "#9c179e"
            ],
            [
             0.4444444444444444,
             "#bd3786"
            ],
            [
             0.5555555555555556,
             "#d8576b"
            ],
            [
             0.6666666666666666,
             "#ed7953"
            ],
            [
             0.7777777777777778,
             "#fb9f3a"
            ],
            [
             0.8888888888888888,
             "#fdca26"
            ],
            [
             1,
             "#f0f921"
            ]
           ],
           "sequentialminus": [
            [
             0,
             "#0d0887"
            ],
            [
             0.1111111111111111,
             "#46039f"
            ],
            [
             0.2222222222222222,
             "#7201a8"
            ],
            [
             0.3333333333333333,
             "#9c179e"
            ],
            [
             0.4444444444444444,
             "#bd3786"
            ],
            [
             0.5555555555555556,
             "#d8576b"
            ],
            [
             0.6666666666666666,
             "#ed7953"
            ],
            [
             0.7777777777777778,
             "#fb9f3a"
            ],
            [
             0.8888888888888888,
             "#fdca26"
            ],
            [
             1,
             "#f0f921"
            ]
           ]
          },
          "colorway": [
           "#636efa",
           "#EF553B",
           "#00cc96",
           "#ab63fa",
           "#FFA15A",
           "#19d3f3",
           "#FF6692",
           "#B6E880",
           "#FF97FF",
           "#FECB52"
          ],
          "font": {
           "color": "#2a3f5f"
          },
          "geo": {
           "bgcolor": "white",
           "lakecolor": "white",
           "landcolor": "#E5ECF6",
           "showlakes": true,
           "showland": true,
           "subunitcolor": "white"
          },
          "hoverlabel": {
           "align": "left"
          },
          "hovermode": "closest",
          "mapbox": {
           "style": "light"
          },
          "paper_bgcolor": "white",
          "plot_bgcolor": "#E5ECF6",
          "polar": {
           "angularaxis": {
            "gridcolor": "white",
            "linecolor": "white",
            "ticks": ""
           },
           "bgcolor": "#E5ECF6",
           "radialaxis": {
            "gridcolor": "white",
            "linecolor": "white",
            "ticks": ""
           }
          },
          "scene": {
           "xaxis": {
            "backgroundcolor": "#E5ECF6",
            "gridcolor": "white",
            "gridwidth": 2,
            "linecolor": "white",
            "showbackground": true,
            "ticks": "",
            "zerolinecolor": "white"
           },
           "yaxis": {
            "backgroundcolor": "#E5ECF6",
            "gridcolor": "white",
            "gridwidth": 2,
            "linecolor": "white",
            "showbackground": true,
            "ticks": "",
            "zerolinecolor": "white"
           },
           "zaxis": {
            "backgroundcolor": "#E5ECF6",
            "gridcolor": "white",
            "gridwidth": 2,
            "linecolor": "white",
            "showbackground": true,
            "ticks": "",
            "zerolinecolor": "white"
           }
          },
          "shapedefaults": {
           "line": {
            "color": "#2a3f5f"
           }
          },
          "ternary": {
           "aaxis": {
            "gridcolor": "white",
            "linecolor": "white",
            "ticks": ""
           },
           "baxis": {
            "gridcolor": "white",
            "linecolor": "white",
            "ticks": ""
           },
           "bgcolor": "#E5ECF6",
           "caxis": {
            "gridcolor": "white",
            "linecolor": "white",
            "ticks": ""
           }
          },
          "title": {
           "x": 0.05
          },
          "xaxis": {
           "automargin": true,
           "gridcolor": "white",
           "linecolor": "white",
           "ticks": "",
           "title": {
            "standoff": 15
           },
           "zerolinecolor": "white",
           "zerolinewidth": 2
          },
          "yaxis": {
           "automargin": true,
           "gridcolor": "white",
           "linecolor": "white",
           "ticks": "",
           "title": {
            "standoff": 15
           },
           "zerolinecolor": "white",
           "zerolinewidth": 2
          }
         }
        },
        "title": {
         "font": {
          "color": "white"
         },
         "text": "Attendance distribution"
        },
        "width": 1000,
        "xaxis": {
         "anchor": "y",
         "color": "white",
         "domain": [
          0,
          1
         ],
         "title": {
          "text": "Attendance"
         }
        },
        "yaxis": {
         "anchor": "x",
         "color": "white",
         "domain": [
          0,
          1
         ],
         "title": {
          "text": "count"
         }
        }
       }
      }
     },
     "metadata": {},
     "output_type": "display_data"
    }
   ],
   "source": [
    "a_2_fig  = px.histogram(final_match_df['Attendance'],\n",
    "             nbins=cal_freedman_rule(final_match_df,'Attendance')[0],\n",
    "             width=1000, height=500,title='Attendance distribution')\n",
    "a_2_fig  = a_2_fig.update_xaxes(title_text='Attendance')\n",
    "a_2_fig.update_layout(**layout_options)\n",
    "a_2_fig.show()"
   ]
  },
  {
   "attachments": {},
   "cell_type": "markdown",
   "metadata": {},
   "source": [
    "#### <strong> `The results:`</strong>"
   ]
  },
  {
   "attachments": {},
   "cell_type": "markdown",
   "metadata": {},
   "source": [
    "The largest number of attendance was between 170-180k, the smallest one was between 0-10k and in the common range of attendance was 40-50k."
   ]
  },
  {
   "attachments": {},
   "cell_type": "markdown",
   "metadata": {},
   "source": [
    "#### a.2.attendance distribution box plot:"
   ]
  },
  {
   "cell_type": "code",
   "execution_count": 91,
   "metadata": {},
   "outputs": [
    {
     "data": {
      "application/vnd.plotly.v1+json": {
       "config": {
        "plotlyServerURL": "https://plot.ly"
       },
       "data": [
        {
         "alignmentgroup": "True",
         "hovertemplate": "tournament_year=%{x}<br>Attendance=%{y}<extra></extra>",
         "legendgroup": "",
         "marker": {
          "color": "#636efa"
         },
         "name": "",
         "notched": false,
         "offsetgroup": "",
         "orientation": "v",
         "showlegend": false,
         "type": "box",
         "x": [
          1930,
          1930,
          1930,
          1930,
          1930,
          1930,
          1930,
          1930,
          1930,
          1930,
          1930,
          1930,
          1930,
          1930,
          1930,
          1930,
          1930,
          1930,
          1934,
          1934,
          1934,
          1934,
          1934,
          1934,
          1934,
          1934,
          1934,
          1934,
          1934,
          1934,
          1990,
          1990,
          1990,
          1990,
          1934,
          1934,
          1990,
          1990,
          1990,
          1990,
          1934,
          1934,
          1934,
          1990,
          1990,
          1990,
          1990,
          1990,
          1990,
          1938,
          1938,
          1938,
          1998,
          1998,
          1998,
          1998,
          1998,
          1998,
          1938,
          1938,
          1938,
          1938,
          1938,
          1938,
          1938,
          1938,
          1998,
          1998,
          1998,
          1998,
          1998,
          1998,
          1998,
          1938,
          1938,
          1938,
          1938,
          1938,
          1998,
          1998,
          1998,
          1998,
          1998,
          1998,
          1938,
          1938,
          1950,
          1950,
          1950,
          1950,
          1950,
          1950,
          1950,
          1950,
          2014,
          2014,
          2014,
          2014,
          2014,
          2014,
          2014,
          1950,
          1950,
          1950,
          1950,
          1950,
          1950,
          1950,
          1950,
          1950,
          1950,
          1950,
          1950,
          1950,
          1950,
          1954,
          1954,
          1954,
          1954,
          1954,
          1954,
          1954,
          1954,
          1954,
          1954,
          1954,
          1954,
          1954,
          1954,
          1954,
          1954,
          1954,
          1954,
          1954,
          1954,
          1954,
          1954,
          1954,
          1954,
          1954,
          1954,
          1958,
          1958,
          1958,
          1958,
          1958,
          1958,
          1958,
          1958,
          1958,
          1958,
          1958,
          1958,
          1958,
          1958,
          1958,
          1958,
          1958,
          1958,
          1958,
          1958,
          1958,
          1958,
          1958,
          1958,
          1958,
          1958,
          1958,
          1958,
          1958,
          1958,
          1958,
          1958,
          1958,
          1958,
          1958,
          1962,
          1962,
          1962,
          1962,
          1962,
          1962,
          1962,
          1962,
          1962,
          1962,
          1962,
          1962,
          1962,
          1962,
          1962,
          1962,
          1962,
          1962,
          1962,
          1962,
          1962,
          1962,
          1962,
          1962,
          1962,
          1962,
          1962,
          1962,
          1962,
          1962,
          1962,
          1962,
          1966,
          1966,
          1966,
          1966,
          1966,
          1966,
          1966,
          1966,
          1966,
          1966,
          1966,
          1966,
          1966,
          1966,
          1966,
          1966,
          1966,
          1966,
          1966,
          1966,
          1966,
          1966,
          1966,
          1966,
          1966,
          1966,
          1966,
          1966,
          1966,
          1966,
          1966,
          1966,
          1970,
          1970,
          1970,
          1970,
          1970,
          1970,
          1970,
          1970,
          1970,
          1970,
          1986,
          1986,
          1986,
          1986,
          1986,
          1986,
          1986,
          1986,
          1986,
          1970,
          1970,
          1970,
          1986,
          1986,
          1986,
          1986,
          1986,
          1970,
          1970,
          1970,
          1970,
          1970,
          1970,
          1970,
          1970,
          1986,
          1986,
          1986,
          1986,
          1986,
          1986,
          1970,
          1970,
          1970,
          1970,
          1970,
          1970,
          1970,
          1986,
          1986,
          1986,
          1986,
          1970,
          1970,
          1970,
          1970,
          1986,
          1986,
          1986,
          1974,
          1974,
          1974,
          1974,
          1974,
          2006,
          2006,
          2006,
          2006,
          2006,
          1974,
          1974,
          1974,
          2006,
          2006,
          2006,
          2006,
          2006,
          2006,
          1974,
          1974,
          1974,
          2006,
          2006,
          2006,
          2006,
          2006,
          1974,
          1974,
          1974,
          1974,
          2006,
          2006,
          2006,
          2006,
          2006,
          2006,
          1974,
          1974,
          1974,
          1974,
          1974,
          1974,
          1974,
          1974,
          1974,
          2006,
          2006,
          2006,
          2006,
          2006,
          1974,
          1974,
          1974,
          1974,
          1974,
          1974,
          1974,
          1974,
          1974,
          2006,
          2006,
          2006,
          2006,
          2006,
          2006,
          1974,
          1974,
          1974,
          1974,
          1974,
          1978,
          1978,
          1978,
          1978,
          1978,
          1978,
          1978,
          1978,
          1978,
          1978,
          1978,
          1978,
          1978,
          1978,
          1978,
          1978,
          1978,
          1978,
          1978,
          1978,
          1978,
          1978,
          1978,
          1978,
          1978,
          1978,
          1978,
          1978,
          1978,
          1978,
          1978,
          1978,
          1978,
          1978,
          1978,
          1978,
          1978,
          1978,
          1982,
          1982,
          1982,
          1982,
          1982,
          1982,
          1982,
          1982,
          1982,
          1982,
          1982,
          1982,
          1982,
          1982,
          1982,
          1982,
          1982,
          1982,
          1982,
          1982,
          1982,
          1982,
          1982,
          1982,
          1982,
          1982,
          1982,
          1982,
          1982,
          1982,
          1982,
          1982,
          1982,
          1982,
          1982,
          1982,
          1982,
          1982,
          1982,
          1982,
          1982,
          1982,
          1982,
          1982,
          1982,
          1982,
          1982,
          1982,
          1982,
          1982,
          1982,
          1982,
          1986,
          1986,
          1986,
          1986,
          1986,
          1986,
          1986,
          1986,
          1986,
          1986,
          1986,
          1986,
          1986,
          1986,
          1986,
          1986,
          1986,
          1986,
          1986,
          1986,
          1986,
          1986,
          1986,
          1986,
          1986,
          1990,
          1990,
          1990,
          1990,
          1990,
          1990,
          1990,
          1990,
          1990,
          1990,
          1990,
          1990,
          1990,
          1990,
          1990,
          1990,
          1990,
          1990,
          1990,
          1990,
          1990,
          1990,
          1990,
          1990,
          1990,
          1990,
          1990,
          1990,
          1990,
          1990,
          1990,
          1990,
          1990,
          1990,
          1990,
          1990,
          1990,
          1990,
          1994,
          1994,
          1994,
          1994,
          1994,
          1994,
          1994,
          1994,
          1994,
          1994,
          1994,
          1994,
          1994,
          1994,
          1994,
          1994,
          1994,
          1994,
          1994,
          1994,
          1994,
          1994,
          1994,
          1994,
          1994,
          1994,
          1994,
          1994,
          1994,
          1994,
          1994,
          1994,
          1994,
          1994,
          1994,
          1994,
          1994,
          1994,
          1994,
          1994,
          1994,
          1994,
          1994,
          1994,
          1994,
          1994,
          1994,
          1994,
          1994,
          1994,
          1994,
          1994,
          1998,
          1998,
          1998,
          1998,
          1998,
          1998,
          1998,
          1998,
          1998,
          1998,
          1998,
          1998,
          1998,
          1998,
          1998,
          1998,
          1998,
          1998,
          1998,
          1998,
          1998,
          1998,
          1998,
          1998,
          1998,
          1998,
          1998,
          1998,
          1998,
          1998,
          1998,
          1998,
          1998,
          1998,
          1998,
          1998,
          1998,
          1998,
          1998,
          1998,
          1998,
          1998,
          1998,
          1998,
          1998,
          2002,
          2002,
          2002,
          2002,
          2002,
          2002,
          2002,
          2002,
          2002,
          2002,
          2002,
          2002,
          2002,
          2002,
          2002,
          2002,
          2002,
          2002,
          2002,
          2002,
          2002,
          2002,
          2002,
          2002,
          2002,
          2002,
          2002,
          2002,
          2002,
          2002,
          2002,
          2002,
          2002,
          2002,
          2002,
          2002,
          2002,
          2002,
          2002,
          2002,
          2002,
          2002,
          2002,
          2002,
          2002,
          2002,
          2002,
          2002,
          2002,
          2002,
          2002,
          2002,
          2002,
          2002,
          2002,
          2002,
          2002,
          2002,
          2002,
          2002,
          2002,
          2002,
          2002,
          2002,
          2006,
          2006,
          2006,
          2006,
          2006,
          2006,
          2006,
          2006,
          2006,
          2006,
          2006,
          2006,
          2006,
          2006,
          2006,
          2006,
          2006,
          2006,
          2006,
          2006,
          2006,
          2006,
          2006,
          2006,
          2006,
          2006,
          2006,
          2006,
          2006,
          2006,
          2006,
          2010,
          2010,
          2010,
          2010,
          2010,
          2010,
          2010,
          2010,
          2010,
          2010,
          2010,
          2010,
          2010,
          2010,
          2010,
          2010,
          2010,
          2010,
          2010,
          2010,
          2010,
          2010,
          2010,
          2010,
          2010,
          2010,
          2010,
          2010,
          2010,
          2010,
          2010,
          2010,
          2010,
          2010,
          2010,
          2010,
          2010,
          2010,
          2010,
          2010,
          2010,
          2010,
          2010,
          2010,
          2010,
          2010,
          2010,
          2010,
          2010,
          2010,
          2010,
          2010,
          2010,
          2010,
          2010,
          2010,
          2010,
          2010,
          2010,
          2010,
          2010,
          2010,
          2010,
          2010,
          2014,
          2014,
          2014,
          2014,
          2014,
          2014,
          2014,
          2014,
          2014,
          2014,
          2014,
          2014,
          2014,
          2014,
          2014,
          2014,
          2014,
          2014,
          2014,
          2014,
          2014,
          2014,
          2014,
          2014,
          2014,
          2014,
          2014,
          2014,
          2014,
          2014,
          2014,
          2014,
          2014,
          2014,
          2014,
          2014,
          2014,
          2014,
          2014,
          2014,
          2014,
          2014,
          2014,
          2014,
          2014,
          2014,
          2014,
          2014,
          2014,
          2014,
          2014,
          2014,
          2014,
          2014,
          2014,
          2014,
          2014,
          2018,
          2018,
          2018,
          2018,
          2018,
          2018,
          2018,
          2018,
          2018,
          2018,
          2018,
          2018,
          2018,
          2018,
          2018,
          2018,
          2018,
          2018,
          2018,
          2018,
          2018,
          2018,
          2018,
          2018,
          2018,
          2018,
          2018,
          2018,
          2018,
          2018,
          2018,
          2018,
          2018,
          2018,
          2018,
          2018,
          2018,
          2018,
          2018,
          2018,
          2018,
          2018,
          2018,
          2018,
          2018,
          2018,
          2018,
          2018,
          2018,
          2018,
          2018,
          2018,
          2018,
          2018,
          2018,
          2018,
          2018,
          2018,
          2018,
          2018,
          2018,
          2018,
          2018,
          2018,
          2022,
          2022,
          2022,
          2022,
          2022,
          2022,
          2022,
          2022,
          2022,
          2022,
          2022,
          2022,
          2022,
          2022,
          2022,
          2022,
          2022,
          2022,
          2022,
          2022,
          2022,
          2022,
          2022,
          2022,
          2022,
          2022,
          2022,
          2022,
          2022,
          2022,
          2022,
          2022,
          2022,
          2022,
          2022,
          2022,
          2022,
          2022,
          2022,
          2022,
          2022,
          2022,
          2022,
          2022,
          2022,
          2022,
          2022,
          2022,
          2022,
          2022,
          2022,
          2022,
          2022,
          2022,
          2022,
          2022,
          2022,
          2022,
          2022,
          2022,
          2022,
          2022,
          2022,
          2022
         ],
         "x0": " ",
         "xaxis": "x",
         "y": [
          4444,
          2549,
          18346,
          24059,
          23409,
          9249,
          18306,
          18306,
          57735,
          2000,
          42100,
          25466,
          12000,
          70022,
          41459,
          72886,
          79867,
          68346,
          16000,
          12000,
          9000,
          8000,
          35000,
          43000,
          9000,
          7000,
          25000,
          15000,
          55000,
          21000,
          30867,
          31823,
          30223,
          31818,
          14000,
          23000,
          30791,
          32257,
          27833,
          34520,
          33000,
          3000,
          35000,
          73780,
          74765,
          71169,
          72510,
          74559,
          73347,
          27152,
          20025,
          20000,
          49000,
          48000,
          45500,
          45500,
          45500,
          44000,
          7000,
          8000,
          30454,
          58455,
          45000,
          9000,
          19000,
          33000,
          55000,
          54587,
          55000,
          57000,
          55000,
          60000,
          60000,
          13452,
          11000,
          22021,
          18141,
          12000,
          35200,
          31800,
          31800,
          31800,
          31800,
          31800,
          15000,
          7000,
          81649,
          29703,
          19790,
          142429,
          74462,
          138886,
          152772,
          173850,
          74738,
          74101,
          73819,
          73749,
          73804,
          74240,
          74738,
          7336,
          10151,
          5284,
          9511,
          7903,
          36502,
          42032,
          25811,
          44802,
          7987,
          11227,
          11078,
          3580,
          8501,
          13470,
          19000,
          4000,
          17000,
          16000,
          43000,
          24637,
          35000,
          45000,
          25000,
          13000,
          26000,
          17000,
          32000,
          20500,
          28000,
          43500,
          40000,
          62500,
          14000,
          34000,
          56000,
          30000,
          28000,
          58000,
          24000,
          34107,
          15150,
          38850,
          30287,
          2823,
          31900,
          27100,
          49737,
          31156,
          21990,
          6196,
          20055,
          10647,
          14174,
          16518,
          11665,
          11800,
          9591,
          12217,
          15343,
          13300,
          17788,
          49348,
          40895,
          50928,
          23182,
          25923,
          49471,
          32483,
          25000,
          16418,
          21239,
          15872,
          13554,
          13103,
          7908,
          9622,
          8829,
          8040,
          9973,
          7167,
          17268,
          65006,
          65440,
          66057,
          64922,
          67224,
          59828,
          63324,
          76594,
          66697,
          68679,
          10484,
          12700,
          14903,
          11875,
          18715,
          10648,
          17736,
          5890,
          7134,
          7938,
          9794,
          7442,
          7945,
          5700,
          11690,
          87148,
          69237,
          92570,
          61112,
          98270,
          90584,
          94493,
          87696,
          96924,
          36127,
          32028,
          32127,
          40007,
          47308,
          51387,
          58479,
          40248,
          38273,
          23006,
          13792,
          17829,
          42738,
          46587,
          42187,
          29886,
          25438,
          24129,
          27199,
          27793,
          16027,
          26844,
          45662,
          107160,
          92205,
          95261,
          103058,
          89979,
          108192,
          26085,
          102444,
          104403,
          107412,
          96000,
          110000,
          114600,
          103763,
          114580,
          98728,
          114580,
          114500,
          114600,
          20654,
          29968,
          18163,
          32000,
          20000,
          26000,
          45000,
          21000,
          50560,
          52897,
          56818,
          66843,
          50804,
          49292,
          54233,
          51261,
          35748,
          48000,
          51000,
          45000,
          65000,
          45000,
          13765,
          12942,
          13537,
          12710,
          17875,
          12299,
          23357,
          65500,
          36540,
          31420,
          32277,
          13433,
          9624,
          9890,
          26851,
          24000,
          20000,
          16000,
          62000,
          62000,
          56000,
          58000,
          62000,
          48000,
          48000,
          48000,
          48000,
          48000,
          81100,
          28300,
          17400,
          72000,
          72000,
          72000,
          72000,
          72000,
          69000,
          17000,
          53300,
          60200,
          49480,
          50000,
          50000,
          50000,
          50000,
          27000,
          53700,
          53300,
          53700,
          62959,
          65000,
          65000,
          65000,
          65000,
          65000,
          23800,
          28300,
          67385,
          67800,
          41300,
          55100,
          13400,
          59863,
          39400,
          43000,
          43000,
          43000,
          43000,
          43000,
          53000,
          25300,
          25900,
          77100,
          78200,
          32700,
          70100,
          70100,
          44955,
          52000,
          52000,
          52000,
          52000,
          52000,
          52000,
          31700,
          36200,
          56548,
          68348,
          54254,
          67579,
          71615,
          71666,
          71712,
          67547,
          66695,
          67433,
          69659,
          71483,
          42373,
          32569,
          26533,
          34771,
          23127,
          35221,
          17396,
          9624,
          22651,
          37091,
          37326,
          37315,
          40841,
          41424,
          42132,
          33431,
          28125,
          35130,
          31278,
          35288,
          39586,
          37927,
          35258,
          7938,
          30667,
          21262,
          25050,
          40750,
          38318,
          95000,
          65000,
          45000,
          65000,
          50000,
          33000,
          25000,
          20000,
          68000,
          70000,
          11000,
          19000,
          25000,
          23000,
          15000,
          37000,
          36000,
          19000,
          45000,
          42000,
          42000,
          41000,
          44172,
          41123,
          39700,
          49562,
          48000,
          49562,
          22500,
          22000,
          16000,
          25000,
          30043,
          28000,
          25000,
          15000,
          25000,
          32093,
          32500,
          28000,
          47379,
          43000,
          37000,
          20000,
          37000,
          43000,
          44000,
          44000,
          75000,
          90089,
          75000,
          90000,
          60000,
          45000,
          65000,
          70000,
          16500,
          13800,
          14200,
          19900,
          19915,
          22700,
          19800,
          41700,
          22000,
          28000,
          28000,
          23000,
          20200,
          23980,
          30500,
          30000,
          36000,
          38500,
          18000,
          26500,
          20000,
          42907,
          38687,
          37307,
          47673,
          51426,
          73303,
          73423,
          73303,
          73303,
          73303,
          73603,
          33266,
          38962,
          34857,
          38971,
          62628,
          58007,
          62502,
          61381,
          62628,
          35238,
          35267,
          34959,
          32790,
          33759,
          35950,
          35500,
          33288,
          33288,
          33288,
          35713,
          32733,
          29039,
          55759,
          52733,
          50026,
          55205,
          59978,
          63117,
          63113,
          63160,
          63089,
          60246,
          56247,
          44132,
          63998,
          63998,
          60277,
          63500,
          73425,
          61428,
          71528,
          77217,
          75338,
          74624,
          76322,
          72404,
          71030,
          72000,
          74110,
          91856,
          93194,
          93869,
          93869,
          90469,
          91856,
          91500,
          94194,
          61219,
          60790,
          62387,
          60578,
          61355,
          52395,
          50535,
          52535,
          52959,
          53121,
          81061,
          83401,
          83401,
          74914,
          84147,
          83500,
          54456,
          54453,
          54453,
          53001,
          54367,
          53400,
          80000,
          77000,
          80000,
          80000,
          80000,
          77000,
          80000,
          80000,
          80000,
          29750,
          27650,
          35500,
          35500,
          35500,
          29800,
          36500,
          33500,
          33500,
          33140,
          33400,
          33000,
          38100,
          38100,
          41275,
          41275,
          42000,
          31800,
          38000,
          38500,
          35500,
          39500,
          38500,
          49500,
          39100,
          43300,
          43300,
          39100,
          39100,
          43300,
          36000,
          36000,
          36000,
          36000,
          30600,
          30600,
          62561,
          43605,
          65625,
          33679,
          32239,
          40582,
          30157,
          33842,
          37337,
          32218,
          31081,
          35927,
          34050,
          35854,
          36472,
          25186,
          48760,
          38070,
          52721,
          55256,
          52328,
          61058,
          28588,
          27217,
          42114,
          30957,
          36194,
          40440,
          37306,
          33681,
          38524,
          38926,
          43500,
          47226,
          60778,
          63483,
          24000,
          31000,
          36380,
          36750,
          30176,
          25176,
          45610,
          45777,
          45666,
          42299,
          48100,
          50239,
          66108,
          65320,
          65862,
          69029,
          39700,
          39291,
          39747,
          47085,
          46640,
          47436,
          44864,
          45213,
          44233,
          31024,
          26482,
          38588,
          64950,
          66000,
          66000,
          66000,
          66000,
          66000,
          52000,
          52000,
          52000,
          52000,
          52000,
          37216,
          43000,
          43000,
          38000,
          43000,
          41000,
          41000,
          41000,
          41000,
          41000,
          45000,
          45000,
          45000,
          45000,
          45000,
          46000,
          46000,
          46000,
          46000,
          46000,
          84490,
          83465,
          82174,
          84455,
          83391,
          84377,
          84017,
          84490,
          64100,
          62869,
          64100,
          63644,
          63093,
          62955,
          64100,
          62479,
          31513,
          37034,
          38294,
          34872,
          36893,
          30597,
          40186,
          36254,
          55686,
          54331,
          45573,
          54386,
          53412,
          54096,
          55359,
          38646,
          23871,
          34812,
          33425,
          27967,
          34976,
          30325,
          35370,
          38891,
          34850,
          38833,
          42658,
          38074,
          35827,
          41958,
          36742,
          62660,
          62453,
          62010,
          61874,
          62712,
          61962,
          60960,
          30620,
          31593,
          26643,
          39415,
          28042,
          40510,
          32664,
          38229,
          37836,
          34763,
          62103,
          62575,
          62996,
          61397,
          63255,
          63267,
          39216,
          39760,
          39485,
          39706,
          48173,
          51081,
          51003,
          48011,
          51227,
          51179,
          40275,
          37603,
          40499,
          40340,
          57174,
          56800,
          57698,
          57823,
          57714,
          58141,
          58679,
          60342,
          59621,
          59095,
          58817,
          60342,
          39800,
          39982,
          40123,
          40322,
          40267,
          40285,
          41212,
          41876,
          41242,
          68351,
          68748,
          69112,
          67540,
          67882,
          68551,
          68034,
          43012,
          42877,
          42732,
          43285,
          43063,
          39081,
          39224,
          39375,
          39311,
          78011,
          78011,
          78011,
          78011,
          78011,
          78011,
          78011,
          27015,
          32789,
          32572,
          33061,
          62548,
          64468,
          64468,
          64468,
          64042,
          64286,
          64406,
          43866,
          43257,
          44287,
          44073,
          44287,
          44287,
          41279,
          42718,
          42873,
          41835,
          42873,
          42873,
          44190,
          44190,
          44190,
          44190,
          44190,
          40502,
          40842,
          41685,
          37168,
          31136,
          33167,
          33973,
          33973,
          41432,
          40727,
          41970,
          41970,
          41970,
          39991,
          43109,
          42678,
          43472,
          43472,
          41466,
          42300,
          43319,
          43319,
          43319,
          40851,
          43319,
          41064,
          40904,
          36823,
          42189,
          67372,
          59407,
          68463,
          68895,
          66784,
          67054,
          65985,
          68895,
          68294,
          45334,
          42608,
          44833,
          44374,
          44569,
          44851,
          44846,
          44137,
          41721,
          40013,
          41797,
          43738,
          42127,
          43102,
          40989,
          44198,
          43418,
          40432,
          40875,
          41479,
          44297,
          43984,
          45032,
          88012,
          88103,
          88966,
          88668,
          84985,
          85986,
          83720,
          88235,
          88966,
          88966,
          42925,
          41663,
          44259,
          43983,
          43627,
          44097,
          44667,
          43893,
          39369,
          42662,
          42860,
          43649,
          44089,
          41378,
          43847,
          40875,
          39089,
          41823,
          39789,
          41232,
          43443,
          42523
         ],
         "y0": " ",
         "yaxis": "y"
        }
       ],
       "layout": {
        "boxmode": "group",
        "height": 500,
        "legend": {
         "font": {
          "color": "white"
         },
         "tracegroupgap": 0
        },
        "paper_bgcolor": "#383838",
        "plot_bgcolor": "#383838",
        "template": {
         "data": {
          "bar": [
           {
            "error_x": {
             "color": "#2a3f5f"
            },
            "error_y": {
             "color": "#2a3f5f"
            },
            "marker": {
             "line": {
              "color": "#E5ECF6",
              "width": 0.5
             },
             "pattern": {
              "fillmode": "overlay",
              "size": 10,
              "solidity": 0.2
             }
            },
            "type": "bar"
           }
          ],
          "barpolar": [
           {
            "marker": {
             "line": {
              "color": "#E5ECF6",
              "width": 0.5
             },
             "pattern": {
              "fillmode": "overlay",
              "size": 10,
              "solidity": 0.2
             }
            },
            "type": "barpolar"
           }
          ],
          "carpet": [
           {
            "aaxis": {
             "endlinecolor": "#2a3f5f",
             "gridcolor": "white",
             "linecolor": "white",
             "minorgridcolor": "white",
             "startlinecolor": "#2a3f5f"
            },
            "baxis": {
             "endlinecolor": "#2a3f5f",
             "gridcolor": "white",
             "linecolor": "white",
             "minorgridcolor": "white",
             "startlinecolor": "#2a3f5f"
            },
            "type": "carpet"
           }
          ],
          "choropleth": [
           {
            "colorbar": {
             "outlinewidth": 0,
             "ticks": ""
            },
            "type": "choropleth"
           }
          ],
          "contour": [
           {
            "colorbar": {
             "outlinewidth": 0,
             "ticks": ""
            },
            "colorscale": [
             [
              0,
              "#0d0887"
             ],
             [
              0.1111111111111111,
              "#46039f"
             ],
             [
              0.2222222222222222,
              "#7201a8"
             ],
             [
              0.3333333333333333,
              "#9c179e"
             ],
             [
              0.4444444444444444,
              "#bd3786"
             ],
             [
              0.5555555555555556,
              "#d8576b"
             ],
             [
              0.6666666666666666,
              "#ed7953"
             ],
             [
              0.7777777777777778,
              "#fb9f3a"
             ],
             [
              0.8888888888888888,
              "#fdca26"
             ],
             [
              1,
              "#f0f921"
             ]
            ],
            "type": "contour"
           }
          ],
          "contourcarpet": [
           {
            "colorbar": {
             "outlinewidth": 0,
             "ticks": ""
            },
            "type": "contourcarpet"
           }
          ],
          "heatmap": [
           {
            "colorbar": {
             "outlinewidth": 0,
             "ticks": ""
            },
            "colorscale": [
             [
              0,
              "#0d0887"
             ],
             [
              0.1111111111111111,
              "#46039f"
             ],
             [
              0.2222222222222222,
              "#7201a8"
             ],
             [
              0.3333333333333333,
              "#9c179e"
             ],
             [
              0.4444444444444444,
              "#bd3786"
             ],
             [
              0.5555555555555556,
              "#d8576b"
             ],
             [
              0.6666666666666666,
              "#ed7953"
             ],
             [
              0.7777777777777778,
              "#fb9f3a"
             ],
             [
              0.8888888888888888,
              "#fdca26"
             ],
             [
              1,
              "#f0f921"
             ]
            ],
            "type": "heatmap"
           }
          ],
          "heatmapgl": [
           {
            "colorbar": {
             "outlinewidth": 0,
             "ticks": ""
            },
            "colorscale": [
             [
              0,
              "#0d0887"
             ],
             [
              0.1111111111111111,
              "#46039f"
             ],
             [
              0.2222222222222222,
              "#7201a8"
             ],
             [
              0.3333333333333333,
              "#9c179e"
             ],
             [
              0.4444444444444444,
              "#bd3786"
             ],
             [
              0.5555555555555556,
              "#d8576b"
             ],
             [
              0.6666666666666666,
              "#ed7953"
             ],
             [
              0.7777777777777778,
              "#fb9f3a"
             ],
             [
              0.8888888888888888,
              "#fdca26"
             ],
             [
              1,
              "#f0f921"
             ]
            ],
            "type": "heatmapgl"
           }
          ],
          "histogram": [
           {
            "marker": {
             "pattern": {
              "fillmode": "overlay",
              "size": 10,
              "solidity": 0.2
             }
            },
            "type": "histogram"
           }
          ],
          "histogram2d": [
           {
            "colorbar": {
             "outlinewidth": 0,
             "ticks": ""
            },
            "colorscale": [
             [
              0,
              "#0d0887"
             ],
             [
              0.1111111111111111,
              "#46039f"
             ],
             [
              0.2222222222222222,
              "#7201a8"
             ],
             [
              0.3333333333333333,
              "#9c179e"
             ],
             [
              0.4444444444444444,
              "#bd3786"
             ],
             [
              0.5555555555555556,
              "#d8576b"
             ],
             [
              0.6666666666666666,
              "#ed7953"
             ],
             [
              0.7777777777777778,
              "#fb9f3a"
             ],
             [
              0.8888888888888888,
              "#fdca26"
             ],
             [
              1,
              "#f0f921"
             ]
            ],
            "type": "histogram2d"
           }
          ],
          "histogram2dcontour": [
           {
            "colorbar": {
             "outlinewidth": 0,
             "ticks": ""
            },
            "colorscale": [
             [
              0,
              "#0d0887"
             ],
             [
              0.1111111111111111,
              "#46039f"
             ],
             [
              0.2222222222222222,
              "#7201a8"
             ],
             [
              0.3333333333333333,
              "#9c179e"
             ],
             [
              0.4444444444444444,
              "#bd3786"
             ],
             [
              0.5555555555555556,
              "#d8576b"
             ],
             [
              0.6666666666666666,
              "#ed7953"
             ],
             [
              0.7777777777777778,
              "#fb9f3a"
             ],
             [
              0.8888888888888888,
              "#fdca26"
             ],
             [
              1,
              "#f0f921"
             ]
            ],
            "type": "histogram2dcontour"
           }
          ],
          "mesh3d": [
           {
            "colorbar": {
             "outlinewidth": 0,
             "ticks": ""
            },
            "type": "mesh3d"
           }
          ],
          "parcoords": [
           {
            "line": {
             "colorbar": {
              "outlinewidth": 0,
              "ticks": ""
             }
            },
            "type": "parcoords"
           }
          ],
          "pie": [
           {
            "automargin": true,
            "type": "pie"
           }
          ],
          "scatter": [
           {
            "fillpattern": {
             "fillmode": "overlay",
             "size": 10,
             "solidity": 0.2
            },
            "type": "scatter"
           }
          ],
          "scatter3d": [
           {
            "line": {
             "colorbar": {
              "outlinewidth": 0,
              "ticks": ""
             }
            },
            "marker": {
             "colorbar": {
              "outlinewidth": 0,
              "ticks": ""
             }
            },
            "type": "scatter3d"
           }
          ],
          "scattercarpet": [
           {
            "marker": {
             "colorbar": {
              "outlinewidth": 0,
              "ticks": ""
             }
            },
            "type": "scattercarpet"
           }
          ],
          "scattergeo": [
           {
            "marker": {
             "colorbar": {
              "outlinewidth": 0,
              "ticks": ""
             }
            },
            "type": "scattergeo"
           }
          ],
          "scattergl": [
           {
            "marker": {
             "colorbar": {
              "outlinewidth": 0,
              "ticks": ""
             }
            },
            "type": "scattergl"
           }
          ],
          "scattermapbox": [
           {
            "marker": {
             "colorbar": {
              "outlinewidth": 0,
              "ticks": ""
             }
            },
            "type": "scattermapbox"
           }
          ],
          "scatterpolar": [
           {
            "marker": {
             "colorbar": {
              "outlinewidth": 0,
              "ticks": ""
             }
            },
            "type": "scatterpolar"
           }
          ],
          "scatterpolargl": [
           {
            "marker": {
             "colorbar": {
              "outlinewidth": 0,
              "ticks": ""
             }
            },
            "type": "scatterpolargl"
           }
          ],
          "scatterternary": [
           {
            "marker": {
             "colorbar": {
              "outlinewidth": 0,
              "ticks": ""
             }
            },
            "type": "scatterternary"
           }
          ],
          "surface": [
           {
            "colorbar": {
             "outlinewidth": 0,
             "ticks": ""
            },
            "colorscale": [
             [
              0,
              "#0d0887"
             ],
             [
              0.1111111111111111,
              "#46039f"
             ],
             [
              0.2222222222222222,
              "#7201a8"
             ],
             [
              0.3333333333333333,
              "#9c179e"
             ],
             [
              0.4444444444444444,
              "#bd3786"
             ],
             [
              0.5555555555555556,
              "#d8576b"
             ],
             [
              0.6666666666666666,
              "#ed7953"
             ],
             [
              0.7777777777777778,
              "#fb9f3a"
             ],
             [
              0.8888888888888888,
              "#fdca26"
             ],
             [
              1,
              "#f0f921"
             ]
            ],
            "type": "surface"
           }
          ],
          "table": [
           {
            "cells": {
             "fill": {
              "color": "#EBF0F8"
             },
             "line": {
              "color": "white"
             }
            },
            "header": {
             "fill": {
              "color": "#C8D4E3"
             },
             "line": {
              "color": "white"
             }
            },
            "type": "table"
           }
          ]
         },
         "layout": {
          "annotationdefaults": {
           "arrowcolor": "#2a3f5f",
           "arrowhead": 0,
           "arrowwidth": 1
          },
          "autotypenumbers": "strict",
          "coloraxis": {
           "colorbar": {
            "outlinewidth": 0,
            "ticks": ""
           }
          },
          "colorscale": {
           "diverging": [
            [
             0,
             "#8e0152"
            ],
            [
             0.1,
             "#c51b7d"
            ],
            [
             0.2,
             "#de77ae"
            ],
            [
             0.3,
             "#f1b6da"
            ],
            [
             0.4,
             "#fde0ef"
            ],
            [
             0.5,
             "#f7f7f7"
            ],
            [
             0.6,
             "#e6f5d0"
            ],
            [
             0.7,
             "#b8e186"
            ],
            [
             0.8,
             "#7fbc41"
            ],
            [
             0.9,
             "#4d9221"
            ],
            [
             1,
             "#276419"
            ]
           ],
           "sequential": [
            [
             0,
             "#0d0887"
            ],
            [
             0.1111111111111111,
             "#46039f"
            ],
            [
             0.2222222222222222,
             "#7201a8"
            ],
            [
             0.3333333333333333,
             "#9c179e"
            ],
            [
             0.4444444444444444,
             "#bd3786"
            ],
            [
             0.5555555555555556,
             "#d8576b"
            ],
            [
             0.6666666666666666,
             "#ed7953"
            ],
            [
             0.7777777777777778,
             "#fb9f3a"
            ],
            [
             0.8888888888888888,
             "#fdca26"
            ],
            [
             1,
             "#f0f921"
            ]
           ],
           "sequentialminus": [
            [
             0,
             "#0d0887"
            ],
            [
             0.1111111111111111,
             "#46039f"
            ],
            [
             0.2222222222222222,
             "#7201a8"
            ],
            [
             0.3333333333333333,
             "#9c179e"
            ],
            [
             0.4444444444444444,
             "#bd3786"
            ],
            [
             0.5555555555555556,
             "#d8576b"
            ],
            [
             0.6666666666666666,
             "#ed7953"
            ],
            [
             0.7777777777777778,
             "#fb9f3a"
            ],
            [
             0.8888888888888888,
             "#fdca26"
            ],
            [
             1,
             "#f0f921"
            ]
           ]
          },
          "colorway": [
           "#636efa",
           "#EF553B",
           "#00cc96",
           "#ab63fa",
           "#FFA15A",
           "#19d3f3",
           "#FF6692",
           "#B6E880",
           "#FF97FF",
           "#FECB52"
          ],
          "font": {
           "color": "#2a3f5f"
          },
          "geo": {
           "bgcolor": "white",
           "lakecolor": "white",
           "landcolor": "#E5ECF6",
           "showlakes": true,
           "showland": true,
           "subunitcolor": "white"
          },
          "hoverlabel": {
           "align": "left"
          },
          "hovermode": "closest",
          "mapbox": {
           "style": "light"
          },
          "paper_bgcolor": "white",
          "plot_bgcolor": "#E5ECF6",
          "polar": {
           "angularaxis": {
            "gridcolor": "white",
            "linecolor": "white",
            "ticks": ""
           },
           "bgcolor": "#E5ECF6",
           "radialaxis": {
            "gridcolor": "white",
            "linecolor": "white",
            "ticks": ""
           }
          },
          "scene": {
           "xaxis": {
            "backgroundcolor": "#E5ECF6",
            "gridcolor": "white",
            "gridwidth": 2,
            "linecolor": "white",
            "showbackground": true,
            "ticks": "",
            "zerolinecolor": "white"
           },
           "yaxis": {
            "backgroundcolor": "#E5ECF6",
            "gridcolor": "white",
            "gridwidth": 2,
            "linecolor": "white",
            "showbackground": true,
            "ticks": "",
            "zerolinecolor": "white"
           },
           "zaxis": {
            "backgroundcolor": "#E5ECF6",
            "gridcolor": "white",
            "gridwidth": 2,
            "linecolor": "white",
            "showbackground": true,
            "ticks": "",
            "zerolinecolor": "white"
           }
          },
          "shapedefaults": {
           "line": {
            "color": "#2a3f5f"
           }
          },
          "ternary": {
           "aaxis": {
            "gridcolor": "white",
            "linecolor": "white",
            "ticks": ""
           },
           "baxis": {
            "gridcolor": "white",
            "linecolor": "white",
            "ticks": ""
           },
           "bgcolor": "#E5ECF6",
           "caxis": {
            "gridcolor": "white",
            "linecolor": "white",
            "ticks": ""
           }
          },
          "title": {
           "x": 0.05
          },
          "xaxis": {
           "automargin": true,
           "gridcolor": "white",
           "linecolor": "white",
           "ticks": "",
           "title": {
            "standoff": 15
           },
           "zerolinecolor": "white",
           "zerolinewidth": 2
          },
          "yaxis": {
           "automargin": true,
           "gridcolor": "white",
           "linecolor": "white",
           "ticks": "",
           "title": {
            "standoff": 15
           },
           "zerolinecolor": "white",
           "zerolinewidth": 2
          }
         }
        },
        "title": {
         "font": {
          "color": "white"
         },
         "text": "Attendance distribution"
        },
        "width": 1000,
        "xaxis": {
         "anchor": "y",
         "color": "white",
         "domain": [
          0,
          1
         ],
         "title": {
          "text": "tournament_year"
         }
        },
        "yaxis": {
         "anchor": "x",
         "color": "white",
         "domain": [
          0,
          1
         ],
         "title": {
          "text": "Attendance"
         }
        }
       }
      }
     },
     "metadata": {},
     "output_type": "display_data"
    }
   ],
   "source": [
    "a_2_fig = px.box(final_match_df,\n",
    "                 y='Attendance',x='tournament_year',\n",
    "                 width=1000, height=500,title='Attendance distribution')\n",
    "a_2_fig.update_layout(**layout_options)\n",
    "a_2_fig.show()"
   ]
  },
  {
   "attachments": {},
   "cell_type": "markdown",
   "metadata": {},
   "source": [
    "#### <strong> `The results:`</strong>"
   ]
  },
  {
   "attachments": {},
   "cell_type": "markdown",
   "metadata": {},
   "source": [
    "* The largest number of attendance was in 1950 (173k) in the finall match between Uruguay and Brazil when Brazil was the host country and the main resoan for that is it was the first world cup after WW2 and also Brazil and Urguay are near to each other and that match was in Brazil and that make it easy to teams fans to come to the match also both country has larg population.\n",
    "* The attendance number has the largest spread in 1950."
   ]
  },
  {
   "attachments": {},
   "cell_type": "markdown",
   "metadata": {},
   "source": [
    "#### <strong> `Refrences:` </strong>"
   ]
  },
  {
   "attachments": {},
   "cell_type": "markdown",
   "metadata": {},
   "source": [
    "* https://en.wikipedia.org/wiki/1950_FIFA_World_Cup"
   ]
  },
  {
   "attachments": {},
   "cell_type": "markdown",
   "metadata": {},
   "source": [
    "### b.Goals Analysis:"
   ]
  },
  {
   "cell_type": "code",
   "execution_count": 92,
   "metadata": {},
   "outputs": [],
   "source": [
    "# create datafram for goals analysis:\n",
    "b_goals_df = goals_df.copy()[['family_name','given_name','tournament_name','team_name',\n",
    "                            'minute_regulation','minute_stoppage','match_period','late_goal','stage_name']]"
   ]
  },
  {
   "cell_type": "code",
   "execution_count": 93,
   "metadata": {},
   "outputs": [
    {
     "data": {
      "text/html": [
       "<div>\n",
       "<style scoped>\n",
       "    .dataframe tbody tr th:only-of-type {\n",
       "        vertical-align: middle;\n",
       "    }\n",
       "\n",
       "    .dataframe tbody tr th {\n",
       "        vertical-align: top;\n",
       "    }\n",
       "\n",
       "    .dataframe thead th {\n",
       "        text-align: right;\n",
       "    }\n",
       "</style>\n",
       "<table border=\"1\" class=\"dataframe\">\n",
       "  <thead>\n",
       "    <tr style=\"text-align: right;\">\n",
       "      <th></th>\n",
       "      <th>family_name</th>\n",
       "      <th>given_name</th>\n",
       "      <th>tournament_name</th>\n",
       "      <th>team_name</th>\n",
       "      <th>minute_regulation</th>\n",
       "      <th>minute_stoppage</th>\n",
       "      <th>match_period</th>\n",
       "      <th>late_goal</th>\n",
       "      <th>stage_name</th>\n",
       "    </tr>\n",
       "  </thead>\n",
       "  <tbody>\n",
       "    <tr>\n",
       "      <th>0</th>\n",
       "      <td>Laurent</td>\n",
       "      <td>Lucien</td>\n",
       "      <td>1930 FIFA World Cup</td>\n",
       "      <td>France</td>\n",
       "      <td>19</td>\n",
       "      <td>0</td>\n",
       "      <td>first half</td>\n",
       "      <td>0</td>\n",
       "      <td>group stage</td>\n",
       "    </tr>\n",
       "    <tr>\n",
       "      <th>1</th>\n",
       "      <td>Langiller</td>\n",
       "      <td>Marcel</td>\n",
       "      <td>1930 FIFA World Cup</td>\n",
       "      <td>France</td>\n",
       "      <td>40</td>\n",
       "      <td>0</td>\n",
       "      <td>first half</td>\n",
       "      <td>0</td>\n",
       "      <td>group stage</td>\n",
       "    </tr>\n",
       "    <tr>\n",
       "      <th>2</th>\n",
       "      <td>Maschinot</td>\n",
       "      <td>André</td>\n",
       "      <td>1930 FIFA World Cup</td>\n",
       "      <td>France</td>\n",
       "      <td>43</td>\n",
       "      <td>0</td>\n",
       "      <td>first half</td>\n",
       "      <td>0</td>\n",
       "      <td>group stage</td>\n",
       "    </tr>\n",
       "    <tr>\n",
       "      <th>3</th>\n",
       "      <td>Carreño</td>\n",
       "      <td>Juan</td>\n",
       "      <td>1930 FIFA World Cup</td>\n",
       "      <td>Mexico</td>\n",
       "      <td>70</td>\n",
       "      <td>0</td>\n",
       "      <td>second half</td>\n",
       "      <td>0</td>\n",
       "      <td>group stage</td>\n",
       "    </tr>\n",
       "    <tr>\n",
       "      <th>4</th>\n",
       "      <td>Maschinot</td>\n",
       "      <td>André</td>\n",
       "      <td>1930 FIFA World Cup</td>\n",
       "      <td>France</td>\n",
       "      <td>87</td>\n",
       "      <td>0</td>\n",
       "      <td>second half</td>\n",
       "      <td>0</td>\n",
       "      <td>group stage</td>\n",
       "    </tr>\n",
       "  </tbody>\n",
       "</table>\n",
       "</div>"
      ],
      "text/plain": [
       "  family_name given_name      tournament_name team_name  minute_regulation  \\\n",
       "0     Laurent     Lucien  1930 FIFA World Cup    France                 19   \n",
       "1   Langiller     Marcel  1930 FIFA World Cup    France                 40   \n",
       "2   Maschinot      André  1930 FIFA World Cup    France                 43   \n",
       "3     Carreño       Juan  1930 FIFA World Cup    Mexico                 70   \n",
       "4   Maschinot      André  1930 FIFA World Cup    France                 87   \n",
       "\n",
       "   minute_stoppage match_period  late_goal   stage_name  \n",
       "0                0   first half          0  group stage  \n",
       "1                0   first half          0  group stage  \n",
       "2                0   first half          0  group stage  \n",
       "3                0  second half          0  group stage  \n",
       "4                0  second half          0  group stage  "
      ]
     },
     "execution_count": 93,
     "metadata": {},
     "output_type": "execute_result"
    }
   ],
   "source": [
    "b_goals_df.head()"
   ]
  },
  {
   "attachments": {},
   "cell_type": "markdown",
   "metadata": {},
   "source": [
    "#### b.1.Goal minute mean and median plot:"
   ]
  },
  {
   "cell_type": "code",
   "execution_count": 94,
   "metadata": {},
   "outputs": [],
   "source": [
    "# Create b_goals_df dataframe for b exercises\n",
    "b_goals_df['goal_minute'] = b_goals_df['minute_regulation'] + b_goals_df['minute_stoppage']"
   ]
  },
  {
   "cell_type": "code",
   "execution_count": 95,
   "metadata": {},
   "outputs": [
    {
     "data": {
      "text/html": [
       "<div>\n",
       "<style scoped>\n",
       "    .dataframe tbody tr th:only-of-type {\n",
       "        vertical-align: middle;\n",
       "    }\n",
       "\n",
       "    .dataframe tbody tr th {\n",
       "        vertical-align: top;\n",
       "    }\n",
       "\n",
       "    .dataframe thead th {\n",
       "        text-align: right;\n",
       "    }\n",
       "</style>\n",
       "<table border=\"1\" class=\"dataframe\">\n",
       "  <thead>\n",
       "    <tr style=\"text-align: right;\">\n",
       "      <th></th>\n",
       "      <th>family_name</th>\n",
       "      <th>given_name</th>\n",
       "      <th>tournament_name</th>\n",
       "      <th>team_name</th>\n",
       "      <th>minute_regulation</th>\n",
       "      <th>minute_stoppage</th>\n",
       "      <th>match_period</th>\n",
       "      <th>late_goal</th>\n",
       "      <th>stage_name</th>\n",
       "      <th>goal_minute</th>\n",
       "    </tr>\n",
       "  </thead>\n",
       "  <tbody>\n",
       "    <tr>\n",
       "      <th>0</th>\n",
       "      <td>Laurent</td>\n",
       "      <td>Lucien</td>\n",
       "      <td>1930 FIFA World Cup</td>\n",
       "      <td>France</td>\n",
       "      <td>19</td>\n",
       "      <td>0</td>\n",
       "      <td>first half</td>\n",
       "      <td>0</td>\n",
       "      <td>group stage</td>\n",
       "      <td>19</td>\n",
       "    </tr>\n",
       "    <tr>\n",
       "      <th>1</th>\n",
       "      <td>Langiller</td>\n",
       "      <td>Marcel</td>\n",
       "      <td>1930 FIFA World Cup</td>\n",
       "      <td>France</td>\n",
       "      <td>40</td>\n",
       "      <td>0</td>\n",
       "      <td>first half</td>\n",
       "      <td>0</td>\n",
       "      <td>group stage</td>\n",
       "      <td>40</td>\n",
       "    </tr>\n",
       "    <tr>\n",
       "      <th>2</th>\n",
       "      <td>Maschinot</td>\n",
       "      <td>André</td>\n",
       "      <td>1930 FIFA World Cup</td>\n",
       "      <td>France</td>\n",
       "      <td>43</td>\n",
       "      <td>0</td>\n",
       "      <td>first half</td>\n",
       "      <td>0</td>\n",
       "      <td>group stage</td>\n",
       "      <td>43</td>\n",
       "    </tr>\n",
       "    <tr>\n",
       "      <th>3</th>\n",
       "      <td>Carreño</td>\n",
       "      <td>Juan</td>\n",
       "      <td>1930 FIFA World Cup</td>\n",
       "      <td>Mexico</td>\n",
       "      <td>70</td>\n",
       "      <td>0</td>\n",
       "      <td>second half</td>\n",
       "      <td>0</td>\n",
       "      <td>group stage</td>\n",
       "      <td>70</td>\n",
       "    </tr>\n",
       "    <tr>\n",
       "      <th>4</th>\n",
       "      <td>Maschinot</td>\n",
       "      <td>André</td>\n",
       "      <td>1930 FIFA World Cup</td>\n",
       "      <td>France</td>\n",
       "      <td>87</td>\n",
       "      <td>0</td>\n",
       "      <td>second half</td>\n",
       "      <td>0</td>\n",
       "      <td>group stage</td>\n",
       "      <td>87</td>\n",
       "    </tr>\n",
       "  </tbody>\n",
       "</table>\n",
       "</div>"
      ],
      "text/plain": [
       "  family_name given_name      tournament_name team_name  minute_regulation  \\\n",
       "0     Laurent     Lucien  1930 FIFA World Cup    France                 19   \n",
       "1   Langiller     Marcel  1930 FIFA World Cup    France                 40   \n",
       "2   Maschinot      André  1930 FIFA World Cup    France                 43   \n",
       "3     Carreño       Juan  1930 FIFA World Cup    Mexico                 70   \n",
       "4   Maschinot      André  1930 FIFA World Cup    France                 87   \n",
       "\n",
       "   minute_stoppage match_period  late_goal   stage_name  goal_minute  \n",
       "0                0   first half          0  group stage           19  \n",
       "1                0   first half          0  group stage           40  \n",
       "2                0   first half          0  group stage           43  \n",
       "3                0  second half          0  group stage           70  \n",
       "4                0  second half          0  group stage           87  "
      ]
     },
     "execution_count": 95,
     "metadata": {},
     "output_type": "execute_result"
    }
   ],
   "source": [
    "b_goals_df.head()"
   ]
  },
  {
   "cell_type": "code",
   "execution_count": 96,
   "metadata": {},
   "outputs": [],
   "source": [
    "mean_median_df = pd.DataFrame(b_goals_df.groupby('tournament_name')['goal_minute'].agg(['mean','median']))"
   ]
  },
  {
   "cell_type": "code",
   "execution_count": 97,
   "metadata": {},
   "outputs": [
    {
     "data": {
      "application/vnd.plotly.v1+json": {
       "config": {
        "plotlyServerURL": "https://plot.ly"
       },
       "data": [
        {
         "alignmentgroup": "True",
         "hovertemplate": "variable=mean<br>tournament_name=%{x}<br>value=%{y}<extra></extra>",
         "legendgroup": "mean",
         "marker": {
          "color": "#636efa",
          "pattern": {
           "shape": ""
          }
         },
         "name": "mean",
         "offsetgroup": "mean",
         "orientation": "v",
         "showlegend": true,
         "textposition": "auto",
         "type": "bar",
         "x": [
          "1930 FIFA World Cup",
          "1934 FIFA World Cup",
          "1938 FIFA World Cup",
          "1950 FIFA World Cup",
          "1954 FIFA World Cup",
          "1958 FIFA World Cup",
          "1962 FIFA World Cup",
          "1966 FIFA World Cup",
          "1970 FIFA World Cup",
          "1974 FIFA World Cup",
          "1978 FIFA World Cup",
          "1982 FIFA World Cup",
          "1986 FIFA World Cup",
          "1990 FIFA World Cup",
          "1994 FIFA World Cup",
          "1998 FIFA World Cup",
          "2002 FIFA World Cup",
          "2006 FIFA World Cup",
          "2010 FIFA World Cup",
          "2014 FIFA World Cup",
          "2018 FIFA World Cup",
          "2022 FIFA World Cup"
         ],
         "xaxis": "x",
         "y": [
          48.1,
          48.214285714285715,
          53.214285714285715,
          48.85227272727273,
          48.121428571428574,
          48.26190476190476,
          48.146067415730336,
          50.50561797752809,
          54.2,
          47.94845360824742,
          50.07843137254902,
          52.842465753424655,
          51.265151515151516,
          59.33913043478261,
          49.53900709219858,
          52.3859649122807,
          50.46583850931677,
          50.61224489795919,
          52.90344827586207,
          55.30994152046784,
          53.650887573964496,
          55.73255813953488
         ],
         "yaxis": "y"
        },
        {
         "alignmentgroup": "True",
         "hovertemplate": "variable=median<br>tournament_name=%{x}<br>value=%{y}<extra></extra>",
         "legendgroup": "median",
         "marker": {
          "color": "#EF553B",
          "pattern": {
           "shape": ""
          }
         },
         "name": "median",
         "offsetgroup": "median",
         "orientation": "v",
         "showlegend": true,
         "textposition": "auto",
         "type": "bar",
         "x": [
          "1930 FIFA World Cup",
          "1934 FIFA World Cup",
          "1938 FIFA World Cup",
          "1950 FIFA World Cup",
          "1954 FIFA World Cup",
          "1958 FIFA World Cup",
          "1962 FIFA World Cup",
          "1966 FIFA World Cup",
          "1970 FIFA World Cup",
          "1974 FIFA World Cup",
          "1978 FIFA World Cup",
          "1982 FIFA World Cup",
          "1986 FIFA World Cup",
          "1990 FIFA World Cup",
          "1994 FIFA World Cup",
          "1998 FIFA World Cup",
          "2002 FIFA World Cup",
          "2006 FIFA World Cup",
          "2010 FIFA World Cup",
          "2014 FIFA World Cup",
          "2018 FIFA World Cup",
          "2022 FIFA World Cup"
         ],
         "xaxis": "x",
         "y": [
          52.5,
          49,
          51,
          48,
          48,
          52,
          53,
          52,
          56,
          50,
          45.5,
          58.5,
          55.5,
          63,
          48,
          50,
          52,
          49,
          53,
          58,
          54,
          54.5
         ],
         "yaxis": "y"
        }
       ],
       "layout": {
        "barmode": "group",
        "height": 500,
        "legend": {
         "font": {
          "color": "white"
         },
         "title": {
          "text": "variable"
         },
         "tracegroupgap": 0
        },
        "paper_bgcolor": "#383838",
        "plot_bgcolor": "#383838",
        "template": {
         "data": {
          "bar": [
           {
            "error_x": {
             "color": "#2a3f5f"
            },
            "error_y": {
             "color": "#2a3f5f"
            },
            "marker": {
             "line": {
              "color": "#E5ECF6",
              "width": 0.5
             },
             "pattern": {
              "fillmode": "overlay",
              "size": 10,
              "solidity": 0.2
             }
            },
            "type": "bar"
           }
          ],
          "barpolar": [
           {
            "marker": {
             "line": {
              "color": "#E5ECF6",
              "width": 0.5
             },
             "pattern": {
              "fillmode": "overlay",
              "size": 10,
              "solidity": 0.2
             }
            },
            "type": "barpolar"
           }
          ],
          "carpet": [
           {
            "aaxis": {
             "endlinecolor": "#2a3f5f",
             "gridcolor": "white",
             "linecolor": "white",
             "minorgridcolor": "white",
             "startlinecolor": "#2a3f5f"
            },
            "baxis": {
             "endlinecolor": "#2a3f5f",
             "gridcolor": "white",
             "linecolor": "white",
             "minorgridcolor": "white",
             "startlinecolor": "#2a3f5f"
            },
            "type": "carpet"
           }
          ],
          "choropleth": [
           {
            "colorbar": {
             "outlinewidth": 0,
             "ticks": ""
            },
            "type": "choropleth"
           }
          ],
          "contour": [
           {
            "colorbar": {
             "outlinewidth": 0,
             "ticks": ""
            },
            "colorscale": [
             [
              0,
              "#0d0887"
             ],
             [
              0.1111111111111111,
              "#46039f"
             ],
             [
              0.2222222222222222,
              "#7201a8"
             ],
             [
              0.3333333333333333,
              "#9c179e"
             ],
             [
              0.4444444444444444,
              "#bd3786"
             ],
             [
              0.5555555555555556,
              "#d8576b"
             ],
             [
              0.6666666666666666,
              "#ed7953"
             ],
             [
              0.7777777777777778,
              "#fb9f3a"
             ],
             [
              0.8888888888888888,
              "#fdca26"
             ],
             [
              1,
              "#f0f921"
             ]
            ],
            "type": "contour"
           }
          ],
          "contourcarpet": [
           {
            "colorbar": {
             "outlinewidth": 0,
             "ticks": ""
            },
            "type": "contourcarpet"
           }
          ],
          "heatmap": [
           {
            "colorbar": {
             "outlinewidth": 0,
             "ticks": ""
            },
            "colorscale": [
             [
              0,
              "#0d0887"
             ],
             [
              0.1111111111111111,
              "#46039f"
             ],
             [
              0.2222222222222222,
              "#7201a8"
             ],
             [
              0.3333333333333333,
              "#9c179e"
             ],
             [
              0.4444444444444444,
              "#bd3786"
             ],
             [
              0.5555555555555556,
              "#d8576b"
             ],
             [
              0.6666666666666666,
              "#ed7953"
             ],
             [
              0.7777777777777778,
              "#fb9f3a"
             ],
             [
              0.8888888888888888,
              "#fdca26"
             ],
             [
              1,
              "#f0f921"
             ]
            ],
            "type": "heatmap"
           }
          ],
          "heatmapgl": [
           {
            "colorbar": {
             "outlinewidth": 0,
             "ticks": ""
            },
            "colorscale": [
             [
              0,
              "#0d0887"
             ],
             [
              0.1111111111111111,
              "#46039f"
             ],
             [
              0.2222222222222222,
              "#7201a8"
             ],
             [
              0.3333333333333333,
              "#9c179e"
             ],
             [
              0.4444444444444444,
              "#bd3786"
             ],
             [
              0.5555555555555556,
              "#d8576b"
             ],
             [
              0.6666666666666666,
              "#ed7953"
             ],
             [
              0.7777777777777778,
              "#fb9f3a"
             ],
             [
              0.8888888888888888,
              "#fdca26"
             ],
             [
              1,
              "#f0f921"
             ]
            ],
            "type": "heatmapgl"
           }
          ],
          "histogram": [
           {
            "marker": {
             "pattern": {
              "fillmode": "overlay",
              "size": 10,
              "solidity": 0.2
             }
            },
            "type": "histogram"
           }
          ],
          "histogram2d": [
           {
            "colorbar": {
             "outlinewidth": 0,
             "ticks": ""
            },
            "colorscale": [
             [
              0,
              "#0d0887"
             ],
             [
              0.1111111111111111,
              "#46039f"
             ],
             [
              0.2222222222222222,
              "#7201a8"
             ],
             [
              0.3333333333333333,
              "#9c179e"
             ],
             [
              0.4444444444444444,
              "#bd3786"
             ],
             [
              0.5555555555555556,
              "#d8576b"
             ],
             [
              0.6666666666666666,
              "#ed7953"
             ],
             [
              0.7777777777777778,
              "#fb9f3a"
             ],
             [
              0.8888888888888888,
              "#fdca26"
             ],
             [
              1,
              "#f0f921"
             ]
            ],
            "type": "histogram2d"
           }
          ],
          "histogram2dcontour": [
           {
            "colorbar": {
             "outlinewidth": 0,
             "ticks": ""
            },
            "colorscale": [
             [
              0,
              "#0d0887"
             ],
             [
              0.1111111111111111,
              "#46039f"
             ],
             [
              0.2222222222222222,
              "#7201a8"
             ],
             [
              0.3333333333333333,
              "#9c179e"
             ],
             [
              0.4444444444444444,
              "#bd3786"
             ],
             [
              0.5555555555555556,
              "#d8576b"
             ],
             [
              0.6666666666666666,
              "#ed7953"
             ],
             [
              0.7777777777777778,
              "#fb9f3a"
             ],
             [
              0.8888888888888888,
              "#fdca26"
             ],
             [
              1,
              "#f0f921"
             ]
            ],
            "type": "histogram2dcontour"
           }
          ],
          "mesh3d": [
           {
            "colorbar": {
             "outlinewidth": 0,
             "ticks": ""
            },
            "type": "mesh3d"
           }
          ],
          "parcoords": [
           {
            "line": {
             "colorbar": {
              "outlinewidth": 0,
              "ticks": ""
             }
            },
            "type": "parcoords"
           }
          ],
          "pie": [
           {
            "automargin": true,
            "type": "pie"
           }
          ],
          "scatter": [
           {
            "fillpattern": {
             "fillmode": "overlay",
             "size": 10,
             "solidity": 0.2
            },
            "type": "scatter"
           }
          ],
          "scatter3d": [
           {
            "line": {
             "colorbar": {
              "outlinewidth": 0,
              "ticks": ""
             }
            },
            "marker": {
             "colorbar": {
              "outlinewidth": 0,
              "ticks": ""
             }
            },
            "type": "scatter3d"
           }
          ],
          "scattercarpet": [
           {
            "marker": {
             "colorbar": {
              "outlinewidth": 0,
              "ticks": ""
             }
            },
            "type": "scattercarpet"
           }
          ],
          "scattergeo": [
           {
            "marker": {
             "colorbar": {
              "outlinewidth": 0,
              "ticks": ""
             }
            },
            "type": "scattergeo"
           }
          ],
          "scattergl": [
           {
            "marker": {
             "colorbar": {
              "outlinewidth": 0,
              "ticks": ""
             }
            },
            "type": "scattergl"
           }
          ],
          "scattermapbox": [
           {
            "marker": {
             "colorbar": {
              "outlinewidth": 0,
              "ticks": ""
             }
            },
            "type": "scattermapbox"
           }
          ],
          "scatterpolar": [
           {
            "marker": {
             "colorbar": {
              "outlinewidth": 0,
              "ticks": ""
             }
            },
            "type": "scatterpolar"
           }
          ],
          "scatterpolargl": [
           {
            "marker": {
             "colorbar": {
              "outlinewidth": 0,
              "ticks": ""
             }
            },
            "type": "scatterpolargl"
           }
          ],
          "scatterternary": [
           {
            "marker": {
             "colorbar": {
              "outlinewidth": 0,
              "ticks": ""
             }
            },
            "type": "scatterternary"
           }
          ],
          "surface": [
           {
            "colorbar": {
             "outlinewidth": 0,
             "ticks": ""
            },
            "colorscale": [
             [
              0,
              "#0d0887"
             ],
             [
              0.1111111111111111,
              "#46039f"
             ],
             [
              0.2222222222222222,
              "#7201a8"
             ],
             [
              0.3333333333333333,
              "#9c179e"
             ],
             [
              0.4444444444444444,
              "#bd3786"
             ],
             [
              0.5555555555555556,
              "#d8576b"
             ],
             [
              0.6666666666666666,
              "#ed7953"
             ],
             [
              0.7777777777777778,
              "#fb9f3a"
             ],
             [
              0.8888888888888888,
              "#fdca26"
             ],
             [
              1,
              "#f0f921"
             ]
            ],
            "type": "surface"
           }
          ],
          "table": [
           {
            "cells": {
             "fill": {
              "color": "#EBF0F8"
             },
             "line": {
              "color": "white"
             }
            },
            "header": {
             "fill": {
              "color": "#C8D4E3"
             },
             "line": {
              "color": "white"
             }
            },
            "type": "table"
           }
          ]
         },
         "layout": {
          "annotationdefaults": {
           "arrowcolor": "#2a3f5f",
           "arrowhead": 0,
           "arrowwidth": 1
          },
          "autotypenumbers": "strict",
          "coloraxis": {
           "colorbar": {
            "outlinewidth": 0,
            "ticks": ""
           }
          },
          "colorscale": {
           "diverging": [
            [
             0,
             "#8e0152"
            ],
            [
             0.1,
             "#c51b7d"
            ],
            [
             0.2,
             "#de77ae"
            ],
            [
             0.3,
             "#f1b6da"
            ],
            [
             0.4,
             "#fde0ef"
            ],
            [
             0.5,
             "#f7f7f7"
            ],
            [
             0.6,
             "#e6f5d0"
            ],
            [
             0.7,
             "#b8e186"
            ],
            [
             0.8,
             "#7fbc41"
            ],
            [
             0.9,
             "#4d9221"
            ],
            [
             1,
             "#276419"
            ]
           ],
           "sequential": [
            [
             0,
             "#0d0887"
            ],
            [
             0.1111111111111111,
             "#46039f"
            ],
            [
             0.2222222222222222,
             "#7201a8"
            ],
            [
             0.3333333333333333,
             "#9c179e"
            ],
            [
             0.4444444444444444,
             "#bd3786"
            ],
            [
             0.5555555555555556,
             "#d8576b"
            ],
            [
             0.6666666666666666,
             "#ed7953"
            ],
            [
             0.7777777777777778,
             "#fb9f3a"
            ],
            [
             0.8888888888888888,
             "#fdca26"
            ],
            [
             1,
             "#f0f921"
            ]
           ],
           "sequentialminus": [
            [
             0,
             "#0d0887"
            ],
            [
             0.1111111111111111,
             "#46039f"
            ],
            [
             0.2222222222222222,
             "#7201a8"
            ],
            [
             0.3333333333333333,
             "#9c179e"
            ],
            [
             0.4444444444444444,
             "#bd3786"
            ],
            [
             0.5555555555555556,
             "#d8576b"
            ],
            [
             0.6666666666666666,
             "#ed7953"
            ],
            [
             0.7777777777777778,
             "#fb9f3a"
            ],
            [
             0.8888888888888888,
             "#fdca26"
            ],
            [
             1,
             "#f0f921"
            ]
           ]
          },
          "colorway": [
           "#636efa",
           "#EF553B",
           "#00cc96",
           "#ab63fa",
           "#FFA15A",
           "#19d3f3",
           "#FF6692",
           "#B6E880",
           "#FF97FF",
           "#FECB52"
          ],
          "font": {
           "color": "#2a3f5f"
          },
          "geo": {
           "bgcolor": "white",
           "lakecolor": "white",
           "landcolor": "#E5ECF6",
           "showlakes": true,
           "showland": true,
           "subunitcolor": "white"
          },
          "hoverlabel": {
           "align": "left"
          },
          "hovermode": "closest",
          "mapbox": {
           "style": "light"
          },
          "paper_bgcolor": "white",
          "plot_bgcolor": "#E5ECF6",
          "polar": {
           "angularaxis": {
            "gridcolor": "white",
            "linecolor": "white",
            "ticks": ""
           },
           "bgcolor": "#E5ECF6",
           "radialaxis": {
            "gridcolor": "white",
            "linecolor": "white",
            "ticks": ""
           }
          },
          "scene": {
           "xaxis": {
            "backgroundcolor": "#E5ECF6",
            "gridcolor": "white",
            "gridwidth": 2,
            "linecolor": "white",
            "showbackground": true,
            "ticks": "",
            "zerolinecolor": "white"
           },
           "yaxis": {
            "backgroundcolor": "#E5ECF6",
            "gridcolor": "white",
            "gridwidth": 2,
            "linecolor": "white",
            "showbackground": true,
            "ticks": "",
            "zerolinecolor": "white"
           },
           "zaxis": {
            "backgroundcolor": "#E5ECF6",
            "gridcolor": "white",
            "gridwidth": 2,
            "linecolor": "white",
            "showbackground": true,
            "ticks": "",
            "zerolinecolor": "white"
           }
          },
          "shapedefaults": {
           "line": {
            "color": "#2a3f5f"
           }
          },
          "ternary": {
           "aaxis": {
            "gridcolor": "white",
            "linecolor": "white",
            "ticks": ""
           },
           "baxis": {
            "gridcolor": "white",
            "linecolor": "white",
            "ticks": ""
           },
           "bgcolor": "#E5ECF6",
           "caxis": {
            "gridcolor": "white",
            "linecolor": "white",
            "ticks": ""
           }
          },
          "title": {
           "x": 0.05
          },
          "xaxis": {
           "automargin": true,
           "gridcolor": "white",
           "linecolor": "white",
           "ticks": "",
           "title": {
            "standoff": 15
           },
           "zerolinecolor": "white",
           "zerolinewidth": 2
          },
          "yaxis": {
           "automargin": true,
           "gridcolor": "white",
           "linecolor": "white",
           "ticks": "",
           "title": {
            "standoff": 15
           },
           "zerolinecolor": "white",
           "zerolinewidth": 2
          }
         }
        },
        "title": {
         "font": {
          "color": "white"
         },
         "text": "mean and median goal minute"
        },
        "width": 1200,
        "xaxis": {
         "anchor": "y",
         "color": "white",
         "domain": [
          0,
          1
         ],
         "title": {
          "text": "tournament_name"
         }
        },
        "yaxis": {
         "anchor": "x",
         "color": "white",
         "domain": [
          0,
          1
         ],
         "title": {
          "text": "goal_minute"
         }
        }
       }
      }
     },
     "metadata": {},
     "output_type": "display_data"
    }
   ],
   "source": [
    "b_1_fig = px.bar(mean_median_df,x=mean_median_df.index,y=['mean','median'],\n",
    "                 width=1200,height=500,barmode='group',title='mean and median goal minute')\n",
    "b_1_fig.update_yaxes(title_text='goal_minute')\n",
    "b_1_fig.update_layout(**layout_options)\n",
    "b_1_fig.show()"
   ]
  },
  {
   "attachments": {},
   "cell_type": "markdown",
   "metadata": {},
   "source": [
    "#### <strong> `The results:`</strong>"
   ]
  },
  {
   "attachments": {},
   "cell_type": "markdown",
   "metadata": {},
   "source": [
    "* almost all tournament has close medain an mean values.\n",
    "* median and mean values in every tournament are close to each other and that mean the distribution of goal minute in every tournament is approximately symmetric.\n",
    "* because  the distribution of goal minute in every tournament is approximately symmetric and all means around 50 the most goals are scored in the second half"
   ]
  },
  {
   "attachments": {},
   "cell_type": "markdown",
   "metadata": {},
   "source": [
    "#### b.2.Total goals in match histogram:"
   ]
  },
  {
   "cell_type": "code",
   "execution_count": 98,
   "metadata": {},
   "outputs": [
    {
     "data": {
      "application/vnd.plotly.v1+json": {
       "config": {
        "plotlyServerURL": "https://plot.ly"
       },
       "data": [
        {
         "alignmentgroup": "True",
         "bingroup": "x",
         "hovertemplate": "variable=total_goals_in_match<br>value=%{x}<br>count=%{y}<extra></extra>",
         "legendgroup": "total_goals_in_match",
         "marker": {
          "color": "#636efa",
          "pattern": {
           "shape": ""
          }
         },
         "name": "total_goals_in_match",
         "offsetgroup": "total_goals_in_match",
         "orientation": "v",
         "showlegend": true,
         "type": "histogram",
         "x": [
          5,
          4,
          3,
          3,
          1,
          3,
          4,
          3,
          1,
          1,
          9,
          4,
          1,
          4,
          4,
          7,
          7,
          6,
          5,
          5,
          3,
          7,
          2,
          1,
          6,
          5,
          8,
          4,
          3,
          4,
          1,
          3,
          3,
          0,
          5,
          3,
          2,
          1,
          5,
          1,
          5,
          3,
          1,
          1,
          5,
          6,
          2,
          3,
          1,
          2,
          6,
          6,
          2,
          1,
          5,
          2,
          5,
          3,
          6,
          3,
          4,
          4,
          6,
          6,
          3,
          3,
          3,
          2,
          5,
          3,
          1,
          3,
          2,
          11,
          3,
          2,
          3,
          6,
          4,
          2,
          4,
          4,
          1,
          1,
          2,
          8,
          4,
          2,
          2,
          2,
          1,
          8,
          7,
          3,
          3,
          2,
          1,
          0,
          2,
          1,
          1,
          3,
          1,
          8,
          4,
          4,
          5,
          4,
          2,
          4,
          5,
          4,
          5,
          3,
          7,
          5,
          5,
          7,
          2,
          1,
          3,
          2,
          12,
          6,
          1,
          9,
          5,
          9,
          4,
          2,
          5,
          2,
          6,
          5,
          8,
          7,
          11,
          5,
          6,
          7,
          5,
          3,
          2,
          3,
          0,
          3,
          2,
          7,
          7,
          4,
          4,
          3,
          1,
          1,
          4,
          10,
          5,
          4,
          2,
          5,
          2,
          4,
          3,
          4,
          0,
          2,
          1,
          1,
          4,
          9,
          4,
          7,
          2,
          4,
          3,
          6,
          3,
          2,
          4,
          8,
          3,
          5,
          3,
          4,
          0,
          2,
          3,
          2,
          3,
          1,
          6,
          1,
          4,
          2,
          1,
          0,
          1,
          3,
          4,
          4,
          4,
          1,
          3,
          4,
          7,
          0,
          0,
          1,
          0,
          2,
          2,
          0,
          2,
          1,
          3,
          3,
          6,
          5,
          3,
          2,
          4,
          2,
          4,
          4,
          8,
          3,
          3,
          2,
          1,
          3,
          0,
          3,
          4,
          3,
          4,
          2,
          1,
          3,
          3,
          3,
          0,
          3,
          5,
          4,
          2,
          1,
          1,
          7,
          1,
          5,
          2,
          3,
          2,
          1,
          2,
          3,
          3,
          2,
          5,
          2,
          0,
          1,
          2,
          5,
          1,
          2,
          6,
          1,
          5,
          3,
          1,
          5,
          1,
          6,
          4,
          1,
          1,
          3,
          4,
          2,
          2,
          5,
          3,
          3,
          7,
          4,
          2,
          5,
          1,
          2,
          3,
          7,
          1,
          2,
          0,
          5,
          1,
          3,
          4,
          0,
          0,
          2,
          3,
          1,
          1,
          3,
          2,
          0,
          1,
          1,
          2,
          0,
          1,
          1,
          3,
          1,
          2,
          2,
          2,
          3,
          1,
          3,
          3,
          4,
          2,
          3,
          2,
          0,
          5,
          2,
          0,
          1,
          2,
          5,
          3,
          2,
          0,
          3,
          2,
          6,
          3,
          2,
          2,
          1,
          3,
          2,
          0,
          3,
          2,
          4,
          4,
          7,
          5,
          1,
          3,
          5,
          2,
          3,
          1,
          0,
          3,
          4,
          4,
          1,
          4,
          9,
          3,
          4,
          2,
          2,
          0,
          3,
          3,
          1,
          0,
          1,
          3,
          3,
          4,
          3,
          2,
          4,
          0,
          4,
          1,
          4,
          1,
          4,
          2,
          0,
          6,
          3,
          1,
          1,
          3,
          0,
          5,
          3,
          1,
          4,
          4,
          6,
          2,
          0,
          5,
          6,
          4,
          5,
          1,
          3,
          1,
          0,
          2,
          0,
          2,
          2,
          3,
          6,
          0,
          0,
          6,
          11,
          1,
          2,
          7,
          3,
          4,
          3,
          5,
          1,
          4,
          2,
          1,
          2,
          3,
          1,
          1,
          2,
          5,
          2,
          5,
          2,
          0,
          2,
          1,
          5,
          2,
          5,
          5,
          4,
          1,
          4,
          5,
          3,
          4,
          5,
          0,
          3,
          0,
          4,
          4,
          2,
          2,
          2,
          6,
          2,
          2,
          0,
          1,
          3,
          1,
          0,
          2,
          3,
          4,
          1,
          0,
          3,
          2,
          3,
          2,
          6,
          1,
          7,
          0,
          2,
          3,
          4,
          5,
          3,
          1,
          1,
          2,
          2,
          1,
          1,
          6,
          1,
          3,
          0,
          3,
          1,
          1,
          1,
          2,
          2,
          0,
          1,
          2,
          4,
          3,
          3,
          2,
          0,
          2,
          0,
          4,
          1,
          2,
          2,
          3,
          5,
          2,
          1,
          2,
          4,
          4,
          5,
          4,
          3,
          5,
          2,
          4,
          5,
          2,
          5,
          4,
          2,
          1,
          1,
          3,
          0,
          2,
          3,
          3,
          4,
          4,
          3,
          1,
          5,
          1,
          4,
          0,
          1,
          3,
          1,
          3,
          2,
          1,
          3,
          2,
          1,
          3,
          2,
          3,
          2,
          7,
          1,
          4,
          4,
          0,
          3,
          2,
          3,
          3,
          3,
          0,
          4,
          3,
          2,
          5,
          0,
          3,
          3,
          4,
          0,
          3,
          1,
          2,
          3,
          2,
          1,
          2,
          3,
          4,
          3,
          1,
          4,
          4,
          7,
          2,
          1,
          5,
          3,
          1,
          2,
          1,
          5,
          4,
          1,
          3,
          3,
          3,
          3,
          1,
          2,
          0,
          3,
          4,
          4,
          1,
          3,
          1,
          2,
          1,
          3,
          3,
          3,
          1,
          8,
          2,
          1,
          1,
          2,
          3,
          4,
          2,
          0,
          2,
          4,
          1,
          1,
          4,
          2,
          0,
          2,
          3,
          2,
          5,
          6,
          7,
          2,
          2,
          1,
          2,
          5,
          4,
          4,
          2,
          4,
          4,
          1,
          3,
          2,
          1,
          2,
          2,
          1,
          1,
          3,
          1,
          2,
          2,
          2,
          3,
          2,
          5,
          3,
          0,
          2,
          1,
          5,
          4,
          3,
          6,
          4,
          2,
          5,
          2,
          1,
          2,
          3,
          6,
          3,
          0,
          1,
          4,
          2,
          2,
          3,
          4,
          2,
          0,
          3,
          1,
          1,
          2,
          4,
          2,
          0,
          4,
          2,
          2,
          1,
          1,
          2,
          2,
          5,
          4,
          1,
          4,
          2,
          1,
          0,
          2,
          0,
          7,
          3,
          1,
          4,
          5,
          2,
          0,
          1,
          1,
          1,
          3,
          3,
          5,
          1,
          3,
          4,
          2,
          5,
          3,
          1,
          2,
          2,
          2,
          1,
          4,
          3,
          1,
          2,
          2,
          0,
          1,
          3,
          3,
          1,
          3,
          0,
          4,
          1,
          1,
          4,
          0,
          3,
          1,
          1,
          3,
          2,
          3,
          0,
          5,
          1,
          2,
          3,
          3,
          4,
          3,
          2,
          1,
          1,
          0,
          1,
          3,
          0,
          1,
          6,
          4,
          7,
          4,
          3,
          0,
          4,
          2,
          1,
          5,
          3,
          3,
          1,
          0,
          2,
          8,
          4,
          0,
          4,
          3,
          3,
          3,
          3,
          4,
          4,
          3,
          3,
          1,
          4,
          1,
          2,
          3,
          3,
          5,
          3,
          2,
          1,
          3,
          3,
          5,
          6,
          5,
          3,
          0,
          3,
          3,
          2,
          5,
          1,
          1,
          0,
          2,
          3,
          6,
          1,
          1,
          4,
          3,
          1,
          4,
          2,
          3,
          1,
          1,
          2,
          6,
          3,
          3,
          2,
          3,
          4,
          3,
          1,
          3,
          2,
          7,
          3,
          2,
          3,
          7,
          2,
          2,
          1,
          3,
          2,
          3,
          2,
          3,
          4,
          1,
          1,
          2,
          3,
          1,
          2,
          2,
          2,
          1,
          3,
          3,
          5,
          1,
          3,
          7,
          4,
          2,
          2,
          3,
          2,
          3,
          1,
          2,
          0,
          0,
          2,
          2,
          6,
          3,
          3,
          2,
          8,
          3,
          2,
          5,
          3,
          3,
          4,
          3,
          2,
          7,
          4,
          2,
          1,
          3,
          4,
          1,
          2,
          1,
          2,
          1,
          3,
          0,
          3,
          3,
          2,
          2,
          2,
          3,
          1,
          7,
          4,
          3,
          6,
          0,
          0,
          2,
          5,
          1,
          3,
          0,
          2,
          0,
          5,
          3,
          1,
          2,
          5,
          5,
          5,
          1,
          1,
          6,
          1,
          2,
          2
         ],
         "xaxis": "x",
         "yaxis": "y"
        }
       ],
       "layout": {
        "barmode": "relative",
        "height": 500,
        "legend": {
         "font": {
          "color": "white"
         },
         "title": {
          "text": "variable"
         },
         "tracegroupgap": 0
        },
        "paper_bgcolor": "#383838",
        "plot_bgcolor": "#383838",
        "template": {
         "data": {
          "bar": [
           {
            "error_x": {
             "color": "#2a3f5f"
            },
            "error_y": {
             "color": "#2a3f5f"
            },
            "marker": {
             "line": {
              "color": "#E5ECF6",
              "width": 0.5
             },
             "pattern": {
              "fillmode": "overlay",
              "size": 10,
              "solidity": 0.2
             }
            },
            "type": "bar"
           }
          ],
          "barpolar": [
           {
            "marker": {
             "line": {
              "color": "#E5ECF6",
              "width": 0.5
             },
             "pattern": {
              "fillmode": "overlay",
              "size": 10,
              "solidity": 0.2
             }
            },
            "type": "barpolar"
           }
          ],
          "carpet": [
           {
            "aaxis": {
             "endlinecolor": "#2a3f5f",
             "gridcolor": "white",
             "linecolor": "white",
             "minorgridcolor": "white",
             "startlinecolor": "#2a3f5f"
            },
            "baxis": {
             "endlinecolor": "#2a3f5f",
             "gridcolor": "white",
             "linecolor": "white",
             "minorgridcolor": "white",
             "startlinecolor": "#2a3f5f"
            },
            "type": "carpet"
           }
          ],
          "choropleth": [
           {
            "colorbar": {
             "outlinewidth": 0,
             "ticks": ""
            },
            "type": "choropleth"
           }
          ],
          "contour": [
           {
            "colorbar": {
             "outlinewidth": 0,
             "ticks": ""
            },
            "colorscale": [
             [
              0,
              "#0d0887"
             ],
             [
              0.1111111111111111,
              "#46039f"
             ],
             [
              0.2222222222222222,
              "#7201a8"
             ],
             [
              0.3333333333333333,
              "#9c179e"
             ],
             [
              0.4444444444444444,
              "#bd3786"
             ],
             [
              0.5555555555555556,
              "#d8576b"
             ],
             [
              0.6666666666666666,
              "#ed7953"
             ],
             [
              0.7777777777777778,
              "#fb9f3a"
             ],
             [
              0.8888888888888888,
              "#fdca26"
             ],
             [
              1,
              "#f0f921"
             ]
            ],
            "type": "contour"
           }
          ],
          "contourcarpet": [
           {
            "colorbar": {
             "outlinewidth": 0,
             "ticks": ""
            },
            "type": "contourcarpet"
           }
          ],
          "heatmap": [
           {
            "colorbar": {
             "outlinewidth": 0,
             "ticks": ""
            },
            "colorscale": [
             [
              0,
              "#0d0887"
             ],
             [
              0.1111111111111111,
              "#46039f"
             ],
             [
              0.2222222222222222,
              "#7201a8"
             ],
             [
              0.3333333333333333,
              "#9c179e"
             ],
             [
              0.4444444444444444,
              "#bd3786"
             ],
             [
              0.5555555555555556,
              "#d8576b"
             ],
             [
              0.6666666666666666,
              "#ed7953"
             ],
             [
              0.7777777777777778,
              "#fb9f3a"
             ],
             [
              0.8888888888888888,
              "#fdca26"
             ],
             [
              1,
              "#f0f921"
             ]
            ],
            "type": "heatmap"
           }
          ],
          "heatmapgl": [
           {
            "colorbar": {
             "outlinewidth": 0,
             "ticks": ""
            },
            "colorscale": [
             [
              0,
              "#0d0887"
             ],
             [
              0.1111111111111111,
              "#46039f"
             ],
             [
              0.2222222222222222,
              "#7201a8"
             ],
             [
              0.3333333333333333,
              "#9c179e"
             ],
             [
              0.4444444444444444,
              "#bd3786"
             ],
             [
              0.5555555555555556,
              "#d8576b"
             ],
             [
              0.6666666666666666,
              "#ed7953"
             ],
             [
              0.7777777777777778,
              "#fb9f3a"
             ],
             [
              0.8888888888888888,
              "#fdca26"
             ],
             [
              1,
              "#f0f921"
             ]
            ],
            "type": "heatmapgl"
           }
          ],
          "histogram": [
           {
            "marker": {
             "pattern": {
              "fillmode": "overlay",
              "size": 10,
              "solidity": 0.2
             }
            },
            "type": "histogram"
           }
          ],
          "histogram2d": [
           {
            "colorbar": {
             "outlinewidth": 0,
             "ticks": ""
            },
            "colorscale": [
             [
              0,
              "#0d0887"
             ],
             [
              0.1111111111111111,
              "#46039f"
             ],
             [
              0.2222222222222222,
              "#7201a8"
             ],
             [
              0.3333333333333333,
              "#9c179e"
             ],
             [
              0.4444444444444444,
              "#bd3786"
             ],
             [
              0.5555555555555556,
              "#d8576b"
             ],
             [
              0.6666666666666666,
              "#ed7953"
             ],
             [
              0.7777777777777778,
              "#fb9f3a"
             ],
             [
              0.8888888888888888,
              "#fdca26"
             ],
             [
              1,
              "#f0f921"
             ]
            ],
            "type": "histogram2d"
           }
          ],
          "histogram2dcontour": [
           {
            "colorbar": {
             "outlinewidth": 0,
             "ticks": ""
            },
            "colorscale": [
             [
              0,
              "#0d0887"
             ],
             [
              0.1111111111111111,
              "#46039f"
             ],
             [
              0.2222222222222222,
              "#7201a8"
             ],
             [
              0.3333333333333333,
              "#9c179e"
             ],
             [
              0.4444444444444444,
              "#bd3786"
             ],
             [
              0.5555555555555556,
              "#d8576b"
             ],
             [
              0.6666666666666666,
              "#ed7953"
             ],
             [
              0.7777777777777778,
              "#fb9f3a"
             ],
             [
              0.8888888888888888,
              "#fdca26"
             ],
             [
              1,
              "#f0f921"
             ]
            ],
            "type": "histogram2dcontour"
           }
          ],
          "mesh3d": [
           {
            "colorbar": {
             "outlinewidth": 0,
             "ticks": ""
            },
            "type": "mesh3d"
           }
          ],
          "parcoords": [
           {
            "line": {
             "colorbar": {
              "outlinewidth": 0,
              "ticks": ""
             }
            },
            "type": "parcoords"
           }
          ],
          "pie": [
           {
            "automargin": true,
            "type": "pie"
           }
          ],
          "scatter": [
           {
            "fillpattern": {
             "fillmode": "overlay",
             "size": 10,
             "solidity": 0.2
            },
            "type": "scatter"
           }
          ],
          "scatter3d": [
           {
            "line": {
             "colorbar": {
              "outlinewidth": 0,
              "ticks": ""
             }
            },
            "marker": {
             "colorbar": {
              "outlinewidth": 0,
              "ticks": ""
             }
            },
            "type": "scatter3d"
           }
          ],
          "scattercarpet": [
           {
            "marker": {
             "colorbar": {
              "outlinewidth": 0,
              "ticks": ""
             }
            },
            "type": "scattercarpet"
           }
          ],
          "scattergeo": [
           {
            "marker": {
             "colorbar": {
              "outlinewidth": 0,
              "ticks": ""
             }
            },
            "type": "scattergeo"
           }
          ],
          "scattergl": [
           {
            "marker": {
             "colorbar": {
              "outlinewidth": 0,
              "ticks": ""
             }
            },
            "type": "scattergl"
           }
          ],
          "scattermapbox": [
           {
            "marker": {
             "colorbar": {
              "outlinewidth": 0,
              "ticks": ""
             }
            },
            "type": "scattermapbox"
           }
          ],
          "scatterpolar": [
           {
            "marker": {
             "colorbar": {
              "outlinewidth": 0,
              "ticks": ""
             }
            },
            "type": "scatterpolar"
           }
          ],
          "scatterpolargl": [
           {
            "marker": {
             "colorbar": {
              "outlinewidth": 0,
              "ticks": ""
             }
            },
            "type": "scatterpolargl"
           }
          ],
          "scatterternary": [
           {
            "marker": {
             "colorbar": {
              "outlinewidth": 0,
              "ticks": ""
             }
            },
            "type": "scatterternary"
           }
          ],
          "surface": [
           {
            "colorbar": {
             "outlinewidth": 0,
             "ticks": ""
            },
            "colorscale": [
             [
              0,
              "#0d0887"
             ],
             [
              0.1111111111111111,
              "#46039f"
             ],
             [
              0.2222222222222222,
              "#7201a8"
             ],
             [
              0.3333333333333333,
              "#9c179e"
             ],
             [
              0.4444444444444444,
              "#bd3786"
             ],
             [
              0.5555555555555556,
              "#d8576b"
             ],
             [
              0.6666666666666666,
              "#ed7953"
             ],
             [
              0.7777777777777778,
              "#fb9f3a"
             ],
             [
              0.8888888888888888,
              "#fdca26"
             ],
             [
              1,
              "#f0f921"
             ]
            ],
            "type": "surface"
           }
          ],
          "table": [
           {
            "cells": {
             "fill": {
              "color": "#EBF0F8"
             },
             "line": {
              "color": "white"
             }
            },
            "header": {
             "fill": {
              "color": "#C8D4E3"
             },
             "line": {
              "color": "white"
             }
            },
            "type": "table"
           }
          ]
         },
         "layout": {
          "annotationdefaults": {
           "arrowcolor": "#2a3f5f",
           "arrowhead": 0,
           "arrowwidth": 1
          },
          "autotypenumbers": "strict",
          "coloraxis": {
           "colorbar": {
            "outlinewidth": 0,
            "ticks": ""
           }
          },
          "colorscale": {
           "diverging": [
            [
             0,
             "#8e0152"
            ],
            [
             0.1,
             "#c51b7d"
            ],
            [
             0.2,
             "#de77ae"
            ],
            [
             0.3,
             "#f1b6da"
            ],
            [
             0.4,
             "#fde0ef"
            ],
            [
             0.5,
             "#f7f7f7"
            ],
            [
             0.6,
             "#e6f5d0"
            ],
            [
             0.7,
             "#b8e186"
            ],
            [
             0.8,
             "#7fbc41"
            ],
            [
             0.9,
             "#4d9221"
            ],
            [
             1,
             "#276419"
            ]
           ],
           "sequential": [
            [
             0,
             "#0d0887"
            ],
            [
             0.1111111111111111,
             "#46039f"
            ],
            [
             0.2222222222222222,
             "#7201a8"
            ],
            [
             0.3333333333333333,
             "#9c179e"
            ],
            [
             0.4444444444444444,
             "#bd3786"
            ],
            [
             0.5555555555555556,
             "#d8576b"
            ],
            [
             0.6666666666666666,
             "#ed7953"
            ],
            [
             0.7777777777777778,
             "#fb9f3a"
            ],
            [
             0.8888888888888888,
             "#fdca26"
            ],
            [
             1,
             "#f0f921"
            ]
           ],
           "sequentialminus": [
            [
             0,
             "#0d0887"
            ],
            [
             0.1111111111111111,
             "#46039f"
            ],
            [
             0.2222222222222222,
             "#7201a8"
            ],
            [
             0.3333333333333333,
             "#9c179e"
            ],
            [
             0.4444444444444444,
             "#bd3786"
            ],
            [
             0.5555555555555556,
             "#d8576b"
            ],
            [
             0.6666666666666666,
             "#ed7953"
            ],
            [
             0.7777777777777778,
             "#fb9f3a"
            ],
            [
             0.8888888888888888,
             "#fdca26"
            ],
            [
             1,
             "#f0f921"
            ]
           ]
          },
          "colorway": [
           "#636efa",
           "#EF553B",
           "#00cc96",
           "#ab63fa",
           "#FFA15A",
           "#19d3f3",
           "#FF6692",
           "#B6E880",
           "#FF97FF",
           "#FECB52"
          ],
          "font": {
           "color": "#2a3f5f"
          },
          "geo": {
           "bgcolor": "white",
           "lakecolor": "white",
           "landcolor": "#E5ECF6",
           "showlakes": true,
           "showland": true,
           "subunitcolor": "white"
          },
          "hoverlabel": {
           "align": "left"
          },
          "hovermode": "closest",
          "mapbox": {
           "style": "light"
          },
          "paper_bgcolor": "white",
          "plot_bgcolor": "#E5ECF6",
          "polar": {
           "angularaxis": {
            "gridcolor": "white",
            "linecolor": "white",
            "ticks": ""
           },
           "bgcolor": "#E5ECF6",
           "radialaxis": {
            "gridcolor": "white",
            "linecolor": "white",
            "ticks": ""
           }
          },
          "scene": {
           "xaxis": {
            "backgroundcolor": "#E5ECF6",
            "gridcolor": "white",
            "gridwidth": 2,
            "linecolor": "white",
            "showbackground": true,
            "ticks": "",
            "zerolinecolor": "white"
           },
           "yaxis": {
            "backgroundcolor": "#E5ECF6",
            "gridcolor": "white",
            "gridwidth": 2,
            "linecolor": "white",
            "showbackground": true,
            "ticks": "",
            "zerolinecolor": "white"
           },
           "zaxis": {
            "backgroundcolor": "#E5ECF6",
            "gridcolor": "white",
            "gridwidth": 2,
            "linecolor": "white",
            "showbackground": true,
            "ticks": "",
            "zerolinecolor": "white"
           }
          },
          "shapedefaults": {
           "line": {
            "color": "#2a3f5f"
           }
          },
          "ternary": {
           "aaxis": {
            "gridcolor": "white",
            "linecolor": "white",
            "ticks": ""
           },
           "baxis": {
            "gridcolor": "white",
            "linecolor": "white",
            "ticks": ""
           },
           "bgcolor": "#E5ECF6",
           "caxis": {
            "gridcolor": "white",
            "linecolor": "white",
            "ticks": ""
           }
          },
          "title": {
           "x": 0.05
          },
          "xaxis": {
           "automargin": true,
           "gridcolor": "white",
           "linecolor": "white",
           "ticks": "",
           "title": {
            "standoff": 15
           },
           "zerolinecolor": "white",
           "zerolinewidth": 2
          },
          "yaxis": {
           "automargin": true,
           "gridcolor": "white",
           "linecolor": "white",
           "ticks": "",
           "title": {
            "standoff": 15
           },
           "zerolinecolor": "white",
           "zerolinewidth": 2
          }
         }
        },
        "title": {
         "font": {
          "color": "white"
         },
         "text": "Total Goals in Match"
        },
        "width": 1000,
        "xaxis": {
         "anchor": "y",
         "color": "white",
         "domain": [
          0,
          1
         ],
         "title": {
          "text": "total_goals"
         }
        },
        "yaxis": {
         "anchor": "x",
         "color": "white",
         "domain": [
          0,
          1
         ],
         "title": {
          "text": "count"
         }
        }
       }
      }
     },
     "metadata": {},
     "output_type": "display_data"
    }
   ],
   "source": [
    "b_2_fig = px.histogram(final_match_df['total_goals_in_match'],\n",
    "                       width=1000, height=500, title='Total Goals in Match')\n",
    "b_2_fig = b_2_fig.update_xaxes(title_text='total_goals')\n",
    "b_2_fig.update_layout(**layout_options)\n",
    "b_2_fig.show()"
   ]
  },
  {
   "attachments": {},
   "cell_type": "markdown",
   "metadata": {},
   "source": [
    "#### <strong> `The results:`</strong>"
   ]
  },
  {
   "attachments": {},
   "cell_type": "markdown",
   "metadata": {},
   "source": [
    "* The most matches in world cup ended with total goals (2,3,4).\n",
    "* The matches are rarely ended with number of total goals bigger than 7.\n",
    "* The argest total goal was 12."
   ]
  },
  {
   "attachments": {},
   "cell_type": "markdown",
   "metadata": {},
   "source": [
    "#### b.3.Calculate Most freq match period and goal minute for every tournament:"
   ]
  },
  {
   "cell_type": "code",
   "execution_count": 99,
   "metadata": {},
   "outputs": [
    {
     "data": {
      "text/html": [
       "<div>\n",
       "<style scoped>\n",
       "    .dataframe tbody tr th:only-of-type {\n",
       "        vertical-align: middle;\n",
       "    }\n",
       "\n",
       "    .dataframe tbody tr th {\n",
       "        vertical-align: top;\n",
       "    }\n",
       "\n",
       "    .dataframe thead th {\n",
       "        text-align: right;\n",
       "    }\n",
       "</style>\n",
       "<table border=\"1\" class=\"dataframe\">\n",
       "  <thead>\n",
       "    <tr style=\"text-align: right;\">\n",
       "      <th></th>\n",
       "      <th></th>\n",
       "      <th>match_period</th>\n",
       "      <th>goal_minute</th>\n",
       "    </tr>\n",
       "    <tr>\n",
       "      <th>tournament_name</th>\n",
       "      <th></th>\n",
       "      <th></th>\n",
       "      <th></th>\n",
       "    </tr>\n",
       "  </thead>\n",
       "  <tbody>\n",
       "    <tr>\n",
       "      <th>1930 FIFA World Cup</th>\n",
       "      <th>0</th>\n",
       "      <td>second half</td>\n",
       "      <td>65</td>\n",
       "    </tr>\n",
       "    <tr>\n",
       "      <th rowspan=\"2\" valign=\"top\">1934 FIFA World Cup</th>\n",
       "      <th>0</th>\n",
       "      <td>first half</td>\n",
       "      <td>18</td>\n",
       "    </tr>\n",
       "    <tr>\n",
       "      <th>1</th>\n",
       "      <td>second half</td>\n",
       "      <td>29</td>\n",
       "    </tr>\n",
       "    <tr>\n",
       "      <th rowspan=\"3\" valign=\"top\">1938 FIFA World Cup</th>\n",
       "      <th>0</th>\n",
       "      <td>first half</td>\n",
       "      <td>35</td>\n",
       "    </tr>\n",
       "    <tr>\n",
       "      <th>1</th>\n",
       "      <td>Nothing</td>\n",
       "      <td>44</td>\n",
       "    </tr>\n",
       "    <tr>\n",
       "      <th>2</th>\n",
       "      <td>Nothing</td>\n",
       "      <td>89</td>\n",
       "    </tr>\n",
       "    <tr>\n",
       "      <th>1950 FIFA World Cup</th>\n",
       "      <th>0</th>\n",
       "      <td>second half</td>\n",
       "      <td>17</td>\n",
       "    </tr>\n",
       "    <tr>\n",
       "      <th rowspan=\"8\" valign=\"top\">1954 FIFA World Cup</th>\n",
       "      <th>0</th>\n",
       "      <td>second half</td>\n",
       "      <td>18</td>\n",
       "    </tr>\n",
       "    <tr>\n",
       "      <th>1</th>\n",
       "      <td>Nothing</td>\n",
       "      <td>30</td>\n",
       "    </tr>\n",
       "    <tr>\n",
       "      <th>2</th>\n",
       "      <td>Nothing</td>\n",
       "      <td>54</td>\n",
       "    </tr>\n",
       "    <tr>\n",
       "      <th>3</th>\n",
       "      <td>Nothing</td>\n",
       "      <td>60</td>\n",
       "    </tr>\n",
       "    <tr>\n",
       "      <th>4</th>\n",
       "      <td>Nothing</td>\n",
       "      <td>69</td>\n",
       "    </tr>\n",
       "    <tr>\n",
       "      <th>5</th>\n",
       "      <td>Nothing</td>\n",
       "      <td>78</td>\n",
       "    </tr>\n",
       "    <tr>\n",
       "      <th>6</th>\n",
       "      <td>Nothing</td>\n",
       "      <td>84</td>\n",
       "    </tr>\n",
       "    <tr>\n",
       "      <th>7</th>\n",
       "      <td>Nothing</td>\n",
       "      <td>85</td>\n",
       "    </tr>\n",
       "    <tr>\n",
       "      <th rowspan=\"7\" valign=\"top\">1958 FIFA World Cup</th>\n",
       "      <th>0</th>\n",
       "      <td>second half</td>\n",
       "      <td>4</td>\n",
       "    </tr>\n",
       "    <tr>\n",
       "      <th>1</th>\n",
       "      <td>Nothing</td>\n",
       "      <td>18</td>\n",
       "    </tr>\n",
       "    <tr>\n",
       "      <th>2</th>\n",
       "      <td>Nothing</td>\n",
       "      <td>24</td>\n",
       "    </tr>\n",
       "    <tr>\n",
       "      <th>3</th>\n",
       "      <td>Nothing</td>\n",
       "      <td>32</td>\n",
       "    </tr>\n",
       "    <tr>\n",
       "      <th>4</th>\n",
       "      <td>Nothing</td>\n",
       "      <td>44</td>\n",
       "    </tr>\n",
       "    <tr>\n",
       "      <th>5</th>\n",
       "      <td>Nothing</td>\n",
       "      <td>52</td>\n",
       "    </tr>\n",
       "    <tr>\n",
       "      <th>6</th>\n",
       "      <td>Nothing</td>\n",
       "      <td>55</td>\n",
       "    </tr>\n",
       "    <tr>\n",
       "      <th rowspan=\"5\" valign=\"top\">1962 FIFA World Cup</th>\n",
       "      <th>0</th>\n",
       "      <td>second half</td>\n",
       "      <td>17</td>\n",
       "    </tr>\n",
       "    <tr>\n",
       "      <th>1</th>\n",
       "      <td>Nothing</td>\n",
       "      <td>29</td>\n",
       "    </tr>\n",
       "    <tr>\n",
       "      <th>2</th>\n",
       "      <td>Nothing</td>\n",
       "      <td>56</td>\n",
       "    </tr>\n",
       "    <tr>\n",
       "      <th>3</th>\n",
       "      <td>Nothing</td>\n",
       "      <td>73</td>\n",
       "    </tr>\n",
       "    <tr>\n",
       "      <th>4</th>\n",
       "      <td>Nothing</td>\n",
       "      <td>90</td>\n",
       "    </tr>\n",
       "    <tr>\n",
       "      <th rowspan=\"4\" valign=\"top\">1966 FIFA World Cup</th>\n",
       "      <th>0</th>\n",
       "      <td>second half</td>\n",
       "      <td>15</td>\n",
       "    </tr>\n",
       "    <tr>\n",
       "      <th>1</th>\n",
       "      <td>Nothing</td>\n",
       "      <td>43</td>\n",
       "    </tr>\n",
       "    <tr>\n",
       "      <th>2</th>\n",
       "      <td>Nothing</td>\n",
       "      <td>75</td>\n",
       "    </tr>\n",
       "    <tr>\n",
       "      <th>3</th>\n",
       "      <td>Nothing</td>\n",
       "      <td>88</td>\n",
       "    </tr>\n",
       "    <tr>\n",
       "      <th>1970 FIFA World Cup</th>\n",
       "      <th>0</th>\n",
       "      <td>second half</td>\n",
       "      <td>76</td>\n",
       "    </tr>\n",
       "    <tr>\n",
       "      <th>1974 FIFA World Cup</th>\n",
       "      <th>0</th>\n",
       "      <td>second half</td>\n",
       "      <td>18</td>\n",
       "    </tr>\n",
       "    <tr>\n",
       "      <th rowspan=\"2\" valign=\"top\">1978 FIFA World Cup</th>\n",
       "      <th>0</th>\n",
       "      <td>first half</td>\n",
       "      <td>43</td>\n",
       "    </tr>\n",
       "    <tr>\n",
       "      <th>1</th>\n",
       "      <td>Nothing</td>\n",
       "      <td>45</td>\n",
       "    </tr>\n",
       "    <tr>\n",
       "      <th rowspan=\"3\" valign=\"top\">1982 FIFA World Cup</th>\n",
       "      <th>0</th>\n",
       "      <td>second half</td>\n",
       "      <td>68</td>\n",
       "    </tr>\n",
       "    <tr>\n",
       "      <th>1</th>\n",
       "      <td>Nothing</td>\n",
       "      <td>75</td>\n",
       "    </tr>\n",
       "    <tr>\n",
       "      <th>2</th>\n",
       "      <td>Nothing</td>\n",
       "      <td>83</td>\n",
       "    </tr>\n",
       "    <tr>\n",
       "      <th>1986 FIFA World Cup</th>\n",
       "      <th>0</th>\n",
       "      <td>second half</td>\n",
       "      <td>62</td>\n",
       "    </tr>\n",
       "    <tr>\n",
       "      <th>1990 FIFA World Cup</th>\n",
       "      <th>0</th>\n",
       "      <td>second half</td>\n",
       "      <td>81</td>\n",
       "    </tr>\n",
       "    <tr>\n",
       "      <th>1994 FIFA World Cup</th>\n",
       "      <th>0</th>\n",
       "      <td>second half</td>\n",
       "      <td>90</td>\n",
       "    </tr>\n",
       "    <tr>\n",
       "      <th>1998 FIFA World Cup</th>\n",
       "      <th>0</th>\n",
       "      <td>second half</td>\n",
       "      <td>46</td>\n",
       "    </tr>\n",
       "    <tr>\n",
       "      <th>2002 FIFA World Cup</th>\n",
       "      <th>0</th>\n",
       "      <td>second half</td>\n",
       "      <td>88</td>\n",
       "    </tr>\n",
       "    <tr>\n",
       "      <th rowspan=\"2\" valign=\"top\">2006 FIFA World Cup</th>\n",
       "      <th>0</th>\n",
       "      <td>first half</td>\n",
       "      <td>6</td>\n",
       "    </tr>\n",
       "    <tr>\n",
       "      <th>1</th>\n",
       "      <td>Nothing</td>\n",
       "      <td>84</td>\n",
       "    </tr>\n",
       "    <tr>\n",
       "      <th>2010 FIFA World Cup</th>\n",
       "      <th>0</th>\n",
       "      <td>second half</td>\n",
       "      <td>89</td>\n",
       "    </tr>\n",
       "    <tr>\n",
       "      <th>2014 FIFA World Cup</th>\n",
       "      <th>0</th>\n",
       "      <td>second half</td>\n",
       "      <td>82</td>\n",
       "    </tr>\n",
       "    <tr>\n",
       "      <th>2018 FIFA World Cup</th>\n",
       "      <th>0</th>\n",
       "      <td>second half</td>\n",
       "      <td>51</td>\n",
       "    </tr>\n",
       "    <tr>\n",
       "      <th>2022 FIFA World Cup</th>\n",
       "      <th>0</th>\n",
       "      <td>second half</td>\n",
       "      <td>48</td>\n",
       "    </tr>\n",
       "  </tbody>\n",
       "</table>\n",
       "</div>"
      ],
      "text/plain": [
       "                      match_period  goal_minute\n",
       "tournament_name                                \n",
       "1930 FIFA World Cup 0  second half           65\n",
       "1934 FIFA World Cup 0   first half           18\n",
       "                    1  second half           29\n",
       "1938 FIFA World Cup 0   first half           35\n",
       "                    1      Nothing           44\n",
       "                    2      Nothing           89\n",
       "1950 FIFA World Cup 0  second half           17\n",
       "1954 FIFA World Cup 0  second half           18\n",
       "                    1      Nothing           30\n",
       "                    2      Nothing           54\n",
       "                    3      Nothing           60\n",
       "                    4      Nothing           69\n",
       "                    5      Nothing           78\n",
       "                    6      Nothing           84\n",
       "                    7      Nothing           85\n",
       "1958 FIFA World Cup 0  second half            4\n",
       "                    1      Nothing           18\n",
       "                    2      Nothing           24\n",
       "                    3      Nothing           32\n",
       "                    4      Nothing           44\n",
       "                    5      Nothing           52\n",
       "                    6      Nothing           55\n",
       "1962 FIFA World Cup 0  second half           17\n",
       "                    1      Nothing           29\n",
       "                    2      Nothing           56\n",
       "                    3      Nothing           73\n",
       "                    4      Nothing           90\n",
       "1966 FIFA World Cup 0  second half           15\n",
       "                    1      Nothing           43\n",
       "                    2      Nothing           75\n",
       "                    3      Nothing           88\n",
       "1970 FIFA World Cup 0  second half           76\n",
       "1974 FIFA World Cup 0  second half           18\n",
       "1978 FIFA World Cup 0   first half           43\n",
       "                    1      Nothing           45\n",
       "1982 FIFA World Cup 0  second half           68\n",
       "                    1      Nothing           75\n",
       "                    2      Nothing           83\n",
       "1986 FIFA World Cup 0  second half           62\n",
       "1990 FIFA World Cup 0  second half           81\n",
       "1994 FIFA World Cup 0  second half           90\n",
       "1998 FIFA World Cup 0  second half           46\n",
       "2002 FIFA World Cup 0  second half           88\n",
       "2006 FIFA World Cup 0   first half            6\n",
       "                    1      Nothing           84\n",
       "2010 FIFA World Cup 0  second half           89\n",
       "2014 FIFA World Cup 0  second half           82\n",
       "2018 FIFA World Cup 0  second half           51\n",
       "2022 FIFA World Cup 0  second half           48"
      ]
     },
     "execution_count": 99,
     "metadata": {},
     "output_type": "execute_result"
    }
   ],
   "source": [
    "most_frq_df = b_goals_df.groupby('tournament_name')[['match_period','goal_minute']].apply(lambda x:x.mode())\n",
    "most_frq_df.fillna('Nothing',inplace=True)\n",
    "most_frq_df"
   ]
  },
  {
   "attachments": {},
   "cell_type": "markdown",
   "metadata": {},
   "source": [
    "#### <strong> `The results:`</strong>"
   ]
  },
  {
   "attachments": {},
   "cell_type": "markdown",
   "metadata": {},
   "source": [
    "* The most goals are scored in the second half .\n",
    "* many goals are scored at minute that is close to the beginning or the end of every half."
   ]
  },
  {
   "attachments": {},
   "cell_type": "markdown",
   "metadata": {},
   "source": [
    "#### b.4.Late goals sum for every tournament:"
   ]
  },
  {
   "cell_type": "code",
   "execution_count": 100,
   "metadata": {},
   "outputs": [
    {
     "data": {
      "text/html": [
       "<div>\n",
       "<style scoped>\n",
       "    .dataframe tbody tr th:only-of-type {\n",
       "        vertical-align: middle;\n",
       "    }\n",
       "\n",
       "    .dataframe tbody tr th {\n",
       "        vertical-align: top;\n",
       "    }\n",
       "\n",
       "    .dataframe thead th {\n",
       "        text-align: right;\n",
       "    }\n",
       "</style>\n",
       "<table border=\"1\" class=\"dataframe\">\n",
       "  <thead>\n",
       "    <tr style=\"text-align: right;\">\n",
       "      <th></th>\n",
       "      <th>tournament_name</th>\n",
       "      <th>late_goal</th>\n",
       "    </tr>\n",
       "  </thead>\n",
       "  <tbody>\n",
       "    <tr>\n",
       "      <th>0</th>\n",
       "      <td>1930 FIFA World Cup</td>\n",
       "      <td>1</td>\n",
       "    </tr>\n",
       "    <tr>\n",
       "      <th>1</th>\n",
       "      <td>1934 FIFA World Cup</td>\n",
       "      <td>5</td>\n",
       "    </tr>\n",
       "    <tr>\n",
       "      <th>2</th>\n",
       "      <td>1938 FIFA World Cup</td>\n",
       "      <td>9</td>\n",
       "    </tr>\n",
       "    <tr>\n",
       "      <th>3</th>\n",
       "      <td>1950 FIFA World Cup</td>\n",
       "      <td>0</td>\n",
       "    </tr>\n",
       "    <tr>\n",
       "      <th>4</th>\n",
       "      <td>1954 FIFA World Cup</td>\n",
       "      <td>5</td>\n",
       "    </tr>\n",
       "    <tr>\n",
       "      <th>5</th>\n",
       "      <td>1958 FIFA World Cup</td>\n",
       "      <td>3</td>\n",
       "    </tr>\n",
       "    <tr>\n",
       "      <th>6</th>\n",
       "      <td>1962 FIFA World Cup</td>\n",
       "      <td>4</td>\n",
       "    </tr>\n",
       "    <tr>\n",
       "      <th>7</th>\n",
       "      <td>1966 FIFA World Cup</td>\n",
       "      <td>4</td>\n",
       "    </tr>\n",
       "    <tr>\n",
       "      <th>8</th>\n",
       "      <td>1970 FIFA World Cup</td>\n",
       "      <td>10</td>\n",
       "    </tr>\n",
       "    <tr>\n",
       "      <th>9</th>\n",
       "      <td>1974 FIFA World Cup</td>\n",
       "      <td>1</td>\n",
       "    </tr>\n",
       "    <tr>\n",
       "      <th>10</th>\n",
       "      <td>1978 FIFA World Cup</td>\n",
       "      <td>7</td>\n",
       "    </tr>\n",
       "    <tr>\n",
       "      <th>11</th>\n",
       "      <td>1982 FIFA World Cup</td>\n",
       "      <td>5</td>\n",
       "    </tr>\n",
       "    <tr>\n",
       "      <th>12</th>\n",
       "      <td>1986 FIFA World Cup</td>\n",
       "      <td>8</td>\n",
       "    </tr>\n",
       "    <tr>\n",
       "      <th>13</th>\n",
       "      <td>1990 FIFA World Cup</td>\n",
       "      <td>10</td>\n",
       "    </tr>\n",
       "    <tr>\n",
       "      <th>14</th>\n",
       "      <td>1994 FIFA World Cup</td>\n",
       "      <td>13</td>\n",
       "    </tr>\n",
       "    <tr>\n",
       "      <th>15</th>\n",
       "      <td>1998 FIFA World Cup</td>\n",
       "      <td>24</td>\n",
       "    </tr>\n",
       "    <tr>\n",
       "      <th>16</th>\n",
       "      <td>2002 FIFA World Cup</td>\n",
       "      <td>15</td>\n",
       "    </tr>\n",
       "    <tr>\n",
       "      <th>17</th>\n",
       "      <td>2006 FIFA World Cup</td>\n",
       "      <td>16</td>\n",
       "    </tr>\n",
       "    <tr>\n",
       "      <th>18</th>\n",
       "      <td>2010 FIFA World Cup</td>\n",
       "      <td>10</td>\n",
       "    </tr>\n",
       "    <tr>\n",
       "      <th>19</th>\n",
       "      <td>2014 FIFA World Cup</td>\n",
       "      <td>26</td>\n",
       "    </tr>\n",
       "    <tr>\n",
       "      <th>20</th>\n",
       "      <td>2018 FIFA World Cup</td>\n",
       "      <td>30</td>\n",
       "    </tr>\n",
       "    <tr>\n",
       "      <th>21</th>\n",
       "      <td>2022 FIFA World Cup</td>\n",
       "      <td>26</td>\n",
       "    </tr>\n",
       "  </tbody>\n",
       "</table>\n",
       "</div>"
      ],
      "text/plain": [
       "        tournament_name  late_goal\n",
       "0   1930 FIFA World Cup          1\n",
       "1   1934 FIFA World Cup          5\n",
       "2   1938 FIFA World Cup          9\n",
       "3   1950 FIFA World Cup          0\n",
       "4   1954 FIFA World Cup          5\n",
       "5   1958 FIFA World Cup          3\n",
       "6   1962 FIFA World Cup          4\n",
       "7   1966 FIFA World Cup          4\n",
       "8   1970 FIFA World Cup         10\n",
       "9   1974 FIFA World Cup          1\n",
       "10  1978 FIFA World Cup          7\n",
       "11  1982 FIFA World Cup          5\n",
       "12  1986 FIFA World Cup          8\n",
       "13  1990 FIFA World Cup         10\n",
       "14  1994 FIFA World Cup         13\n",
       "15  1998 FIFA World Cup         24\n",
       "16  2002 FIFA World Cup         15\n",
       "17  2006 FIFA World Cup         16\n",
       "18  2010 FIFA World Cup         10\n",
       "19  2014 FIFA World Cup         26\n",
       "20  2018 FIFA World Cup         30\n",
       "21  2022 FIFA World Cup         26"
      ]
     },
     "execution_count": 100,
     "metadata": {},
     "output_type": "execute_result"
    }
   ],
   "source": [
    "late_goal_df = pd.DataFrame(b_goals_df.groupby('tournament_name')['late_goal'].agg('sum')).reset_index()\n",
    "late_goal_df"
   ]
  },
  {
   "cell_type": "code",
   "execution_count": 101,
   "metadata": {},
   "outputs": [
    {
     "data": {
      "application/vnd.plotly.v1+json": {
       "config": {
        "plotlyServerURL": "https://plot.ly"
       },
       "data": [
        {
         "alignmentgroup": "True",
         "bingroup": "x",
         "histfunc": "sum",
         "hovertemplate": "tournament_name=%{x}<br>sum of late_goal=%{y}<extra></extra>",
         "legendgroup": "",
         "marker": {
          "color": "#636efa",
          "pattern": {
           "shape": ""
          }
         },
         "name": "",
         "offsetgroup": "",
         "orientation": "v",
         "showlegend": false,
         "type": "histogram",
         "x": [
          "1930 FIFA World Cup",
          "1934 FIFA World Cup",
          "1938 FIFA World Cup",
          "1950 FIFA World Cup",
          "1954 FIFA World Cup",
          "1958 FIFA World Cup",
          "1962 FIFA World Cup",
          "1966 FIFA World Cup",
          "1970 FIFA World Cup",
          "1974 FIFA World Cup",
          "1978 FIFA World Cup",
          "1982 FIFA World Cup",
          "1986 FIFA World Cup",
          "1990 FIFA World Cup",
          "1994 FIFA World Cup",
          "1998 FIFA World Cup",
          "2002 FIFA World Cup",
          "2006 FIFA World Cup",
          "2010 FIFA World Cup",
          "2014 FIFA World Cup",
          "2018 FIFA World Cup",
          "2022 FIFA World Cup"
         ],
         "xaxis": "x",
         "y": [
          1,
          5,
          9,
          0,
          5,
          3,
          4,
          4,
          10,
          1,
          7,
          5,
          8,
          10,
          13,
          24,
          15,
          16,
          10,
          26,
          30,
          26
         ],
         "yaxis": "y"
        }
       ],
       "layout": {
        "barmode": "relative",
        "height": 400,
        "legend": {
         "font": {
          "color": "white"
         },
         "tracegroupgap": 0
        },
        "paper_bgcolor": "#383838",
        "plot_bgcolor": "#383838",
        "template": {
         "data": {
          "bar": [
           {
            "error_x": {
             "color": "#2a3f5f"
            },
            "error_y": {
             "color": "#2a3f5f"
            },
            "marker": {
             "line": {
              "color": "#E5ECF6",
              "width": 0.5
             },
             "pattern": {
              "fillmode": "overlay",
              "size": 10,
              "solidity": 0.2
             }
            },
            "type": "bar"
           }
          ],
          "barpolar": [
           {
            "marker": {
             "line": {
              "color": "#E5ECF6",
              "width": 0.5
             },
             "pattern": {
              "fillmode": "overlay",
              "size": 10,
              "solidity": 0.2
             }
            },
            "type": "barpolar"
           }
          ],
          "carpet": [
           {
            "aaxis": {
             "endlinecolor": "#2a3f5f",
             "gridcolor": "white",
             "linecolor": "white",
             "minorgridcolor": "white",
             "startlinecolor": "#2a3f5f"
            },
            "baxis": {
             "endlinecolor": "#2a3f5f",
             "gridcolor": "white",
             "linecolor": "white",
             "minorgridcolor": "white",
             "startlinecolor": "#2a3f5f"
            },
            "type": "carpet"
           }
          ],
          "choropleth": [
           {
            "colorbar": {
             "outlinewidth": 0,
             "ticks": ""
            },
            "type": "choropleth"
           }
          ],
          "contour": [
           {
            "colorbar": {
             "outlinewidth": 0,
             "ticks": ""
            },
            "colorscale": [
             [
              0,
              "#0d0887"
             ],
             [
              0.1111111111111111,
              "#46039f"
             ],
             [
              0.2222222222222222,
              "#7201a8"
             ],
             [
              0.3333333333333333,
              "#9c179e"
             ],
             [
              0.4444444444444444,
              "#bd3786"
             ],
             [
              0.5555555555555556,
              "#d8576b"
             ],
             [
              0.6666666666666666,
              "#ed7953"
             ],
             [
              0.7777777777777778,
              "#fb9f3a"
             ],
             [
              0.8888888888888888,
              "#fdca26"
             ],
             [
              1,
              "#f0f921"
             ]
            ],
            "type": "contour"
           }
          ],
          "contourcarpet": [
           {
            "colorbar": {
             "outlinewidth": 0,
             "ticks": ""
            },
            "type": "contourcarpet"
           }
          ],
          "heatmap": [
           {
            "colorbar": {
             "outlinewidth": 0,
             "ticks": ""
            },
            "colorscale": [
             [
              0,
              "#0d0887"
             ],
             [
              0.1111111111111111,
              "#46039f"
             ],
             [
              0.2222222222222222,
              "#7201a8"
             ],
             [
              0.3333333333333333,
              "#9c179e"
             ],
             [
              0.4444444444444444,
              "#bd3786"
             ],
             [
              0.5555555555555556,
              "#d8576b"
             ],
             [
              0.6666666666666666,
              "#ed7953"
             ],
             [
              0.7777777777777778,
              "#fb9f3a"
             ],
             [
              0.8888888888888888,
              "#fdca26"
             ],
             [
              1,
              "#f0f921"
             ]
            ],
            "type": "heatmap"
           }
          ],
          "heatmapgl": [
           {
            "colorbar": {
             "outlinewidth": 0,
             "ticks": ""
            },
            "colorscale": [
             [
              0,
              "#0d0887"
             ],
             [
              0.1111111111111111,
              "#46039f"
             ],
             [
              0.2222222222222222,
              "#7201a8"
             ],
             [
              0.3333333333333333,
              "#9c179e"
             ],
             [
              0.4444444444444444,
              "#bd3786"
             ],
             [
              0.5555555555555556,
              "#d8576b"
             ],
             [
              0.6666666666666666,
              "#ed7953"
             ],
             [
              0.7777777777777778,
              "#fb9f3a"
             ],
             [
              0.8888888888888888,
              "#fdca26"
             ],
             [
              1,
              "#f0f921"
             ]
            ],
            "type": "heatmapgl"
           }
          ],
          "histogram": [
           {
            "marker": {
             "pattern": {
              "fillmode": "overlay",
              "size": 10,
              "solidity": 0.2
             }
            },
            "type": "histogram"
           }
          ],
          "histogram2d": [
           {
            "colorbar": {
             "outlinewidth": 0,
             "ticks": ""
            },
            "colorscale": [
             [
              0,
              "#0d0887"
             ],
             [
              0.1111111111111111,
              "#46039f"
             ],
             [
              0.2222222222222222,
              "#7201a8"
             ],
             [
              0.3333333333333333,
              "#9c179e"
             ],
             [
              0.4444444444444444,
              "#bd3786"
             ],
             [
              0.5555555555555556,
              "#d8576b"
             ],
             [
              0.6666666666666666,
              "#ed7953"
             ],
             [
              0.7777777777777778,
              "#fb9f3a"
             ],
             [
              0.8888888888888888,
              "#fdca26"
             ],
             [
              1,
              "#f0f921"
             ]
            ],
            "type": "histogram2d"
           }
          ],
          "histogram2dcontour": [
           {
            "colorbar": {
             "outlinewidth": 0,
             "ticks": ""
            },
            "colorscale": [
             [
              0,
              "#0d0887"
             ],
             [
              0.1111111111111111,
              "#46039f"
             ],
             [
              0.2222222222222222,
              "#7201a8"
             ],
             [
              0.3333333333333333,
              "#9c179e"
             ],
             [
              0.4444444444444444,
              "#bd3786"
             ],
             [
              0.5555555555555556,
              "#d8576b"
             ],
             [
              0.6666666666666666,
              "#ed7953"
             ],
             [
              0.7777777777777778,
              "#fb9f3a"
             ],
             [
              0.8888888888888888,
              "#fdca26"
             ],
             [
              1,
              "#f0f921"
             ]
            ],
            "type": "histogram2dcontour"
           }
          ],
          "mesh3d": [
           {
            "colorbar": {
             "outlinewidth": 0,
             "ticks": ""
            },
            "type": "mesh3d"
           }
          ],
          "parcoords": [
           {
            "line": {
             "colorbar": {
              "outlinewidth": 0,
              "ticks": ""
             }
            },
            "type": "parcoords"
           }
          ],
          "pie": [
           {
            "automargin": true,
            "type": "pie"
           }
          ],
          "scatter": [
           {
            "fillpattern": {
             "fillmode": "overlay",
             "size": 10,
             "solidity": 0.2
            },
            "type": "scatter"
           }
          ],
          "scatter3d": [
           {
            "line": {
             "colorbar": {
              "outlinewidth": 0,
              "ticks": ""
             }
            },
            "marker": {
             "colorbar": {
              "outlinewidth": 0,
              "ticks": ""
             }
            },
            "type": "scatter3d"
           }
          ],
          "scattercarpet": [
           {
            "marker": {
             "colorbar": {
              "outlinewidth": 0,
              "ticks": ""
             }
            },
            "type": "scattercarpet"
           }
          ],
          "scattergeo": [
           {
            "marker": {
             "colorbar": {
              "outlinewidth": 0,
              "ticks": ""
             }
            },
            "type": "scattergeo"
           }
          ],
          "scattergl": [
           {
            "marker": {
             "colorbar": {
              "outlinewidth": 0,
              "ticks": ""
             }
            },
            "type": "scattergl"
           }
          ],
          "scattermapbox": [
           {
            "marker": {
             "colorbar": {
              "outlinewidth": 0,
              "ticks": ""
             }
            },
            "type": "scattermapbox"
           }
          ],
          "scatterpolar": [
           {
            "marker": {
             "colorbar": {
              "outlinewidth": 0,
              "ticks": ""
             }
            },
            "type": "scatterpolar"
           }
          ],
          "scatterpolargl": [
           {
            "marker": {
             "colorbar": {
              "outlinewidth": 0,
              "ticks": ""
             }
            },
            "type": "scatterpolargl"
           }
          ],
          "scatterternary": [
           {
            "marker": {
             "colorbar": {
              "outlinewidth": 0,
              "ticks": ""
             }
            },
            "type": "scatterternary"
           }
          ],
          "surface": [
           {
            "colorbar": {
             "outlinewidth": 0,
             "ticks": ""
            },
            "colorscale": [
             [
              0,
              "#0d0887"
             ],
             [
              0.1111111111111111,
              "#46039f"
             ],
             [
              0.2222222222222222,
              "#7201a8"
             ],
             [
              0.3333333333333333,
              "#9c179e"
             ],
             [
              0.4444444444444444,
              "#bd3786"
             ],
             [
              0.5555555555555556,
              "#d8576b"
             ],
             [
              0.6666666666666666,
              "#ed7953"
             ],
             [
              0.7777777777777778,
              "#fb9f3a"
             ],
             [
              0.8888888888888888,
              "#fdca26"
             ],
             [
              1,
              "#f0f921"
             ]
            ],
            "type": "surface"
           }
          ],
          "table": [
           {
            "cells": {
             "fill": {
              "color": "#EBF0F8"
             },
             "line": {
              "color": "white"
             }
            },
            "header": {
             "fill": {
              "color": "#C8D4E3"
             },
             "line": {
              "color": "white"
             }
            },
            "type": "table"
           }
          ]
         },
         "layout": {
          "annotationdefaults": {
           "arrowcolor": "#2a3f5f",
           "arrowhead": 0,
           "arrowwidth": 1
          },
          "autotypenumbers": "strict",
          "coloraxis": {
           "colorbar": {
            "outlinewidth": 0,
            "ticks": ""
           }
          },
          "colorscale": {
           "diverging": [
            [
             0,
             "#8e0152"
            ],
            [
             0.1,
             "#c51b7d"
            ],
            [
             0.2,
             "#de77ae"
            ],
            [
             0.3,
             "#f1b6da"
            ],
            [
             0.4,
             "#fde0ef"
            ],
            [
             0.5,
             "#f7f7f7"
            ],
            [
             0.6,
             "#e6f5d0"
            ],
            [
             0.7,
             "#b8e186"
            ],
            [
             0.8,
             "#7fbc41"
            ],
            [
             0.9,
             "#4d9221"
            ],
            [
             1,
             "#276419"
            ]
           ],
           "sequential": [
            [
             0,
             "#0d0887"
            ],
            [
             0.1111111111111111,
             "#46039f"
            ],
            [
             0.2222222222222222,
             "#7201a8"
            ],
            [
             0.3333333333333333,
             "#9c179e"
            ],
            [
             0.4444444444444444,
             "#bd3786"
            ],
            [
             0.5555555555555556,
             "#d8576b"
            ],
            [
             0.6666666666666666,
             "#ed7953"
            ],
            [
             0.7777777777777778,
             "#fb9f3a"
            ],
            [
             0.8888888888888888,
             "#fdca26"
            ],
            [
             1,
             "#f0f921"
            ]
           ],
           "sequentialminus": [
            [
             0,
             "#0d0887"
            ],
            [
             0.1111111111111111,
             "#46039f"
            ],
            [
             0.2222222222222222,
             "#7201a8"
            ],
            [
             0.3333333333333333,
             "#9c179e"
            ],
            [
             0.4444444444444444,
             "#bd3786"
            ],
            [
             0.5555555555555556,
             "#d8576b"
            ],
            [
             0.6666666666666666,
             "#ed7953"
            ],
            [
             0.7777777777777778,
             "#fb9f3a"
            ],
            [
             0.8888888888888888,
             "#fdca26"
            ],
            [
             1,
             "#f0f921"
            ]
           ]
          },
          "colorway": [
           "#636efa",
           "#EF553B",
           "#00cc96",
           "#ab63fa",
           "#FFA15A",
           "#19d3f3",
           "#FF6692",
           "#B6E880",
           "#FF97FF",
           "#FECB52"
          ],
          "font": {
           "color": "#2a3f5f"
          },
          "geo": {
           "bgcolor": "white",
           "lakecolor": "white",
           "landcolor": "#E5ECF6",
           "showlakes": true,
           "showland": true,
           "subunitcolor": "white"
          },
          "hoverlabel": {
           "align": "left"
          },
          "hovermode": "closest",
          "mapbox": {
           "style": "light"
          },
          "paper_bgcolor": "white",
          "plot_bgcolor": "#E5ECF6",
          "polar": {
           "angularaxis": {
            "gridcolor": "white",
            "linecolor": "white",
            "ticks": ""
           },
           "bgcolor": "#E5ECF6",
           "radialaxis": {
            "gridcolor": "white",
            "linecolor": "white",
            "ticks": ""
           }
          },
          "scene": {
           "xaxis": {
            "backgroundcolor": "#E5ECF6",
            "gridcolor": "white",
            "gridwidth": 2,
            "linecolor": "white",
            "showbackground": true,
            "ticks": "",
            "zerolinecolor": "white"
           },
           "yaxis": {
            "backgroundcolor": "#E5ECF6",
            "gridcolor": "white",
            "gridwidth": 2,
            "linecolor": "white",
            "showbackground": true,
            "ticks": "",
            "zerolinecolor": "white"
           },
           "zaxis": {
            "backgroundcolor": "#E5ECF6",
            "gridcolor": "white",
            "gridwidth": 2,
            "linecolor": "white",
            "showbackground": true,
            "ticks": "",
            "zerolinecolor": "white"
           }
          },
          "shapedefaults": {
           "line": {
            "color": "#2a3f5f"
           }
          },
          "ternary": {
           "aaxis": {
            "gridcolor": "white",
            "linecolor": "white",
            "ticks": ""
           },
           "baxis": {
            "gridcolor": "white",
            "linecolor": "white",
            "ticks": ""
           },
           "bgcolor": "#E5ECF6",
           "caxis": {
            "gridcolor": "white",
            "linecolor": "white",
            "ticks": ""
           }
          },
          "title": {
           "x": 0.05
          },
          "xaxis": {
           "automargin": true,
           "gridcolor": "white",
           "linecolor": "white",
           "ticks": "",
           "title": {
            "standoff": 15
           },
           "zerolinecolor": "white",
           "zerolinewidth": 2
          },
          "yaxis": {
           "automargin": true,
           "gridcolor": "white",
           "linecolor": "white",
           "ticks": "",
           "title": {
            "standoff": 15
           },
           "zerolinecolor": "white",
           "zerolinewidth": 2
          }
         }
        },
        "title": {
         "font": {
          "color": "white"
         },
         "text": "Late Goals for every tournament"
        },
        "width": 700,
        "xaxis": {
         "anchor": "y",
         "color": "white",
         "domain": [
          0,
          1
         ],
         "title": {
          "text": "tournament_name"
         }
        },
        "yaxis": {
         "anchor": "x",
         "color": "white",
         "domain": [
          0,
          1
         ],
         "title": {
          "text": "sum of late_goal"
         }
        }
       }
      }
     },
     "metadata": {},
     "output_type": "display_data"
    }
   ],
   "source": [
    "b_4_fig = px.histogram(late_goal_df,x='tournament_name',y='late_goal',\n",
    "             width=700, height=400,title='Late Goals for every tournament')\n",
    "b_4_fig.update_layout(**layout_options)\n",
    "b_4_fig.show()"
   ]
  },
  {
   "attachments": {},
   "cell_type": "markdown",
   "metadata": {},
   "source": [
    "#### b.5.Top 12 scorer in world cup :"
   ]
  },
  {
   "cell_type": "code",
   "execution_count": 102,
   "metadata": {},
   "outputs": [],
   "source": [
    "# add full name column to b_goals_df\n",
    "b_goals_df['given_name']=b_goals_df['given_name'].apply(lambda name: \"\" if name=='not applicable' else name)\n",
    "b_goals_df['full_name'] = b_goals_df['given_name'] + \" \" + b_goals_df['family_name']"
   ]
  },
  {
   "cell_type": "code",
   "execution_count": 103,
   "metadata": {},
   "outputs": [
    {
     "data": {
      "text/html": [
       "<div>\n",
       "<style scoped>\n",
       "    .dataframe tbody tr th:only-of-type {\n",
       "        vertical-align: middle;\n",
       "    }\n",
       "\n",
       "    .dataframe tbody tr th {\n",
       "        vertical-align: top;\n",
       "    }\n",
       "\n",
       "    .dataframe thead th {\n",
       "        text-align: right;\n",
       "    }\n",
       "</style>\n",
       "<table border=\"1\" class=\"dataframe\">\n",
       "  <thead>\n",
       "    <tr style=\"text-align: right;\">\n",
       "      <th></th>\n",
       "      <th>goals</th>\n",
       "    </tr>\n",
       "  </thead>\n",
       "  <tbody>\n",
       "    <tr>\n",
       "      <th>Miroslav Klose</th>\n",
       "      <td>16</td>\n",
       "    </tr>\n",
       "    <tr>\n",
       "      <th>Ronaldo</th>\n",
       "      <td>15</td>\n",
       "    </tr>\n",
       "    <tr>\n",
       "      <th>Gerd Müller</th>\n",
       "      <td>14</td>\n",
       "    </tr>\n",
       "    <tr>\n",
       "      <th>Just Fontaine</th>\n",
       "      <td>13</td>\n",
       "    </tr>\n",
       "    <tr>\n",
       "      <th>Lionel Messi</th>\n",
       "      <td>13</td>\n",
       "    </tr>\n",
       "    <tr>\n",
       "      <th>Kylian Mbappé</th>\n",
       "      <td>12</td>\n",
       "    </tr>\n",
       "    <tr>\n",
       "      <th>Pelé</th>\n",
       "      <td>12</td>\n",
       "    </tr>\n",
       "    <tr>\n",
       "      <th>Sándor Kocsis</th>\n",
       "      <td>11</td>\n",
       "    </tr>\n",
       "    <tr>\n",
       "      <th>Jürgen Klinsmann</th>\n",
       "      <td>11</td>\n",
       "    </tr>\n",
       "    <tr>\n",
       "      <th>Teófilo Cubillas</th>\n",
       "      <td>10</td>\n",
       "    </tr>\n",
       "    <tr>\n",
       "      <th>Gary Lineker</th>\n",
       "      <td>10</td>\n",
       "    </tr>\n",
       "    <tr>\n",
       "      <th>Thomas Müller</th>\n",
       "      <td>10</td>\n",
       "    </tr>\n",
       "  </tbody>\n",
       "</table>\n",
       "</div>"
      ],
      "text/plain": [
       "                  goals\n",
       "Miroslav Klose       16\n",
       " Ronaldo             15\n",
       "Gerd Müller          14\n",
       "Just Fontaine        13\n",
       "Lionel Messi         13\n",
       "Kylian Mbappé        12\n",
       " Pelé                12\n",
       "Sándor Kocsis        11\n",
       "Jürgen Klinsmann     11\n",
       "Teófilo Cubillas     10\n",
       "Gary Lineker         10\n",
       "Thomas Müller        10"
      ]
     },
     "execution_count": 103,
     "metadata": {},
     "output_type": "execute_result"
    }
   ],
   "source": [
    "best_12_scorer = pd.DataFrame(b_goals_df['full_name'].value_counts().iloc[0:12]).rename(columns={'full_name':'goals'})\n",
    "best_12_scorer"
   ]
  },
  {
   "cell_type": "code",
   "execution_count": 104,
   "metadata": {},
   "outputs": [
    {
     "data": {
      "application/vnd.plotly.v1+json": {
       "config": {
        "plotlyServerURL": "https://plot.ly"
       },
       "data": [
        {
         "alignmentgroup": "True",
         "hovertemplate": "index=%{x}<br>goals=%{y}<extra></extra>",
         "legendgroup": "",
         "marker": {
          "color": "#636efa",
          "pattern": {
           "shape": ""
          }
         },
         "name": "",
         "offsetgroup": "",
         "orientation": "v",
         "showlegend": false,
         "textposition": "auto",
         "type": "bar",
         "x": [
          "Miroslav Klose",
          " Ronaldo",
          "Gerd Müller",
          "Just Fontaine",
          "Lionel Messi",
          "Kylian Mbappé",
          " Pelé",
          "Sándor Kocsis",
          "Jürgen Klinsmann",
          "Teófilo Cubillas",
          "Gary Lineker",
          "Thomas Müller"
         ],
         "xaxis": "x",
         "y": [
          16,
          15,
          14,
          13,
          13,
          12,
          12,
          11,
          11,
          10,
          10,
          10
         ],
         "yaxis": "y"
        }
       ],
       "layout": {
        "barmode": "relative",
        "height": 500,
        "legend": {
         "font": {
          "color": "white"
         },
         "tracegroupgap": 0
        },
        "paper_bgcolor": "#383838",
        "plot_bgcolor": "#383838",
        "template": {
         "data": {
          "bar": [
           {
            "error_x": {
             "color": "#2a3f5f"
            },
            "error_y": {
             "color": "#2a3f5f"
            },
            "marker": {
             "line": {
              "color": "#E5ECF6",
              "width": 0.5
             },
             "pattern": {
              "fillmode": "overlay",
              "size": 10,
              "solidity": 0.2
             }
            },
            "type": "bar"
           }
          ],
          "barpolar": [
           {
            "marker": {
             "line": {
              "color": "#E5ECF6",
              "width": 0.5
             },
             "pattern": {
              "fillmode": "overlay",
              "size": 10,
              "solidity": 0.2
             }
            },
            "type": "barpolar"
           }
          ],
          "carpet": [
           {
            "aaxis": {
             "endlinecolor": "#2a3f5f",
             "gridcolor": "white",
             "linecolor": "white",
             "minorgridcolor": "white",
             "startlinecolor": "#2a3f5f"
            },
            "baxis": {
             "endlinecolor": "#2a3f5f",
             "gridcolor": "white",
             "linecolor": "white",
             "minorgridcolor": "white",
             "startlinecolor": "#2a3f5f"
            },
            "type": "carpet"
           }
          ],
          "choropleth": [
           {
            "colorbar": {
             "outlinewidth": 0,
             "ticks": ""
            },
            "type": "choropleth"
           }
          ],
          "contour": [
           {
            "colorbar": {
             "outlinewidth": 0,
             "ticks": ""
            },
            "colorscale": [
             [
              0,
              "#0d0887"
             ],
             [
              0.1111111111111111,
              "#46039f"
             ],
             [
              0.2222222222222222,
              "#7201a8"
             ],
             [
              0.3333333333333333,
              "#9c179e"
             ],
             [
              0.4444444444444444,
              "#bd3786"
             ],
             [
              0.5555555555555556,
              "#d8576b"
             ],
             [
              0.6666666666666666,
              "#ed7953"
             ],
             [
              0.7777777777777778,
              "#fb9f3a"
             ],
             [
              0.8888888888888888,
              "#fdca26"
             ],
             [
              1,
              "#f0f921"
             ]
            ],
            "type": "contour"
           }
          ],
          "contourcarpet": [
           {
            "colorbar": {
             "outlinewidth": 0,
             "ticks": ""
            },
            "type": "contourcarpet"
           }
          ],
          "heatmap": [
           {
            "colorbar": {
             "outlinewidth": 0,
             "ticks": ""
            },
            "colorscale": [
             [
              0,
              "#0d0887"
             ],
             [
              0.1111111111111111,
              "#46039f"
             ],
             [
              0.2222222222222222,
              "#7201a8"
             ],
             [
              0.3333333333333333,
              "#9c179e"
             ],
             [
              0.4444444444444444,
              "#bd3786"
             ],
             [
              0.5555555555555556,
              "#d8576b"
             ],
             [
              0.6666666666666666,
              "#ed7953"
             ],
             [
              0.7777777777777778,
              "#fb9f3a"
             ],
             [
              0.8888888888888888,
              "#fdca26"
             ],
             [
              1,
              "#f0f921"
             ]
            ],
            "type": "heatmap"
           }
          ],
          "heatmapgl": [
           {
            "colorbar": {
             "outlinewidth": 0,
             "ticks": ""
            },
            "colorscale": [
             [
              0,
              "#0d0887"
             ],
             [
              0.1111111111111111,
              "#46039f"
             ],
             [
              0.2222222222222222,
              "#7201a8"
             ],
             [
              0.3333333333333333,
              "#9c179e"
             ],
             [
              0.4444444444444444,
              "#bd3786"
             ],
             [
              0.5555555555555556,
              "#d8576b"
             ],
             [
              0.6666666666666666,
              "#ed7953"
             ],
             [
              0.7777777777777778,
              "#fb9f3a"
             ],
             [
              0.8888888888888888,
              "#fdca26"
             ],
             [
              1,
              "#f0f921"
             ]
            ],
            "type": "heatmapgl"
           }
          ],
          "histogram": [
           {
            "marker": {
             "pattern": {
              "fillmode": "overlay",
              "size": 10,
              "solidity": 0.2
             }
            },
            "type": "histogram"
           }
          ],
          "histogram2d": [
           {
            "colorbar": {
             "outlinewidth": 0,
             "ticks": ""
            },
            "colorscale": [
             [
              0,
              "#0d0887"
             ],
             [
              0.1111111111111111,
              "#46039f"
             ],
             [
              0.2222222222222222,
              "#7201a8"
             ],
             [
              0.3333333333333333,
              "#9c179e"
             ],
             [
              0.4444444444444444,
              "#bd3786"
             ],
             [
              0.5555555555555556,
              "#d8576b"
             ],
             [
              0.6666666666666666,
              "#ed7953"
             ],
             [
              0.7777777777777778,
              "#fb9f3a"
             ],
             [
              0.8888888888888888,
              "#fdca26"
             ],
             [
              1,
              "#f0f921"
             ]
            ],
            "type": "histogram2d"
           }
          ],
          "histogram2dcontour": [
           {
            "colorbar": {
             "outlinewidth": 0,
             "ticks": ""
            },
            "colorscale": [
             [
              0,
              "#0d0887"
             ],
             [
              0.1111111111111111,
              "#46039f"
             ],
             [
              0.2222222222222222,
              "#7201a8"
             ],
             [
              0.3333333333333333,
              "#9c179e"
             ],
             [
              0.4444444444444444,
              "#bd3786"
             ],
             [
              0.5555555555555556,
              "#d8576b"
             ],
             [
              0.6666666666666666,
              "#ed7953"
             ],
             [
              0.7777777777777778,
              "#fb9f3a"
             ],
             [
              0.8888888888888888,
              "#fdca26"
             ],
             [
              1,
              "#f0f921"
             ]
            ],
            "type": "histogram2dcontour"
           }
          ],
          "mesh3d": [
           {
            "colorbar": {
             "outlinewidth": 0,
             "ticks": ""
            },
            "type": "mesh3d"
           }
          ],
          "parcoords": [
           {
            "line": {
             "colorbar": {
              "outlinewidth": 0,
              "ticks": ""
             }
            },
            "type": "parcoords"
           }
          ],
          "pie": [
           {
            "automargin": true,
            "type": "pie"
           }
          ],
          "scatter": [
           {
            "fillpattern": {
             "fillmode": "overlay",
             "size": 10,
             "solidity": 0.2
            },
            "type": "scatter"
           }
          ],
          "scatter3d": [
           {
            "line": {
             "colorbar": {
              "outlinewidth": 0,
              "ticks": ""
             }
            },
            "marker": {
             "colorbar": {
              "outlinewidth": 0,
              "ticks": ""
             }
            },
            "type": "scatter3d"
           }
          ],
          "scattercarpet": [
           {
            "marker": {
             "colorbar": {
              "outlinewidth": 0,
              "ticks": ""
             }
            },
            "type": "scattercarpet"
           }
          ],
          "scattergeo": [
           {
            "marker": {
             "colorbar": {
              "outlinewidth": 0,
              "ticks": ""
             }
            },
            "type": "scattergeo"
           }
          ],
          "scattergl": [
           {
            "marker": {
             "colorbar": {
              "outlinewidth": 0,
              "ticks": ""
             }
            },
            "type": "scattergl"
           }
          ],
          "scattermapbox": [
           {
            "marker": {
             "colorbar": {
              "outlinewidth": 0,
              "ticks": ""
             }
            },
            "type": "scattermapbox"
           }
          ],
          "scatterpolar": [
           {
            "marker": {
             "colorbar": {
              "outlinewidth": 0,
              "ticks": ""
             }
            },
            "type": "scatterpolar"
           }
          ],
          "scatterpolargl": [
           {
            "marker": {
             "colorbar": {
              "outlinewidth": 0,
              "ticks": ""
             }
            },
            "type": "scatterpolargl"
           }
          ],
          "scatterternary": [
           {
            "marker": {
             "colorbar": {
              "outlinewidth": 0,
              "ticks": ""
             }
            },
            "type": "scatterternary"
           }
          ],
          "surface": [
           {
            "colorbar": {
             "outlinewidth": 0,
             "ticks": ""
            },
            "colorscale": [
             [
              0,
              "#0d0887"
             ],
             [
              0.1111111111111111,
              "#46039f"
             ],
             [
              0.2222222222222222,
              "#7201a8"
             ],
             [
              0.3333333333333333,
              "#9c179e"
             ],
             [
              0.4444444444444444,
              "#bd3786"
             ],
             [
              0.5555555555555556,
              "#d8576b"
             ],
             [
              0.6666666666666666,
              "#ed7953"
             ],
             [
              0.7777777777777778,
              "#fb9f3a"
             ],
             [
              0.8888888888888888,
              "#fdca26"
             ],
             [
              1,
              "#f0f921"
             ]
            ],
            "type": "surface"
           }
          ],
          "table": [
           {
            "cells": {
             "fill": {
              "color": "#EBF0F8"
             },
             "line": {
              "color": "white"
             }
            },
            "header": {
             "fill": {
              "color": "#C8D4E3"
             },
             "line": {
              "color": "white"
             }
            },
            "type": "table"
           }
          ]
         },
         "layout": {
          "annotationdefaults": {
           "arrowcolor": "#2a3f5f",
           "arrowhead": 0,
           "arrowwidth": 1
          },
          "autotypenumbers": "strict",
          "coloraxis": {
           "colorbar": {
            "outlinewidth": 0,
            "ticks": ""
           }
          },
          "colorscale": {
           "diverging": [
            [
             0,
             "#8e0152"
            ],
            [
             0.1,
             "#c51b7d"
            ],
            [
             0.2,
             "#de77ae"
            ],
            [
             0.3,
             "#f1b6da"
            ],
            [
             0.4,
             "#fde0ef"
            ],
            [
             0.5,
             "#f7f7f7"
            ],
            [
             0.6,
             "#e6f5d0"
            ],
            [
             0.7,
             "#b8e186"
            ],
            [
             0.8,
             "#7fbc41"
            ],
            [
             0.9,
             "#4d9221"
            ],
            [
             1,
             "#276419"
            ]
           ],
           "sequential": [
            [
             0,
             "#0d0887"
            ],
            [
             0.1111111111111111,
             "#46039f"
            ],
            [
             0.2222222222222222,
             "#7201a8"
            ],
            [
             0.3333333333333333,
             "#9c179e"
            ],
            [
             0.4444444444444444,
             "#bd3786"
            ],
            [
             0.5555555555555556,
             "#d8576b"
            ],
            [
             0.6666666666666666,
             "#ed7953"
            ],
            [
             0.7777777777777778,
             "#fb9f3a"
            ],
            [
             0.8888888888888888,
             "#fdca26"
            ],
            [
             1,
             "#f0f921"
            ]
           ],
           "sequentialminus": [
            [
             0,
             "#0d0887"
            ],
            [
             0.1111111111111111,
             "#46039f"
            ],
            [
             0.2222222222222222,
             "#7201a8"
            ],
            [
             0.3333333333333333,
             "#9c179e"
            ],
            [
             0.4444444444444444,
             "#bd3786"
            ],
            [
             0.5555555555555556,
             "#d8576b"
            ],
            [
             0.6666666666666666,
             "#ed7953"
            ],
            [
             0.7777777777777778,
             "#fb9f3a"
            ],
            [
             0.8888888888888888,
             "#fdca26"
            ],
            [
             1,
             "#f0f921"
            ]
           ]
          },
          "colorway": [
           "#636efa",
           "#EF553B",
           "#00cc96",
           "#ab63fa",
           "#FFA15A",
           "#19d3f3",
           "#FF6692",
           "#B6E880",
           "#FF97FF",
           "#FECB52"
          ],
          "font": {
           "color": "#2a3f5f"
          },
          "geo": {
           "bgcolor": "white",
           "lakecolor": "white",
           "landcolor": "#E5ECF6",
           "showlakes": true,
           "showland": true,
           "subunitcolor": "white"
          },
          "hoverlabel": {
           "align": "left"
          },
          "hovermode": "closest",
          "mapbox": {
           "style": "light"
          },
          "paper_bgcolor": "white",
          "plot_bgcolor": "#E5ECF6",
          "polar": {
           "angularaxis": {
            "gridcolor": "white",
            "linecolor": "white",
            "ticks": ""
           },
           "bgcolor": "#E5ECF6",
           "radialaxis": {
            "gridcolor": "white",
            "linecolor": "white",
            "ticks": ""
           }
          },
          "scene": {
           "xaxis": {
            "backgroundcolor": "#E5ECF6",
            "gridcolor": "white",
            "gridwidth": 2,
            "linecolor": "white",
            "showbackground": true,
            "ticks": "",
            "zerolinecolor": "white"
           },
           "yaxis": {
            "backgroundcolor": "#E5ECF6",
            "gridcolor": "white",
            "gridwidth": 2,
            "linecolor": "white",
            "showbackground": true,
            "ticks": "",
            "zerolinecolor": "white"
           },
           "zaxis": {
            "backgroundcolor": "#E5ECF6",
            "gridcolor": "white",
            "gridwidth": 2,
            "linecolor": "white",
            "showbackground": true,
            "ticks": "",
            "zerolinecolor": "white"
           }
          },
          "shapedefaults": {
           "line": {
            "color": "#2a3f5f"
           }
          },
          "ternary": {
           "aaxis": {
            "gridcolor": "white",
            "linecolor": "white",
            "ticks": ""
           },
           "baxis": {
            "gridcolor": "white",
            "linecolor": "white",
            "ticks": ""
           },
           "bgcolor": "#E5ECF6",
           "caxis": {
            "gridcolor": "white",
            "linecolor": "white",
            "ticks": ""
           }
          },
          "title": {
           "x": 0.05
          },
          "xaxis": {
           "automargin": true,
           "gridcolor": "white",
           "linecolor": "white",
           "ticks": "",
           "title": {
            "standoff": 15
           },
           "zerolinecolor": "white",
           "zerolinewidth": 2
          },
          "yaxis": {
           "automargin": true,
           "gridcolor": "white",
           "linecolor": "white",
           "ticks": "",
           "title": {
            "standoff": 15
           },
           "zerolinecolor": "white",
           "zerolinewidth": 2
          }
         }
        },
        "title": {
         "font": {
          "color": "white"
         },
         "text": "Top 12 Scorer"
        },
        "width": 1200,
        "xaxis": {
         "anchor": "y",
         "color": "white",
         "domain": [
          0,
          1
         ],
         "title": {
          "text": "player name"
         }
        },
        "yaxis": {
         "anchor": "x",
         "color": "white",
         "domain": [
          0,
          1
         ],
         "title": {
          "text": "goals"
         }
        }
       }
      }
     },
     "metadata": {},
     "output_type": "display_data"
    }
   ],
   "source": [
    "b_5_fig = px.bar(best_12_scorer,x=best_12_scorer.index,y='goals',\n",
    "                 width=1200,height=500,title='Top 12 Scorer')\n",
    "b_5_fig.update_xaxes(title_text='player name')\n",
    "b_5_fig.update_layout(**layout_options)\n",
    "b_5_fig.show()"
   ]
  },
  {
   "attachments": {},
   "cell_type": "markdown",
   "metadata": {},
   "source": [
    "#### <strong> `The results:`</strong>"
   ]
  },
  {
   "attachments": {},
   "cell_type": "markdown",
   "metadata": {},
   "source": [
    "* The best scorer scored 16 goal(Miroslav Klose).\n",
    "* Kylian Mbappé\tis the youngest player now in the list and he played only in the tow world cup ad scored 12 goals so that he has high probablility to be the best scorer in the world cup."
   ]
  },
  {
   "attachments": {},
   "cell_type": "markdown",
   "metadata": {},
   "source": [
    "#### <strong> `Refrences:` </strong>"
   ]
  },
  {
   "attachments": {},
   "cell_type": "markdown",
   "metadata": {},
   "source": [
    "https://en.wikipedia.org/wiki/Kylian_Mbapp%C3%A9"
   ]
  },
  {
   "attachments": {},
   "cell_type": "markdown",
   "metadata": {},
   "source": [
    "#### b.6.Best scorer in every tournament:"
   ]
  },
  {
   "cell_type": "code",
   "execution_count": 105,
   "metadata": {},
   "outputs": [
    {
     "data": {
      "text/html": [
       "<div>\n",
       "<style scoped>\n",
       "    .dataframe tbody tr th:only-of-type {\n",
       "        vertical-align: middle;\n",
       "    }\n",
       "\n",
       "    .dataframe tbody tr th {\n",
       "        vertical-align: top;\n",
       "    }\n",
       "\n",
       "    .dataframe thead th {\n",
       "        text-align: right;\n",
       "    }\n",
       "</style>\n",
       "<table border=\"1\" class=\"dataframe\">\n",
       "  <thead>\n",
       "    <tr style=\"text-align: right;\">\n",
       "      <th></th>\n",
       "      <th>tournament_name</th>\n",
       "      <th>goals</th>\n",
       "    </tr>\n",
       "  </thead>\n",
       "  <tbody>\n",
       "    <tr>\n",
       "      <th>0</th>\n",
       "      <td>1930 FIFA World Cup</td>\n",
       "      <td>8</td>\n",
       "    </tr>\n",
       "    <tr>\n",
       "      <th>1</th>\n",
       "      <td>1934 FIFA World Cup</td>\n",
       "      <td>5</td>\n",
       "    </tr>\n",
       "    <tr>\n",
       "      <th>2</th>\n",
       "      <td>1938 FIFA World Cup</td>\n",
       "      <td>7</td>\n",
       "    </tr>\n",
       "    <tr>\n",
       "      <th>3</th>\n",
       "      <td>1950 FIFA World Cup</td>\n",
       "      <td>9</td>\n",
       "    </tr>\n",
       "    <tr>\n",
       "      <th>4</th>\n",
       "      <td>1954 FIFA World Cup</td>\n",
       "      <td>11</td>\n",
       "    </tr>\n",
       "    <tr>\n",
       "      <th>5</th>\n",
       "      <td>1958 FIFA World Cup</td>\n",
       "      <td>13</td>\n",
       "    </tr>\n",
       "    <tr>\n",
       "      <th>6</th>\n",
       "      <td>1962 FIFA World Cup</td>\n",
       "      <td>4</td>\n",
       "    </tr>\n",
       "    <tr>\n",
       "      <th>7</th>\n",
       "      <td>1966 FIFA World Cup</td>\n",
       "      <td>9</td>\n",
       "    </tr>\n",
       "    <tr>\n",
       "      <th>8</th>\n",
       "      <td>1970 FIFA World Cup</td>\n",
       "      <td>10</td>\n",
       "    </tr>\n",
       "    <tr>\n",
       "      <th>9</th>\n",
       "      <td>1974 FIFA World Cup</td>\n",
       "      <td>7</td>\n",
       "    </tr>\n",
       "    <tr>\n",
       "      <th>10</th>\n",
       "      <td>1978 FIFA World Cup</td>\n",
       "      <td>6</td>\n",
       "    </tr>\n",
       "    <tr>\n",
       "      <th>11</th>\n",
       "      <td>1982 FIFA World Cup</td>\n",
       "      <td>6</td>\n",
       "    </tr>\n",
       "    <tr>\n",
       "      <th>12</th>\n",
       "      <td>1986 FIFA World Cup</td>\n",
       "      <td>6</td>\n",
       "    </tr>\n",
       "    <tr>\n",
       "      <th>13</th>\n",
       "      <td>1990 FIFA World Cup</td>\n",
       "      <td>6</td>\n",
       "    </tr>\n",
       "    <tr>\n",
       "      <th>14</th>\n",
       "      <td>1994 FIFA World Cup</td>\n",
       "      <td>6</td>\n",
       "    </tr>\n",
       "    <tr>\n",
       "      <th>15</th>\n",
       "      <td>1998 FIFA World Cup</td>\n",
       "      <td>6</td>\n",
       "    </tr>\n",
       "    <tr>\n",
       "      <th>16</th>\n",
       "      <td>2002 FIFA World Cup</td>\n",
       "      <td>8</td>\n",
       "    </tr>\n",
       "    <tr>\n",
       "      <th>17</th>\n",
       "      <td>2006 FIFA World Cup</td>\n",
       "      <td>5</td>\n",
       "    </tr>\n",
       "    <tr>\n",
       "      <th>18</th>\n",
       "      <td>2010 FIFA World Cup</td>\n",
       "      <td>5</td>\n",
       "    </tr>\n",
       "    <tr>\n",
       "      <th>19</th>\n",
       "      <td>2014 FIFA World Cup</td>\n",
       "      <td>6</td>\n",
       "    </tr>\n",
       "    <tr>\n",
       "      <th>20</th>\n",
       "      <td>2018 FIFA World Cup</td>\n",
       "      <td>6</td>\n",
       "    </tr>\n",
       "    <tr>\n",
       "      <th>21</th>\n",
       "      <td>2022 FIFA World Cup</td>\n",
       "      <td>8</td>\n",
       "    </tr>\n",
       "  </tbody>\n",
       "</table>\n",
       "</div>"
      ],
      "text/plain": [
       "        tournament_name  goals\n",
       "0   1930 FIFA World Cup      8\n",
       "1   1934 FIFA World Cup      5\n",
       "2   1938 FIFA World Cup      7\n",
       "3   1950 FIFA World Cup      9\n",
       "4   1954 FIFA World Cup     11\n",
       "5   1958 FIFA World Cup     13\n",
       "6   1962 FIFA World Cup      4\n",
       "7   1966 FIFA World Cup      9\n",
       "8   1970 FIFA World Cup     10\n",
       "9   1974 FIFA World Cup      7\n",
       "10  1978 FIFA World Cup      6\n",
       "11  1982 FIFA World Cup      6\n",
       "12  1986 FIFA World Cup      6\n",
       "13  1990 FIFA World Cup      6\n",
       "14  1994 FIFA World Cup      6\n",
       "15  1998 FIFA World Cup      6\n",
       "16  2002 FIFA World Cup      8\n",
       "17  2006 FIFA World Cup      5\n",
       "18  2010 FIFA World Cup      5\n",
       "19  2014 FIFA World Cup      6\n",
       "20  2018 FIFA World Cup      6\n",
       "21  2022 FIFA World Cup      8"
      ]
     },
     "execution_count": 105,
     "metadata": {},
     "output_type": "execute_result"
    }
   ],
   "source": [
    "# calculate the highest goals number for every scorer dataframe\n",
    "temp_scorer_tournament = b_goals_df.groupby('tournament_name')['full_name'].value_counts().groupby(level=0).head(1)\n",
    "temp_scorer_tournament = pd.DataFrame(temp_scorer_tournament).rename(columns={'full_name':'goals'}).reset_index()\n",
    "temp_scorer_tournament = temp_scorer_tournament.drop(['full_name'],axis=1)\n",
    "temp_scorer_tournament"
   ]
  },
  {
   "cell_type": "code",
   "execution_count": 106,
   "metadata": {},
   "outputs": [
    {
     "data": {
      "text/html": [
       "<div>\n",
       "<style scoped>\n",
       "    .dataframe tbody tr th:only-of-type {\n",
       "        vertical-align: middle;\n",
       "    }\n",
       "\n",
       "    .dataframe tbody tr th {\n",
       "        vertical-align: top;\n",
       "    }\n",
       "\n",
       "    .dataframe thead th {\n",
       "        text-align: right;\n",
       "    }\n",
       "</style>\n",
       "<table border=\"1\" class=\"dataframe\">\n",
       "  <thead>\n",
       "    <tr style=\"text-align: right;\">\n",
       "      <th></th>\n",
       "      <th>tournament_name</th>\n",
       "      <th>full_name</th>\n",
       "      <th>goals</th>\n",
       "    </tr>\n",
       "  </thead>\n",
       "  <tbody>\n",
       "    <tr>\n",
       "      <th>0</th>\n",
       "      <td>1930 FIFA World Cup</td>\n",
       "      <td>Guillermo Stábile</td>\n",
       "      <td>8</td>\n",
       "    </tr>\n",
       "    <tr>\n",
       "      <th>1</th>\n",
       "      <td>1934 FIFA World Cup</td>\n",
       "      <td>Oldřich Nejedlý</td>\n",
       "      <td>5</td>\n",
       "    </tr>\n",
       "    <tr>\n",
       "      <th>2</th>\n",
       "      <td>1938 FIFA World Cup</td>\n",
       "      <td>Leônidas</td>\n",
       "      <td>7</td>\n",
       "    </tr>\n",
       "    <tr>\n",
       "      <th>3</th>\n",
       "      <td>1950 FIFA World Cup</td>\n",
       "      <td>Ademir</td>\n",
       "      <td>9</td>\n",
       "    </tr>\n",
       "    <tr>\n",
       "      <th>4</th>\n",
       "      <td>1954 FIFA World Cup</td>\n",
       "      <td>Sándor Kocsis</td>\n",
       "      <td>11</td>\n",
       "    </tr>\n",
       "    <tr>\n",
       "      <th>5</th>\n",
       "      <td>1958 FIFA World Cup</td>\n",
       "      <td>Just Fontaine</td>\n",
       "      <td>13</td>\n",
       "    </tr>\n",
       "    <tr>\n",
       "      <th>6</th>\n",
       "      <td>1962 FIFA World Cup</td>\n",
       "      <td>Garrincha</td>\n",
       "      <td>4</td>\n",
       "    </tr>\n",
       "    <tr>\n",
       "      <th>7</th>\n",
       "      <td>1962 FIFA World Cup</td>\n",
       "      <td>Vavá</td>\n",
       "      <td>4</td>\n",
       "    </tr>\n",
       "    <tr>\n",
       "      <th>8</th>\n",
       "      <td>1962 FIFA World Cup</td>\n",
       "      <td>Dražan Jerković</td>\n",
       "      <td>4</td>\n",
       "    </tr>\n",
       "    <tr>\n",
       "      <th>9</th>\n",
       "      <td>1962 FIFA World Cup</td>\n",
       "      <td>Flórián Albert</td>\n",
       "      <td>4</td>\n",
       "    </tr>\n",
       "    <tr>\n",
       "      <th>10</th>\n",
       "      <td>1962 FIFA World Cup</td>\n",
       "      <td>Leonel Sánchez</td>\n",
       "      <td>4</td>\n",
       "    </tr>\n",
       "    <tr>\n",
       "      <th>11</th>\n",
       "      <td>1962 FIFA World Cup</td>\n",
       "      <td>Valentin Ivanov</td>\n",
       "      <td>4</td>\n",
       "    </tr>\n",
       "    <tr>\n",
       "      <th>12</th>\n",
       "      <td>1966 FIFA World Cup</td>\n",
       "      <td>Eusébio</td>\n",
       "      <td>9</td>\n",
       "    </tr>\n",
       "    <tr>\n",
       "      <th>13</th>\n",
       "      <td>1970 FIFA World Cup</td>\n",
       "      <td>Gerd Müller</td>\n",
       "      <td>10</td>\n",
       "    </tr>\n",
       "    <tr>\n",
       "      <th>14</th>\n",
       "      <td>1974 FIFA World Cup</td>\n",
       "      <td>Grzegorz Lato</td>\n",
       "      <td>7</td>\n",
       "    </tr>\n",
       "    <tr>\n",
       "      <th>15</th>\n",
       "      <td>1978 FIFA World Cup</td>\n",
       "      <td>Mario Kempes</td>\n",
       "      <td>6</td>\n",
       "    </tr>\n",
       "    <tr>\n",
       "      <th>16</th>\n",
       "      <td>1982 FIFA World Cup</td>\n",
       "      <td>Paolo Rossi</td>\n",
       "      <td>6</td>\n",
       "    </tr>\n",
       "    <tr>\n",
       "      <th>17</th>\n",
       "      <td>1986 FIFA World Cup</td>\n",
       "      <td>Gary Lineker</td>\n",
       "      <td>6</td>\n",
       "    </tr>\n",
       "    <tr>\n",
       "      <th>18</th>\n",
       "      <td>1990 FIFA World Cup</td>\n",
       "      <td>Salvatore Schillaci</td>\n",
       "      <td>6</td>\n",
       "    </tr>\n",
       "    <tr>\n",
       "      <th>19</th>\n",
       "      <td>1994 FIFA World Cup</td>\n",
       "      <td>Hristo Stoichkov</td>\n",
       "      <td>6</td>\n",
       "    </tr>\n",
       "    <tr>\n",
       "      <th>20</th>\n",
       "      <td>1994 FIFA World Cup</td>\n",
       "      <td>Oleg Salenko</td>\n",
       "      <td>6</td>\n",
       "    </tr>\n",
       "    <tr>\n",
       "      <th>21</th>\n",
       "      <td>1998 FIFA World Cup</td>\n",
       "      <td>Davor Šuker</td>\n",
       "      <td>6</td>\n",
       "    </tr>\n",
       "    <tr>\n",
       "      <th>22</th>\n",
       "      <td>2002 FIFA World Cup</td>\n",
       "      <td>Ronaldo</td>\n",
       "      <td>8</td>\n",
       "    </tr>\n",
       "    <tr>\n",
       "      <th>23</th>\n",
       "      <td>2006 FIFA World Cup</td>\n",
       "      <td>Miroslav Klose</td>\n",
       "      <td>5</td>\n",
       "    </tr>\n",
       "    <tr>\n",
       "      <th>24</th>\n",
       "      <td>2010 FIFA World Cup</td>\n",
       "      <td>David Villa</td>\n",
       "      <td>5</td>\n",
       "    </tr>\n",
       "    <tr>\n",
       "      <th>25</th>\n",
       "      <td>2010 FIFA World Cup</td>\n",
       "      <td>Diego Forlán</td>\n",
       "      <td>5</td>\n",
       "    </tr>\n",
       "    <tr>\n",
       "      <th>26</th>\n",
       "      <td>2010 FIFA World Cup</td>\n",
       "      <td>Thomas Müller</td>\n",
       "      <td>5</td>\n",
       "    </tr>\n",
       "    <tr>\n",
       "      <th>27</th>\n",
       "      <td>2010 FIFA World Cup</td>\n",
       "      <td>Wesley Sneijder</td>\n",
       "      <td>5</td>\n",
       "    </tr>\n",
       "    <tr>\n",
       "      <th>28</th>\n",
       "      <td>2014 FIFA World Cup</td>\n",
       "      <td>James Rodríguez</td>\n",
       "      <td>6</td>\n",
       "    </tr>\n",
       "    <tr>\n",
       "      <th>29</th>\n",
       "      <td>2018 FIFA World Cup</td>\n",
       "      <td>Harry Kane</td>\n",
       "      <td>6</td>\n",
       "    </tr>\n",
       "    <tr>\n",
       "      <th>30</th>\n",
       "      <td>2022 FIFA World Cup</td>\n",
       "      <td>Kylian Mbappé</td>\n",
       "      <td>8</td>\n",
       "    </tr>\n",
       "  </tbody>\n",
       "</table>\n",
       "</div>"
      ],
      "text/plain": [
       "        tournament_name            full_name  goals\n",
       "0   1930 FIFA World Cup    Guillermo Stábile      8\n",
       "1   1934 FIFA World Cup      Oldřich Nejedlý      5\n",
       "2   1938 FIFA World Cup             Leônidas      7\n",
       "3   1950 FIFA World Cup               Ademir      9\n",
       "4   1954 FIFA World Cup        Sándor Kocsis     11\n",
       "5   1958 FIFA World Cup        Just Fontaine     13\n",
       "6   1962 FIFA World Cup            Garrincha      4\n",
       "7   1962 FIFA World Cup                 Vavá      4\n",
       "8   1962 FIFA World Cup      Dražan Jerković      4\n",
       "9   1962 FIFA World Cup       Flórián Albert      4\n",
       "10  1962 FIFA World Cup       Leonel Sánchez      4\n",
       "11  1962 FIFA World Cup      Valentin Ivanov      4\n",
       "12  1966 FIFA World Cup              Eusébio      9\n",
       "13  1970 FIFA World Cup          Gerd Müller     10\n",
       "14  1974 FIFA World Cup        Grzegorz Lato      7\n",
       "15  1978 FIFA World Cup         Mario Kempes      6\n",
       "16  1982 FIFA World Cup          Paolo Rossi      6\n",
       "17  1986 FIFA World Cup         Gary Lineker      6\n",
       "18  1990 FIFA World Cup  Salvatore Schillaci      6\n",
       "19  1994 FIFA World Cup     Hristo Stoichkov      6\n",
       "20  1994 FIFA World Cup         Oleg Salenko      6\n",
       "21  1998 FIFA World Cup          Davor Šuker      6\n",
       "22  2002 FIFA World Cup              Ronaldo      8\n",
       "23  2006 FIFA World Cup       Miroslav Klose      5\n",
       "24  2010 FIFA World Cup          David Villa      5\n",
       "25  2010 FIFA World Cup         Diego Forlán      5\n",
       "26  2010 FIFA World Cup        Thomas Müller      5\n",
       "27  2010 FIFA World Cup      Wesley Sneijder      5\n",
       "28  2014 FIFA World Cup      James Rodríguez      6\n",
       "29  2018 FIFA World Cup           Harry Kane      6\n",
       "30  2022 FIFA World Cup        Kylian Mbappé      8"
      ]
     },
     "execution_count": 106,
     "metadata": {},
     "output_type": "execute_result"
    }
   ],
   "source": [
    "# calculate the best scorer in every tournament dataframe and merg it with goals number\n",
    "best_scorer_tournament = b_goals_df.groupby('tournament_name')['full_name'].apply(lambda x:x.mode())\n",
    "best_scorer_tournament = pd.DataFrame(best_scorer_tournament)\n",
    "best_scorer_tournament.groupby(level=0).head(1).reset_index().drop('level_1',axis=1)\n",
    "best_scorer_tournament = pd.merge(best_scorer_tournament,temp_scorer_tournament,on='tournament_name')\n",
    "best_scorer_tournament"
   ]
  },
  {
   "cell_type": "code",
   "execution_count": 107,
   "metadata": {},
   "outputs": [
    {
     "data": {
      "application/vnd.plotly.v1+json": {
       "config": {
        "plotlyServerURL": "https://plot.ly"
       },
       "data": [
        {
         "alignmentgroup": "True",
         "hovertemplate": "full_name=Guillermo Stábile<br>tournament_name=%{x}<br>goals=%{y}<extra></extra>",
         "legendgroup": "Guillermo Stábile",
         "marker": {
          "color": "#636efa",
          "pattern": {
           "shape": ""
          }
         },
         "name": "Guillermo Stábile",
         "offsetgroup": "Guillermo Stábile",
         "orientation": "v",
         "showlegend": true,
         "textposition": "auto",
         "type": "bar",
         "x": [
          "1930 FIFA World Cup"
         ],
         "xaxis": "x",
         "y": [
          8
         ],
         "yaxis": "y"
        },
        {
         "alignmentgroup": "True",
         "hovertemplate": "full_name=Oldřich Nejedlý<br>tournament_name=%{x}<br>goals=%{y}<extra></extra>",
         "legendgroup": "Oldřich Nejedlý",
         "marker": {
          "color": "#EF553B",
          "pattern": {
           "shape": ""
          }
         },
         "name": "Oldřich Nejedlý",
         "offsetgroup": "Oldřich Nejedlý",
         "orientation": "v",
         "showlegend": true,
         "textposition": "auto",
         "type": "bar",
         "x": [
          "1934 FIFA World Cup"
         ],
         "xaxis": "x",
         "y": [
          5
         ],
         "yaxis": "y"
        },
        {
         "alignmentgroup": "True",
         "hovertemplate": "full_name= Leônidas<br>tournament_name=%{x}<br>goals=%{y}<extra></extra>",
         "legendgroup": " Leônidas",
         "marker": {
          "color": "#00cc96",
          "pattern": {
           "shape": ""
          }
         },
         "name": " Leônidas",
         "offsetgroup": " Leônidas",
         "orientation": "v",
         "showlegend": true,
         "textposition": "auto",
         "type": "bar",
         "x": [
          "1938 FIFA World Cup"
         ],
         "xaxis": "x",
         "y": [
          7
         ],
         "yaxis": "y"
        },
        {
         "alignmentgroup": "True",
         "hovertemplate": "full_name= Ademir<br>tournament_name=%{x}<br>goals=%{y}<extra></extra>",
         "legendgroup": " Ademir",
         "marker": {
          "color": "#ab63fa",
          "pattern": {
           "shape": ""
          }
         },
         "name": " Ademir",
         "offsetgroup": " Ademir",
         "orientation": "v",
         "showlegend": true,
         "textposition": "auto",
         "type": "bar",
         "x": [
          "1950 FIFA World Cup"
         ],
         "xaxis": "x",
         "y": [
          9
         ],
         "yaxis": "y"
        },
        {
         "alignmentgroup": "True",
         "hovertemplate": "full_name=Sándor Kocsis<br>tournament_name=%{x}<br>goals=%{y}<extra></extra>",
         "legendgroup": "Sándor Kocsis",
         "marker": {
          "color": "#FFA15A",
          "pattern": {
           "shape": ""
          }
         },
         "name": "Sándor Kocsis",
         "offsetgroup": "Sándor Kocsis",
         "orientation": "v",
         "showlegend": true,
         "textposition": "auto",
         "type": "bar",
         "x": [
          "1954 FIFA World Cup"
         ],
         "xaxis": "x",
         "y": [
          11
         ],
         "yaxis": "y"
        },
        {
         "alignmentgroup": "True",
         "hovertemplate": "full_name=Just Fontaine<br>tournament_name=%{x}<br>goals=%{y}<extra></extra>",
         "legendgroup": "Just Fontaine",
         "marker": {
          "color": "#19d3f3",
          "pattern": {
           "shape": ""
          }
         },
         "name": "Just Fontaine",
         "offsetgroup": "Just Fontaine",
         "orientation": "v",
         "showlegend": true,
         "textposition": "auto",
         "type": "bar",
         "x": [
          "1958 FIFA World Cup"
         ],
         "xaxis": "x",
         "y": [
          13
         ],
         "yaxis": "y"
        },
        {
         "alignmentgroup": "True",
         "hovertemplate": "full_name= Garrincha<br>tournament_name=%{x}<br>goals=%{y}<extra></extra>",
         "legendgroup": " Garrincha",
         "marker": {
          "color": "#FF6692",
          "pattern": {
           "shape": ""
          }
         },
         "name": " Garrincha",
         "offsetgroup": " Garrincha",
         "orientation": "v",
         "showlegend": true,
         "textposition": "auto",
         "type": "bar",
         "x": [
          "1962 FIFA World Cup"
         ],
         "xaxis": "x",
         "y": [
          4
         ],
         "yaxis": "y"
        },
        {
         "alignmentgroup": "True",
         "hovertemplate": "full_name= Vavá<br>tournament_name=%{x}<br>goals=%{y}<extra></extra>",
         "legendgroup": " Vavá",
         "marker": {
          "color": "#B6E880",
          "pattern": {
           "shape": ""
          }
         },
         "name": " Vavá",
         "offsetgroup": " Vavá",
         "orientation": "v",
         "showlegend": true,
         "textposition": "auto",
         "type": "bar",
         "x": [
          "1962 FIFA World Cup"
         ],
         "xaxis": "x",
         "y": [
          4
         ],
         "yaxis": "y"
        },
        {
         "alignmentgroup": "True",
         "hovertemplate": "full_name=Dražan Jerković<br>tournament_name=%{x}<br>goals=%{y}<extra></extra>",
         "legendgroup": "Dražan Jerković",
         "marker": {
          "color": "#FF97FF",
          "pattern": {
           "shape": ""
          }
         },
         "name": "Dražan Jerković",
         "offsetgroup": "Dražan Jerković",
         "orientation": "v",
         "showlegend": true,
         "textposition": "auto",
         "type": "bar",
         "x": [
          "1962 FIFA World Cup"
         ],
         "xaxis": "x",
         "y": [
          4
         ],
         "yaxis": "y"
        },
        {
         "alignmentgroup": "True",
         "hovertemplate": "full_name=Flórián Albert<br>tournament_name=%{x}<br>goals=%{y}<extra></extra>",
         "legendgroup": "Flórián Albert",
         "marker": {
          "color": "#FECB52",
          "pattern": {
           "shape": ""
          }
         },
         "name": "Flórián Albert",
         "offsetgroup": "Flórián Albert",
         "orientation": "v",
         "showlegend": true,
         "textposition": "auto",
         "type": "bar",
         "x": [
          "1962 FIFA World Cup"
         ],
         "xaxis": "x",
         "y": [
          4
         ],
         "yaxis": "y"
        },
        {
         "alignmentgroup": "True",
         "hovertemplate": "full_name=Leonel Sánchez<br>tournament_name=%{x}<br>goals=%{y}<extra></extra>",
         "legendgroup": "Leonel Sánchez",
         "marker": {
          "color": "#636efa",
          "pattern": {
           "shape": ""
          }
         },
         "name": "Leonel Sánchez",
         "offsetgroup": "Leonel Sánchez",
         "orientation": "v",
         "showlegend": true,
         "textposition": "auto",
         "type": "bar",
         "x": [
          "1962 FIFA World Cup"
         ],
         "xaxis": "x",
         "y": [
          4
         ],
         "yaxis": "y"
        },
        {
         "alignmentgroup": "True",
         "hovertemplate": "full_name=Valentin Ivanov<br>tournament_name=%{x}<br>goals=%{y}<extra></extra>",
         "legendgroup": "Valentin Ivanov",
         "marker": {
          "color": "#EF553B",
          "pattern": {
           "shape": ""
          }
         },
         "name": "Valentin Ivanov",
         "offsetgroup": "Valentin Ivanov",
         "orientation": "v",
         "showlegend": true,
         "textposition": "auto",
         "type": "bar",
         "x": [
          "1962 FIFA World Cup"
         ],
         "xaxis": "x",
         "y": [
          4
         ],
         "yaxis": "y"
        },
        {
         "alignmentgroup": "True",
         "hovertemplate": "full_name= Eusébio<br>tournament_name=%{x}<br>goals=%{y}<extra></extra>",
         "legendgroup": " Eusébio",
         "marker": {
          "color": "#00cc96",
          "pattern": {
           "shape": ""
          }
         },
         "name": " Eusébio",
         "offsetgroup": " Eusébio",
         "orientation": "v",
         "showlegend": true,
         "textposition": "auto",
         "type": "bar",
         "x": [
          "1966 FIFA World Cup"
         ],
         "xaxis": "x",
         "y": [
          9
         ],
         "yaxis": "y"
        },
        {
         "alignmentgroup": "True",
         "hovertemplate": "full_name=Gerd Müller<br>tournament_name=%{x}<br>goals=%{y}<extra></extra>",
         "legendgroup": "Gerd Müller",
         "marker": {
          "color": "#ab63fa",
          "pattern": {
           "shape": ""
          }
         },
         "name": "Gerd Müller",
         "offsetgroup": "Gerd Müller",
         "orientation": "v",
         "showlegend": true,
         "textposition": "auto",
         "type": "bar",
         "x": [
          "1970 FIFA World Cup"
         ],
         "xaxis": "x",
         "y": [
          10
         ],
         "yaxis": "y"
        },
        {
         "alignmentgroup": "True",
         "hovertemplate": "full_name=Grzegorz Lato<br>tournament_name=%{x}<br>goals=%{y}<extra></extra>",
         "legendgroup": "Grzegorz Lato",
         "marker": {
          "color": "#FFA15A",
          "pattern": {
           "shape": ""
          }
         },
         "name": "Grzegorz Lato",
         "offsetgroup": "Grzegorz Lato",
         "orientation": "v",
         "showlegend": true,
         "textposition": "auto",
         "type": "bar",
         "x": [
          "1974 FIFA World Cup"
         ],
         "xaxis": "x",
         "y": [
          7
         ],
         "yaxis": "y"
        },
        {
         "alignmentgroup": "True",
         "hovertemplate": "full_name=Mario Kempes<br>tournament_name=%{x}<br>goals=%{y}<extra></extra>",
         "legendgroup": "Mario Kempes",
         "marker": {
          "color": "#19d3f3",
          "pattern": {
           "shape": ""
          }
         },
         "name": "Mario Kempes",
         "offsetgroup": "Mario Kempes",
         "orientation": "v",
         "showlegend": true,
         "textposition": "auto",
         "type": "bar",
         "x": [
          "1978 FIFA World Cup"
         ],
         "xaxis": "x",
         "y": [
          6
         ],
         "yaxis": "y"
        },
        {
         "alignmentgroup": "True",
         "hovertemplate": "full_name=Paolo Rossi<br>tournament_name=%{x}<br>goals=%{y}<extra></extra>",
         "legendgroup": "Paolo Rossi",
         "marker": {
          "color": "#FF6692",
          "pattern": {
           "shape": ""
          }
         },
         "name": "Paolo Rossi",
         "offsetgroup": "Paolo Rossi",
         "orientation": "v",
         "showlegend": true,
         "textposition": "auto",
         "type": "bar",
         "x": [
          "1982 FIFA World Cup"
         ],
         "xaxis": "x",
         "y": [
          6
         ],
         "yaxis": "y"
        },
        {
         "alignmentgroup": "True",
         "hovertemplate": "full_name=Gary Lineker<br>tournament_name=%{x}<br>goals=%{y}<extra></extra>",
         "legendgroup": "Gary Lineker",
         "marker": {
          "color": "#B6E880",
          "pattern": {
           "shape": ""
          }
         },
         "name": "Gary Lineker",
         "offsetgroup": "Gary Lineker",
         "orientation": "v",
         "showlegend": true,
         "textposition": "auto",
         "type": "bar",
         "x": [
          "1986 FIFA World Cup"
         ],
         "xaxis": "x",
         "y": [
          6
         ],
         "yaxis": "y"
        },
        {
         "alignmentgroup": "True",
         "hovertemplate": "full_name=Salvatore Schillaci<br>tournament_name=%{x}<br>goals=%{y}<extra></extra>",
         "legendgroup": "Salvatore Schillaci",
         "marker": {
          "color": "#FF97FF",
          "pattern": {
           "shape": ""
          }
         },
         "name": "Salvatore Schillaci",
         "offsetgroup": "Salvatore Schillaci",
         "orientation": "v",
         "showlegend": true,
         "textposition": "auto",
         "type": "bar",
         "x": [
          "1990 FIFA World Cup"
         ],
         "xaxis": "x",
         "y": [
          6
         ],
         "yaxis": "y"
        },
        {
         "alignmentgroup": "True",
         "hovertemplate": "full_name=Hristo Stoichkov<br>tournament_name=%{x}<br>goals=%{y}<extra></extra>",
         "legendgroup": "Hristo Stoichkov",
         "marker": {
          "color": "#FECB52",
          "pattern": {
           "shape": ""
          }
         },
         "name": "Hristo Stoichkov",
         "offsetgroup": "Hristo Stoichkov",
         "orientation": "v",
         "showlegend": true,
         "textposition": "auto",
         "type": "bar",
         "x": [
          "1994 FIFA World Cup"
         ],
         "xaxis": "x",
         "y": [
          6
         ],
         "yaxis": "y"
        },
        {
         "alignmentgroup": "True",
         "hovertemplate": "full_name=Oleg Salenko<br>tournament_name=%{x}<br>goals=%{y}<extra></extra>",
         "legendgroup": "Oleg Salenko",
         "marker": {
          "color": "#636efa",
          "pattern": {
           "shape": ""
          }
         },
         "name": "Oleg Salenko",
         "offsetgroup": "Oleg Salenko",
         "orientation": "v",
         "showlegend": true,
         "textposition": "auto",
         "type": "bar",
         "x": [
          "1994 FIFA World Cup"
         ],
         "xaxis": "x",
         "y": [
          6
         ],
         "yaxis": "y"
        },
        {
         "alignmentgroup": "True",
         "hovertemplate": "full_name=Davor Šuker<br>tournament_name=%{x}<br>goals=%{y}<extra></extra>",
         "legendgroup": "Davor Šuker",
         "marker": {
          "color": "#EF553B",
          "pattern": {
           "shape": ""
          }
         },
         "name": "Davor Šuker",
         "offsetgroup": "Davor Šuker",
         "orientation": "v",
         "showlegend": true,
         "textposition": "auto",
         "type": "bar",
         "x": [
          "1998 FIFA World Cup"
         ],
         "xaxis": "x",
         "y": [
          6
         ],
         "yaxis": "y"
        },
        {
         "alignmentgroup": "True",
         "hovertemplate": "full_name= Ronaldo<br>tournament_name=%{x}<br>goals=%{y}<extra></extra>",
         "legendgroup": " Ronaldo",
         "marker": {
          "color": "#00cc96",
          "pattern": {
           "shape": ""
          }
         },
         "name": " Ronaldo",
         "offsetgroup": " Ronaldo",
         "orientation": "v",
         "showlegend": true,
         "textposition": "auto",
         "type": "bar",
         "x": [
          "2002 FIFA World Cup"
         ],
         "xaxis": "x",
         "y": [
          8
         ],
         "yaxis": "y"
        },
        {
         "alignmentgroup": "True",
         "hovertemplate": "full_name=Miroslav Klose<br>tournament_name=%{x}<br>goals=%{y}<extra></extra>",
         "legendgroup": "Miroslav Klose",
         "marker": {
          "color": "#ab63fa",
          "pattern": {
           "shape": ""
          }
         },
         "name": "Miroslav Klose",
         "offsetgroup": "Miroslav Klose",
         "orientation": "v",
         "showlegend": true,
         "textposition": "auto",
         "type": "bar",
         "x": [
          "2006 FIFA World Cup"
         ],
         "xaxis": "x",
         "y": [
          5
         ],
         "yaxis": "y"
        },
        {
         "alignmentgroup": "True",
         "hovertemplate": "full_name=David Villa<br>tournament_name=%{x}<br>goals=%{y}<extra></extra>",
         "legendgroup": "David Villa",
         "marker": {
          "color": "#FFA15A",
          "pattern": {
           "shape": ""
          }
         },
         "name": "David Villa",
         "offsetgroup": "David Villa",
         "orientation": "v",
         "showlegend": true,
         "textposition": "auto",
         "type": "bar",
         "x": [
          "2010 FIFA World Cup"
         ],
         "xaxis": "x",
         "y": [
          5
         ],
         "yaxis": "y"
        },
        {
         "alignmentgroup": "True",
         "hovertemplate": "full_name=Diego Forlán<br>tournament_name=%{x}<br>goals=%{y}<extra></extra>",
         "legendgroup": "Diego Forlán",
         "marker": {
          "color": "#19d3f3",
          "pattern": {
           "shape": ""
          }
         },
         "name": "Diego Forlán",
         "offsetgroup": "Diego Forlán",
         "orientation": "v",
         "showlegend": true,
         "textposition": "auto",
         "type": "bar",
         "x": [
          "2010 FIFA World Cup"
         ],
         "xaxis": "x",
         "y": [
          5
         ],
         "yaxis": "y"
        },
        {
         "alignmentgroup": "True",
         "hovertemplate": "full_name=Thomas Müller<br>tournament_name=%{x}<br>goals=%{y}<extra></extra>",
         "legendgroup": "Thomas Müller",
         "marker": {
          "color": "#FF6692",
          "pattern": {
           "shape": ""
          }
         },
         "name": "Thomas Müller",
         "offsetgroup": "Thomas Müller",
         "orientation": "v",
         "showlegend": true,
         "textposition": "auto",
         "type": "bar",
         "x": [
          "2010 FIFA World Cup"
         ],
         "xaxis": "x",
         "y": [
          5
         ],
         "yaxis": "y"
        },
        {
         "alignmentgroup": "True",
         "hovertemplate": "full_name=Wesley Sneijder<br>tournament_name=%{x}<br>goals=%{y}<extra></extra>",
         "legendgroup": "Wesley Sneijder",
         "marker": {
          "color": "#B6E880",
          "pattern": {
           "shape": ""
          }
         },
         "name": "Wesley Sneijder",
         "offsetgroup": "Wesley Sneijder",
         "orientation": "v",
         "showlegend": true,
         "textposition": "auto",
         "type": "bar",
         "x": [
          "2010 FIFA World Cup"
         ],
         "xaxis": "x",
         "y": [
          5
         ],
         "yaxis": "y"
        },
        {
         "alignmentgroup": "True",
         "hovertemplate": "full_name=James Rodríguez<br>tournament_name=%{x}<br>goals=%{y}<extra></extra>",
         "legendgroup": "James Rodríguez",
         "marker": {
          "color": "#FF97FF",
          "pattern": {
           "shape": ""
          }
         },
         "name": "James Rodríguez",
         "offsetgroup": "James Rodríguez",
         "orientation": "v",
         "showlegend": true,
         "textposition": "auto",
         "type": "bar",
         "x": [
          "2014 FIFA World Cup"
         ],
         "xaxis": "x",
         "y": [
          6
         ],
         "yaxis": "y"
        },
        {
         "alignmentgroup": "True",
         "hovertemplate": "full_name=Harry Kane<br>tournament_name=%{x}<br>goals=%{y}<extra></extra>",
         "legendgroup": "Harry Kane",
         "marker": {
          "color": "#FECB52",
          "pattern": {
           "shape": ""
          }
         },
         "name": "Harry Kane",
         "offsetgroup": "Harry Kane",
         "orientation": "v",
         "showlegend": true,
         "textposition": "auto",
         "type": "bar",
         "x": [
          "2018 FIFA World Cup"
         ],
         "xaxis": "x",
         "y": [
          6
         ],
         "yaxis": "y"
        },
        {
         "alignmentgroup": "True",
         "hovertemplate": "full_name=Kylian Mbappé<br>tournament_name=%{x}<br>goals=%{y}<extra></extra>",
         "legendgroup": "Kylian Mbappé",
         "marker": {
          "color": "#636efa",
          "pattern": {
           "shape": ""
          }
         },
         "name": "Kylian Mbappé",
         "offsetgroup": "Kylian Mbappé",
         "orientation": "v",
         "showlegend": true,
         "textposition": "auto",
         "type": "bar",
         "x": [
          "2022 FIFA World Cup"
         ],
         "xaxis": "x",
         "y": [
          8
         ],
         "yaxis": "y"
        }
       ],
       "layout": {
        "barmode": "relative",
        "height": 500,
        "legend": {
         "font": {
          "color": "white"
         },
         "title": {
          "text": "full_name"
         },
         "tracegroupgap": 0
        },
        "paper_bgcolor": "#383838",
        "plot_bgcolor": "#383838",
        "template": {
         "data": {
          "bar": [
           {
            "error_x": {
             "color": "#2a3f5f"
            },
            "error_y": {
             "color": "#2a3f5f"
            },
            "marker": {
             "line": {
              "color": "#E5ECF6",
              "width": 0.5
             },
             "pattern": {
              "fillmode": "overlay",
              "size": 10,
              "solidity": 0.2
             }
            },
            "type": "bar"
           }
          ],
          "barpolar": [
           {
            "marker": {
             "line": {
              "color": "#E5ECF6",
              "width": 0.5
             },
             "pattern": {
              "fillmode": "overlay",
              "size": 10,
              "solidity": 0.2
             }
            },
            "type": "barpolar"
           }
          ],
          "carpet": [
           {
            "aaxis": {
             "endlinecolor": "#2a3f5f",
             "gridcolor": "white",
             "linecolor": "white",
             "minorgridcolor": "white",
             "startlinecolor": "#2a3f5f"
            },
            "baxis": {
             "endlinecolor": "#2a3f5f",
             "gridcolor": "white",
             "linecolor": "white",
             "minorgridcolor": "white",
             "startlinecolor": "#2a3f5f"
            },
            "type": "carpet"
           }
          ],
          "choropleth": [
           {
            "colorbar": {
             "outlinewidth": 0,
             "ticks": ""
            },
            "type": "choropleth"
           }
          ],
          "contour": [
           {
            "colorbar": {
             "outlinewidth": 0,
             "ticks": ""
            },
            "colorscale": [
             [
              0,
              "#0d0887"
             ],
             [
              0.1111111111111111,
              "#46039f"
             ],
             [
              0.2222222222222222,
              "#7201a8"
             ],
             [
              0.3333333333333333,
              "#9c179e"
             ],
             [
              0.4444444444444444,
              "#bd3786"
             ],
             [
              0.5555555555555556,
              "#d8576b"
             ],
             [
              0.6666666666666666,
              "#ed7953"
             ],
             [
              0.7777777777777778,
              "#fb9f3a"
             ],
             [
              0.8888888888888888,
              "#fdca26"
             ],
             [
              1,
              "#f0f921"
             ]
            ],
            "type": "contour"
           }
          ],
          "contourcarpet": [
           {
            "colorbar": {
             "outlinewidth": 0,
             "ticks": ""
            },
            "type": "contourcarpet"
           }
          ],
          "heatmap": [
           {
            "colorbar": {
             "outlinewidth": 0,
             "ticks": ""
            },
            "colorscale": [
             [
              0,
              "#0d0887"
             ],
             [
              0.1111111111111111,
              "#46039f"
             ],
             [
              0.2222222222222222,
              "#7201a8"
             ],
             [
              0.3333333333333333,
              "#9c179e"
             ],
             [
              0.4444444444444444,
              "#bd3786"
             ],
             [
              0.5555555555555556,
              "#d8576b"
             ],
             [
              0.6666666666666666,
              "#ed7953"
             ],
             [
              0.7777777777777778,
              "#fb9f3a"
             ],
             [
              0.8888888888888888,
              "#fdca26"
             ],
             [
              1,
              "#f0f921"
             ]
            ],
            "type": "heatmap"
           }
          ],
          "heatmapgl": [
           {
            "colorbar": {
             "outlinewidth": 0,
             "ticks": ""
            },
            "colorscale": [
             [
              0,
              "#0d0887"
             ],
             [
              0.1111111111111111,
              "#46039f"
             ],
             [
              0.2222222222222222,
              "#7201a8"
             ],
             [
              0.3333333333333333,
              "#9c179e"
             ],
             [
              0.4444444444444444,
              "#bd3786"
             ],
             [
              0.5555555555555556,
              "#d8576b"
             ],
             [
              0.6666666666666666,
              "#ed7953"
             ],
             [
              0.7777777777777778,
              "#fb9f3a"
             ],
             [
              0.8888888888888888,
              "#fdca26"
             ],
             [
              1,
              "#f0f921"
             ]
            ],
            "type": "heatmapgl"
           }
          ],
          "histogram": [
           {
            "marker": {
             "pattern": {
              "fillmode": "overlay",
              "size": 10,
              "solidity": 0.2
             }
            },
            "type": "histogram"
           }
          ],
          "histogram2d": [
           {
            "colorbar": {
             "outlinewidth": 0,
             "ticks": ""
            },
            "colorscale": [
             [
              0,
              "#0d0887"
             ],
             [
              0.1111111111111111,
              "#46039f"
             ],
             [
              0.2222222222222222,
              "#7201a8"
             ],
             [
              0.3333333333333333,
              "#9c179e"
             ],
             [
              0.4444444444444444,
              "#bd3786"
             ],
             [
              0.5555555555555556,
              "#d8576b"
             ],
             [
              0.6666666666666666,
              "#ed7953"
             ],
             [
              0.7777777777777778,
              "#fb9f3a"
             ],
             [
              0.8888888888888888,
              "#fdca26"
             ],
             [
              1,
              "#f0f921"
             ]
            ],
            "type": "histogram2d"
           }
          ],
          "histogram2dcontour": [
           {
            "colorbar": {
             "outlinewidth": 0,
             "ticks": ""
            },
            "colorscale": [
             [
              0,
              "#0d0887"
             ],
             [
              0.1111111111111111,
              "#46039f"
             ],
             [
              0.2222222222222222,
              "#7201a8"
             ],
             [
              0.3333333333333333,
              "#9c179e"
             ],
             [
              0.4444444444444444,
              "#bd3786"
             ],
             [
              0.5555555555555556,
              "#d8576b"
             ],
             [
              0.6666666666666666,
              "#ed7953"
             ],
             [
              0.7777777777777778,
              "#fb9f3a"
             ],
             [
              0.8888888888888888,
              "#fdca26"
             ],
             [
              1,
              "#f0f921"
             ]
            ],
            "type": "histogram2dcontour"
           }
          ],
          "mesh3d": [
           {
            "colorbar": {
             "outlinewidth": 0,
             "ticks": ""
            },
            "type": "mesh3d"
           }
          ],
          "parcoords": [
           {
            "line": {
             "colorbar": {
              "outlinewidth": 0,
              "ticks": ""
             }
            },
            "type": "parcoords"
           }
          ],
          "pie": [
           {
            "automargin": true,
            "type": "pie"
           }
          ],
          "scatter": [
           {
            "fillpattern": {
             "fillmode": "overlay",
             "size": 10,
             "solidity": 0.2
            },
            "type": "scatter"
           }
          ],
          "scatter3d": [
           {
            "line": {
             "colorbar": {
              "outlinewidth": 0,
              "ticks": ""
             }
            },
            "marker": {
             "colorbar": {
              "outlinewidth": 0,
              "ticks": ""
             }
            },
            "type": "scatter3d"
           }
          ],
          "scattercarpet": [
           {
            "marker": {
             "colorbar": {
              "outlinewidth": 0,
              "ticks": ""
             }
            },
            "type": "scattercarpet"
           }
          ],
          "scattergeo": [
           {
            "marker": {
             "colorbar": {
              "outlinewidth": 0,
              "ticks": ""
             }
            },
            "type": "scattergeo"
           }
          ],
          "scattergl": [
           {
            "marker": {
             "colorbar": {
              "outlinewidth": 0,
              "ticks": ""
             }
            },
            "type": "scattergl"
           }
          ],
          "scattermapbox": [
           {
            "marker": {
             "colorbar": {
              "outlinewidth": 0,
              "ticks": ""
             }
            },
            "type": "scattermapbox"
           }
          ],
          "scatterpolar": [
           {
            "marker": {
             "colorbar": {
              "outlinewidth": 0,
              "ticks": ""
             }
            },
            "type": "scatterpolar"
           }
          ],
          "scatterpolargl": [
           {
            "marker": {
             "colorbar": {
              "outlinewidth": 0,
              "ticks": ""
             }
            },
            "type": "scatterpolargl"
           }
          ],
          "scatterternary": [
           {
            "marker": {
             "colorbar": {
              "outlinewidth": 0,
              "ticks": ""
             }
            },
            "type": "scatterternary"
           }
          ],
          "surface": [
           {
            "colorbar": {
             "outlinewidth": 0,
             "ticks": ""
            },
            "colorscale": [
             [
              0,
              "#0d0887"
             ],
             [
              0.1111111111111111,
              "#46039f"
             ],
             [
              0.2222222222222222,
              "#7201a8"
             ],
             [
              0.3333333333333333,
              "#9c179e"
             ],
             [
              0.4444444444444444,
              "#bd3786"
             ],
             [
              0.5555555555555556,
              "#d8576b"
             ],
             [
              0.6666666666666666,
              "#ed7953"
             ],
             [
              0.7777777777777778,
              "#fb9f3a"
             ],
             [
              0.8888888888888888,
              "#fdca26"
             ],
             [
              1,
              "#f0f921"
             ]
            ],
            "type": "surface"
           }
          ],
          "table": [
           {
            "cells": {
             "fill": {
              "color": "#EBF0F8"
             },
             "line": {
              "color": "white"
             }
            },
            "header": {
             "fill": {
              "color": "#C8D4E3"
             },
             "line": {
              "color": "white"
             }
            },
            "type": "table"
           }
          ]
         },
         "layout": {
          "annotationdefaults": {
           "arrowcolor": "#2a3f5f",
           "arrowhead": 0,
           "arrowwidth": 1
          },
          "autotypenumbers": "strict",
          "coloraxis": {
           "colorbar": {
            "outlinewidth": 0,
            "ticks": ""
           }
          },
          "colorscale": {
           "diverging": [
            [
             0,
             "#8e0152"
            ],
            [
             0.1,
             "#c51b7d"
            ],
            [
             0.2,
             "#de77ae"
            ],
            [
             0.3,
             "#f1b6da"
            ],
            [
             0.4,
             "#fde0ef"
            ],
            [
             0.5,
             "#f7f7f7"
            ],
            [
             0.6,
             "#e6f5d0"
            ],
            [
             0.7,
             "#b8e186"
            ],
            [
             0.8,
             "#7fbc41"
            ],
            [
             0.9,
             "#4d9221"
            ],
            [
             1,
             "#276419"
            ]
           ],
           "sequential": [
            [
             0,
             "#0d0887"
            ],
            [
             0.1111111111111111,
             "#46039f"
            ],
            [
             0.2222222222222222,
             "#7201a8"
            ],
            [
             0.3333333333333333,
             "#9c179e"
            ],
            [
             0.4444444444444444,
             "#bd3786"
            ],
            [
             0.5555555555555556,
             "#d8576b"
            ],
            [
             0.6666666666666666,
             "#ed7953"
            ],
            [
             0.7777777777777778,
             "#fb9f3a"
            ],
            [
             0.8888888888888888,
             "#fdca26"
            ],
            [
             1,
             "#f0f921"
            ]
           ],
           "sequentialminus": [
            [
             0,
             "#0d0887"
            ],
            [
             0.1111111111111111,
             "#46039f"
            ],
            [
             0.2222222222222222,
             "#7201a8"
            ],
            [
             0.3333333333333333,
             "#9c179e"
            ],
            [
             0.4444444444444444,
             "#bd3786"
            ],
            [
             0.5555555555555556,
             "#d8576b"
            ],
            [
             0.6666666666666666,
             "#ed7953"
            ],
            [
             0.7777777777777778,
             "#fb9f3a"
            ],
            [
             0.8888888888888888,
             "#fdca26"
            ],
            [
             1,
             "#f0f921"
            ]
           ]
          },
          "colorway": [
           "#636efa",
           "#EF553B",
           "#00cc96",
           "#ab63fa",
           "#FFA15A",
           "#19d3f3",
           "#FF6692",
           "#B6E880",
           "#FF97FF",
           "#FECB52"
          ],
          "font": {
           "color": "#2a3f5f"
          },
          "geo": {
           "bgcolor": "white",
           "lakecolor": "white",
           "landcolor": "#E5ECF6",
           "showlakes": true,
           "showland": true,
           "subunitcolor": "white"
          },
          "hoverlabel": {
           "align": "left"
          },
          "hovermode": "closest",
          "mapbox": {
           "style": "light"
          },
          "paper_bgcolor": "white",
          "plot_bgcolor": "#E5ECF6",
          "polar": {
           "angularaxis": {
            "gridcolor": "white",
            "linecolor": "white",
            "ticks": ""
           },
           "bgcolor": "#E5ECF6",
           "radialaxis": {
            "gridcolor": "white",
            "linecolor": "white",
            "ticks": ""
           }
          },
          "scene": {
           "xaxis": {
            "backgroundcolor": "#E5ECF6",
            "gridcolor": "white",
            "gridwidth": 2,
            "linecolor": "white",
            "showbackground": true,
            "ticks": "",
            "zerolinecolor": "white"
           },
           "yaxis": {
            "backgroundcolor": "#E5ECF6",
            "gridcolor": "white",
            "gridwidth": 2,
            "linecolor": "white",
            "showbackground": true,
            "ticks": "",
            "zerolinecolor": "white"
           },
           "zaxis": {
            "backgroundcolor": "#E5ECF6",
            "gridcolor": "white",
            "gridwidth": 2,
            "linecolor": "white",
            "showbackground": true,
            "ticks": "",
            "zerolinecolor": "white"
           }
          },
          "shapedefaults": {
           "line": {
            "color": "#2a3f5f"
           }
          },
          "ternary": {
           "aaxis": {
            "gridcolor": "white",
            "linecolor": "white",
            "ticks": ""
           },
           "baxis": {
            "gridcolor": "white",
            "linecolor": "white",
            "ticks": ""
           },
           "bgcolor": "#E5ECF6",
           "caxis": {
            "gridcolor": "white",
            "linecolor": "white",
            "ticks": ""
           }
          },
          "title": {
           "x": 0.05
          },
          "xaxis": {
           "automargin": true,
           "gridcolor": "white",
           "linecolor": "white",
           "ticks": "",
           "title": {
            "standoff": 15
           },
           "zerolinecolor": "white",
           "zerolinewidth": 2
          },
          "yaxis": {
           "automargin": true,
           "gridcolor": "white",
           "linecolor": "white",
           "ticks": "",
           "title": {
            "standoff": 15
           },
           "zerolinecolor": "white",
           "zerolinewidth": 2
          }
         }
        },
        "title": {
         "font": {
          "color": "white"
         },
         "text": "best scorer in every tournament"
        },
        "width": 1200,
        "xaxis": {
         "anchor": "y",
         "color": "white",
         "domain": [
          0,
          1
         ],
         "title": {
          "text": "tournament_name"
         }
        },
        "yaxis": {
         "anchor": "x",
         "color": "white",
         "domain": [
          0,
          1
         ],
         "title": {
          "text": "goals"
         }
        }
       }
      }
     },
     "metadata": {},
     "output_type": "display_data"
    }
   ],
   "source": [
    "b_6_fig = px.bar(best_scorer_tournament,x='tournament_name',y='goals',color='full_name',\n",
    "                 width=1200,height=500, title='best scorer in every tournament')\n",
    "b_6_fig.update_layout(**layout_options)\n",
    "b_6_fig.show()"
   ]
  },
  {
   "attachments": {},
   "cell_type": "markdown",
   "metadata": {},
   "source": [
    "#### <strong> `The results:`</strong>"
   ]
  },
  {
   "attachments": {},
   "cell_type": "markdown",
   "metadata": {},
   "source": [
    "* the largest number in one world cup tournament was 13 goals which are scored in 1958 world cup by Just Fontaine\n",
    "* 1962 world cup has the largest number of best scorer (6 scorer)"
   ]
  },
  {
   "attachments": {},
   "cell_type": "markdown",
   "metadata": {},
   "source": [
    "#### b.7.Total goals in every tournament:"
   ]
  },
  {
   "cell_type": "code",
   "execution_count": 108,
   "metadata": {},
   "outputs": [],
   "source": [
    "goals_tr_df = b_goals_df.groupby('tournament_name').count()"
   ]
  },
  {
   "cell_type": "code",
   "execution_count": 109,
   "metadata": {},
   "outputs": [
    {
     "data": {
      "text/html": [
       "<div>\n",
       "<style scoped>\n",
       "    .dataframe tbody tr th:only-of-type {\n",
       "        vertical-align: middle;\n",
       "    }\n",
       "\n",
       "    .dataframe tbody tr th {\n",
       "        vertical-align: top;\n",
       "    }\n",
       "\n",
       "    .dataframe thead th {\n",
       "        text-align: right;\n",
       "    }\n",
       "</style>\n",
       "<table border=\"1\" class=\"dataframe\">\n",
       "  <thead>\n",
       "    <tr style=\"text-align: right;\">\n",
       "      <th></th>\n",
       "      <th>tournament_name</th>\n",
       "      <th>goals</th>\n",
       "    </tr>\n",
       "  </thead>\n",
       "  <tbody>\n",
       "    <tr>\n",
       "      <th>0</th>\n",
       "      <td>1930 FIFA World Cup</td>\n",
       "      <td>70</td>\n",
       "    </tr>\n",
       "    <tr>\n",
       "      <th>1</th>\n",
       "      <td>1934 FIFA World Cup</td>\n",
       "      <td>70</td>\n",
       "    </tr>\n",
       "    <tr>\n",
       "      <th>2</th>\n",
       "      <td>1938 FIFA World Cup</td>\n",
       "      <td>84</td>\n",
       "    </tr>\n",
       "    <tr>\n",
       "      <th>3</th>\n",
       "      <td>1950 FIFA World Cup</td>\n",
       "      <td>88</td>\n",
       "    </tr>\n",
       "    <tr>\n",
       "      <th>4</th>\n",
       "      <td>1954 FIFA World Cup</td>\n",
       "      <td>140</td>\n",
       "    </tr>\n",
       "    <tr>\n",
       "      <th>5</th>\n",
       "      <td>1958 FIFA World Cup</td>\n",
       "      <td>126</td>\n",
       "    </tr>\n",
       "    <tr>\n",
       "      <th>6</th>\n",
       "      <td>1962 FIFA World Cup</td>\n",
       "      <td>89</td>\n",
       "    </tr>\n",
       "    <tr>\n",
       "      <th>7</th>\n",
       "      <td>1966 FIFA World Cup</td>\n",
       "      <td>89</td>\n",
       "    </tr>\n",
       "    <tr>\n",
       "      <th>8</th>\n",
       "      <td>1970 FIFA World Cup</td>\n",
       "      <td>95</td>\n",
       "    </tr>\n",
       "    <tr>\n",
       "      <th>9</th>\n",
       "      <td>1974 FIFA World Cup</td>\n",
       "      <td>97</td>\n",
       "    </tr>\n",
       "    <tr>\n",
       "      <th>10</th>\n",
       "      <td>1978 FIFA World Cup</td>\n",
       "      <td>102</td>\n",
       "    </tr>\n",
       "    <tr>\n",
       "      <th>11</th>\n",
       "      <td>1982 FIFA World Cup</td>\n",
       "      <td>146</td>\n",
       "    </tr>\n",
       "    <tr>\n",
       "      <th>12</th>\n",
       "      <td>1986 FIFA World Cup</td>\n",
       "      <td>132</td>\n",
       "    </tr>\n",
       "    <tr>\n",
       "      <th>13</th>\n",
       "      <td>1990 FIFA World Cup</td>\n",
       "      <td>115</td>\n",
       "    </tr>\n",
       "    <tr>\n",
       "      <th>14</th>\n",
       "      <td>1994 FIFA World Cup</td>\n",
       "      <td>141</td>\n",
       "    </tr>\n",
       "    <tr>\n",
       "      <th>15</th>\n",
       "      <td>1998 FIFA World Cup</td>\n",
       "      <td>171</td>\n",
       "    </tr>\n",
       "    <tr>\n",
       "      <th>16</th>\n",
       "      <td>2002 FIFA World Cup</td>\n",
       "      <td>161</td>\n",
       "    </tr>\n",
       "    <tr>\n",
       "      <th>17</th>\n",
       "      <td>2006 FIFA World Cup</td>\n",
       "      <td>147</td>\n",
       "    </tr>\n",
       "    <tr>\n",
       "      <th>18</th>\n",
       "      <td>2010 FIFA World Cup</td>\n",
       "      <td>145</td>\n",
       "    </tr>\n",
       "    <tr>\n",
       "      <th>19</th>\n",
       "      <td>2014 FIFA World Cup</td>\n",
       "      <td>171</td>\n",
       "    </tr>\n",
       "    <tr>\n",
       "      <th>20</th>\n",
       "      <td>2018 FIFA World Cup</td>\n",
       "      <td>169</td>\n",
       "    </tr>\n",
       "    <tr>\n",
       "      <th>21</th>\n",
       "      <td>2022 FIFA World Cup</td>\n",
       "      <td>172</td>\n",
       "    </tr>\n",
       "  </tbody>\n",
       "</table>\n",
       "</div>"
      ],
      "text/plain": [
       "        tournament_name  goals\n",
       "0   1930 FIFA World Cup     70\n",
       "1   1934 FIFA World Cup     70\n",
       "2   1938 FIFA World Cup     84\n",
       "3   1950 FIFA World Cup     88\n",
       "4   1954 FIFA World Cup    140\n",
       "5   1958 FIFA World Cup    126\n",
       "6   1962 FIFA World Cup     89\n",
       "7   1966 FIFA World Cup     89\n",
       "8   1970 FIFA World Cup     95\n",
       "9   1974 FIFA World Cup     97\n",
       "10  1978 FIFA World Cup    102\n",
       "11  1982 FIFA World Cup    146\n",
       "12  1986 FIFA World Cup    132\n",
       "13  1990 FIFA World Cup    115\n",
       "14  1994 FIFA World Cup    141\n",
       "15  1998 FIFA World Cup    171\n",
       "16  2002 FIFA World Cup    161\n",
       "17  2006 FIFA World Cup    147\n",
       "18  2010 FIFA World Cup    145\n",
       "19  2014 FIFA World Cup    171\n",
       "20  2018 FIFA World Cup    169\n",
       "21  2022 FIFA World Cup    172"
      ]
     },
     "execution_count": 109,
     "metadata": {},
     "output_type": "execute_result"
    }
   ],
   "source": [
    "goals_tr_df = goals_tr_df.reset_index()[['tournament_name','family_name']].rename(columns={'family_name':'goals'})\n",
    "goals_tr_df"
   ]
  },
  {
   "cell_type": "code",
   "execution_count": 110,
   "metadata": {},
   "outputs": [
    {
     "data": {
      "application/vnd.plotly.v1+json": {
       "config": {
        "plotlyServerURL": "https://plot.ly"
       },
       "data": [
        {
         "alignmentgroup": "True",
         "hovertemplate": "tournament_name=%{x}<br>goals=%{y}<extra></extra>",
         "legendgroup": "",
         "marker": {
          "color": "#636efa",
          "pattern": {
           "shape": ""
          }
         },
         "name": "",
         "offsetgroup": "",
         "orientation": "v",
         "showlegend": false,
         "textposition": "auto",
         "type": "bar",
         "x": [
          "1930 FIFA World Cup",
          "1934 FIFA World Cup",
          "1938 FIFA World Cup",
          "1950 FIFA World Cup",
          "1954 FIFA World Cup",
          "1958 FIFA World Cup",
          "1962 FIFA World Cup",
          "1966 FIFA World Cup",
          "1970 FIFA World Cup",
          "1974 FIFA World Cup",
          "1978 FIFA World Cup",
          "1982 FIFA World Cup",
          "1986 FIFA World Cup",
          "1990 FIFA World Cup",
          "1994 FIFA World Cup",
          "1998 FIFA World Cup",
          "2002 FIFA World Cup",
          "2006 FIFA World Cup",
          "2010 FIFA World Cup",
          "2014 FIFA World Cup",
          "2018 FIFA World Cup",
          "2022 FIFA World Cup"
         ],
         "xaxis": "x",
         "y": [
          70,
          70,
          84,
          88,
          140,
          126,
          89,
          89,
          95,
          97,
          102,
          146,
          132,
          115,
          141,
          171,
          161,
          147,
          145,
          171,
          169,
          172
         ],
         "yaxis": "y"
        }
       ],
       "layout": {
        "barmode": "relative",
        "height": 500,
        "legend": {
         "font": {
          "color": "white"
         },
         "tracegroupgap": 0
        },
        "margin": {
         "t": 60
        },
        "paper_bgcolor": "#383838",
        "plot_bgcolor": "#383838",
        "template": {
         "data": {
          "bar": [
           {
            "error_x": {
             "color": "#2a3f5f"
            },
            "error_y": {
             "color": "#2a3f5f"
            },
            "marker": {
             "line": {
              "color": "#E5ECF6",
              "width": 0.5
             },
             "pattern": {
              "fillmode": "overlay",
              "size": 10,
              "solidity": 0.2
             }
            },
            "type": "bar"
           }
          ],
          "barpolar": [
           {
            "marker": {
             "line": {
              "color": "#E5ECF6",
              "width": 0.5
             },
             "pattern": {
              "fillmode": "overlay",
              "size": 10,
              "solidity": 0.2
             }
            },
            "type": "barpolar"
           }
          ],
          "carpet": [
           {
            "aaxis": {
             "endlinecolor": "#2a3f5f",
             "gridcolor": "white",
             "linecolor": "white",
             "minorgridcolor": "white",
             "startlinecolor": "#2a3f5f"
            },
            "baxis": {
             "endlinecolor": "#2a3f5f",
             "gridcolor": "white",
             "linecolor": "white",
             "minorgridcolor": "white",
             "startlinecolor": "#2a3f5f"
            },
            "type": "carpet"
           }
          ],
          "choropleth": [
           {
            "colorbar": {
             "outlinewidth": 0,
             "ticks": ""
            },
            "type": "choropleth"
           }
          ],
          "contour": [
           {
            "colorbar": {
             "outlinewidth": 0,
             "ticks": ""
            },
            "colorscale": [
             [
              0,
              "#0d0887"
             ],
             [
              0.1111111111111111,
              "#46039f"
             ],
             [
              0.2222222222222222,
              "#7201a8"
             ],
             [
              0.3333333333333333,
              "#9c179e"
             ],
             [
              0.4444444444444444,
              "#bd3786"
             ],
             [
              0.5555555555555556,
              "#d8576b"
             ],
             [
              0.6666666666666666,
              "#ed7953"
             ],
             [
              0.7777777777777778,
              "#fb9f3a"
             ],
             [
              0.8888888888888888,
              "#fdca26"
             ],
             [
              1,
              "#f0f921"
             ]
            ],
            "type": "contour"
           }
          ],
          "contourcarpet": [
           {
            "colorbar": {
             "outlinewidth": 0,
             "ticks": ""
            },
            "type": "contourcarpet"
           }
          ],
          "heatmap": [
           {
            "colorbar": {
             "outlinewidth": 0,
             "ticks": ""
            },
            "colorscale": [
             [
              0,
              "#0d0887"
             ],
             [
              0.1111111111111111,
              "#46039f"
             ],
             [
              0.2222222222222222,
              "#7201a8"
             ],
             [
              0.3333333333333333,
              "#9c179e"
             ],
             [
              0.4444444444444444,
              "#bd3786"
             ],
             [
              0.5555555555555556,
              "#d8576b"
             ],
             [
              0.6666666666666666,
              "#ed7953"
             ],
             [
              0.7777777777777778,
              "#fb9f3a"
             ],
             [
              0.8888888888888888,
              "#fdca26"
             ],
             [
              1,
              "#f0f921"
             ]
            ],
            "type": "heatmap"
           }
          ],
          "heatmapgl": [
           {
            "colorbar": {
             "outlinewidth": 0,
             "ticks": ""
            },
            "colorscale": [
             [
              0,
              "#0d0887"
             ],
             [
              0.1111111111111111,
              "#46039f"
             ],
             [
              0.2222222222222222,
              "#7201a8"
             ],
             [
              0.3333333333333333,
              "#9c179e"
             ],
             [
              0.4444444444444444,
              "#bd3786"
             ],
             [
              0.5555555555555556,
              "#d8576b"
             ],
             [
              0.6666666666666666,
              "#ed7953"
             ],
             [
              0.7777777777777778,
              "#fb9f3a"
             ],
             [
              0.8888888888888888,
              "#fdca26"
             ],
             [
              1,
              "#f0f921"
             ]
            ],
            "type": "heatmapgl"
           }
          ],
          "histogram": [
           {
            "marker": {
             "pattern": {
              "fillmode": "overlay",
              "size": 10,
              "solidity": 0.2
             }
            },
            "type": "histogram"
           }
          ],
          "histogram2d": [
           {
            "colorbar": {
             "outlinewidth": 0,
             "ticks": ""
            },
            "colorscale": [
             [
              0,
              "#0d0887"
             ],
             [
              0.1111111111111111,
              "#46039f"
             ],
             [
              0.2222222222222222,
              "#7201a8"
             ],
             [
              0.3333333333333333,
              "#9c179e"
             ],
             [
              0.4444444444444444,
              "#bd3786"
             ],
             [
              0.5555555555555556,
              "#d8576b"
             ],
             [
              0.6666666666666666,
              "#ed7953"
             ],
             [
              0.7777777777777778,
              "#fb9f3a"
             ],
             [
              0.8888888888888888,
              "#fdca26"
             ],
             [
              1,
              "#f0f921"
             ]
            ],
            "type": "histogram2d"
           }
          ],
          "histogram2dcontour": [
           {
            "colorbar": {
             "outlinewidth": 0,
             "ticks": ""
            },
            "colorscale": [
             [
              0,
              "#0d0887"
             ],
             [
              0.1111111111111111,
              "#46039f"
             ],
             [
              0.2222222222222222,
              "#7201a8"
             ],
             [
              0.3333333333333333,
              "#9c179e"
             ],
             [
              0.4444444444444444,
              "#bd3786"
             ],
             [
              0.5555555555555556,
              "#d8576b"
             ],
             [
              0.6666666666666666,
              "#ed7953"
             ],
             [
              0.7777777777777778,
              "#fb9f3a"
             ],
             [
              0.8888888888888888,
              "#fdca26"
             ],
             [
              1,
              "#f0f921"
             ]
            ],
            "type": "histogram2dcontour"
           }
          ],
          "mesh3d": [
           {
            "colorbar": {
             "outlinewidth": 0,
             "ticks": ""
            },
            "type": "mesh3d"
           }
          ],
          "parcoords": [
           {
            "line": {
             "colorbar": {
              "outlinewidth": 0,
              "ticks": ""
             }
            },
            "type": "parcoords"
           }
          ],
          "pie": [
           {
            "automargin": true,
            "type": "pie"
           }
          ],
          "scatter": [
           {
            "fillpattern": {
             "fillmode": "overlay",
             "size": 10,
             "solidity": 0.2
            },
            "type": "scatter"
           }
          ],
          "scatter3d": [
           {
            "line": {
             "colorbar": {
              "outlinewidth": 0,
              "ticks": ""
             }
            },
            "marker": {
             "colorbar": {
              "outlinewidth": 0,
              "ticks": ""
             }
            },
            "type": "scatter3d"
           }
          ],
          "scattercarpet": [
           {
            "marker": {
             "colorbar": {
              "outlinewidth": 0,
              "ticks": ""
             }
            },
            "type": "scattercarpet"
           }
          ],
          "scattergeo": [
           {
            "marker": {
             "colorbar": {
              "outlinewidth": 0,
              "ticks": ""
             }
            },
            "type": "scattergeo"
           }
          ],
          "scattergl": [
           {
            "marker": {
             "colorbar": {
              "outlinewidth": 0,
              "ticks": ""
             }
            },
            "type": "scattergl"
           }
          ],
          "scattermapbox": [
           {
            "marker": {
             "colorbar": {
              "outlinewidth": 0,
              "ticks": ""
             }
            },
            "type": "scattermapbox"
           }
          ],
          "scatterpolar": [
           {
            "marker": {
             "colorbar": {
              "outlinewidth": 0,
              "ticks": ""
             }
            },
            "type": "scatterpolar"
           }
          ],
          "scatterpolargl": [
           {
            "marker": {
             "colorbar": {
              "outlinewidth": 0,
              "ticks": ""
             }
            },
            "type": "scatterpolargl"
           }
          ],
          "scatterternary": [
           {
            "marker": {
             "colorbar": {
              "outlinewidth": 0,
              "ticks": ""
             }
            },
            "type": "scatterternary"
           }
          ],
          "surface": [
           {
            "colorbar": {
             "outlinewidth": 0,
             "ticks": ""
            },
            "colorscale": [
             [
              0,
              "#0d0887"
             ],
             [
              0.1111111111111111,
              "#46039f"
             ],
             [
              0.2222222222222222,
              "#7201a8"
             ],
             [
              0.3333333333333333,
              "#9c179e"
             ],
             [
              0.4444444444444444,
              "#bd3786"
             ],
             [
              0.5555555555555556,
              "#d8576b"
             ],
             [
              0.6666666666666666,
              "#ed7953"
             ],
             [
              0.7777777777777778,
              "#fb9f3a"
             ],
             [
              0.8888888888888888,
              "#fdca26"
             ],
             [
              1,
              "#f0f921"
             ]
            ],
            "type": "surface"
           }
          ],
          "table": [
           {
            "cells": {
             "fill": {
              "color": "#EBF0F8"
             },
             "line": {
              "color": "white"
             }
            },
            "header": {
             "fill": {
              "color": "#C8D4E3"
             },
             "line": {
              "color": "white"
             }
            },
            "type": "table"
           }
          ]
         },
         "layout": {
          "annotationdefaults": {
           "arrowcolor": "#2a3f5f",
           "arrowhead": 0,
           "arrowwidth": 1
          },
          "autotypenumbers": "strict",
          "coloraxis": {
           "colorbar": {
            "outlinewidth": 0,
            "ticks": ""
           }
          },
          "colorscale": {
           "diverging": [
            [
             0,
             "#8e0152"
            ],
            [
             0.1,
             "#c51b7d"
            ],
            [
             0.2,
             "#de77ae"
            ],
            [
             0.3,
             "#f1b6da"
            ],
            [
             0.4,
             "#fde0ef"
            ],
            [
             0.5,
             "#f7f7f7"
            ],
            [
             0.6,
             "#e6f5d0"
            ],
            [
             0.7,
             "#b8e186"
            ],
            [
             0.8,
             "#7fbc41"
            ],
            [
             0.9,
             "#4d9221"
            ],
            [
             1,
             "#276419"
            ]
           ],
           "sequential": [
            [
             0,
             "#0d0887"
            ],
            [
             0.1111111111111111,
             "#46039f"
            ],
            [
             0.2222222222222222,
             "#7201a8"
            ],
            [
             0.3333333333333333,
             "#9c179e"
            ],
            [
             0.4444444444444444,
             "#bd3786"
            ],
            [
             0.5555555555555556,
             "#d8576b"
            ],
            [
             0.6666666666666666,
             "#ed7953"
            ],
            [
             0.7777777777777778,
             "#fb9f3a"
            ],
            [
             0.8888888888888888,
             "#fdca26"
            ],
            [
             1,
             "#f0f921"
            ]
           ],
           "sequentialminus": [
            [
             0,
             "#0d0887"
            ],
            [
             0.1111111111111111,
             "#46039f"
            ],
            [
             0.2222222222222222,
             "#7201a8"
            ],
            [
             0.3333333333333333,
             "#9c179e"
            ],
            [
             0.4444444444444444,
             "#bd3786"
            ],
            [
             0.5555555555555556,
             "#d8576b"
            ],
            [
             0.6666666666666666,
             "#ed7953"
            ],
            [
             0.7777777777777778,
             "#fb9f3a"
            ],
            [
             0.8888888888888888,
             "#fdca26"
            ],
            [
             1,
             "#f0f921"
            ]
           ]
          },
          "colorway": [
           "#636efa",
           "#EF553B",
           "#00cc96",
           "#ab63fa",
           "#FFA15A",
           "#19d3f3",
           "#FF6692",
           "#B6E880",
           "#FF97FF",
           "#FECB52"
          ],
          "font": {
           "color": "#2a3f5f"
          },
          "geo": {
           "bgcolor": "white",
           "lakecolor": "white",
           "landcolor": "#E5ECF6",
           "showlakes": true,
           "showland": true,
           "subunitcolor": "white"
          },
          "hoverlabel": {
           "align": "left"
          },
          "hovermode": "closest",
          "mapbox": {
           "style": "light"
          },
          "paper_bgcolor": "white",
          "plot_bgcolor": "#E5ECF6",
          "polar": {
           "angularaxis": {
            "gridcolor": "white",
            "linecolor": "white",
            "ticks": ""
           },
           "bgcolor": "#E5ECF6",
           "radialaxis": {
            "gridcolor": "white",
            "linecolor": "white",
            "ticks": ""
           }
          },
          "scene": {
           "xaxis": {
            "backgroundcolor": "#E5ECF6",
            "gridcolor": "white",
            "gridwidth": 2,
            "linecolor": "white",
            "showbackground": true,
            "ticks": "",
            "zerolinecolor": "white"
           },
           "yaxis": {
            "backgroundcolor": "#E5ECF6",
            "gridcolor": "white",
            "gridwidth": 2,
            "linecolor": "white",
            "showbackground": true,
            "ticks": "",
            "zerolinecolor": "white"
           },
           "zaxis": {
            "backgroundcolor": "#E5ECF6",
            "gridcolor": "white",
            "gridwidth": 2,
            "linecolor": "white",
            "showbackground": true,
            "ticks": "",
            "zerolinecolor": "white"
           }
          },
          "shapedefaults": {
           "line": {
            "color": "#2a3f5f"
           }
          },
          "ternary": {
           "aaxis": {
            "gridcolor": "white",
            "linecolor": "white",
            "ticks": ""
           },
           "baxis": {
            "gridcolor": "white",
            "linecolor": "white",
            "ticks": ""
           },
           "bgcolor": "#E5ECF6",
           "caxis": {
            "gridcolor": "white",
            "linecolor": "white",
            "ticks": ""
           }
          },
          "title": {
           "x": 0.05
          },
          "xaxis": {
           "automargin": true,
           "gridcolor": "white",
           "linecolor": "white",
           "ticks": "",
           "title": {
            "standoff": 15
           },
           "zerolinecolor": "white",
           "zerolinewidth": 2
          },
          "yaxis": {
           "automargin": true,
           "gridcolor": "white",
           "linecolor": "white",
           "ticks": "",
           "title": {
            "standoff": 15
           },
           "zerolinecolor": "white",
           "zerolinewidth": 2
          }
         }
        },
        "title": {
         "font": {
          "color": "white"
         }
        },
        "width": 1200,
        "xaxis": {
         "anchor": "y",
         "color": "white",
         "domain": [
          0,
          1
         ],
         "title": {
          "text": "tournament_name"
         }
        },
        "yaxis": {
         "anchor": "x",
         "color": "white",
         "domain": [
          0,
          1
         ],
         "title": {
          "text": "goals"
         }
        }
       }
      }
     },
     "metadata": {},
     "output_type": "display_data"
    }
   ],
   "source": [
    "b_7_fig = px.bar(goals_tr_df,x='tournament_name',y='goals',\n",
    "              width=1200,height=500)\n",
    "b_7_fig.update_layout(**layout_options)\n",
    "b_7_fig.show()"
   ]
  },
  {
   "attachments": {},
   "cell_type": "markdown",
   "metadata": {},
   "source": [
    "#### <strong> `The results:`</strong>"
   ]
  },
  {
   "attachments": {},
   "cell_type": "markdown",
   "metadata": {},
   "source": [
    "* 2022 world cup has the largest number of goals (172) when 1930 and 1934 cups have the lowest one (70)\n",
    "* The total number of goals is increasing in every world cup."
   ]
  },
  {
   "attachments": {},
   "cell_type": "markdown",
   "metadata": {},
   "source": [
    "#### b.8.goal minute and team name strip plot :"
   ]
  },
  {
   "cell_type": "code",
   "execution_count": 111,
   "metadata": {},
   "outputs": [
    {
     "data": {
      "text/plain": [
       "(602, 3)"
      ]
     },
     "execution_count": 111,
     "metadata": {},
     "output_type": "execute_result"
    }
   ],
   "source": [
    "strip_df = b_goals_df[['goal_minute','stage_name','team_name']]\n",
    "strip_df = strip_df[strip_df['team_name'].isin(['Germany','Brazil','Italy','West Germany','East Germany'])]\n",
    "strip_df.loc[strip_df['team_name'].isin(['West Germany','East Germany']),'team_name'] = 'Germany'\n",
    "strip_df.shape"
   ]
  },
  {
   "cell_type": "code",
   "execution_count": 112,
   "metadata": {},
   "outputs": [
    {
     "data": {
      "application/vnd.plotly.v1+json": {
       "config": {
        "plotlyServerURL": "https://plot.ly"
       },
       "data": [
        {
         "alignmentgroup": "True",
         "boxpoints": "all",
         "fillcolor": "rgba(255,255,255,0)",
         "hoveron": "points",
         "hovertemplate": "team_name=Brazil<br>goal_minute=%{x}<br>stage_name=%{y}<extra></extra>",
         "legendgroup": "",
         "line": {
          "color": "rgba(255,255,255,0)"
         },
         "marker": {
          "color": "#636efa"
         },
         "name": "",
         "offsetgroup": "",
         "orientation": "h",
         "pointpos": 0,
         "showlegend": false,
         "type": "box",
         "x": [
          62,
          37,
          57,
          73,
          83,
          55,
          18,
          25,
          44,
          71,
          93,
          104,
          30,
          57,
          62,
          87,
          44,
          63,
          74,
          80,
          30,
          65,
          71,
          79,
          3,
          32,
          4,
          69,
          17,
          36,
          39,
          52,
          58,
          85,
          88,
          15,
          21,
          31,
          55,
          57,
          67,
          47,
          23,
          30,
          34,
          43,
          69,
          69,
          18,
          65,
          37,
          50,
          85,
          3,
          77,
          66,
          2,
          39,
          52,
          64,
          75,
          9,
          32,
          55,
          68,
          90,
          56,
          73,
          72,
          86,
          31,
          53,
          59,
          9,
          32,
          47,
          78,
          17,
          69,
          78,
          15,
          63,
          14,
          73,
          24,
          59,
          61,
          83,
          59,
          19,
          22,
          67,
          11,
          15,
          52,
          75,
          44,
          76,
          89,
          18,
          66,
          71,
          86,
          12,
          66,
          79,
          60,
          32,
          49,
          45,
          40,
          15,
          27,
          72,
          13,
          58,
          63,
          64,
          71,
          75,
          88,
          33,
          48,
          63,
          87,
          28,
          31,
          64,
          70,
          11,
          66,
          75,
          12,
          68,
          62,
          66,
          15,
          42,
          87,
          30,
          55,
          79,
          83,
          17,
          40,
          63,
          33,
          81,
          26,
          52,
          39,
          66,
          73,
          47,
          72,
          53,
          63,
          81,
          80,
          5,
          74,
          9,
          47,
          50,
          78,
          11,
          26,
          48,
          72,
          10,
          25,
          59,
          46,
          50,
          87,
          15,
          32,
          45,
          55,
          10,
          13,
          38,
          62,
          64,
          67,
          87,
          47,
          50,
          49,
          67,
          79,
          44,
          49,
          90,
          46,
          53,
          59,
          81,
          5,
          46,
          84,
          55,
          72,
          25,
          50,
          62,
          35,
          38,
          59,
          10,
          29,
          71,
          91,
          17,
          35,
          49,
          84,
          18,
          7,
          69,
          90,
          20,
          91,
          97,
          36,
          68,
          51,
          88,
          76,
          62,
          73,
          83,
          7,
          13,
          29,
          36,
          106
         ],
         "x0": " ",
         "xaxis": "x",
         "y": [
          "group stage",
          "group stage",
          "group stage",
          "group stage",
          "group stage",
          "round of 16",
          "round of 16",
          "round of 16",
          "round of 16",
          "round of 16",
          "round of 16",
          "round of 16",
          "quarter-finals",
          "quarter-finals",
          "quarter-finals",
          "semi-finals",
          "third-place match",
          "third-place match",
          "third-place match",
          "third-place match",
          "group stage",
          "group stage",
          "group stage",
          "group stage",
          "group stage",
          "group stage",
          "group stage",
          "group stage",
          "final round",
          "final round",
          "final round",
          "final round",
          "final round",
          "final round",
          "final round",
          "final round",
          "final round",
          "final round",
          "final round",
          "final round",
          "final round",
          "final round",
          "group stage",
          "group stage",
          "group stage",
          "group stage",
          "group stage",
          "group stage",
          "quarter-finals",
          "quarter-finals",
          "group stage",
          "group stage",
          "group stage",
          "group stage",
          "group stage",
          "quarter-finals",
          "semi-finals",
          "semi-finals",
          "semi-finals",
          "semi-finals",
          "semi-finals",
          "final",
          "final",
          "final",
          "final",
          "final",
          "group stage",
          "group stage",
          "group stage",
          "group stage",
          "quarter-finals",
          "quarter-finals",
          "quarter-finals",
          "semi-finals",
          "semi-finals",
          "semi-finals",
          "semi-finals",
          "final",
          "final",
          "final",
          "group stage",
          "group stage",
          "group stage",
          "group stage",
          "group stage",
          "group stage",
          "group stage",
          "group stage",
          "group stage",
          "group stage",
          "group stage",
          "group stage",
          "quarter-finals",
          "quarter-finals",
          "quarter-finals",
          "quarter-finals",
          "semi-finals",
          "semi-finals",
          "semi-finals",
          "final",
          "final",
          "final",
          "final",
          "group stage",
          "group stage",
          "group stage",
          "second group stage",
          "second group stage",
          "second group stage",
          "group stage",
          "group stage",
          "second group stage",
          "second group stage",
          "second group stage",
          "second group stage",
          "second group stage",
          "second group stage",
          "third-place match",
          "third-place match",
          "group stage",
          "group stage",
          "group stage",
          "group stage",
          "group stage",
          "group stage",
          "group stage",
          "group stage",
          "group stage",
          "group stage",
          "second group stage",
          "second group stage",
          "second group stage",
          "second group stage",
          "second group stage",
          "group stage",
          "group stage",
          "group stage",
          "group stage",
          "group stage",
          "round of 16",
          "round of 16",
          "round of 16",
          "round of 16",
          "quarter-finals",
          "group stage",
          "group stage",
          "group stage",
          "group stage",
          "group stage",
          "group stage",
          "group stage",
          "group stage",
          "group stage",
          "group stage",
          "round of 16",
          "quarter-finals",
          "quarter-finals",
          "quarter-finals",
          "semi-finals",
          "group stage",
          "group stage",
          "group stage",
          "group stage",
          "group stage",
          "group stage",
          "round of 16",
          "round of 16",
          "round of 16",
          "round of 16",
          "quarter-finals",
          "quarter-finals",
          "quarter-finals",
          "semi-finals",
          "group stage",
          "group stage",
          "group stage",
          "group stage",
          "group stage",
          "group stage",
          "group stage",
          "group stage",
          "group stage",
          "group stage",
          "group stage",
          "round of 16",
          "round of 16",
          "quarter-finals",
          "quarter-finals",
          "semi-finals",
          "final",
          "final",
          "group stage",
          "group stage",
          "group stage",
          "group stage",
          "group stage",
          "group stage",
          "group stage",
          "round of 16",
          "round of 16",
          "round of 16",
          "group stage",
          "group stage",
          "group stage",
          "group stage",
          "group stage",
          "round of 16",
          "round of 16",
          "round of 16",
          "quarter-finals",
          "group stage",
          "group stage",
          "group stage",
          "group stage",
          "group stage",
          "group stage",
          "group stage",
          "round of 16",
          "quarter-finals",
          "quarter-finals",
          "semi-finals",
          "group stage",
          "group stage",
          "group stage",
          "group stage",
          "group stage",
          "round of 16",
          "round of 16",
          "quarter-finals",
          "group stage",
          "group stage",
          "group stage",
          "round of 16",
          "round of 16",
          "round of 16",
          "round of 16",
          "quarter-finals"
         ],
         "y0": " ",
         "yaxis": "y"
        },
        {
         "alignmentgroup": "True",
         "boxpoints": "all",
         "fillcolor": "rgba(255,255,255,0)",
         "hoveron": "points",
         "hovertemplate": "team_name=Germany<br>goal_minute=%{x}<br>stage_name=%{y}<extra></extra>",
         "legendgroup": "",
         "line": {
          "color": "rgba(255,255,255,0)"
         },
         "marker": {
          "color": "#636efa"
         },
         "name": "",
         "offsetgroup": "",
         "orientation": "h",
         "pointpos": 0,
         "showlegend": false,
         "type": "box",
         "x": [
          25,
          49,
          66,
          70,
          87,
          60,
          63,
          62,
          1,
          27,
          42,
          29,
          8,
          22,
          14,
          52,
          60,
          84,
          25,
          77,
          84,
          7,
          12,
          30,
          60,
          62,
          77,
          79,
          9,
          85,
          31,
          47,
          54,
          61,
          64,
          89,
          10,
          18,
          84,
          32,
          42,
          79,
          60,
          71,
          20,
          78,
          12,
          24,
          18,
          52,
          84,
          45,
          59,
          21,
          82,
          16,
          21,
          40,
          52,
          77,
          39,
          84,
          11,
          70,
          75,
          83,
          43,
          67,
          12,
          89,
          56,
          80,
          20,
          27,
          52,
          67,
          88,
          19,
          26,
          39,
          68,
          82,
          108,
          90,
          94,
          110,
          26,
          18,
          58,
          72,
          12,
          34,
          53,
          55,
          77,
          39,
          82,
          51,
          52,
          76,
          89,
          76,
          14,
          25,
          43,
          15,
          30,
          38,
          44,
          73,
          89,
          3,
          70,
          19,
          68,
          67,
          9,
          57,
          66,
          81,
          10,
          50,
          75,
          17,
          102,
          108,
          83,
          84,
          23,
          49,
          87,
          9,
          90,
          74,
          81,
          28,
          39,
          64,
          70,
          35,
          37,
          47,
          58,
          75,
          88,
          51,
          85,
          25,
          60,
          85,
          61,
          48,
          12,
          20,
          37,
          6,
          11,
          38,
          47,
          9,
          65,
          72,
          78,
          50,
          57,
          74,
          86,
          20,
          25,
          40,
          46,
          70,
          73,
          84,
          91,
          19,
          50,
          79,
          88,
          39,
          75,
          6,
          17,
          61,
          87,
          91,
          4,
          44,
          57,
          4,
          12,
          80,
          56,
          60,
          78,
          8,
          26,
          68,
          70,
          60,
          20,
          32,
          67,
          70,
          3,
          68,
          74,
          89,
          19,
          56,
          82,
          12,
          32,
          46,
          78,
          51,
          71,
          55,
          92,
          120,
          13,
          11,
          23,
          24,
          26,
          29,
          69,
          79,
          113,
          48,
          95,
          33,
          83,
          10,
          73,
          85,
          89
         ],
         "x0": " ",
         "xaxis": "x2",
         "y": [
          "round of 16",
          "round of 16",
          "round of 16",
          "round of 16",
          "round of 16",
          "quarter-finals",
          "quarter-finals",
          "semi-finals",
          "third-place match",
          "third-place match",
          "third-place match",
          "round of 16",
          "round of 16",
          "round of 16",
          "group stage",
          "group stage",
          "group stage",
          "group stage",
          "group stage",
          "group stage",
          "group stage",
          "group stage",
          "group stage",
          "group stage",
          "group stage",
          "group stage",
          "group stage",
          "group stage",
          "quarter-finals",
          "quarter-finals",
          "semi-finals",
          "semi-finals",
          "semi-finals",
          "semi-finals",
          "semi-finals",
          "semi-finals",
          "final",
          "final",
          "final",
          "group stage",
          "group stage",
          "group stage",
          "group stage",
          "group stage",
          "group stage",
          "group stage",
          "quarter-finals",
          "semi-finals",
          "third-place match",
          "third-place match",
          "third-place match",
          "group stage",
          "group stage",
          "group stage",
          "group stage",
          "group stage",
          "group stage",
          "group stage",
          "group stage",
          "group stage",
          "group stage",
          "group stage",
          "quarter-finals",
          "quarter-finals",
          "quarter-finals",
          "quarter-finals",
          "semi-finals",
          "semi-finals",
          "final",
          "final",
          "group stage",
          "group stage",
          "group stage",
          "group stage",
          "group stage",
          "group stage",
          "group stage",
          "group stage",
          "group stage",
          "group stage",
          "quarter-finals",
          "quarter-finals",
          "quarter-finals",
          "semi-finals",
          "semi-finals",
          "semi-finals",
          "third-place match",
          "group stage",
          "group stage",
          "group stage",
          "group stage",
          "group stage",
          "group stage",
          "group stage",
          "group stage",
          "second group stage",
          "second group stage",
          "second group stage",
          "second group stage",
          "second group stage",
          "second group stage",
          "second group stage",
          "second group stage",
          "final",
          "final",
          "group stage",
          "group stage",
          "group stage",
          "group stage",
          "group stage",
          "group stage",
          "second group stage",
          "second group stage",
          "second group stage",
          "second group stage",
          "group stage",
          "group stage",
          "group stage",
          "group stage",
          "group stage",
          "group stage",
          "second group stage",
          "second group stage",
          "semi-finals",
          "semi-finals",
          "semi-finals",
          "final",
          "group stage",
          "group stage",
          "group stage",
          "round of 16",
          "semi-finals",
          "semi-finals",
          "final",
          "final",
          "group stage",
          "group stage",
          "group stage",
          "group stage",
          "group stage",
          "group stage",
          "group stage",
          "group stage",
          "group stage",
          "group stage",
          "round of 16",
          "round of 16",
          "quarter-finals",
          "semi-finals",
          "final",
          "group stage",
          "group stage",
          "group stage",
          "group stage",
          "group stage",
          "round of 16",
          "round of 16",
          "round of 16",
          "quarter-finals",
          "group stage",
          "group stage",
          "group stage",
          "group stage",
          "group stage",
          "group stage",
          "round of 16",
          "round of 16",
          "group stage",
          "group stage",
          "group stage",
          "group stage",
          "group stage",
          "group stage",
          "group stage",
          "group stage",
          "group stage",
          "group stage",
          "group stage",
          "round of 16",
          "quarter-finals",
          "semi-finals",
          "group stage",
          "group stage",
          "group stage",
          "group stage",
          "group stage",
          "group stage",
          "group stage",
          "group stage",
          "round of 16",
          "round of 16",
          "quarter-finals",
          "third-place match",
          "third-place match",
          "third-place match",
          "group stage",
          "group stage",
          "group stage",
          "group stage",
          "group stage",
          "round of 16",
          "round of 16",
          "round of 16",
          "round of 16",
          "quarter-finals",
          "quarter-finals",
          "quarter-finals",
          "quarter-finals",
          "third-place match",
          "third-place match",
          "third-place match",
          "group stage",
          "group stage",
          "group stage",
          "group stage",
          "group stage",
          "group stage",
          "group stage",
          "round of 16",
          "round of 16",
          "quarter-finals",
          "semi-finals",
          "semi-finals",
          "semi-finals",
          "semi-finals",
          "semi-finals",
          "semi-finals",
          "semi-finals",
          "final",
          "group stage",
          "group stage",
          "group stage",
          "group stage",
          "group stage",
          "group stage",
          "group stage",
          "group stage"
         ],
         "y0": " ",
         "yaxis": "y2"
        },
        {
         "alignmentgroup": "True",
         "boxpoints": "all",
         "fillcolor": "rgba(255,255,255,0)",
         "hoveron": "points",
         "hovertemplate": "team_name=Italy<br>goal_minute=%{x}<br>stage_name=%{y}<extra></extra>",
         "legendgroup": "",
         "line": {
          "color": "rgba(255,255,255,0)"
         },
         "marker": {
          "color": "#636efa"
         },
         "name": "",
         "offsetgroup": "",
         "orientation": "h",
         "pointpos": 0,
         "showlegend": false,
         "type": "box",
         "x": [
          18,
          20,
          29,
          63,
          64,
          69,
          90,
          44,
          11,
          19,
          81,
          95,
          2,
          94,
          9,
          51,
          72,
          51,
          60,
          6,
          16,
          35,
          82,
          7,
          75,
          12,
          62,
          44,
          41,
          48,
          58,
          78,
          67,
          2,
          65,
          67,
          8,
          88,
          10,
          25,
          63,
          70,
          76,
          8,
          98,
          104,
          111,
          37,
          52,
          66,
          79,
          35,
          85,
          29,
          54,
          34,
          35,
          61,
          67,
          13,
          19,
          38,
          18,
          60,
          57,
          67,
          5,
          25,
          74,
          22,
          73,
          57,
          69,
          81,
          44,
          6,
          17,
          73,
          82,
          78,
          11,
          9,
          78,
          65,
          83,
          38,
          17,
          71,
          86,
          69,
          48,
          88,
          102,
          25,
          88,
          21,
          25,
          10,
          84,
          7,
          75,
          89,
          48,
          90,
          18,
          7,
          27,
          55,
          85,
          18,
          40,
          83,
          22,
          26,
          87,
          95,
          6,
          59,
          69,
          119,
          121,
          19,
          63,
          29,
          81,
          92,
          35,
          50
         ],
         "x0": " ",
         "xaxis": "x3",
         "y": [
          "round of 16",
          "round of 16",
          "round of 16",
          "round of 16",
          "round of 16",
          "round of 16",
          "round of 16",
          "quarter-finals",
          "quarter-finals",
          "semi-finals",
          "final",
          "final",
          "round of 16",
          "round of 16",
          "quarter-finals",
          "quarter-finals",
          "quarter-finals",
          "semi-finals",
          "semi-finals",
          "final",
          "final",
          "final",
          "final",
          "group stage",
          "group stage",
          "group stage",
          "group stage",
          "group stage",
          "group stage",
          "group stage",
          "group stage",
          "group stage",
          "group stage",
          "group stage",
          "group stage",
          "group stage",
          "group stage",
          "group stage",
          "group stage",
          "quarter-finals",
          "quarter-finals",
          "quarter-finals",
          "quarter-finals",
          "semi-finals",
          "semi-finals",
          "semi-finals",
          "semi-finals",
          "final",
          "group stage",
          "group stage",
          "group stage",
          "group stage",
          "group stage",
          "group stage",
          "group stage",
          "group stage",
          "group stage",
          "group stage",
          "group stage",
          "second group stage",
          "second group stage",
          "third-place match",
          "group stage",
          "group stage",
          "second group stage",
          "second group stage",
          "second group stage",
          "second group stage",
          "second group stage",
          "semi-finals",
          "semi-finals",
          "final",
          "final",
          "final",
          "group stage",
          "group stage",
          "group stage",
          "group stage",
          "group stage",
          "group stage",
          "group stage",
          "group stage",
          "group stage",
          "round of 16",
          "round of 16",
          "quarter-finals",
          "semi-finals",
          "third-place match",
          "third-place match",
          "group stage",
          "group stage",
          "round of 16",
          "round of 16",
          "quarter-finals",
          "quarter-finals",
          "semi-finals",
          "semi-finals",
          "group stage",
          "group stage",
          "group stage",
          "group stage",
          "group stage",
          "group stage",
          "group stage",
          "round of 16",
          "group stage",
          "group stage",
          "group stage",
          "group stage",
          "round of 16",
          "group stage",
          "group stage",
          "group stage",
          "group stage",
          "group stage",
          "round of 16",
          "quarter-finals",
          "quarter-finals",
          "quarter-finals",
          "semi-finals",
          "semi-finals",
          "final",
          "group stage",
          "group stage",
          "group stage",
          "group stage",
          "group stage",
          "group stage"
         ],
         "y0": " ",
         "yaxis": "y3"
        }
       ],
       "layout": {
        "annotations": [
         {
          "font": {},
          "showarrow": false,
          "text": "team_name=Brazil",
          "x": 0.15999999999999998,
          "xanchor": "center",
          "xref": "paper",
          "y": 1,
          "yanchor": "bottom",
          "yref": "paper"
         },
         {
          "font": {},
          "showarrow": false,
          "text": "team_name=Germany",
          "x": 0.49999999999999994,
          "xanchor": "center",
          "xref": "paper",
          "y": 1,
          "yanchor": "bottom",
          "yref": "paper"
         },
         {
          "font": {},
          "showarrow": false,
          "text": "team_name=Italy",
          "x": 0.8399999999999999,
          "xanchor": "center",
          "xref": "paper",
          "y": 1,
          "yanchor": "bottom",
          "yref": "paper"
         }
        ],
        "boxmode": "group",
        "height": 500,
        "legend": {
         "tracegroupgap": 0
        },
        "margin": {
         "t": 60
        },
        "template": {
         "data": {
          "bar": [
           {
            "error_x": {
             "color": "#2a3f5f"
            },
            "error_y": {
             "color": "#2a3f5f"
            },
            "marker": {
             "line": {
              "color": "#E5ECF6",
              "width": 0.5
             },
             "pattern": {
              "fillmode": "overlay",
              "size": 10,
              "solidity": 0.2
             }
            },
            "type": "bar"
           }
          ],
          "barpolar": [
           {
            "marker": {
             "line": {
              "color": "#E5ECF6",
              "width": 0.5
             },
             "pattern": {
              "fillmode": "overlay",
              "size": 10,
              "solidity": 0.2
             }
            },
            "type": "barpolar"
           }
          ],
          "carpet": [
           {
            "aaxis": {
             "endlinecolor": "#2a3f5f",
             "gridcolor": "white",
             "linecolor": "white",
             "minorgridcolor": "white",
             "startlinecolor": "#2a3f5f"
            },
            "baxis": {
             "endlinecolor": "#2a3f5f",
             "gridcolor": "white",
             "linecolor": "white",
             "minorgridcolor": "white",
             "startlinecolor": "#2a3f5f"
            },
            "type": "carpet"
           }
          ],
          "choropleth": [
           {
            "colorbar": {
             "outlinewidth": 0,
             "ticks": ""
            },
            "type": "choropleth"
           }
          ],
          "contour": [
           {
            "colorbar": {
             "outlinewidth": 0,
             "ticks": ""
            },
            "colorscale": [
             [
              0,
              "#0d0887"
             ],
             [
              0.1111111111111111,
              "#46039f"
             ],
             [
              0.2222222222222222,
              "#7201a8"
             ],
             [
              0.3333333333333333,
              "#9c179e"
             ],
             [
              0.4444444444444444,
              "#bd3786"
             ],
             [
              0.5555555555555556,
              "#d8576b"
             ],
             [
              0.6666666666666666,
              "#ed7953"
             ],
             [
              0.7777777777777778,
              "#fb9f3a"
             ],
             [
              0.8888888888888888,
              "#fdca26"
             ],
             [
              1,
              "#f0f921"
             ]
            ],
            "type": "contour"
           }
          ],
          "contourcarpet": [
           {
            "colorbar": {
             "outlinewidth": 0,
             "ticks": ""
            },
            "type": "contourcarpet"
           }
          ],
          "heatmap": [
           {
            "colorbar": {
             "outlinewidth": 0,
             "ticks": ""
            },
            "colorscale": [
             [
              0,
              "#0d0887"
             ],
             [
              0.1111111111111111,
              "#46039f"
             ],
             [
              0.2222222222222222,
              "#7201a8"
             ],
             [
              0.3333333333333333,
              "#9c179e"
             ],
             [
              0.4444444444444444,
              "#bd3786"
             ],
             [
              0.5555555555555556,
              "#d8576b"
             ],
             [
              0.6666666666666666,
              "#ed7953"
             ],
             [
              0.7777777777777778,
              "#fb9f3a"
             ],
             [
              0.8888888888888888,
              "#fdca26"
             ],
             [
              1,
              "#f0f921"
             ]
            ],
            "type": "heatmap"
           }
          ],
          "heatmapgl": [
           {
            "colorbar": {
             "outlinewidth": 0,
             "ticks": ""
            },
            "colorscale": [
             [
              0,
              "#0d0887"
             ],
             [
              0.1111111111111111,
              "#46039f"
             ],
             [
              0.2222222222222222,
              "#7201a8"
             ],
             [
              0.3333333333333333,
              "#9c179e"
             ],
             [
              0.4444444444444444,
              "#bd3786"
             ],
             [
              0.5555555555555556,
              "#d8576b"
             ],
             [
              0.6666666666666666,
              "#ed7953"
             ],
             [
              0.7777777777777778,
              "#fb9f3a"
             ],
             [
              0.8888888888888888,
              "#fdca26"
             ],
             [
              1,
              "#f0f921"
             ]
            ],
            "type": "heatmapgl"
           }
          ],
          "histogram": [
           {
            "marker": {
             "pattern": {
              "fillmode": "overlay",
              "size": 10,
              "solidity": 0.2
             }
            },
            "type": "histogram"
           }
          ],
          "histogram2d": [
           {
            "colorbar": {
             "outlinewidth": 0,
             "ticks": ""
            },
            "colorscale": [
             [
              0,
              "#0d0887"
             ],
             [
              0.1111111111111111,
              "#46039f"
             ],
             [
              0.2222222222222222,
              "#7201a8"
             ],
             [
              0.3333333333333333,
              "#9c179e"
             ],
             [
              0.4444444444444444,
              "#bd3786"
             ],
             [
              0.5555555555555556,
              "#d8576b"
             ],
             [
              0.6666666666666666,
              "#ed7953"
             ],
             [
              0.7777777777777778,
              "#fb9f3a"
             ],
             [
              0.8888888888888888,
              "#fdca26"
             ],
             [
              1,
              "#f0f921"
             ]
            ],
            "type": "histogram2d"
           }
          ],
          "histogram2dcontour": [
           {
            "colorbar": {
             "outlinewidth": 0,
             "ticks": ""
            },
            "colorscale": [
             [
              0,
              "#0d0887"
             ],
             [
              0.1111111111111111,
              "#46039f"
             ],
             [
              0.2222222222222222,
              "#7201a8"
             ],
             [
              0.3333333333333333,
              "#9c179e"
             ],
             [
              0.4444444444444444,
              "#bd3786"
             ],
             [
              0.5555555555555556,
              "#d8576b"
             ],
             [
              0.6666666666666666,
              "#ed7953"
             ],
             [
              0.7777777777777778,
              "#fb9f3a"
             ],
             [
              0.8888888888888888,
              "#fdca26"
             ],
             [
              1,
              "#f0f921"
             ]
            ],
            "type": "histogram2dcontour"
           }
          ],
          "mesh3d": [
           {
            "colorbar": {
             "outlinewidth": 0,
             "ticks": ""
            },
            "type": "mesh3d"
           }
          ],
          "parcoords": [
           {
            "line": {
             "colorbar": {
              "outlinewidth": 0,
              "ticks": ""
             }
            },
            "type": "parcoords"
           }
          ],
          "pie": [
           {
            "automargin": true,
            "type": "pie"
           }
          ],
          "scatter": [
           {
            "fillpattern": {
             "fillmode": "overlay",
             "size": 10,
             "solidity": 0.2
            },
            "type": "scatter"
           }
          ],
          "scatter3d": [
           {
            "line": {
             "colorbar": {
              "outlinewidth": 0,
              "ticks": ""
             }
            },
            "marker": {
             "colorbar": {
              "outlinewidth": 0,
              "ticks": ""
             }
            },
            "type": "scatter3d"
           }
          ],
          "scattercarpet": [
           {
            "marker": {
             "colorbar": {
              "outlinewidth": 0,
              "ticks": ""
             }
            },
            "type": "scattercarpet"
           }
          ],
          "scattergeo": [
           {
            "marker": {
             "colorbar": {
              "outlinewidth": 0,
              "ticks": ""
             }
            },
            "type": "scattergeo"
           }
          ],
          "scattergl": [
           {
            "marker": {
             "colorbar": {
              "outlinewidth": 0,
              "ticks": ""
             }
            },
            "type": "scattergl"
           }
          ],
          "scattermapbox": [
           {
            "marker": {
             "colorbar": {
              "outlinewidth": 0,
              "ticks": ""
             }
            },
            "type": "scattermapbox"
           }
          ],
          "scatterpolar": [
           {
            "marker": {
             "colorbar": {
              "outlinewidth": 0,
              "ticks": ""
             }
            },
            "type": "scatterpolar"
           }
          ],
          "scatterpolargl": [
           {
            "marker": {
             "colorbar": {
              "outlinewidth": 0,
              "ticks": ""
             }
            },
            "type": "scatterpolargl"
           }
          ],
          "scatterternary": [
           {
            "marker": {
             "colorbar": {
              "outlinewidth": 0,
              "ticks": ""
             }
            },
            "type": "scatterternary"
           }
          ],
          "surface": [
           {
            "colorbar": {
             "outlinewidth": 0,
             "ticks": ""
            },
            "colorscale": [
             [
              0,
              "#0d0887"
             ],
             [
              0.1111111111111111,
              "#46039f"
             ],
             [
              0.2222222222222222,
              "#7201a8"
             ],
             [
              0.3333333333333333,
              "#9c179e"
             ],
             [
              0.4444444444444444,
              "#bd3786"
             ],
             [
              0.5555555555555556,
              "#d8576b"
             ],
             [
              0.6666666666666666,
              "#ed7953"
             ],
             [
              0.7777777777777778,
              "#fb9f3a"
             ],
             [
              0.8888888888888888,
              "#fdca26"
             ],
             [
              1,
              "#f0f921"
             ]
            ],
            "type": "surface"
           }
          ],
          "table": [
           {
            "cells": {
             "fill": {
              "color": "#EBF0F8"
             },
             "line": {
              "color": "white"
             }
            },
            "header": {
             "fill": {
              "color": "#C8D4E3"
             },
             "line": {
              "color": "white"
             }
            },
            "type": "table"
           }
          ]
         },
         "layout": {
          "annotationdefaults": {
           "arrowcolor": "#2a3f5f",
           "arrowhead": 0,
           "arrowwidth": 1
          },
          "autotypenumbers": "strict",
          "coloraxis": {
           "colorbar": {
            "outlinewidth": 0,
            "ticks": ""
           }
          },
          "colorscale": {
           "diverging": [
            [
             0,
             "#8e0152"
            ],
            [
             0.1,
             "#c51b7d"
            ],
            [
             0.2,
             "#de77ae"
            ],
            [
             0.3,
             "#f1b6da"
            ],
            [
             0.4,
             "#fde0ef"
            ],
            [
             0.5,
             "#f7f7f7"
            ],
            [
             0.6,
             "#e6f5d0"
            ],
            [
             0.7,
             "#b8e186"
            ],
            [
             0.8,
             "#7fbc41"
            ],
            [
             0.9,
             "#4d9221"
            ],
            [
             1,
             "#276419"
            ]
           ],
           "sequential": [
            [
             0,
             "#0d0887"
            ],
            [
             0.1111111111111111,
             "#46039f"
            ],
            [
             0.2222222222222222,
             "#7201a8"
            ],
            [
             0.3333333333333333,
             "#9c179e"
            ],
            [
             0.4444444444444444,
             "#bd3786"
            ],
            [
             0.5555555555555556,
             "#d8576b"
            ],
            [
             0.6666666666666666,
             "#ed7953"
            ],
            [
             0.7777777777777778,
             "#fb9f3a"
            ],
            [
             0.8888888888888888,
             "#fdca26"
            ],
            [
             1,
             "#f0f921"
            ]
           ],
           "sequentialminus": [
            [
             0,
             "#0d0887"
            ],
            [
             0.1111111111111111,
             "#46039f"
            ],
            [
             0.2222222222222222,
             "#7201a8"
            ],
            [
             0.3333333333333333,
             "#9c179e"
            ],
            [
             0.4444444444444444,
             "#bd3786"
            ],
            [
             0.5555555555555556,
             "#d8576b"
            ],
            [
             0.6666666666666666,
             "#ed7953"
            ],
            [
             0.7777777777777778,
             "#fb9f3a"
            ],
            [
             0.8888888888888888,
             "#fdca26"
            ],
            [
             1,
             "#f0f921"
            ]
           ]
          },
          "colorway": [
           "#636efa",
           "#EF553B",
           "#00cc96",
           "#ab63fa",
           "#FFA15A",
           "#19d3f3",
           "#FF6692",
           "#B6E880",
           "#FF97FF",
           "#FECB52"
          ],
          "font": {
           "color": "#2a3f5f"
          },
          "geo": {
           "bgcolor": "white",
           "lakecolor": "white",
           "landcolor": "#E5ECF6",
           "showlakes": true,
           "showland": true,
           "subunitcolor": "white"
          },
          "hoverlabel": {
           "align": "left"
          },
          "hovermode": "closest",
          "mapbox": {
           "style": "light"
          },
          "paper_bgcolor": "white",
          "plot_bgcolor": "#E5ECF6",
          "polar": {
           "angularaxis": {
            "gridcolor": "white",
            "linecolor": "white",
            "ticks": ""
           },
           "bgcolor": "#E5ECF6",
           "radialaxis": {
            "gridcolor": "white",
            "linecolor": "white",
            "ticks": ""
           }
          },
          "scene": {
           "xaxis": {
            "backgroundcolor": "#E5ECF6",
            "gridcolor": "white",
            "gridwidth": 2,
            "linecolor": "white",
            "showbackground": true,
            "ticks": "",
            "zerolinecolor": "white"
           },
           "yaxis": {
            "backgroundcolor": "#E5ECF6",
            "gridcolor": "white",
            "gridwidth": 2,
            "linecolor": "white",
            "showbackground": true,
            "ticks": "",
            "zerolinecolor": "white"
           },
           "zaxis": {
            "backgroundcolor": "#E5ECF6",
            "gridcolor": "white",
            "gridwidth": 2,
            "linecolor": "white",
            "showbackground": true,
            "ticks": "",
            "zerolinecolor": "white"
           }
          },
          "shapedefaults": {
           "line": {
            "color": "#2a3f5f"
           }
          },
          "ternary": {
           "aaxis": {
            "gridcolor": "white",
            "linecolor": "white",
            "ticks": ""
           },
           "baxis": {
            "gridcolor": "white",
            "linecolor": "white",
            "ticks": ""
           },
           "bgcolor": "#E5ECF6",
           "caxis": {
            "gridcolor": "white",
            "linecolor": "white",
            "ticks": ""
           }
          },
          "title": {
           "x": 0.05
          },
          "xaxis": {
           "automargin": true,
           "gridcolor": "white",
           "linecolor": "white",
           "ticks": "",
           "title": {
            "standoff": 15
           },
           "zerolinecolor": "white",
           "zerolinewidth": 2
          },
          "yaxis": {
           "automargin": true,
           "gridcolor": "white",
           "linecolor": "white",
           "ticks": "",
           "title": {
            "standoff": 15
           },
           "zerolinecolor": "white",
           "zerolinewidth": 2
          }
         }
        },
        "width": 1200,
        "xaxis": {
         "anchor": "y",
         "domain": [
          0,
          0.31999999999999995
         ],
         "title": {
          "text": "goal_minute"
         }
        },
        "xaxis2": {
         "anchor": "y2",
         "domain": [
          0.33999999999999997,
          0.6599999999999999
         ],
         "matches": "x",
         "title": {
          "text": "goal_minute"
         }
        },
        "xaxis3": {
         "anchor": "y3",
         "domain": [
          0.6799999999999999,
          0.9999999999999999
         ],
         "matches": "x",
         "title": {
          "text": "goal_minute"
         }
        },
        "yaxis": {
         "anchor": "x",
         "domain": [
          0,
          1
         ],
         "title": {
          "text": "stage_name"
         }
        },
        "yaxis2": {
         "anchor": "x2",
         "domain": [
          0,
          1
         ],
         "matches": "y",
         "showticklabels": false
        },
        "yaxis3": {
         "anchor": "x3",
         "domain": [
          0,
          1
         ],
         "matches": "y",
         "showticklabels": false
        }
       }
      }
     },
     "metadata": {},
     "output_type": "display_data"
    }
   ],
   "source": [
    "b_8_fig = px.strip(strip_df,x='goal_minute',y='stage_name',facet_col='team_name',\n",
    "              width=1200,height=500)\n",
    "b_8_fig.show()"
   ]
  },
  {
   "attachments": {},
   "cell_type": "markdown",
   "metadata": {},
   "source": [
    "#### <strong> `The results:`</strong>"
   ]
  },
  {
   "attachments": {},
   "cell_type": "markdown",
   "metadata": {},
   "source": [
    "* Germany didn't score any goal in the final round\n",
    "* Italy is the lowest team who scored in the third place match (3 goals)"
   ]
  },
  {
   "attachments": {},
   "cell_type": "markdown",
   "metadata": {},
   "source": [
    "## Part- 03"
   ]
  },
  {
   "attachments": {},
   "cell_type": "markdown",
   "metadata": {},
   "source": [
    "## C.1\n",
    "\n",
    "\n",
    "* We're interested of how many times the same match occurred throught out the history. However, the values of the home_team_name and away_team_name are swapped in some rows.\n",
    "\n",
    "* To solve this issue, in line 4 we've sorted the home_team_name and away_team_name by np.sort() function to get rid off the swapped values case.\n",
    "\n",
    "* In line 13, there does exist a columns for the name of the match in the matches table, but we've added our own column (vs)"
   ]
  },
  {
   "cell_type": "code",
   "execution_count": 113,
   "metadata": {},
   "outputs": [
    {
     "data": {
      "text/html": [
       "<div>\n",
       "<style scoped>\n",
       "    .dataframe tbody tr th:only-of-type {\n",
       "        vertical-align: middle;\n",
       "    }\n",
       "\n",
       "    .dataframe tbody tr th {\n",
       "        vertical-align: top;\n",
       "    }\n",
       "\n",
       "    .dataframe thead th {\n",
       "        text-align: right;\n",
       "    }\n",
       "</style>\n",
       "<table border=\"1\" class=\"dataframe\">\n",
       "  <thead>\n",
       "    <tr style=\"text-align: right;\">\n",
       "      <th></th>\n",
       "      <th>home_team_name</th>\n",
       "      <th>away_team_name</th>\n",
       "      <th>meeting times</th>\n",
       "      <th>vs</th>\n",
       "    </tr>\n",
       "  </thead>\n",
       "  <tbody>\n",
       "    <tr>\n",
       "      <th>0</th>\n",
       "      <td>Brazil</td>\n",
       "      <td>Sweden</td>\n",
       "      <td>7</td>\n",
       "      <td>Brazil x Sweden</td>\n",
       "    </tr>\n",
       "    <tr>\n",
       "      <th>1</th>\n",
       "      <td>Argentina</td>\n",
       "      <td>Netherlands</td>\n",
       "      <td>6</td>\n",
       "      <td>Argentina x Netherlands</td>\n",
       "    </tr>\n",
       "    <tr>\n",
       "      <th>2</th>\n",
       "      <td>Brazil</td>\n",
       "      <td>Italy</td>\n",
       "      <td>5</td>\n",
       "      <td>Brazil x Italy</td>\n",
       "    </tr>\n",
       "    <tr>\n",
       "      <th>3</th>\n",
       "      <td>Brazil</td>\n",
       "      <td>Mexico</td>\n",
       "      <td>5</td>\n",
       "      <td>Brazil x Mexico</td>\n",
       "    </tr>\n",
       "    <tr>\n",
       "      <th>4</th>\n",
       "      <td>Argentina</td>\n",
       "      <td>Nigeria</td>\n",
       "      <td>5</td>\n",
       "      <td>Argentina x Nigeria</td>\n",
       "    </tr>\n",
       "    <tr>\n",
       "      <th>5</th>\n",
       "      <td>Argentina</td>\n",
       "      <td>England</td>\n",
       "      <td>5</td>\n",
       "      <td>Argentina x England</td>\n",
       "    </tr>\n",
       "    <tr>\n",
       "      <th>6</th>\n",
       "      <td>Brazil</td>\n",
       "      <td>Spain</td>\n",
       "      <td>5</td>\n",
       "      <td>Brazil x Spain</td>\n",
       "    </tr>\n",
       "    <tr>\n",
       "      <th>7</th>\n",
       "      <td>Argentina</td>\n",
       "      <td>Italy</td>\n",
       "      <td>5</td>\n",
       "      <td>Argentina x Italy</td>\n",
       "    </tr>\n",
       "    <tr>\n",
       "      <th>8</th>\n",
       "      <td>Brazil</td>\n",
       "      <td>Netherlands</td>\n",
       "      <td>5</td>\n",
       "      <td>Brazil x Netherlands</td>\n",
       "    </tr>\n",
       "    <tr>\n",
       "      <th>9</th>\n",
       "      <td>France</td>\n",
       "      <td>Italy</td>\n",
       "      <td>5</td>\n",
       "      <td>France x Italy</td>\n",
       "    </tr>\n",
       "    <tr>\n",
       "      <th>10</th>\n",
       "      <td>West Germany</td>\n",
       "      <td>Yugoslavia</td>\n",
       "      <td>5</td>\n",
       "      <td>West Germany x Yugoslavia</td>\n",
       "    </tr>\n",
       "    <tr>\n",
       "      <th>11</th>\n",
       "      <td>Brazil</td>\n",
       "      <td>Czechoslovakia</td>\n",
       "      <td>5</td>\n",
       "      <td>Brazil x Czechoslovakia</td>\n",
       "    </tr>\n",
       "    <tr>\n",
       "      <th>12</th>\n",
       "      <td>Argentina</td>\n",
       "      <td>France</td>\n",
       "      <td>4</td>\n",
       "      <td>Argentina x France</td>\n",
       "    </tr>\n",
       "    <tr>\n",
       "      <th>13</th>\n",
       "      <td>Argentina</td>\n",
       "      <td>Brazil</td>\n",
       "      <td>4</td>\n",
       "      <td>Argentina x Brazil</td>\n",
       "    </tr>\n",
       "    <tr>\n",
       "      <th>14</th>\n",
       "      <td>Brazil</td>\n",
       "      <td>England</td>\n",
       "      <td>4</td>\n",
       "      <td>Brazil x England</td>\n",
       "    </tr>\n",
       "    <tr>\n",
       "      <th>15</th>\n",
       "      <td>England</td>\n",
       "      <td>West Germany</td>\n",
       "      <td>4</td>\n",
       "      <td>England x West Germany</td>\n",
       "    </tr>\n",
       "    <tr>\n",
       "      <th>16</th>\n",
       "      <td>Italy</td>\n",
       "      <td>West Germany</td>\n",
       "      <td>4</td>\n",
       "      <td>Italy x West Germany</td>\n",
       "    </tr>\n",
       "    <tr>\n",
       "      <th>17</th>\n",
       "      <td>Argentina</td>\n",
       "      <td>West Germany</td>\n",
       "      <td>4</td>\n",
       "      <td>Argentina x West Germany</td>\n",
       "    </tr>\n",
       "    <tr>\n",
       "      <th>18</th>\n",
       "      <td>Argentina</td>\n",
       "      <td>Mexico</td>\n",
       "      <td>4</td>\n",
       "      <td>Argentina x Mexico</td>\n",
       "    </tr>\n",
       "    <tr>\n",
       "      <th>19</th>\n",
       "      <td>Belgium</td>\n",
       "      <td>England</td>\n",
       "      <td>4</td>\n",
       "      <td>Belgium x England</td>\n",
       "    </tr>\n",
       "    <tr>\n",
       "      <th>20</th>\n",
       "      <td>Brazil</td>\n",
       "      <td>Yugoslavia</td>\n",
       "      <td>4</td>\n",
       "      <td>Brazil x Yugoslavia</td>\n",
       "    </tr>\n",
       "    <tr>\n",
       "      <th>21</th>\n",
       "      <td>Denmark</td>\n",
       "      <td>France</td>\n",
       "      <td>4</td>\n",
       "      <td>Denmark x France</td>\n",
       "    </tr>\n",
       "    <tr>\n",
       "      <th>22</th>\n",
       "      <td>Brazil</td>\n",
       "      <td>Poland</td>\n",
       "      <td>4</td>\n",
       "      <td>Brazil x Poland</td>\n",
       "    </tr>\n",
       "    <tr>\n",
       "      <th>23</th>\n",
       "      <td>Austria</td>\n",
       "      <td>Italy</td>\n",
       "      <td>4</td>\n",
       "      <td>Austria x Italy</td>\n",
       "    </tr>\n",
       "    <tr>\n",
       "      <th>24</th>\n",
       "      <td>Brazil</td>\n",
       "      <td>Chile</td>\n",
       "      <td>4</td>\n",
       "      <td>Brazil x Chile</td>\n",
       "    </tr>\n",
       "    <tr>\n",
       "      <th>25</th>\n",
       "      <td>France</td>\n",
       "      <td>Uruguay</td>\n",
       "      <td>4</td>\n",
       "      <td>France x Uruguay</td>\n",
       "    </tr>\n",
       "    <tr>\n",
       "      <th>26</th>\n",
       "      <td>France</td>\n",
       "      <td>Mexico</td>\n",
       "      <td>4</td>\n",
       "      <td>France x Mexico</td>\n",
       "    </tr>\n",
       "    <tr>\n",
       "      <th>27</th>\n",
       "      <td>Brazil</td>\n",
       "      <td>Scotland</td>\n",
       "      <td>4</td>\n",
       "      <td>Brazil x Scotland</td>\n",
       "    </tr>\n",
       "    <tr>\n",
       "      <th>28</th>\n",
       "      <td>Brazil</td>\n",
       "      <td>France</td>\n",
       "      <td>4</td>\n",
       "      <td>Brazil x France</td>\n",
       "    </tr>\n",
       "    <tr>\n",
       "      <th>29</th>\n",
       "      <td>Belgium</td>\n",
       "      <td>Mexico</td>\n",
       "      <td>3</td>\n",
       "      <td>Belgium x Mexico</td>\n",
       "    </tr>\n",
       "    <tr>\n",
       "      <th>30</th>\n",
       "      <td>Germany</td>\n",
       "      <td>Sweden</td>\n",
       "      <td>3</td>\n",
       "      <td>Germany x Sweden</td>\n",
       "    </tr>\n",
       "    <tr>\n",
       "      <th>31</th>\n",
       "      <td>Paraguay</td>\n",
       "      <td>Spain</td>\n",
       "      <td>3</td>\n",
       "      <td>Paraguay x Spain</td>\n",
       "    </tr>\n",
       "    <tr>\n",
       "      <th>32</th>\n",
       "      <td>South Korea</td>\n",
       "      <td>Uruguay</td>\n",
       "      <td>3</td>\n",
       "      <td>South Korea x Uruguay</td>\n",
       "    </tr>\n",
       "    <tr>\n",
       "      <th>33</th>\n",
       "      <td>Chile</td>\n",
       "      <td>West Germany</td>\n",
       "      <td>3</td>\n",
       "      <td>Chile x West Germany</td>\n",
       "    </tr>\n",
       "    <tr>\n",
       "      <th>34</th>\n",
       "      <td>Argentina</td>\n",
       "      <td>Poland</td>\n",
       "      <td>3</td>\n",
       "      <td>Argentina x Poland</td>\n",
       "    </tr>\n",
       "    <tr>\n",
       "      <th>35</th>\n",
       "      <td>South Korea</td>\n",
       "      <td>Spain</td>\n",
       "      <td>3</td>\n",
       "      <td>South Korea x Spain</td>\n",
       "    </tr>\n",
       "    <tr>\n",
       "      <th>36</th>\n",
       "      <td>Germany</td>\n",
       "      <td>United States</td>\n",
       "      <td>3</td>\n",
       "      <td>Germany x United States</td>\n",
       "    </tr>\n",
       "    <tr>\n",
       "      <th>37</th>\n",
       "      <td>Germany</td>\n",
       "      <td>Spain</td>\n",
       "      <td>3</td>\n",
       "      <td>Germany x Spain</td>\n",
       "    </tr>\n",
       "    <tr>\n",
       "      <th>38</th>\n",
       "      <td>England</td>\n",
       "      <td>United States</td>\n",
       "      <td>3</td>\n",
       "      <td>England x United States</td>\n",
       "    </tr>\n",
       "    <tr>\n",
       "      <th>39</th>\n",
       "      <td>Italy</td>\n",
       "      <td>United States</td>\n",
       "      <td>3</td>\n",
       "      <td>Italy x United States</td>\n",
       "    </tr>\n",
       "    <tr>\n",
       "      <th>40</th>\n",
       "      <td>Belgium</td>\n",
       "      <td>France</td>\n",
       "      <td>3</td>\n",
       "      <td>Belgium x France</td>\n",
       "    </tr>\n",
       "  </tbody>\n",
       "</table>\n",
       "</div>"
      ],
      "text/plain": [
       "   home_team_name  away_team_name  meeting times                         vs\n",
       "0          Brazil          Sweden              7            Brazil x Sweden\n",
       "1       Argentina     Netherlands              6    Argentina x Netherlands\n",
       "2          Brazil           Italy              5             Brazil x Italy\n",
       "3          Brazil          Mexico              5            Brazil x Mexico\n",
       "4       Argentina         Nigeria              5        Argentina x Nigeria\n",
       "5       Argentina         England              5        Argentina x England\n",
       "6          Brazil           Spain              5             Brazil x Spain\n",
       "7       Argentina           Italy              5          Argentina x Italy\n",
       "8          Brazil     Netherlands              5       Brazil x Netherlands\n",
       "9          France           Italy              5             France x Italy\n",
       "10   West Germany      Yugoslavia              5  West Germany x Yugoslavia\n",
       "11         Brazil  Czechoslovakia              5    Brazil x Czechoslovakia\n",
       "12      Argentina          France              4         Argentina x France\n",
       "13      Argentina          Brazil              4         Argentina x Brazil\n",
       "14         Brazil         England              4           Brazil x England\n",
       "15        England    West Germany              4     England x West Germany\n",
       "16          Italy    West Germany              4       Italy x West Germany\n",
       "17      Argentina    West Germany              4   Argentina x West Germany\n",
       "18      Argentina          Mexico              4         Argentina x Mexico\n",
       "19        Belgium         England              4          Belgium x England\n",
       "20         Brazil      Yugoslavia              4        Brazil x Yugoslavia\n",
       "21        Denmark          France              4           Denmark x France\n",
       "22         Brazil          Poland              4            Brazil x Poland\n",
       "23        Austria           Italy              4            Austria x Italy\n",
       "24         Brazil           Chile              4             Brazil x Chile\n",
       "25         France         Uruguay              4           France x Uruguay\n",
       "26         France          Mexico              4            France x Mexico\n",
       "27         Brazil        Scotland              4          Brazil x Scotland\n",
       "28         Brazil          France              4            Brazil x France\n",
       "29        Belgium          Mexico              3           Belgium x Mexico\n",
       "30        Germany          Sweden              3           Germany x Sweden\n",
       "31       Paraguay           Spain              3           Paraguay x Spain\n",
       "32    South Korea         Uruguay              3      South Korea x Uruguay\n",
       "33          Chile    West Germany              3       Chile x West Germany\n",
       "34      Argentina          Poland              3         Argentina x Poland\n",
       "35    South Korea           Spain              3        South Korea x Spain\n",
       "36        Germany   United States              3    Germany x United States\n",
       "37        Germany           Spain              3            Germany x Spain\n",
       "38        England   United States              3    England x United States\n",
       "39          Italy   United States              3      Italy x United States\n",
       "40        Belgium          France              3           Belgium x France"
      ]
     },
     "execution_count": 113,
     "metadata": {},
     "output_type": "execute_result"
    }
   ],
   "source": [
    "columns_of_interest = ['home_team_name', 'away_team_name']\n",
    "\n",
    "\n",
    "df_matches_sorted = pd.DataFrame(np.sort(df_matches[columns_of_interest])\n",
    "                                 ,columns=columns_of_interest)\n",
    "\n",
    "\n",
    "df_matches_occurrence = (df_matches_sorted\n",
    "                         .sort_values(by=columns_of_interest)\n",
    "                         .value_counts(subset=columns_of_interest, ascending=False)\n",
    "                         .reset_index(name='meeting times'))\n",
    "\n",
    "df_matches_occurrence['vs'] = df_matches_occurrence.home_team_name + ' x ' + df_matches_occurrence.away_team_name\n",
    "                 \n",
    "df_matches_occurrence.loc[: 40, :]"
   ]
  },
  {
   "attachments": {},
   "cell_type": "markdown",
   "metadata": {},
   "source": [
    "## C.2"
   ]
  },
  {
   "cell_type": "code",
   "execution_count": 114,
   "metadata": {},
   "outputs": [
    {
     "data": {
      "application/vnd.plotly.v1+json": {
       "config": {
        "plotlyServerURL": "https://plot.ly"
       },
       "data": [
        {
         "alignmentgroup": "True",
         "hovertemplate": "vs=%{x}<br>meeting times=%{y}<extra></extra>",
         "legendgroup": "",
         "marker": {
          "color": "#636efa",
          "pattern": {
           "shape": ""
          }
         },
         "name": "",
         "offsetgroup": "",
         "orientation": "v",
         "showlegend": false,
         "textposition": "auto",
         "type": "bar",
         "x": [
          "Brazil x Sweden",
          "Argentina x Netherlands",
          "Brazil x Italy",
          "Brazil x Mexico",
          "Argentina x Nigeria",
          "Argentina x England",
          "Brazil x Spain",
          "Argentina x Italy",
          "Brazil x Netherlands",
          "France x Italy"
         ],
         "xaxis": "x",
         "y": [
          7,
          6,
          5,
          5,
          5,
          5,
          5,
          5,
          5,
          5
         ],
         "yaxis": "y"
        }
       ],
       "layout": {
        "barmode": "relative",
        "legend": {
         "tracegroupgap": 0
        },
        "margin": {
         "t": 60
        },
        "template": {
         "data": {
          "bar": [
           {
            "error_x": {
             "color": "#2a3f5f"
            },
            "error_y": {
             "color": "#2a3f5f"
            },
            "marker": {
             "line": {
              "color": "#E5ECF6",
              "width": 0.5
             },
             "pattern": {
              "fillmode": "overlay",
              "size": 10,
              "solidity": 0.2
             }
            },
            "type": "bar"
           }
          ],
          "barpolar": [
           {
            "marker": {
             "line": {
              "color": "#E5ECF6",
              "width": 0.5
             },
             "pattern": {
              "fillmode": "overlay",
              "size": 10,
              "solidity": 0.2
             }
            },
            "type": "barpolar"
           }
          ],
          "carpet": [
           {
            "aaxis": {
             "endlinecolor": "#2a3f5f",
             "gridcolor": "white",
             "linecolor": "white",
             "minorgridcolor": "white",
             "startlinecolor": "#2a3f5f"
            },
            "baxis": {
             "endlinecolor": "#2a3f5f",
             "gridcolor": "white",
             "linecolor": "white",
             "minorgridcolor": "white",
             "startlinecolor": "#2a3f5f"
            },
            "type": "carpet"
           }
          ],
          "choropleth": [
           {
            "colorbar": {
             "outlinewidth": 0,
             "ticks": ""
            },
            "type": "choropleth"
           }
          ],
          "contour": [
           {
            "colorbar": {
             "outlinewidth": 0,
             "ticks": ""
            },
            "colorscale": [
             [
              0,
              "#0d0887"
             ],
             [
              0.1111111111111111,
              "#46039f"
             ],
             [
              0.2222222222222222,
              "#7201a8"
             ],
             [
              0.3333333333333333,
              "#9c179e"
             ],
             [
              0.4444444444444444,
              "#bd3786"
             ],
             [
              0.5555555555555556,
              "#d8576b"
             ],
             [
              0.6666666666666666,
              "#ed7953"
             ],
             [
              0.7777777777777778,
              "#fb9f3a"
             ],
             [
              0.8888888888888888,
              "#fdca26"
             ],
             [
              1,
              "#f0f921"
             ]
            ],
            "type": "contour"
           }
          ],
          "contourcarpet": [
           {
            "colorbar": {
             "outlinewidth": 0,
             "ticks": ""
            },
            "type": "contourcarpet"
           }
          ],
          "heatmap": [
           {
            "colorbar": {
             "outlinewidth": 0,
             "ticks": ""
            },
            "colorscale": [
             [
              0,
              "#0d0887"
             ],
             [
              0.1111111111111111,
              "#46039f"
             ],
             [
              0.2222222222222222,
              "#7201a8"
             ],
             [
              0.3333333333333333,
              "#9c179e"
             ],
             [
              0.4444444444444444,
              "#bd3786"
             ],
             [
              0.5555555555555556,
              "#d8576b"
             ],
             [
              0.6666666666666666,
              "#ed7953"
             ],
             [
              0.7777777777777778,
              "#fb9f3a"
             ],
             [
              0.8888888888888888,
              "#fdca26"
             ],
             [
              1,
              "#f0f921"
             ]
            ],
            "type": "heatmap"
           }
          ],
          "heatmapgl": [
           {
            "colorbar": {
             "outlinewidth": 0,
             "ticks": ""
            },
            "colorscale": [
             [
              0,
              "#0d0887"
             ],
             [
              0.1111111111111111,
              "#46039f"
             ],
             [
              0.2222222222222222,
              "#7201a8"
             ],
             [
              0.3333333333333333,
              "#9c179e"
             ],
             [
              0.4444444444444444,
              "#bd3786"
             ],
             [
              0.5555555555555556,
              "#d8576b"
             ],
             [
              0.6666666666666666,
              "#ed7953"
             ],
             [
              0.7777777777777778,
              "#fb9f3a"
             ],
             [
              0.8888888888888888,
              "#fdca26"
             ],
             [
              1,
              "#f0f921"
             ]
            ],
            "type": "heatmapgl"
           }
          ],
          "histogram": [
           {
            "marker": {
             "pattern": {
              "fillmode": "overlay",
              "size": 10,
              "solidity": 0.2
             }
            },
            "type": "histogram"
           }
          ],
          "histogram2d": [
           {
            "colorbar": {
             "outlinewidth": 0,
             "ticks": ""
            },
            "colorscale": [
             [
              0,
              "#0d0887"
             ],
             [
              0.1111111111111111,
              "#46039f"
             ],
             [
              0.2222222222222222,
              "#7201a8"
             ],
             [
              0.3333333333333333,
              "#9c179e"
             ],
             [
              0.4444444444444444,
              "#bd3786"
             ],
             [
              0.5555555555555556,
              "#d8576b"
             ],
             [
              0.6666666666666666,
              "#ed7953"
             ],
             [
              0.7777777777777778,
              "#fb9f3a"
             ],
             [
              0.8888888888888888,
              "#fdca26"
             ],
             [
              1,
              "#f0f921"
             ]
            ],
            "type": "histogram2d"
           }
          ],
          "histogram2dcontour": [
           {
            "colorbar": {
             "outlinewidth": 0,
             "ticks": ""
            },
            "colorscale": [
             [
              0,
              "#0d0887"
             ],
             [
              0.1111111111111111,
              "#46039f"
             ],
             [
              0.2222222222222222,
              "#7201a8"
             ],
             [
              0.3333333333333333,
              "#9c179e"
             ],
             [
              0.4444444444444444,
              "#bd3786"
             ],
             [
              0.5555555555555556,
              "#d8576b"
             ],
             [
              0.6666666666666666,
              "#ed7953"
             ],
             [
              0.7777777777777778,
              "#fb9f3a"
             ],
             [
              0.8888888888888888,
              "#fdca26"
             ],
             [
              1,
              "#f0f921"
             ]
            ],
            "type": "histogram2dcontour"
           }
          ],
          "mesh3d": [
           {
            "colorbar": {
             "outlinewidth": 0,
             "ticks": ""
            },
            "type": "mesh3d"
           }
          ],
          "parcoords": [
           {
            "line": {
             "colorbar": {
              "outlinewidth": 0,
              "ticks": ""
             }
            },
            "type": "parcoords"
           }
          ],
          "pie": [
           {
            "automargin": true,
            "type": "pie"
           }
          ],
          "scatter": [
           {
            "fillpattern": {
             "fillmode": "overlay",
             "size": 10,
             "solidity": 0.2
            },
            "type": "scatter"
           }
          ],
          "scatter3d": [
           {
            "line": {
             "colorbar": {
              "outlinewidth": 0,
              "ticks": ""
             }
            },
            "marker": {
             "colorbar": {
              "outlinewidth": 0,
              "ticks": ""
             }
            },
            "type": "scatter3d"
           }
          ],
          "scattercarpet": [
           {
            "marker": {
             "colorbar": {
              "outlinewidth": 0,
              "ticks": ""
             }
            },
            "type": "scattercarpet"
           }
          ],
          "scattergeo": [
           {
            "marker": {
             "colorbar": {
              "outlinewidth": 0,
              "ticks": ""
             }
            },
            "type": "scattergeo"
           }
          ],
          "scattergl": [
           {
            "marker": {
             "colorbar": {
              "outlinewidth": 0,
              "ticks": ""
             }
            },
            "type": "scattergl"
           }
          ],
          "scattermapbox": [
           {
            "marker": {
             "colorbar": {
              "outlinewidth": 0,
              "ticks": ""
             }
            },
            "type": "scattermapbox"
           }
          ],
          "scatterpolar": [
           {
            "marker": {
             "colorbar": {
              "outlinewidth": 0,
              "ticks": ""
             }
            },
            "type": "scatterpolar"
           }
          ],
          "scatterpolargl": [
           {
            "marker": {
             "colorbar": {
              "outlinewidth": 0,
              "ticks": ""
             }
            },
            "type": "scatterpolargl"
           }
          ],
          "scatterternary": [
           {
            "marker": {
             "colorbar": {
              "outlinewidth": 0,
              "ticks": ""
             }
            },
            "type": "scatterternary"
           }
          ],
          "surface": [
           {
            "colorbar": {
             "outlinewidth": 0,
             "ticks": ""
            },
            "colorscale": [
             [
              0,
              "#0d0887"
             ],
             [
              0.1111111111111111,
              "#46039f"
             ],
             [
              0.2222222222222222,
              "#7201a8"
             ],
             [
              0.3333333333333333,
              "#9c179e"
             ],
             [
              0.4444444444444444,
              "#bd3786"
             ],
             [
              0.5555555555555556,
              "#d8576b"
             ],
             [
              0.6666666666666666,
              "#ed7953"
             ],
             [
              0.7777777777777778,
              "#fb9f3a"
             ],
             [
              0.8888888888888888,
              "#fdca26"
             ],
             [
              1,
              "#f0f921"
             ]
            ],
            "type": "surface"
           }
          ],
          "table": [
           {
            "cells": {
             "fill": {
              "color": "#EBF0F8"
             },
             "line": {
              "color": "white"
             }
            },
            "header": {
             "fill": {
              "color": "#C8D4E3"
             },
             "line": {
              "color": "white"
             }
            },
            "type": "table"
           }
          ]
         },
         "layout": {
          "annotationdefaults": {
           "arrowcolor": "#2a3f5f",
           "arrowhead": 0,
           "arrowwidth": 1
          },
          "autotypenumbers": "strict",
          "coloraxis": {
           "colorbar": {
            "outlinewidth": 0,
            "ticks": ""
           }
          },
          "colorscale": {
           "diverging": [
            [
             0,
             "#8e0152"
            ],
            [
             0.1,
             "#c51b7d"
            ],
            [
             0.2,
             "#de77ae"
            ],
            [
             0.3,
             "#f1b6da"
            ],
            [
             0.4,
             "#fde0ef"
            ],
            [
             0.5,
             "#f7f7f7"
            ],
            [
             0.6,
             "#e6f5d0"
            ],
            [
             0.7,
             "#b8e186"
            ],
            [
             0.8,
             "#7fbc41"
            ],
            [
             0.9,
             "#4d9221"
            ],
            [
             1,
             "#276419"
            ]
           ],
           "sequential": [
            [
             0,
             "#0d0887"
            ],
            [
             0.1111111111111111,
             "#46039f"
            ],
            [
             0.2222222222222222,
             "#7201a8"
            ],
            [
             0.3333333333333333,
             "#9c179e"
            ],
            [
             0.4444444444444444,
             "#bd3786"
            ],
            [
             0.5555555555555556,
             "#d8576b"
            ],
            [
             0.6666666666666666,
             "#ed7953"
            ],
            [
             0.7777777777777778,
             "#fb9f3a"
            ],
            [
             0.8888888888888888,
             "#fdca26"
            ],
            [
             1,
             "#f0f921"
            ]
           ],
           "sequentialminus": [
            [
             0,
             "#0d0887"
            ],
            [
             0.1111111111111111,
             "#46039f"
            ],
            [
             0.2222222222222222,
             "#7201a8"
            ],
            [
             0.3333333333333333,
             "#9c179e"
            ],
            [
             0.4444444444444444,
             "#bd3786"
            ],
            [
             0.5555555555555556,
             "#d8576b"
            ],
            [
             0.6666666666666666,
             "#ed7953"
            ],
            [
             0.7777777777777778,
             "#fb9f3a"
            ],
            [
             0.8888888888888888,
             "#fdca26"
            ],
            [
             1,
             "#f0f921"
            ]
           ]
          },
          "colorway": [
           "#636efa",
           "#EF553B",
           "#00cc96",
           "#ab63fa",
           "#FFA15A",
           "#19d3f3",
           "#FF6692",
           "#B6E880",
           "#FF97FF",
           "#FECB52"
          ],
          "font": {
           "color": "#2a3f5f"
          },
          "geo": {
           "bgcolor": "white",
           "lakecolor": "white",
           "landcolor": "#E5ECF6",
           "showlakes": true,
           "showland": true,
           "subunitcolor": "white"
          },
          "hoverlabel": {
           "align": "left"
          },
          "hovermode": "closest",
          "mapbox": {
           "style": "light"
          },
          "paper_bgcolor": "white",
          "plot_bgcolor": "#E5ECF6",
          "polar": {
           "angularaxis": {
            "gridcolor": "white",
            "linecolor": "white",
            "ticks": ""
           },
           "bgcolor": "#E5ECF6",
           "radialaxis": {
            "gridcolor": "white",
            "linecolor": "white",
            "ticks": ""
           }
          },
          "scene": {
           "xaxis": {
            "backgroundcolor": "#E5ECF6",
            "gridcolor": "white",
            "gridwidth": 2,
            "linecolor": "white",
            "showbackground": true,
            "ticks": "",
            "zerolinecolor": "white"
           },
           "yaxis": {
            "backgroundcolor": "#E5ECF6",
            "gridcolor": "white",
            "gridwidth": 2,
            "linecolor": "white",
            "showbackground": true,
            "ticks": "",
            "zerolinecolor": "white"
           },
           "zaxis": {
            "backgroundcolor": "#E5ECF6",
            "gridcolor": "white",
            "gridwidth": 2,
            "linecolor": "white",
            "showbackground": true,
            "ticks": "",
            "zerolinecolor": "white"
           }
          },
          "shapedefaults": {
           "line": {
            "color": "#2a3f5f"
           }
          },
          "ternary": {
           "aaxis": {
            "gridcolor": "white",
            "linecolor": "white",
            "ticks": ""
           },
           "baxis": {
            "gridcolor": "white",
            "linecolor": "white",
            "ticks": ""
           },
           "bgcolor": "#E5ECF6",
           "caxis": {
            "gridcolor": "white",
            "linecolor": "white",
            "ticks": ""
           }
          },
          "title": {
           "x": 0.05
          },
          "xaxis": {
           "automargin": true,
           "gridcolor": "white",
           "linecolor": "white",
           "ticks": "",
           "title": {
            "standoff": 15
           },
           "zerolinecolor": "white",
           "zerolinewidth": 2
          },
          "yaxis": {
           "automargin": true,
           "gridcolor": "white",
           "linecolor": "white",
           "ticks": "",
           "title": {
            "standoff": 15
           },
           "zerolinecolor": "white",
           "zerolinewidth": 2
          }
         }
        },
        "xaxis": {
         "anchor": "y",
         "domain": [
          0,
          1
         ],
         "title": {
          "text": "vs"
         }
        },
        "yaxis": {
         "anchor": "x",
         "domain": [
          0,
          1
         ],
         "title": {
          "text": "meeting times"
         }
        }
       }
      }
     },
     "metadata": {},
     "output_type": "display_data"
    }
   ],
   "source": [
    "px.bar(df_matches_occurrence[:10], y='meeting times', x='vs')"
   ]
  },
  {
   "attachments": {},
   "cell_type": "markdown",
   "metadata": {},
   "source": [
    "## D.1"
   ]
  },
  {
   "attachments": {},
   "cell_type": "markdown",
   "metadata": {},
   "source": [
    "* Switching teams in the world cup (not for the same tournament) is uncommon, but it did happen for many reasons we will discuss below:\n",
    "\n",
    "  1. Puskás Ferenc for instance is orginally a Hungarian soccer player, but he played for real madird for 8 years (1958 - 1966). During this period, he\n",
    "     became spanish and played for Spain in the world cup.\n",
    "\n",
    "  2. We can see that most of the players who played for more than one country were from west west Germany. for political reasons, west and east Germany got unified under one name Germany, hence the players played for the new country after that Which is Germany.\n",
    "\n",
    "\n",
    "\n",
    "  \n",
    "\n"
   ]
  },
  {
   "cell_type": "code",
   "execution_count": 115,
   "metadata": {},
   "outputs": [
    {
     "data": {
      "text/html": [
       "<div>\n",
       "<style scoped>\n",
       "    .dataframe tbody tr th:only-of-type {\n",
       "        vertical-align: middle;\n",
       "    }\n",
       "\n",
       "    .dataframe tbody tr th {\n",
       "        vertical-align: top;\n",
       "    }\n",
       "\n",
       "    .dataframe thead th {\n",
       "        text-align: right;\n",
       "    }\n",
       "</style>\n",
       "<table border=\"1\" class=\"dataframe\">\n",
       "  <thead>\n",
       "    <tr style=\"text-align: right;\">\n",
       "      <th></th>\n",
       "      <th>given_name</th>\n",
       "      <th>family_name</th>\n",
       "      <th>list_team_name</th>\n",
       "    </tr>\n",
       "  </thead>\n",
       "  <tbody>\n",
       "    <tr>\n",
       "      <th>331</th>\n",
       "      <td>José</td>\n",
       "      <td>Altafini</td>\n",
       "      <td>Brazil,Italy</td>\n",
       "    </tr>\n",
       "    <tr>\n",
       "      <th>937</th>\n",
       "      <td>Thomas</td>\n",
       "      <td>Berthold</td>\n",
       "      <td>West Germany,Germany</td>\n",
       "    </tr>\n",
       "    <tr>\n",
       "      <th>1039</th>\n",
       "      <td>Alen</td>\n",
       "      <td>Bokšić</td>\n",
       "      <td>Yugoslavia,Croatia</td>\n",
       "    </tr>\n",
       "    <tr>\n",
       "      <th>1087</th>\n",
       "      <td>Aleksandr</td>\n",
       "      <td>Borodyuk</td>\n",
       "      <td>Soviet Union,Russia</td>\n",
       "    </tr>\n",
       "    <tr>\n",
       "      <th>1166</th>\n",
       "      <td>Andreas</td>\n",
       "      <td>Brehme</td>\n",
       "      <td>West Germany,Germany</td>\n",
       "    </tr>\n",
       "    <tr>\n",
       "      <th>1227</th>\n",
       "      <td>Guido</td>\n",
       "      <td>Buchwald</td>\n",
       "      <td>West Germany,Germany</td>\n",
       "    </tr>\n",
       "    <tr>\n",
       "      <th>2037</th>\n",
       "      <td>Attilio</td>\n",
       "      <td>Demaría</td>\n",
       "      <td>Argentina,Italy</td>\n",
       "    </tr>\n",
       "    <tr>\n",
       "      <th>3036</th>\n",
       "      <td>Sergei</td>\n",
       "      <td>Gorlukovich</td>\n",
       "      <td>Soviet Union,Russia</td>\n",
       "    </tr>\n",
       "    <tr>\n",
       "      <th>3294</th>\n",
       "      <td>Thomas</td>\n",
       "      <td>Häßler</td>\n",
       "      <td>West Germany,Germany</td>\n",
       "    </tr>\n",
       "    <tr>\n",
       "      <th>3572</th>\n",
       "      <td>Bodo</td>\n",
       "      <td>Illgner</td>\n",
       "      <td>West Germany,Germany</td>\n",
       "    </tr>\n",
       "    <tr>\n",
       "      <th>3719</th>\n",
       "      <td>Robert</td>\n",
       "      <td>Jarni</td>\n",
       "      <td>Yugoslavia,Croatia</td>\n",
       "    </tr>\n",
       "    <tr>\n",
       "      <th>4131</th>\n",
       "      <td>Jürgen</td>\n",
       "      <td>Klinsmann</td>\n",
       "      <td>West Germany,Germany</td>\n",
       "    </tr>\n",
       "    <tr>\n",
       "      <th>4155</th>\n",
       "      <td>Jürgen</td>\n",
       "      <td>Kohler</td>\n",
       "      <td>West Germany,Germany</td>\n",
       "    </tr>\n",
       "    <tr>\n",
       "      <th>4200</th>\n",
       "      <td>Andreas</td>\n",
       "      <td>Köpke</td>\n",
       "      <td>West Germany,Germany</td>\n",
       "    </tr>\n",
       "    <tr>\n",
       "      <th>4968</th>\n",
       "      <td>Lothar</td>\n",
       "      <td>Matthäus</td>\n",
       "      <td>West Germany,Germany</td>\n",
       "    </tr>\n",
       "    <tr>\n",
       "      <th>5200</th>\n",
       "      <td>Savo</td>\n",
       "      <td>Milošević</td>\n",
       "      <td>Yugoslavia,Serbia and Montenegro</td>\n",
       "    </tr>\n",
       "    <tr>\n",
       "      <th>5280</th>\n",
       "      <td>Andreas</td>\n",
       "      <td>Möller</td>\n",
       "      <td>West Germany,Germany</td>\n",
       "    </tr>\n",
       "    <tr>\n",
       "      <th>5304</th>\n",
       "      <td>Luis</td>\n",
       "      <td>Monti</td>\n",
       "      <td>Argentina,Italy</td>\n",
       "    </tr>\n",
       "    <tr>\n",
       "      <th>6319</th>\n",
       "      <td>Robert</td>\n",
       "      <td>Prosinečki</td>\n",
       "      <td>Yugoslavia,Croatia</td>\n",
       "    </tr>\n",
       "    <tr>\n",
       "      <th>6340</th>\n",
       "      <td>Ferenc</td>\n",
       "      <td>Puskás</td>\n",
       "      <td>Hungary,Spain</td>\n",
       "    </tr>\n",
       "    <tr>\n",
       "      <th>6396</th>\n",
       "      <td>Rudolf</td>\n",
       "      <td>Raftl</td>\n",
       "      <td>Austria,Germany</td>\n",
       "    </tr>\n",
       "    <tr>\n",
       "      <th>6506</th>\n",
       "      <td>Stefan</td>\n",
       "      <td>Reuter</td>\n",
       "      <td>West Germany,Germany</td>\n",
       "    </tr>\n",
       "    <tr>\n",
       "      <th>6545</th>\n",
       "      <td>Karl-Heinz</td>\n",
       "      <td>Riedle</td>\n",
       "      <td>West Germany,Germany</td>\n",
       "    </tr>\n",
       "    <tr>\n",
       "      <th>6903</th>\n",
       "      <td>José</td>\n",
       "      <td>Santamaría</td>\n",
       "      <td>Uruguay,Spain</td>\n",
       "    </tr>\n",
       "    <tr>\n",
       "      <th>6974</th>\n",
       "      <td>Willibald</td>\n",
       "      <td>Schmaus</td>\n",
       "      <td>Austria,Germany</td>\n",
       "    </tr>\n",
       "    <tr>\n",
       "      <th>7353</th>\n",
       "      <td>Dejan</td>\n",
       "      <td>Stanković</td>\n",
       "      <td>Yugoslavia,Serbia and Montenegro,Serbia</td>\n",
       "    </tr>\n",
       "    <tr>\n",
       "      <th>7403</th>\n",
       "      <td>Vladimir</td>\n",
       "      <td>Stojković</td>\n",
       "      <td>Serbia and Montenegro,Serbia</td>\n",
       "    </tr>\n",
       "    <tr>\n",
       "      <th>7424</th>\n",
       "      <td>Josef</td>\n",
       "      <td>Stroh</td>\n",
       "      <td>Austria,Germany</td>\n",
       "    </tr>\n",
       "    <tr>\n",
       "      <th>7451</th>\n",
       "      <td>Davor</td>\n",
       "      <td>Šuker</td>\n",
       "      <td>Yugoslavia,Croatia</td>\n",
       "    </tr>\n",
       "    <tr>\n",
       "      <th>7620</th>\n",
       "      <td>Olaf</td>\n",
       "      <td>Thon</td>\n",
       "      <td>West Germany,Germany</td>\n",
       "    </tr>\n",
       "    <tr>\n",
       "      <th>8030</th>\n",
       "      <td>Nemanja</td>\n",
       "      <td>Vidić</td>\n",
       "      <td>Serbia and Montenegro,Serbia</td>\n",
       "    </tr>\n",
       "    <tr>\n",
       "      <th>8093</th>\n",
       "      <td>Rudi</td>\n",
       "      <td>Völler</td>\n",
       "      <td>West Germany,Germany</td>\n",
       "    </tr>\n",
       "    <tr>\n",
       "      <th>8131</th>\n",
       "      <td>Franz</td>\n",
       "      <td>Wagner</td>\n",
       "      <td>Austria,Germany</td>\n",
       "    </tr>\n",
       "    <tr>\n",
       "      <th>8443</th>\n",
       "      <td>Nikola</td>\n",
       "      <td>Žigić</td>\n",
       "      <td>Serbia and Montenegro,Serbia</td>\n",
       "    </tr>\n",
       "  </tbody>\n",
       "</table>\n",
       "</div>"
      ],
      "text/plain": [
       "      given_name  family_name                           list_team_name\n",
       "331         José     Altafini                             Brazil,Italy\n",
       "937       Thomas     Berthold                     West Germany,Germany\n",
       "1039        Alen       Bokšić                       Yugoslavia,Croatia\n",
       "1087   Aleksandr     Borodyuk                      Soviet Union,Russia\n",
       "1166     Andreas       Brehme                     West Germany,Germany\n",
       "1227       Guido     Buchwald                     West Germany,Germany\n",
       "2037     Attilio      Demaría                          Argentina,Italy\n",
       "3036      Sergei  Gorlukovich                      Soviet Union,Russia\n",
       "3294      Thomas       Häßler                     West Germany,Germany\n",
       "3572        Bodo      Illgner                     West Germany,Germany\n",
       "3719      Robert        Jarni                       Yugoslavia,Croatia\n",
       "4131      Jürgen    Klinsmann                     West Germany,Germany\n",
       "4155      Jürgen       Kohler                     West Germany,Germany\n",
       "4200     Andreas        Köpke                     West Germany,Germany\n",
       "4968      Lothar     Matthäus                     West Germany,Germany\n",
       "5200        Savo    Milošević         Yugoslavia,Serbia and Montenegro\n",
       "5280     Andreas       Möller                     West Germany,Germany\n",
       "5304        Luis        Monti                          Argentina,Italy\n",
       "6319      Robert   Prosinečki                       Yugoslavia,Croatia\n",
       "6340      Ferenc       Puskás                            Hungary,Spain\n",
       "6396      Rudolf        Raftl                          Austria,Germany\n",
       "6506      Stefan       Reuter                     West Germany,Germany\n",
       "6545  Karl-Heinz       Riedle                     West Germany,Germany\n",
       "6903        José   Santamaría                            Uruguay,Spain\n",
       "6974   Willibald      Schmaus                          Austria,Germany\n",
       "7353       Dejan    Stanković  Yugoslavia,Serbia and Montenegro,Serbia\n",
       "7403    Vladimir    Stojković             Serbia and Montenegro,Serbia\n",
       "7424       Josef        Stroh                          Austria,Germany\n",
       "7451       Davor        Šuker                       Yugoslavia,Croatia\n",
       "7620        Olaf         Thon                     West Germany,Germany\n",
       "8030     Nemanja        Vidić             Serbia and Montenegro,Serbia\n",
       "8093        Rudi       Völler                     West Germany,Germany\n",
       "8131       Franz       Wagner                          Austria,Germany\n",
       "8443      Nikola        Žigić             Serbia and Montenegro,Serbia"
      ]
     },
     "execution_count": 115,
     "metadata": {},
     "output_type": "execute_result"
    }
   ],
   "source": [
    "df_player_teams = pd.read_csv('player_team.csv')\n",
    "df_player_teams.loc[df_player_teams.teams_number > 1, ['given_name', 'family_name', 'list_team_name']]"
   ]
  },
  {
   "attachments": {},
   "cell_type": "markdown",
   "metadata": {},
   "source": [
    "## D.2"
   ]
  },
  {
   "cell_type": "code",
   "execution_count": 116,
   "metadata": {},
   "outputs": [
    {
     "data": {
      "text/html": [
       "<div>\n",
       "<style scoped>\n",
       "    .dataframe tbody tr th:only-of-type {\n",
       "        vertical-align: middle;\n",
       "    }\n",
       "\n",
       "    .dataframe tbody tr th {\n",
       "        vertical-align: top;\n",
       "    }\n",
       "\n",
       "    .dataframe thead th {\n",
       "        text-align: right;\n",
       "    }\n",
       "</style>\n",
       "<table border=\"1\" class=\"dataframe\">\n",
       "  <thead>\n",
       "    <tr style=\"text-align: right;\">\n",
       "      <th></th>\n",
       "      <th>key_id</th>\n",
       "      <th>tournament_id</th>\n",
       "      <th>tournament_name</th>\n",
       "      <th>year</th>\n",
       "      <th>start_date</th>\n",
       "      <th>end_date</th>\n",
       "      <th>host_country</th>\n",
       "      <th>winner</th>\n",
       "      <th>host_won</th>\n",
       "      <th>count_teams</th>\n",
       "      <th>group_stage</th>\n",
       "      <th>second_group_stage</th>\n",
       "      <th>final_round</th>\n",
       "      <th>round_of_16</th>\n",
       "      <th>quarter_finals</th>\n",
       "      <th>semi_finals</th>\n",
       "      <th>third_place_match</th>\n",
       "      <th>final</th>\n",
       "    </tr>\n",
       "  </thead>\n",
       "  <tbody>\n",
       "    <tr>\n",
       "      <th>17</th>\n",
       "      <td>18</td>\n",
       "      <td>WC-2006</td>\n",
       "      <td>2006 FIFA World Cup</td>\n",
       "      <td>2006</td>\n",
       "      <td>2006-06-09</td>\n",
       "      <td>2006-07-09</td>\n",
       "      <td>Germany</td>\n",
       "      <td>Italy</td>\n",
       "      <td>0</td>\n",
       "      <td>32</td>\n",
       "      <td>1</td>\n",
       "      <td>0</td>\n",
       "      <td>0</td>\n",
       "      <td>1</td>\n",
       "      <td>1</td>\n",
       "      <td>1</td>\n",
       "      <td>1</td>\n",
       "      <td>1</td>\n",
       "    </tr>\n",
       "    <tr>\n",
       "      <th>18</th>\n",
       "      <td>19</td>\n",
       "      <td>WC-2010</td>\n",
       "      <td>2010 FIFA World Cup</td>\n",
       "      <td>2010</td>\n",
       "      <td>2010-06-11</td>\n",
       "      <td>2010-07-11</td>\n",
       "      <td>South Africa</td>\n",
       "      <td>Spain</td>\n",
       "      <td>0</td>\n",
       "      <td>32</td>\n",
       "      <td>1</td>\n",
       "      <td>0</td>\n",
       "      <td>0</td>\n",
       "      <td>1</td>\n",
       "      <td>1</td>\n",
       "      <td>1</td>\n",
       "      <td>1</td>\n",
       "      <td>1</td>\n",
       "    </tr>\n",
       "    <tr>\n",
       "      <th>19</th>\n",
       "      <td>20</td>\n",
       "      <td>WC-2014</td>\n",
       "      <td>2014 FIFA World Cup</td>\n",
       "      <td>2014</td>\n",
       "      <td>2014-06-12</td>\n",
       "      <td>2014-07-13</td>\n",
       "      <td>Brazil</td>\n",
       "      <td>Germany</td>\n",
       "      <td>0</td>\n",
       "      <td>32</td>\n",
       "      <td>1</td>\n",
       "      <td>0</td>\n",
       "      <td>0</td>\n",
       "      <td>1</td>\n",
       "      <td>1</td>\n",
       "      <td>1</td>\n",
       "      <td>1</td>\n",
       "      <td>1</td>\n",
       "    </tr>\n",
       "    <tr>\n",
       "      <th>20</th>\n",
       "      <td>21</td>\n",
       "      <td>WC-2018</td>\n",
       "      <td>2018 FIFA World Cup</td>\n",
       "      <td>2018</td>\n",
       "      <td>2018-06-14</td>\n",
       "      <td>2018-07-15</td>\n",
       "      <td>Russia</td>\n",
       "      <td>France</td>\n",
       "      <td>0</td>\n",
       "      <td>32</td>\n",
       "      <td>1</td>\n",
       "      <td>0</td>\n",
       "      <td>0</td>\n",
       "      <td>1</td>\n",
       "      <td>1</td>\n",
       "      <td>1</td>\n",
       "      <td>1</td>\n",
       "      <td>1</td>\n",
       "    </tr>\n",
       "    <tr>\n",
       "      <th>21</th>\n",
       "      <td>22</td>\n",
       "      <td>WC-2022</td>\n",
       "      <td>2022 FIFA World Cup</td>\n",
       "      <td>2022</td>\n",
       "      <td>2022-11-20</td>\n",
       "      <td>2022-12-18</td>\n",
       "      <td>Qatar</td>\n",
       "      <td>Argentina</td>\n",
       "      <td>0</td>\n",
       "      <td>32</td>\n",
       "      <td>1</td>\n",
       "      <td>0</td>\n",
       "      <td>0</td>\n",
       "      <td>1</td>\n",
       "      <td>1</td>\n",
       "      <td>1</td>\n",
       "      <td>1</td>\n",
       "      <td>1</td>\n",
       "    </tr>\n",
       "  </tbody>\n",
       "</table>\n",
       "</div>"
      ],
      "text/plain": [
       "    key_id tournament_id      tournament_name  year  start_date    end_date  \\\n",
       "17      18       WC-2006  2006 FIFA World Cup  2006  2006-06-09  2006-07-09   \n",
       "18      19       WC-2010  2010 FIFA World Cup  2010  2010-06-11  2010-07-11   \n",
       "19      20       WC-2014  2014 FIFA World Cup  2014  2014-06-12  2014-07-13   \n",
       "20      21       WC-2018  2018 FIFA World Cup  2018  2018-06-14  2018-07-15   \n",
       "21      22       WC-2022  2022 FIFA World Cup  2022  2022-11-20  2022-12-18   \n",
       "\n",
       "    host_country     winner  host_won  count_teams  group_stage  \\\n",
       "17       Germany      Italy         0           32            1   \n",
       "18  South Africa      Spain         0           32            1   \n",
       "19        Brazil    Germany         0           32            1   \n",
       "20        Russia     France         0           32            1   \n",
       "21         Qatar  Argentina         0           32            1   \n",
       "\n",
       "    second_group_stage  final_round  round_of_16  quarter_finals  semi_finals  \\\n",
       "17                   0            0            1               1            1   \n",
       "18                   0            0            1               1            1   \n",
       "19                   0            0            1               1            1   \n",
       "20                   0            0            1               1            1   \n",
       "21                   0            0            1               1            1   \n",
       "\n",
       "    third_place_match  final  \n",
       "17                  1      1  \n",
       "18                  1      1  \n",
       "19                  1      1  \n",
       "20                  1      1  \n",
       "21                  1      1  "
      ]
     },
     "execution_count": 116,
     "metadata": {},
     "output_type": "execute_result"
    }
   ],
   "source": [
    "df_tournaments = pd.read_csv('worldcup-1.1.0\\\\data-csv\\\\tournaments.csv')\n",
    "df_tournaments.tail()"
   ]
  },
  {
   "cell_type": "code",
   "execution_count": 117,
   "metadata": {},
   "outputs": [],
   "source": [
    "def cramers_v(cross_tabs):\n",
    "    \"\"\"\n",
    "    Prints the degrees of freedom, effect size thresholds, and Cramer's V value.\n",
    "    \n",
    "    Args:\n",
    "        cross_tabs: A crosstab dataframe.\n",
    "    \"\"\"\n",
    "    \n",
    "    # effect size data frame for cramer's v function\n",
    "    data = np.array([[1, .1, .3, .5],\n",
    "       [2, .07, .21, .35],\n",
    "       [3, .06, .17, .29],\n",
    "       [4, .05,.15,.25],\n",
    "       [5, .04, .13, .22]])\n",
    "    sizes = pd.DataFrame(data, columns=['Degrees of Freedom', 'Small Effect', 'Medium Effect', 'Large Effect']) \n",
    "    \n",
    "    # getting the chi sq. stat\n",
    "    chi2 = chi2_contingency(cross_tabs)[0]\n",
    "    # calculating the total number of observations\n",
    "    n = cross_tabs.sum().sum()\n",
    "    # getting the degrees of freedom\n",
    "    dof = min(cross_tabs.shape)-1\n",
    "    # calculating cramer's v\n",
    "    v = np.sqrt(chi2/(n*dof))\n",
    "    # printing results\n",
    "    print(f'V = {v}')\n",
    "    print(f'Cramer\\'s V Degrees of Freedom = {dof}')\n",
    "    print(f'\\nEffect Size Thresholds\\n{sizes}\\n')"
   ]
  },
  {
   "cell_type": "code",
   "execution_count": 118,
   "metadata": {},
   "outputs": [
    {
     "data": {
      "text/html": [
       "<div>\n",
       "<style scoped>\n",
       "    .dataframe tbody tr th:only-of-type {\n",
       "        vertical-align: middle;\n",
       "    }\n",
       "\n",
       "    .dataframe tbody tr th {\n",
       "        vertical-align: top;\n",
       "    }\n",
       "\n",
       "    .dataframe thead th {\n",
       "        text-align: right;\n",
       "    }\n",
       "</style>\n",
       "<table border=\"1\" class=\"dataframe\">\n",
       "  <thead>\n",
       "    <tr style=\"text-align: right;\">\n",
       "      <th>host_country</th>\n",
       "      <th>Argentina</th>\n",
       "      <th>Brazil</th>\n",
       "      <th>Chile</th>\n",
       "      <th>England</th>\n",
       "      <th>France</th>\n",
       "      <th>Germany</th>\n",
       "      <th>Italy</th>\n",
       "      <th>Korea, Japan</th>\n",
       "      <th>Mexico</th>\n",
       "      <th>Qatar</th>\n",
       "      <th>Russia</th>\n",
       "      <th>South Africa</th>\n",
       "      <th>Spain</th>\n",
       "      <th>Sweden</th>\n",
       "      <th>Switzerland</th>\n",
       "      <th>United States</th>\n",
       "      <th>Uruguay</th>\n",
       "      <th>West Germany</th>\n",
       "    </tr>\n",
       "    <tr>\n",
       "      <th>winner</th>\n",
       "      <th></th>\n",
       "      <th></th>\n",
       "      <th></th>\n",
       "      <th></th>\n",
       "      <th></th>\n",
       "      <th></th>\n",
       "      <th></th>\n",
       "      <th></th>\n",
       "      <th></th>\n",
       "      <th></th>\n",
       "      <th></th>\n",
       "      <th></th>\n",
       "      <th></th>\n",
       "      <th></th>\n",
       "      <th></th>\n",
       "      <th></th>\n",
       "      <th></th>\n",
       "      <th></th>\n",
       "    </tr>\n",
       "  </thead>\n",
       "  <tbody>\n",
       "    <tr>\n",
       "      <th>Argentina</th>\n",
       "      <td>1</td>\n",
       "      <td>0</td>\n",
       "      <td>0</td>\n",
       "      <td>0</td>\n",
       "      <td>0</td>\n",
       "      <td>0</td>\n",
       "      <td>0</td>\n",
       "      <td>0</td>\n",
       "      <td>1</td>\n",
       "      <td>1</td>\n",
       "      <td>0</td>\n",
       "      <td>0</td>\n",
       "      <td>0</td>\n",
       "      <td>0</td>\n",
       "      <td>0</td>\n",
       "      <td>0</td>\n",
       "      <td>0</td>\n",
       "      <td>0</td>\n",
       "    </tr>\n",
       "    <tr>\n",
       "      <th>Brazil</th>\n",
       "      <td>0</td>\n",
       "      <td>0</td>\n",
       "      <td>1</td>\n",
       "      <td>0</td>\n",
       "      <td>0</td>\n",
       "      <td>0</td>\n",
       "      <td>0</td>\n",
       "      <td>1</td>\n",
       "      <td>1</td>\n",
       "      <td>0</td>\n",
       "      <td>0</td>\n",
       "      <td>0</td>\n",
       "      <td>0</td>\n",
       "      <td>1</td>\n",
       "      <td>0</td>\n",
       "      <td>1</td>\n",
       "      <td>0</td>\n",
       "      <td>0</td>\n",
       "    </tr>\n",
       "    <tr>\n",
       "      <th>England</th>\n",
       "      <td>0</td>\n",
       "      <td>0</td>\n",
       "      <td>0</td>\n",
       "      <td>1</td>\n",
       "      <td>0</td>\n",
       "      <td>0</td>\n",
       "      <td>0</td>\n",
       "      <td>0</td>\n",
       "      <td>0</td>\n",
       "      <td>0</td>\n",
       "      <td>0</td>\n",
       "      <td>0</td>\n",
       "      <td>0</td>\n",
       "      <td>0</td>\n",
       "      <td>0</td>\n",
       "      <td>0</td>\n",
       "      <td>0</td>\n",
       "      <td>0</td>\n",
       "    </tr>\n",
       "    <tr>\n",
       "      <th>France</th>\n",
       "      <td>0</td>\n",
       "      <td>0</td>\n",
       "      <td>0</td>\n",
       "      <td>0</td>\n",
       "      <td>1</td>\n",
       "      <td>0</td>\n",
       "      <td>0</td>\n",
       "      <td>0</td>\n",
       "      <td>0</td>\n",
       "      <td>0</td>\n",
       "      <td>1</td>\n",
       "      <td>0</td>\n",
       "      <td>0</td>\n",
       "      <td>0</td>\n",
       "      <td>0</td>\n",
       "      <td>0</td>\n",
       "      <td>0</td>\n",
       "      <td>0</td>\n",
       "    </tr>\n",
       "    <tr>\n",
       "      <th>Germany</th>\n",
       "      <td>0</td>\n",
       "      <td>1</td>\n",
       "      <td>0</td>\n",
       "      <td>0</td>\n",
       "      <td>0</td>\n",
       "      <td>0</td>\n",
       "      <td>0</td>\n",
       "      <td>0</td>\n",
       "      <td>0</td>\n",
       "      <td>0</td>\n",
       "      <td>0</td>\n",
       "      <td>0</td>\n",
       "      <td>0</td>\n",
       "      <td>0</td>\n",
       "      <td>0</td>\n",
       "      <td>0</td>\n",
       "      <td>0</td>\n",
       "      <td>0</td>\n",
       "    </tr>\n",
       "    <tr>\n",
       "      <th>Italy</th>\n",
       "      <td>0</td>\n",
       "      <td>0</td>\n",
       "      <td>0</td>\n",
       "      <td>0</td>\n",
       "      <td>1</td>\n",
       "      <td>1</td>\n",
       "      <td>1</td>\n",
       "      <td>0</td>\n",
       "      <td>0</td>\n",
       "      <td>0</td>\n",
       "      <td>0</td>\n",
       "      <td>0</td>\n",
       "      <td>1</td>\n",
       "      <td>0</td>\n",
       "      <td>0</td>\n",
       "      <td>0</td>\n",
       "      <td>0</td>\n",
       "      <td>0</td>\n",
       "    </tr>\n",
       "    <tr>\n",
       "      <th>Spain</th>\n",
       "      <td>0</td>\n",
       "      <td>0</td>\n",
       "      <td>0</td>\n",
       "      <td>0</td>\n",
       "      <td>0</td>\n",
       "      <td>0</td>\n",
       "      <td>0</td>\n",
       "      <td>0</td>\n",
       "      <td>0</td>\n",
       "      <td>0</td>\n",
       "      <td>0</td>\n",
       "      <td>1</td>\n",
       "      <td>0</td>\n",
       "      <td>0</td>\n",
       "      <td>0</td>\n",
       "      <td>0</td>\n",
       "      <td>0</td>\n",
       "      <td>0</td>\n",
       "    </tr>\n",
       "    <tr>\n",
       "      <th>Uruguay</th>\n",
       "      <td>0</td>\n",
       "      <td>1</td>\n",
       "      <td>0</td>\n",
       "      <td>0</td>\n",
       "      <td>0</td>\n",
       "      <td>0</td>\n",
       "      <td>0</td>\n",
       "      <td>0</td>\n",
       "      <td>0</td>\n",
       "      <td>0</td>\n",
       "      <td>0</td>\n",
       "      <td>0</td>\n",
       "      <td>0</td>\n",
       "      <td>0</td>\n",
       "      <td>0</td>\n",
       "      <td>0</td>\n",
       "      <td>1</td>\n",
       "      <td>0</td>\n",
       "    </tr>\n",
       "    <tr>\n",
       "      <th>West Germany</th>\n",
       "      <td>0</td>\n",
       "      <td>0</td>\n",
       "      <td>0</td>\n",
       "      <td>0</td>\n",
       "      <td>0</td>\n",
       "      <td>0</td>\n",
       "      <td>1</td>\n",
       "      <td>0</td>\n",
       "      <td>0</td>\n",
       "      <td>0</td>\n",
       "      <td>0</td>\n",
       "      <td>0</td>\n",
       "      <td>0</td>\n",
       "      <td>0</td>\n",
       "      <td>1</td>\n",
       "      <td>0</td>\n",
       "      <td>0</td>\n",
       "      <td>1</td>\n",
       "    </tr>\n",
       "  </tbody>\n",
       "</table>\n",
       "</div>"
      ],
      "text/plain": [
       "host_country  Argentina  Brazil  Chile  England  France  Germany  Italy  \\\n",
       "winner                                                                    \n",
       "Argentina             1       0      0        0       0        0      0   \n",
       "Brazil                0       0      1        0       0        0      0   \n",
       "England               0       0      0        1       0        0      0   \n",
       "France                0       0      0        0       1        0      0   \n",
       "Germany               0       1      0        0       0        0      0   \n",
       "Italy                 0       0      0        0       1        1      1   \n",
       "Spain                 0       0      0        0       0        0      0   \n",
       "Uruguay               0       1      0        0       0        0      0   \n",
       "West Germany          0       0      0        0       0        0      1   \n",
       "\n",
       "host_country  Korea, Japan  Mexico  Qatar  Russia  South Africa  Spain  \\\n",
       "winner                                                                   \n",
       "Argentina                0       1      1       0             0      0   \n",
       "Brazil                   1       1      0       0             0      0   \n",
       "England                  0       0      0       0             0      0   \n",
       "France                   0       0      0       1             0      0   \n",
       "Germany                  0       0      0       0             0      0   \n",
       "Italy                    0       0      0       0             0      1   \n",
       "Spain                    0       0      0       0             1      0   \n",
       "Uruguay                  0       0      0       0             0      0   \n",
       "West Germany             0       0      0       0             0      0   \n",
       "\n",
       "host_country  Sweden  Switzerland  United States  Uruguay  West Germany  \n",
       "winner                                                                   \n",
       "Argentina          0            0              0        0             0  \n",
       "Brazil             1            0              1        0             0  \n",
       "England            0            0              0        0             0  \n",
       "France             0            0              0        0             0  \n",
       "Germany            0            0              0        0             0  \n",
       "Italy              0            0              0        0             0  \n",
       "Spain              0            0              0        0             0  \n",
       "Uruguay            0            0              0        1             0  \n",
       "West Germany       0            1              0        0             1  "
      ]
     },
     "execution_count": 118,
     "metadata": {},
     "output_type": "execute_result"
    }
   ],
   "source": [
    "contingency_table = pd.crosstab(df_tournaments['winner'], df_tournaments['host_country'])\n",
    "contingency_table"
   ]
  },
  {
   "attachments": {},
   "cell_type": "markdown",
   "metadata": {},
   "source": [
    "* Writing The null and alternative hypothesis:\n",
    "\n",
    "  * H<sub>0</sub> : There is **no** relationship between the host country and the winner of the tournament.\n",
    "  * H<sub>a</sub> : There is **a** relationship between the host coutnry and the winner of the tournament.\n",
    "\n",
    "<br>\n",
    "\n",
    "* Discussion:\n",
    "\n",
    "   * Since p-value is 0.413 or P(Z > 138.967) = 0.413 is greater than our level of significane (alpha = 0.05), we would say that we **failed** to reject\n",
    "   the null hypothesis at 95% confidience interval. in other words. we **believe** that H<sub>0</sub> is true with a confidence of 95%. \n",
    "   \n",
    "  * If we look at the contingency table above we can observe that the host country does not play a factor of determining the winner in \n",
    "    the tournament. for instance, if we take Brazil's row and calculate the precentage of how many times it won, we would find that each host country where the Brazil won is equally likely for Brzail to be the champion ( prob = 1 / 5). Same case for other countries.\n",
    "\n",
    "  * In general, for a realtionship to exist between two groups (a, b), there should be a considerable difference in frequencies for a specific value from group a the other values from group b."
   ]
  },
  {
   "cell_type": "code",
   "execution_count": 119,
   "metadata": {},
   "outputs": [
    {
     "name": "stdout",
     "output_type": "stream",
     "text": [
      "stat=138.967, p=0.413, dof=136\n"
     ]
    }
   ],
   "source": [
    "stat, p, dof, expected = chi2_contingency(contingency_table)\n",
    "print('stat=%.3f, p=%.3f, dof=%d' % (stat, p, dof))"
   ]
  },
  {
   "attachments": {},
   "cell_type": "markdown",
   "metadata": {},
   "source": [
    "* In general Even we are obtaining a high level of correlation between the two variables, that does not necessarily mean that one variable causes the other (Correlarion does not imply causation). \n",
    "Also in our case we cannot judge this type of correlation, because no country has hosted the world cup more than twice. In my opinion, If a one has hosted the world cup many time we would be able to judge this thing."
   ]
  },
  {
   "cell_type": "code",
   "execution_count": 120,
   "metadata": {},
   "outputs": [
    {
     "name": "stdout",
     "output_type": "stream",
     "text": [
      "V = 0.8885850175044216\n",
      "Cramer's V Degrees of Freedom = 8\n",
      "\n",
      "Effect Size Thresholds\n",
      "   Degrees of Freedom  Small Effect  Medium Effect  Large Effect\n",
      "0                 1.0          0.10           0.30          0.50\n",
      "1                 2.0          0.07           0.21          0.35\n",
      "2                 3.0          0.06           0.17          0.29\n",
      "3                 4.0          0.05           0.15          0.25\n",
      "4                 5.0          0.04           0.13          0.22\n",
      "\n"
     ]
    }
   ],
   "source": [
    "cramers_v(contingency_table)"
   ]
  },
  {
   "attachments": {},
   "cell_type": "markdown",
   "metadata": {},
   "source": [
    "## D.3\n",
    "\n",
    "* In line 4, We're selecting the rows on which the host country had a game.\n"
   ]
  },
  {
   "cell_type": "code",
   "execution_count": 121,
   "metadata": {},
   "outputs": [],
   "source": [
    "columns_of_intrest = ['home_team_name', 'away_team_name','country_name', 'attendance_category', 'tournament_name']\n",
    "\n",
    "df_match_attend = pd.read_csv('attendance_category.csv') \n",
    "df_match_attend_of_host = df_match_attend.loc[df_match_attend.home_team_name == df_match_attend.country_name\n",
    "                                              , columns_of_intrest]\n"
   ]
  },
  {
   "cell_type": "code",
   "execution_count": 122,
   "metadata": {},
   "outputs": [
    {
     "data": {
      "text/html": [
       "<div>\n",
       "<style scoped>\n",
       "    .dataframe tbody tr th:only-of-type {\n",
       "        vertical-align: middle;\n",
       "    }\n",
       "\n",
       "    .dataframe tbody tr th {\n",
       "        vertical-align: top;\n",
       "    }\n",
       "\n",
       "    .dataframe thead th {\n",
       "        text-align: right;\n",
       "    }\n",
       "</style>\n",
       "<table border=\"1\" class=\"dataframe\">\n",
       "  <thead>\n",
       "    <tr style=\"text-align: right;\">\n",
       "      <th></th>\n",
       "      <th>home_team_name</th>\n",
       "      <th>away_team_name</th>\n",
       "      <th>country_name</th>\n",
       "      <th>attendance_category</th>\n",
       "      <th>tournament_name</th>\n",
       "    </tr>\n",
       "  </thead>\n",
       "  <tbody>\n",
       "    <tr>\n",
       "      <th>8</th>\n",
       "      <td>Uruguay</td>\n",
       "      <td>Peru</td>\n",
       "      <td>Uruguay</td>\n",
       "      <td>high</td>\n",
       "      <td>1930 FIFA World Cup</td>\n",
       "    </tr>\n",
       "    <tr>\n",
       "      <th>13</th>\n",
       "      <td>Uruguay</td>\n",
       "      <td>Romania</td>\n",
       "      <td>Uruguay</td>\n",
       "      <td>high</td>\n",
       "      <td>1930 FIFA World Cup</td>\n",
       "    </tr>\n",
       "    <tr>\n",
       "      <th>16</th>\n",
       "      <td>Uruguay</td>\n",
       "      <td>Yugoslavia</td>\n",
       "      <td>Uruguay</td>\n",
       "      <td>high</td>\n",
       "      <td>1930 FIFA World Cup</td>\n",
       "    </tr>\n",
       "    <tr>\n",
       "      <th>17</th>\n",
       "      <td>Uruguay</td>\n",
       "      <td>Argentina</td>\n",
       "      <td>Uruguay</td>\n",
       "      <td>high</td>\n",
       "      <td>1930 FIFA World Cup</td>\n",
       "    </tr>\n",
       "    <tr>\n",
       "      <th>22</th>\n",
       "      <td>Italy</td>\n",
       "      <td>Spain</td>\n",
       "      <td>Italy</td>\n",
       "      <td>low</td>\n",
       "      <td>1934 FIFA World Cup</td>\n",
       "    </tr>\n",
       "  </tbody>\n",
       "</table>\n",
       "</div>"
      ],
      "text/plain": [
       "   home_team_name away_team_name country_name attendance_category  \\\n",
       "8         Uruguay           Peru      Uruguay                high   \n",
       "13        Uruguay        Romania      Uruguay                high   \n",
       "16        Uruguay     Yugoslavia      Uruguay                high   \n",
       "17        Uruguay      Argentina      Uruguay                high   \n",
       "22          Italy          Spain        Italy                 low   \n",
       "\n",
       "        tournament_name  \n",
       "8   1930 FIFA World Cup  \n",
       "13  1930 FIFA World Cup  \n",
       "16  1930 FIFA World Cup  \n",
       "17  1930 FIFA World Cup  \n",
       "22  1934 FIFA World Cup  "
      ]
     },
     "execution_count": 122,
     "metadata": {},
     "output_type": "execute_result"
    }
   ],
   "source": [
    "df_match_attend_of_host.head()"
   ]
  },
  {
   "cell_type": "code",
   "execution_count": 123,
   "metadata": {},
   "outputs": [
    {
     "data": {
      "text/html": [
       "<div>\n",
       "<style scoped>\n",
       "    .dataframe tbody tr th:only-of-type {\n",
       "        vertical-align: middle;\n",
       "    }\n",
       "\n",
       "    .dataframe tbody tr th {\n",
       "        vertical-align: top;\n",
       "    }\n",
       "\n",
       "    .dataframe thead th {\n",
       "        text-align: right;\n",
       "    }\n",
       "</style>\n",
       "<table border=\"1\" class=\"dataframe\">\n",
       "  <thead>\n",
       "    <tr style=\"text-align: right;\">\n",
       "      <th>attendance_category</th>\n",
       "      <th>high</th>\n",
       "      <th>low</th>\n",
       "      <th>medium</th>\n",
       "    </tr>\n",
       "    <tr>\n",
       "      <th>home_team_name</th>\n",
       "      <th></th>\n",
       "      <th></th>\n",
       "      <th></th>\n",
       "    </tr>\n",
       "  </thead>\n",
       "  <tbody>\n",
       "    <tr>\n",
       "      <th>Argentina</th>\n",
       "      <td>4</td>\n",
       "      <td>0</td>\n",
       "      <td>3</td>\n",
       "    </tr>\n",
       "    <tr>\n",
       "      <th>Brazil</th>\n",
       "      <td>10</td>\n",
       "      <td>0</td>\n",
       "      <td>1</td>\n",
       "    </tr>\n",
       "    <tr>\n",
       "      <th>Chile</th>\n",
       "      <td>3</td>\n",
       "      <td>1</td>\n",
       "      <td>0</td>\n",
       "    </tr>\n",
       "    <tr>\n",
       "      <th>England</th>\n",
       "      <td>6</td>\n",
       "      <td>0</td>\n",
       "      <td>0</td>\n",
       "    </tr>\n",
       "    <tr>\n",
       "      <th>France</th>\n",
       "      <td>3</td>\n",
       "      <td>2</td>\n",
       "      <td>1</td>\n",
       "    </tr>\n",
       "    <tr>\n",
       "      <th>Germany</th>\n",
       "      <td>6</td>\n",
       "      <td>0</td>\n",
       "      <td>0</td>\n",
       "    </tr>\n",
       "    <tr>\n",
       "      <th>Italy</th>\n",
       "      <td>5</td>\n",
       "      <td>3</td>\n",
       "      <td>2</td>\n",
       "    </tr>\n",
       "    <tr>\n",
       "      <th>Japan</th>\n",
       "      <td>2</td>\n",
       "      <td>0</td>\n",
       "      <td>1</td>\n",
       "    </tr>\n",
       "    <tr>\n",
       "      <th>Mexico</th>\n",
       "      <td>5</td>\n",
       "      <td>0</td>\n",
       "      <td>0</td>\n",
       "    </tr>\n",
       "    <tr>\n",
       "      <th>Qatar</th>\n",
       "      <td>1</td>\n",
       "      <td>0</td>\n",
       "      <td>1</td>\n",
       "    </tr>\n",
       "    <tr>\n",
       "      <th>Russia</th>\n",
       "      <td>2</td>\n",
       "      <td>0</td>\n",
       "      <td>1</td>\n",
       "    </tr>\n",
       "    <tr>\n",
       "      <th>South Africa</th>\n",
       "      <td>1</td>\n",
       "      <td>0</td>\n",
       "      <td>1</td>\n",
       "    </tr>\n",
       "    <tr>\n",
       "      <th>South Korea</th>\n",
       "      <td>2</td>\n",
       "      <td>0</td>\n",
       "      <td>2</td>\n",
       "    </tr>\n",
       "    <tr>\n",
       "      <th>Spain</th>\n",
       "      <td>1</td>\n",
       "      <td>0</td>\n",
       "      <td>3</td>\n",
       "    </tr>\n",
       "    <tr>\n",
       "      <th>Sweden</th>\n",
       "      <td>0</td>\n",
       "      <td>3</td>\n",
       "      <td>2</td>\n",
       "    </tr>\n",
       "    <tr>\n",
       "      <th>Switzerland</th>\n",
       "      <td>0</td>\n",
       "      <td>1</td>\n",
       "      <td>1</td>\n",
       "    </tr>\n",
       "    <tr>\n",
       "      <th>United States</th>\n",
       "      <td>3</td>\n",
       "      <td>0</td>\n",
       "      <td>0</td>\n",
       "    </tr>\n",
       "    <tr>\n",
       "      <th>Uruguay</th>\n",
       "      <td>4</td>\n",
       "      <td>0</td>\n",
       "      <td>0</td>\n",
       "    </tr>\n",
       "  </tbody>\n",
       "</table>\n",
       "</div>"
      ],
      "text/plain": [
       "attendance_category  high  low  medium\n",
       "home_team_name                        \n",
       "Argentina               4    0       3\n",
       "Brazil                 10    0       1\n",
       "Chile                   3    1       0\n",
       "England                 6    0       0\n",
       "France                  3    2       1\n",
       "Germany                 6    0       0\n",
       "Italy                   5    3       2\n",
       "Japan                   2    0       1\n",
       "Mexico                  5    0       0\n",
       "Qatar                   1    0       1\n",
       "Russia                  2    0       1\n",
       "South Africa            1    0       1\n",
       "South Korea             2    0       2\n",
       "Spain                   1    0       3\n",
       "Sweden                  0    3       2\n",
       "Switzerland             0    1       1\n",
       "United States           3    0       0\n",
       "Uruguay                 4    0       0"
      ]
     },
     "execution_count": 123,
     "metadata": {},
     "output_type": "execute_result"
    }
   ],
   "source": [
    "contingency_table = pd.crosstab(df_match_attend_of_host['home_team_name'], \n",
    "                                df_match_attend_of_host['attendance_category'])\n",
    "contingency_table"
   ]
  },
  {
   "attachments": {},
   "cell_type": "markdown",
   "metadata": {},
   "source": [
    "* Writing the null and the alternative hypothesis:\n",
    "\n",
    "  * H<sub>0</sub>: There is **no** realtionship between the host match and the attendance.\n",
    "  * H<sub>a</sub>: There is **a** realtionship between the host match and the attendance.\n",
    "  \n",
    "  <br>\n",
    "\n",
    "* Discussion:\n",
    "  * We can clearly observe that the p-value=0.01 is less than our significance level alpha=0.05. So, we reject H<sub>0</sub> and say \n",
    "    we believe that H<sub>a</sub> is true with a confidence level of 95%\n",
    "\n",
    "  * If we observe the contingency table and calculate the row percent for each cell, we can conclude that the category of high attendancy forms the greatest precentage compared to other attendancy category on each row.\n",
    "\n",
    "  * We can also say that the people who are from the country which is hosting the world cup form a large proportion of the attendace. Moreover, high percentage of people will not travel to another country to watch their nation's team playing, but they will attend the match if their country is the host.\n",
    "   "
   ]
  },
  {
   "cell_type": "code",
   "execution_count": 124,
   "metadata": {},
   "outputs": [
    {
     "name": "stdout",
     "output_type": "stream",
     "text": [
      "stat=55.994, p=0.010, dof=34\n"
     ]
    }
   ],
   "source": [
    "stat, p, dof, expected = chi2_contingency(contingency_table)\n",
    "print('stat=%.3f, p=%.3f, dof=%d' % (stat, p, dof))"
   ]
  },
  {
   "attachments": {},
   "cell_type": "markdown",
   "metadata": {},
   "source": [
    "* From cramer's value we can see indeed there is a corrleation between the two categorical variables, which supports our rejection to H<sub>0</sub>."
   ]
  },
  {
   "cell_type": "code",
   "execution_count": 125,
   "metadata": {},
   "outputs": [
    {
     "name": "stdout",
     "output_type": "stream",
     "text": [
      "V = 0.5672779699766338\n",
      "Cramer's V Degrees of Freedom = 2\n",
      "\n",
      "Effect Size Thresholds\n",
      "   Degrees of Freedom  Small Effect  Medium Effect  Large Effect\n",
      "0                 1.0          0.10           0.30          0.50\n",
      "1                 2.0          0.07           0.21          0.35\n",
      "2                 3.0          0.06           0.17          0.29\n",
      "3                 4.0          0.05           0.15          0.25\n",
      "4                 5.0          0.04           0.13          0.22\n",
      "\n"
     ]
    }
   ],
   "source": [
    "cramers_v(contingency_table)"
   ]
  },
  {
   "attachments": {},
   "cell_type": "markdown",
   "metadata": {},
   "source": [
    "## D.4"
   ]
  },
  {
   "cell_type": "code",
   "execution_count": 126,
   "metadata": {},
   "outputs": [
    {
     "data": {
      "text/html": [
       "<div>\n",
       "<style scoped>\n",
       "    .dataframe tbody tr th:only-of-type {\n",
       "        vertical-align: middle;\n",
       "    }\n",
       "\n",
       "    .dataframe tbody tr th {\n",
       "        vertical-align: top;\n",
       "    }\n",
       "\n",
       "    .dataframe thead th {\n",
       "        text-align: right;\n",
       "    }\n",
       "</style>\n",
       "<table border=\"1\" class=\"dataframe\">\n",
       "  <thead>\n",
       "    <tr style=\"text-align: right;\">\n",
       "      <th>attendance_category</th>\n",
       "      <th>high</th>\n",
       "      <th>low</th>\n",
       "      <th>medium</th>\n",
       "    </tr>\n",
       "    <tr>\n",
       "      <th>country_name</th>\n",
       "      <th></th>\n",
       "      <th></th>\n",
       "      <th></th>\n",
       "    </tr>\n",
       "  </thead>\n",
       "  <tbody>\n",
       "    <tr>\n",
       "      <th>Argentina</th>\n",
       "      <td>9</td>\n",
       "      <td>18</td>\n",
       "      <td>11</td>\n",
       "    </tr>\n",
       "    <tr>\n",
       "      <th>Brazil</th>\n",
       "      <td>38</td>\n",
       "      <td>13</td>\n",
       "      <td>35</td>\n",
       "    </tr>\n",
       "    <tr>\n",
       "      <th>Chile</th>\n",
       "      <td>10</td>\n",
       "      <td>22</td>\n",
       "      <td>0</td>\n",
       "    </tr>\n",
       "    <tr>\n",
       "      <th>England</th>\n",
       "      <td>10</td>\n",
       "      <td>12</td>\n",
       "      <td>10</td>\n",
       "    </tr>\n",
       "    <tr>\n",
       "      <th>France</th>\n",
       "      <td>17</td>\n",
       "      <td>37</td>\n",
       "      <td>28</td>\n",
       "    </tr>\n",
       "    <tr>\n",
       "      <th>Germany</th>\n",
       "      <td>52</td>\n",
       "      <td>11</td>\n",
       "      <td>39</td>\n",
       "    </tr>\n",
       "    <tr>\n",
       "      <th>Italy</th>\n",
       "      <td>22</td>\n",
       "      <td>38</td>\n",
       "      <td>9</td>\n",
       "    </tr>\n",
       "    <tr>\n",
       "      <th>Japan</th>\n",
       "      <td>8</td>\n",
       "      <td>8</td>\n",
       "      <td>16</td>\n",
       "    </tr>\n",
       "    <tr>\n",
       "      <th>Mexico</th>\n",
       "      <td>27</td>\n",
       "      <td>43</td>\n",
       "      <td>14</td>\n",
       "    </tr>\n",
       "    <tr>\n",
       "      <th>Qatar</th>\n",
       "      <td>19</td>\n",
       "      <td>0</td>\n",
       "      <td>45</td>\n",
       "    </tr>\n",
       "    <tr>\n",
       "      <th>Russia</th>\n",
       "      <td>14</td>\n",
       "      <td>8</td>\n",
       "      <td>42</td>\n",
       "    </tr>\n",
       "    <tr>\n",
       "      <th>South Africa</th>\n",
       "      <td>29</td>\n",
       "      <td>18</td>\n",
       "      <td>17</td>\n",
       "    </tr>\n",
       "    <tr>\n",
       "      <th>South Korea</th>\n",
       "      <td>4</td>\n",
       "      <td>12</td>\n",
       "      <td>16</td>\n",
       "    </tr>\n",
       "    <tr>\n",
       "      <th>Spain</th>\n",
       "      <td>9</td>\n",
       "      <td>22</td>\n",
       "      <td>21</td>\n",
       "    </tr>\n",
       "    <tr>\n",
       "      <th>Sweden</th>\n",
       "      <td>0</td>\n",
       "      <td>29</td>\n",
       "      <td>6</td>\n",
       "    </tr>\n",
       "    <tr>\n",
       "      <th>Switzerland</th>\n",
       "      <td>3</td>\n",
       "      <td>19</td>\n",
       "      <td>4</td>\n",
       "    </tr>\n",
       "    <tr>\n",
       "      <th>United States</th>\n",
       "      <td>50</td>\n",
       "      <td>0</td>\n",
       "      <td>2</td>\n",
       "    </tr>\n",
       "    <tr>\n",
       "      <th>Uruguay</th>\n",
       "      <td>5</td>\n",
       "      <td>11</td>\n",
       "      <td>2</td>\n",
       "    </tr>\n",
       "  </tbody>\n",
       "</table>\n",
       "</div>"
      ],
      "text/plain": [
       "attendance_category  high  low  medium\n",
       "country_name                          \n",
       "Argentina               9   18      11\n",
       "Brazil                 38   13      35\n",
       "Chile                  10   22       0\n",
       "England                10   12      10\n",
       "France                 17   37      28\n",
       "Germany                52   11      39\n",
       "Italy                  22   38       9\n",
       "Japan                   8    8      16\n",
       "Mexico                 27   43      14\n",
       "Qatar                  19    0      45\n",
       "Russia                 14    8      42\n",
       "South Africa           29   18      17\n",
       "South Korea             4   12      16\n",
       "Spain                   9   22      21\n",
       "Sweden                  0   29       6\n",
       "Switzerland             3   19       4\n",
       "United States          50    0       2\n",
       "Uruguay                 5   11       2"
      ]
     },
     "execution_count": 126,
     "metadata": {},
     "output_type": "execute_result"
    }
   ],
   "source": [
    "contingency_table = pd.crosstab(df_match_attend['country_name'],\n",
    "                                df_match_attend['attendance_category'])\n",
    "contingency_table"
   ]
  },
  {
   "attachments": {},
   "cell_type": "markdown",
   "metadata": {},
   "source": [
    "* Writing the null and the alternative hypothesis:\n",
    "\n",
    "  * H<sub>0</sub>: There is **no** relationship between the attendance and the host country.\n",
    "  * H<sub>a</sub>: there is **a** realtionship between the attendance and the host country.\n",
    "\n",
    "  <br>\n",
    "\n",
    "* Discussion:\n",
    "\n",
    "  * it happens that for our p-value to be 0, since it is less that alpha=0.05 we reject the null hypothesis. In other words, we believe at a level of confidence of 95% that our H<sub>a</sub> is true.\n",
    "\n",
    "  * There are many reasons for the attendance to be low compared to stadium capacity:\n",
    "     1. the lack of transportation in the country. for instance, if we look at Mexico it has the highest low attendancy due to lack of transportation. In other words, this prevented the attendance to travel between stadiums on other cities within Mexico.\n",
    "\n",
    "     2. Security In general, In my opinion Mexcio have had issues with drugs and there we a lot of gangsters at that time. So this might be a reason for the people to be concerned with, and hestiate to travel to Mexico.\n",
    "\n",
    "     \n",
    "\n"
   ]
  },
  {
   "cell_type": "code",
   "execution_count": 127,
   "metadata": {},
   "outputs": [
    {
     "name": "stdout",
     "output_type": "stream",
     "text": [
      "stat=364.077, p=0.000, dof=34\n"
     ]
    }
   ],
   "source": [
    "stat, p, dof, expected = chi2_contingency(contingency_table)\n",
    "print('stat=%.3f, p=%.3f, dof=%d' % (stat, p, dof))"
   ]
  },
  {
   "attachments": {},
   "cell_type": "markdown",
   "metadata": {},
   "source": [
    "* Also here cramer's value indicates a realtionship between the two categorical variables, which supports our rejection of H<sub>0</sub>."
   ]
  },
  {
   "cell_type": "code",
   "execution_count": 128,
   "metadata": {},
   "outputs": [
    {
     "name": "stdout",
     "output_type": "stream",
     "text": [
      "V = 0.43455317396048765\n",
      "Cramer's V Degrees of Freedom = 2\n",
      "\n",
      "Effect Size Thresholds\n",
      "   Degrees of Freedom  Small Effect  Medium Effect  Large Effect\n",
      "0                 1.0          0.10           0.30          0.50\n",
      "1                 2.0          0.07           0.21          0.35\n",
      "2                 3.0          0.06           0.17          0.29\n",
      "3                 4.0          0.05           0.15          0.25\n",
      "4                 5.0          0.04           0.13          0.22\n",
      "\n"
     ]
    }
   ],
   "source": [
    "cramers_v(contingency_table)"
   ]
  },
  {
   "attachments": {},
   "cell_type": "markdown",
   "metadata": {},
   "source": [
    "## 4.Secret mission :"
   ]
  },
  {
   "attachments": {},
   "cell_type": "markdown",
   "metadata": {},
   "source": [
    "### 1.attendance ratio mean and median plot:"
   ]
  },
  {
   "cell_type": "code",
   "execution_count": 129,
   "metadata": {},
   "outputs": [
    {
     "data": {
      "application/vnd.plotly.v1+json": {
       "config": {
        "plotlyServerURL": "https://plot.ly"
       },
       "data": [
        {
         "hovertemplate": "variable=mean<br>tournament_year=%{x}<br>value=%{y}<extra></extra>",
         "legendgroup": "mean",
         "line": {
          "color": "#636efa",
          "dash": "solid"
         },
         "marker": {
          "symbol": "circle"
         },
         "mode": "lines",
         "name": "mean",
         "orientation": "v",
         "showlegend": true,
         "type": "scatter",
         "x": [
          1930,
          1934,
          1938,
          1950,
          1954,
          1958,
          1962,
          1966,
          1970,
          1974,
          1978,
          1982,
          1986,
          1990,
          1994,
          1998,
          2002,
          2006,
          2010,
          2014,
          2018,
          2022
         ],
         "xaxis": "x",
         "y": [
          32808.27777777778,
          21352.941176470587,
          20872.222222222223,
          47511.181818181816,
          29561.80769230769,
          23423.14285714286,
          27911.625,
          48847.96875,
          50124.21875,
          49098.76315789474,
          40678.71052631579,
          40571.596153846156,
          46039.057692307695,
          48388.75,
          68991.11538461539,
          45366.828125,
          42270.890625,
          52384.453125,
          49669.625,
          53591.765625,
          47371.375,
          53191.4375
         ],
         "yaxis": "y"
        },
        {
         "hovertemplate": "variable=median<br>tournament_year=%{x}<br>value=%{y}<extra></extra>",
         "legendgroup": "median",
         "line": {
          "color": "#EF553B",
          "dash": "solid"
         },
         "marker": {
          "symbol": "circle"
         },
         "mode": "lines",
         "name": "median",
         "orientation": "v",
         "showlegend": true,
         "type": "scatter",
         "x": [
          1930,
          1934,
          1938,
          1950,
          1954,
          1958,
          1962,
          1966,
          1970,
          1974,
          1978,
          1982,
          1986,
          1990,
          1994,
          1998,
          2002,
          2006,
          2010,
          2014,
          2018,
          2022
         ],
         "xaxis": "x",
         "y": [
          23734,
          16000,
          18570.5,
          22800.5,
          27000,
          20055,
          11782.5,
          41217.5,
          49926,
          53700,
          37203,
          38350,
          32138.5,
          38966.5,
          63749,
          39100,
          39723.5,
          50000,
          41234,
          54013.5,
          42991,
          44093
         ],
         "yaxis": "y"
        }
       ],
       "layout": {
        "height": 500,
        "legend": {
         "font": {
          "color": "white"
         },
         "title": {
          "text": "variable"
         },
         "tracegroupgap": 0
        },
        "paper_bgcolor": "#383838",
        "plot_bgcolor": "#383838",
        "template": {
         "data": {
          "bar": [
           {
            "error_x": {
             "color": "#2a3f5f"
            },
            "error_y": {
             "color": "#2a3f5f"
            },
            "marker": {
             "line": {
              "color": "#E5ECF6",
              "width": 0.5
             },
             "pattern": {
              "fillmode": "overlay",
              "size": 10,
              "solidity": 0.2
             }
            },
            "type": "bar"
           }
          ],
          "barpolar": [
           {
            "marker": {
             "line": {
              "color": "#E5ECF6",
              "width": 0.5
             },
             "pattern": {
              "fillmode": "overlay",
              "size": 10,
              "solidity": 0.2
             }
            },
            "type": "barpolar"
           }
          ],
          "carpet": [
           {
            "aaxis": {
             "endlinecolor": "#2a3f5f",
             "gridcolor": "white",
             "linecolor": "white",
             "minorgridcolor": "white",
             "startlinecolor": "#2a3f5f"
            },
            "baxis": {
             "endlinecolor": "#2a3f5f",
             "gridcolor": "white",
             "linecolor": "white",
             "minorgridcolor": "white",
             "startlinecolor": "#2a3f5f"
            },
            "type": "carpet"
           }
          ],
          "choropleth": [
           {
            "colorbar": {
             "outlinewidth": 0,
             "ticks": ""
            },
            "type": "choropleth"
           }
          ],
          "contour": [
           {
            "colorbar": {
             "outlinewidth": 0,
             "ticks": ""
            },
            "colorscale": [
             [
              0,
              "#0d0887"
             ],
             [
              0.1111111111111111,
              "#46039f"
             ],
             [
              0.2222222222222222,
              "#7201a8"
             ],
             [
              0.3333333333333333,
              "#9c179e"
             ],
             [
              0.4444444444444444,
              "#bd3786"
             ],
             [
              0.5555555555555556,
              "#d8576b"
             ],
             [
              0.6666666666666666,
              "#ed7953"
             ],
             [
              0.7777777777777778,
              "#fb9f3a"
             ],
             [
              0.8888888888888888,
              "#fdca26"
             ],
             [
              1,
              "#f0f921"
             ]
            ],
            "type": "contour"
           }
          ],
          "contourcarpet": [
           {
            "colorbar": {
             "outlinewidth": 0,
             "ticks": ""
            },
            "type": "contourcarpet"
           }
          ],
          "heatmap": [
           {
            "colorbar": {
             "outlinewidth": 0,
             "ticks": ""
            },
            "colorscale": [
             [
              0,
              "#0d0887"
             ],
             [
              0.1111111111111111,
              "#46039f"
             ],
             [
              0.2222222222222222,
              "#7201a8"
             ],
             [
              0.3333333333333333,
              "#9c179e"
             ],
             [
              0.4444444444444444,
              "#bd3786"
             ],
             [
              0.5555555555555556,
              "#d8576b"
             ],
             [
              0.6666666666666666,
              "#ed7953"
             ],
             [
              0.7777777777777778,
              "#fb9f3a"
             ],
             [
              0.8888888888888888,
              "#fdca26"
             ],
             [
              1,
              "#f0f921"
             ]
            ],
            "type": "heatmap"
           }
          ],
          "heatmapgl": [
           {
            "colorbar": {
             "outlinewidth": 0,
             "ticks": ""
            },
            "colorscale": [
             [
              0,
              "#0d0887"
             ],
             [
              0.1111111111111111,
              "#46039f"
             ],
             [
              0.2222222222222222,
              "#7201a8"
             ],
             [
              0.3333333333333333,
              "#9c179e"
             ],
             [
              0.4444444444444444,
              "#bd3786"
             ],
             [
              0.5555555555555556,
              "#d8576b"
             ],
             [
              0.6666666666666666,
              "#ed7953"
             ],
             [
              0.7777777777777778,
              "#fb9f3a"
             ],
             [
              0.8888888888888888,
              "#fdca26"
             ],
             [
              1,
              "#f0f921"
             ]
            ],
            "type": "heatmapgl"
           }
          ],
          "histogram": [
           {
            "marker": {
             "pattern": {
              "fillmode": "overlay",
              "size": 10,
              "solidity": 0.2
             }
            },
            "type": "histogram"
           }
          ],
          "histogram2d": [
           {
            "colorbar": {
             "outlinewidth": 0,
             "ticks": ""
            },
            "colorscale": [
             [
              0,
              "#0d0887"
             ],
             [
              0.1111111111111111,
              "#46039f"
             ],
             [
              0.2222222222222222,
              "#7201a8"
             ],
             [
              0.3333333333333333,
              "#9c179e"
             ],
             [
              0.4444444444444444,
              "#bd3786"
             ],
             [
              0.5555555555555556,
              "#d8576b"
             ],
             [
              0.6666666666666666,
              "#ed7953"
             ],
             [
              0.7777777777777778,
              "#fb9f3a"
             ],
             [
              0.8888888888888888,
              "#fdca26"
             ],
             [
              1,
              "#f0f921"
             ]
            ],
            "type": "histogram2d"
           }
          ],
          "histogram2dcontour": [
           {
            "colorbar": {
             "outlinewidth": 0,
             "ticks": ""
            },
            "colorscale": [
             [
              0,
              "#0d0887"
             ],
             [
              0.1111111111111111,
              "#46039f"
             ],
             [
              0.2222222222222222,
              "#7201a8"
             ],
             [
              0.3333333333333333,
              "#9c179e"
             ],
             [
              0.4444444444444444,
              "#bd3786"
             ],
             [
              0.5555555555555556,
              "#d8576b"
             ],
             [
              0.6666666666666666,
              "#ed7953"
             ],
             [
              0.7777777777777778,
              "#fb9f3a"
             ],
             [
              0.8888888888888888,
              "#fdca26"
             ],
             [
              1,
              "#f0f921"
             ]
            ],
            "type": "histogram2dcontour"
           }
          ],
          "mesh3d": [
           {
            "colorbar": {
             "outlinewidth": 0,
             "ticks": ""
            },
            "type": "mesh3d"
           }
          ],
          "parcoords": [
           {
            "line": {
             "colorbar": {
              "outlinewidth": 0,
              "ticks": ""
             }
            },
            "type": "parcoords"
           }
          ],
          "pie": [
           {
            "automargin": true,
            "type": "pie"
           }
          ],
          "scatter": [
           {
            "fillpattern": {
             "fillmode": "overlay",
             "size": 10,
             "solidity": 0.2
            },
            "type": "scatter"
           }
          ],
          "scatter3d": [
           {
            "line": {
             "colorbar": {
              "outlinewidth": 0,
              "ticks": ""
             }
            },
            "marker": {
             "colorbar": {
              "outlinewidth": 0,
              "ticks": ""
             }
            },
            "type": "scatter3d"
           }
          ],
          "scattercarpet": [
           {
            "marker": {
             "colorbar": {
              "outlinewidth": 0,
              "ticks": ""
             }
            },
            "type": "scattercarpet"
           }
          ],
          "scattergeo": [
           {
            "marker": {
             "colorbar": {
              "outlinewidth": 0,
              "ticks": ""
             }
            },
            "type": "scattergeo"
           }
          ],
          "scattergl": [
           {
            "marker": {
             "colorbar": {
              "outlinewidth": 0,
              "ticks": ""
             }
            },
            "type": "scattergl"
           }
          ],
          "scattermapbox": [
           {
            "marker": {
             "colorbar": {
              "outlinewidth": 0,
              "ticks": ""
             }
            },
            "type": "scattermapbox"
           }
          ],
          "scatterpolar": [
           {
            "marker": {
             "colorbar": {
              "outlinewidth": 0,
              "ticks": ""
             }
            },
            "type": "scatterpolar"
           }
          ],
          "scatterpolargl": [
           {
            "marker": {
             "colorbar": {
              "outlinewidth": 0,
              "ticks": ""
             }
            },
            "type": "scatterpolargl"
           }
          ],
          "scatterternary": [
           {
            "marker": {
             "colorbar": {
              "outlinewidth": 0,
              "ticks": ""
             }
            },
            "type": "scatterternary"
           }
          ],
          "surface": [
           {
            "colorbar": {
             "outlinewidth": 0,
             "ticks": ""
            },
            "colorscale": [
             [
              0,
              "#0d0887"
             ],
             [
              0.1111111111111111,
              "#46039f"
             ],
             [
              0.2222222222222222,
              "#7201a8"
             ],
             [
              0.3333333333333333,
              "#9c179e"
             ],
             [
              0.4444444444444444,
              "#bd3786"
             ],
             [
              0.5555555555555556,
              "#d8576b"
             ],
             [
              0.6666666666666666,
              "#ed7953"
             ],
             [
              0.7777777777777778,
              "#fb9f3a"
             ],
             [
              0.8888888888888888,
              "#fdca26"
             ],
             [
              1,
              "#f0f921"
             ]
            ],
            "type": "surface"
           }
          ],
          "table": [
           {
            "cells": {
             "fill": {
              "color": "#EBF0F8"
             },
             "line": {
              "color": "white"
             }
            },
            "header": {
             "fill": {
              "color": "#C8D4E3"
             },
             "line": {
              "color": "white"
             }
            },
            "type": "table"
           }
          ]
         },
         "layout": {
          "annotationdefaults": {
           "arrowcolor": "#2a3f5f",
           "arrowhead": 0,
           "arrowwidth": 1
          },
          "autotypenumbers": "strict",
          "coloraxis": {
           "colorbar": {
            "outlinewidth": 0,
            "ticks": ""
           }
          },
          "colorscale": {
           "diverging": [
            [
             0,
             "#8e0152"
            ],
            [
             0.1,
             "#c51b7d"
            ],
            [
             0.2,
             "#de77ae"
            ],
            [
             0.3,
             "#f1b6da"
            ],
            [
             0.4,
             "#fde0ef"
            ],
            [
             0.5,
             "#f7f7f7"
            ],
            [
             0.6,
             "#e6f5d0"
            ],
            [
             0.7,
             "#b8e186"
            ],
            [
             0.8,
             "#7fbc41"
            ],
            [
             0.9,
             "#4d9221"
            ],
            [
             1,
             "#276419"
            ]
           ],
           "sequential": [
            [
             0,
             "#0d0887"
            ],
            [
             0.1111111111111111,
             "#46039f"
            ],
            [
             0.2222222222222222,
             "#7201a8"
            ],
            [
             0.3333333333333333,
             "#9c179e"
            ],
            [
             0.4444444444444444,
             "#bd3786"
            ],
            [
             0.5555555555555556,
             "#d8576b"
            ],
            [
             0.6666666666666666,
             "#ed7953"
            ],
            [
             0.7777777777777778,
             "#fb9f3a"
            ],
            [
             0.8888888888888888,
             "#fdca26"
            ],
            [
             1,
             "#f0f921"
            ]
           ],
           "sequentialminus": [
            [
             0,
             "#0d0887"
            ],
            [
             0.1111111111111111,
             "#46039f"
            ],
            [
             0.2222222222222222,
             "#7201a8"
            ],
            [
             0.3333333333333333,
             "#9c179e"
            ],
            [
             0.4444444444444444,
             "#bd3786"
            ],
            [
             0.5555555555555556,
             "#d8576b"
            ],
            [
             0.6666666666666666,
             "#ed7953"
            ],
            [
             0.7777777777777778,
             "#fb9f3a"
            ],
            [
             0.8888888888888888,
             "#fdca26"
            ],
            [
             1,
             "#f0f921"
            ]
           ]
          },
          "colorway": [
           "#636efa",
           "#EF553B",
           "#00cc96",
           "#ab63fa",
           "#FFA15A",
           "#19d3f3",
           "#FF6692",
           "#B6E880",
           "#FF97FF",
           "#FECB52"
          ],
          "font": {
           "color": "#2a3f5f"
          },
          "geo": {
           "bgcolor": "white",
           "lakecolor": "white",
           "landcolor": "#E5ECF6",
           "showlakes": true,
           "showland": true,
           "subunitcolor": "white"
          },
          "hoverlabel": {
           "align": "left"
          },
          "hovermode": "closest",
          "mapbox": {
           "style": "light"
          },
          "paper_bgcolor": "white",
          "plot_bgcolor": "#E5ECF6",
          "polar": {
           "angularaxis": {
            "gridcolor": "white",
            "linecolor": "white",
            "ticks": ""
           },
           "bgcolor": "#E5ECF6",
           "radialaxis": {
            "gridcolor": "white",
            "linecolor": "white",
            "ticks": ""
           }
          },
          "scene": {
           "xaxis": {
            "backgroundcolor": "#E5ECF6",
            "gridcolor": "white",
            "gridwidth": 2,
            "linecolor": "white",
            "showbackground": true,
            "ticks": "",
            "zerolinecolor": "white"
           },
           "yaxis": {
            "backgroundcolor": "#E5ECF6",
            "gridcolor": "white",
            "gridwidth": 2,
            "linecolor": "white",
            "showbackground": true,
            "ticks": "",
            "zerolinecolor": "white"
           },
           "zaxis": {
            "backgroundcolor": "#E5ECF6",
            "gridcolor": "white",
            "gridwidth": 2,
            "linecolor": "white",
            "showbackground": true,
            "ticks": "",
            "zerolinecolor": "white"
           }
          },
          "shapedefaults": {
           "line": {
            "color": "#2a3f5f"
           }
          },
          "ternary": {
           "aaxis": {
            "gridcolor": "white",
            "linecolor": "white",
            "ticks": ""
           },
           "baxis": {
            "gridcolor": "white",
            "linecolor": "white",
            "ticks": ""
           },
           "bgcolor": "#E5ECF6",
           "caxis": {
            "gridcolor": "white",
            "linecolor": "white",
            "ticks": ""
           }
          },
          "title": {
           "x": 0.05
          },
          "xaxis": {
           "automargin": true,
           "gridcolor": "white",
           "linecolor": "white",
           "ticks": "",
           "title": {
            "standoff": 15
           },
           "zerolinecolor": "white",
           "zerolinewidth": 2
          },
          "yaxis": {
           "automargin": true,
           "gridcolor": "white",
           "linecolor": "white",
           "ticks": "",
           "title": {
            "standoff": 15
           },
           "zerolinecolor": "white",
           "zerolinewidth": 2
          }
         }
        },
        "title": {
         "font": {
          "color": "white"
         },
         "text": "Attendance mean and median"
        },
        "width": 900,
        "xaxis": {
         "anchor": "y",
         "color": "white",
         "domain": [
          0,
          1
         ],
         "title": {
          "text": "tournament_year"
         }
        },
        "yaxis": {
         "anchor": "x",
         "color": "white",
         "domain": [
          0,
          1
         ],
         "title": {
          "text": "Attendance"
         }
        }
       }
      }
     },
     "metadata": {},
     "output_type": "display_data"
    }
   ],
   "source": [
    "# show Attendance mean and median chart to compare with Attendance ratio chart\n",
    "a_1_fig.show()"
   ]
  },
  {
   "cell_type": "code",
   "execution_count": 130,
   "metadata": {},
   "outputs": [],
   "source": [
    "# we will caloculate attendance mean and median for every tournament\n",
    "att_ratio_mean_median_df = pd.DataFrame(final_match_df.groupby('tournament_year')['used_capacity_ratio'].agg(['mean','median']))"
   ]
  },
  {
   "cell_type": "code",
   "execution_count": 131,
   "metadata": {},
   "outputs": [
    {
     "data": {
      "application/vnd.plotly.v1+json": {
       "config": {
        "plotlyServerURL": "https://plot.ly"
       },
       "data": [
        {
         "hovertemplate": "variable=mean<br>x=%{x}<br>value=%{y}<extra></extra>",
         "legendgroup": "mean",
         "line": {
          "color": "#636efa",
          "dash": "solid"
         },
         "marker": {
          "symbol": "circle"
         },
         "mode": "lines",
         "name": "mean",
         "orientation": "v",
         "showlegend": true,
         "type": "scatter",
         "x": [
          1930,
          1934,
          1938,
          1950,
          1954,
          1958,
          1962,
          1966,
          1970,
          1974,
          1978,
          1982,
          1986,
          1990,
          1994,
          1998,
          2002,
          2006,
          2010,
          2014,
          2018,
          2022
         ],
         "xaxis": "x",
         "y": [
          0.6403429012345678,
          0.5076645920012629,
          0.5731820157355871,
          0.4722918939393939,
          0.6017524448201371,
          0.7431823939023938,
          0.7078603078358209,
          0.7543619811589051,
          0.6555539511194307,
          0.715411889943944,
          0.7802665185712578,
          0.7797511361587782,
          0.7764814236809882,
          0.9179596839451025,
          0.9708973412522132,
          0.9517012421377844,
          0.8370564886250964,
          0.8994959809158698,
          0.9054304281449622,
          0.9420324467192237,
          0.9838537563078078,
          0.9639043196028124
         ],
         "yaxis": "y"
        },
        {
         "hovertemplate": "variable=median<br>x=%{x}<br>value=%{y}<extra></extra>",
         "legendgroup": "median",
         "line": {
          "color": "#EF553B",
          "dash": "solid"
         },
         "marker": {
          "symbol": "circle"
         },
         "mode": "lines",
         "name": "median",
         "orientation": "v",
         "showlegend": true,
         "type": "scatter",
         "x": [
          1930,
          1934,
          1938,
          1950,
          1954,
          1958,
          1962,
          1966,
          1970,
          1974,
          1978,
          1982,
          1986,
          1990,
          1994,
          1998,
          2002,
          2006,
          2010,
          2014,
          2018,
          2022
         ],
         "xaxis": "x",
         "y": [
          0.70045,
          0.46,
          0.5129404761904762,
          0.41921416666666667,
          0.5804195804195804,
          0.733,
          0.6545833333333333,
          0.78521,
          0.7187676056338028,
          0.823076923076923,
          0.8243831958315241,
          0.8542424242424242,
          0.7452380952380953,
          0.9761307936507937,
          0.9897791563275434,
          0.95625,
          0.869547619047619,
          1,
          0.9590754936120789,
          0.9805,
          0.9992857142857143,
          0.9729440052700922
         ],
         "yaxis": "y"
        }
       ],
       "layout": {
        "height": 500,
        "legend": {
         "font": {
          "color": "white"
         },
         "title": {
          "text": "variable"
         },
         "tracegroupgap": 0
        },
        "paper_bgcolor": "#383838",
        "plot_bgcolor": "#383838",
        "template": {
         "data": {
          "bar": [
           {
            "error_x": {
             "color": "#2a3f5f"
            },
            "error_y": {
             "color": "#2a3f5f"
            },
            "marker": {
             "line": {
              "color": "#E5ECF6",
              "width": 0.5
             },
             "pattern": {
              "fillmode": "overlay",
              "size": 10,
              "solidity": 0.2
             }
            },
            "type": "bar"
           }
          ],
          "barpolar": [
           {
            "marker": {
             "line": {
              "color": "#E5ECF6",
              "width": 0.5
             },
             "pattern": {
              "fillmode": "overlay",
              "size": 10,
              "solidity": 0.2
             }
            },
            "type": "barpolar"
           }
          ],
          "carpet": [
           {
            "aaxis": {
             "endlinecolor": "#2a3f5f",
             "gridcolor": "white",
             "linecolor": "white",
             "minorgridcolor": "white",
             "startlinecolor": "#2a3f5f"
            },
            "baxis": {
             "endlinecolor": "#2a3f5f",
             "gridcolor": "white",
             "linecolor": "white",
             "minorgridcolor": "white",
             "startlinecolor": "#2a3f5f"
            },
            "type": "carpet"
           }
          ],
          "choropleth": [
           {
            "colorbar": {
             "outlinewidth": 0,
             "ticks": ""
            },
            "type": "choropleth"
           }
          ],
          "contour": [
           {
            "colorbar": {
             "outlinewidth": 0,
             "ticks": ""
            },
            "colorscale": [
             [
              0,
              "#0d0887"
             ],
             [
              0.1111111111111111,
              "#46039f"
             ],
             [
              0.2222222222222222,
              "#7201a8"
             ],
             [
              0.3333333333333333,
              "#9c179e"
             ],
             [
              0.4444444444444444,
              "#bd3786"
             ],
             [
              0.5555555555555556,
              "#d8576b"
             ],
             [
              0.6666666666666666,
              "#ed7953"
             ],
             [
              0.7777777777777778,
              "#fb9f3a"
             ],
             [
              0.8888888888888888,
              "#fdca26"
             ],
             [
              1,
              "#f0f921"
             ]
            ],
            "type": "contour"
           }
          ],
          "contourcarpet": [
           {
            "colorbar": {
             "outlinewidth": 0,
             "ticks": ""
            },
            "type": "contourcarpet"
           }
          ],
          "heatmap": [
           {
            "colorbar": {
             "outlinewidth": 0,
             "ticks": ""
            },
            "colorscale": [
             [
              0,
              "#0d0887"
             ],
             [
              0.1111111111111111,
              "#46039f"
             ],
             [
              0.2222222222222222,
              "#7201a8"
             ],
             [
              0.3333333333333333,
              "#9c179e"
             ],
             [
              0.4444444444444444,
              "#bd3786"
             ],
             [
              0.5555555555555556,
              "#d8576b"
             ],
             [
              0.6666666666666666,
              "#ed7953"
             ],
             [
              0.7777777777777778,
              "#fb9f3a"
             ],
             [
              0.8888888888888888,
              "#fdca26"
             ],
             [
              1,
              "#f0f921"
             ]
            ],
            "type": "heatmap"
           }
          ],
          "heatmapgl": [
           {
            "colorbar": {
             "outlinewidth": 0,
             "ticks": ""
            },
            "colorscale": [
             [
              0,
              "#0d0887"
             ],
             [
              0.1111111111111111,
              "#46039f"
             ],
             [
              0.2222222222222222,
              "#7201a8"
             ],
             [
              0.3333333333333333,
              "#9c179e"
             ],
             [
              0.4444444444444444,
              "#bd3786"
             ],
             [
              0.5555555555555556,
              "#d8576b"
             ],
             [
              0.6666666666666666,
              "#ed7953"
             ],
             [
              0.7777777777777778,
              "#fb9f3a"
             ],
             [
              0.8888888888888888,
              "#fdca26"
             ],
             [
              1,
              "#f0f921"
             ]
            ],
            "type": "heatmapgl"
           }
          ],
          "histogram": [
           {
            "marker": {
             "pattern": {
              "fillmode": "overlay",
              "size": 10,
              "solidity": 0.2
             }
            },
            "type": "histogram"
           }
          ],
          "histogram2d": [
           {
            "colorbar": {
             "outlinewidth": 0,
             "ticks": ""
            },
            "colorscale": [
             [
              0,
              "#0d0887"
             ],
             [
              0.1111111111111111,
              "#46039f"
             ],
             [
              0.2222222222222222,
              "#7201a8"
             ],
             [
              0.3333333333333333,
              "#9c179e"
             ],
             [
              0.4444444444444444,
              "#bd3786"
             ],
             [
              0.5555555555555556,
              "#d8576b"
             ],
             [
              0.6666666666666666,
              "#ed7953"
             ],
             [
              0.7777777777777778,
              "#fb9f3a"
             ],
             [
              0.8888888888888888,
              "#fdca26"
             ],
             [
              1,
              "#f0f921"
             ]
            ],
            "type": "histogram2d"
           }
          ],
          "histogram2dcontour": [
           {
            "colorbar": {
             "outlinewidth": 0,
             "ticks": ""
            },
            "colorscale": [
             [
              0,
              "#0d0887"
             ],
             [
              0.1111111111111111,
              "#46039f"
             ],
             [
              0.2222222222222222,
              "#7201a8"
             ],
             [
              0.3333333333333333,
              "#9c179e"
             ],
             [
              0.4444444444444444,
              "#bd3786"
             ],
             [
              0.5555555555555556,
              "#d8576b"
             ],
             [
              0.6666666666666666,
              "#ed7953"
             ],
             [
              0.7777777777777778,
              "#fb9f3a"
             ],
             [
              0.8888888888888888,
              "#fdca26"
             ],
             [
              1,
              "#f0f921"
             ]
            ],
            "type": "histogram2dcontour"
           }
          ],
          "mesh3d": [
           {
            "colorbar": {
             "outlinewidth": 0,
             "ticks": ""
            },
            "type": "mesh3d"
           }
          ],
          "parcoords": [
           {
            "line": {
             "colorbar": {
              "outlinewidth": 0,
              "ticks": ""
             }
            },
            "type": "parcoords"
           }
          ],
          "pie": [
           {
            "automargin": true,
            "type": "pie"
           }
          ],
          "scatter": [
           {
            "fillpattern": {
             "fillmode": "overlay",
             "size": 10,
             "solidity": 0.2
            },
            "type": "scatter"
           }
          ],
          "scatter3d": [
           {
            "line": {
             "colorbar": {
              "outlinewidth": 0,
              "ticks": ""
             }
            },
            "marker": {
             "colorbar": {
              "outlinewidth": 0,
              "ticks": ""
             }
            },
            "type": "scatter3d"
           }
          ],
          "scattercarpet": [
           {
            "marker": {
             "colorbar": {
              "outlinewidth": 0,
              "ticks": ""
             }
            },
            "type": "scattercarpet"
           }
          ],
          "scattergeo": [
           {
            "marker": {
             "colorbar": {
              "outlinewidth": 0,
              "ticks": ""
             }
            },
            "type": "scattergeo"
           }
          ],
          "scattergl": [
           {
            "marker": {
             "colorbar": {
              "outlinewidth": 0,
              "ticks": ""
             }
            },
            "type": "scattergl"
           }
          ],
          "scattermapbox": [
           {
            "marker": {
             "colorbar": {
              "outlinewidth": 0,
              "ticks": ""
             }
            },
            "type": "scattermapbox"
           }
          ],
          "scatterpolar": [
           {
            "marker": {
             "colorbar": {
              "outlinewidth": 0,
              "ticks": ""
             }
            },
            "type": "scatterpolar"
           }
          ],
          "scatterpolargl": [
           {
            "marker": {
             "colorbar": {
              "outlinewidth": 0,
              "ticks": ""
             }
            },
            "type": "scatterpolargl"
           }
          ],
          "scatterternary": [
           {
            "marker": {
             "colorbar": {
              "outlinewidth": 0,
              "ticks": ""
             }
            },
            "type": "scatterternary"
           }
          ],
          "surface": [
           {
            "colorbar": {
             "outlinewidth": 0,
             "ticks": ""
            },
            "colorscale": [
             [
              0,
              "#0d0887"
             ],
             [
              0.1111111111111111,
              "#46039f"
             ],
             [
              0.2222222222222222,
              "#7201a8"
             ],
             [
              0.3333333333333333,
              "#9c179e"
             ],
             [
              0.4444444444444444,
              "#bd3786"
             ],
             [
              0.5555555555555556,
              "#d8576b"
             ],
             [
              0.6666666666666666,
              "#ed7953"
             ],
             [
              0.7777777777777778,
              "#fb9f3a"
             ],
             [
              0.8888888888888888,
              "#fdca26"
             ],
             [
              1,
              "#f0f921"
             ]
            ],
            "type": "surface"
           }
          ],
          "table": [
           {
            "cells": {
             "fill": {
              "color": "#EBF0F8"
             },
             "line": {
              "color": "white"
             }
            },
            "header": {
             "fill": {
              "color": "#C8D4E3"
             },
             "line": {
              "color": "white"
             }
            },
            "type": "table"
           }
          ]
         },
         "layout": {
          "annotationdefaults": {
           "arrowcolor": "#2a3f5f",
           "arrowhead": 0,
           "arrowwidth": 1
          },
          "autotypenumbers": "strict",
          "coloraxis": {
           "colorbar": {
            "outlinewidth": 0,
            "ticks": ""
           }
          },
          "colorscale": {
           "diverging": [
            [
             0,
             "#8e0152"
            ],
            [
             0.1,
             "#c51b7d"
            ],
            [
             0.2,
             "#de77ae"
            ],
            [
             0.3,
             "#f1b6da"
            ],
            [
             0.4,
             "#fde0ef"
            ],
            [
             0.5,
             "#f7f7f7"
            ],
            [
             0.6,
             "#e6f5d0"
            ],
            [
             0.7,
             "#b8e186"
            ],
            [
             0.8,
             "#7fbc41"
            ],
            [
             0.9,
             "#4d9221"
            ],
            [
             1,
             "#276419"
            ]
           ],
           "sequential": [
            [
             0,
             "#0d0887"
            ],
            [
             0.1111111111111111,
             "#46039f"
            ],
            [
             0.2222222222222222,
             "#7201a8"
            ],
            [
             0.3333333333333333,
             "#9c179e"
            ],
            [
             0.4444444444444444,
             "#bd3786"
            ],
            [
             0.5555555555555556,
             "#d8576b"
            ],
            [
             0.6666666666666666,
             "#ed7953"
            ],
            [
             0.7777777777777778,
             "#fb9f3a"
            ],
            [
             0.8888888888888888,
             "#fdca26"
            ],
            [
             1,
             "#f0f921"
            ]
           ],
           "sequentialminus": [
            [
             0,
             "#0d0887"
            ],
            [
             0.1111111111111111,
             "#46039f"
            ],
            [
             0.2222222222222222,
             "#7201a8"
            ],
            [
             0.3333333333333333,
             "#9c179e"
            ],
            [
             0.4444444444444444,
             "#bd3786"
            ],
            [
             0.5555555555555556,
             "#d8576b"
            ],
            [
             0.6666666666666666,
             "#ed7953"
            ],
            [
             0.7777777777777778,
             "#fb9f3a"
            ],
            [
             0.8888888888888888,
             "#fdca26"
            ],
            [
             1,
             "#f0f921"
            ]
           ]
          },
          "colorway": [
           "#636efa",
           "#EF553B",
           "#00cc96",
           "#ab63fa",
           "#FFA15A",
           "#19d3f3",
           "#FF6692",
           "#B6E880",
           "#FF97FF",
           "#FECB52"
          ],
          "font": {
           "color": "#2a3f5f"
          },
          "geo": {
           "bgcolor": "white",
           "lakecolor": "white",
           "landcolor": "#E5ECF6",
           "showlakes": true,
           "showland": true,
           "subunitcolor": "white"
          },
          "hoverlabel": {
           "align": "left"
          },
          "hovermode": "closest",
          "mapbox": {
           "style": "light"
          },
          "paper_bgcolor": "white",
          "plot_bgcolor": "#E5ECF6",
          "polar": {
           "angularaxis": {
            "gridcolor": "white",
            "linecolor": "white",
            "ticks": ""
           },
           "bgcolor": "#E5ECF6",
           "radialaxis": {
            "gridcolor": "white",
            "linecolor": "white",
            "ticks": ""
           }
          },
          "scene": {
           "xaxis": {
            "backgroundcolor": "#E5ECF6",
            "gridcolor": "white",
            "gridwidth": 2,
            "linecolor": "white",
            "showbackground": true,
            "ticks": "",
            "zerolinecolor": "white"
           },
           "yaxis": {
            "backgroundcolor": "#E5ECF6",
            "gridcolor": "white",
            "gridwidth": 2,
            "linecolor": "white",
            "showbackground": true,
            "ticks": "",
            "zerolinecolor": "white"
           },
           "zaxis": {
            "backgroundcolor": "#E5ECF6",
            "gridcolor": "white",
            "gridwidth": 2,
            "linecolor": "white",
            "showbackground": true,
            "ticks": "",
            "zerolinecolor": "white"
           }
          },
          "shapedefaults": {
           "line": {
            "color": "#2a3f5f"
           }
          },
          "ternary": {
           "aaxis": {
            "gridcolor": "white",
            "linecolor": "white",
            "ticks": ""
           },
           "baxis": {
            "gridcolor": "white",
            "linecolor": "white",
            "ticks": ""
           },
           "bgcolor": "#E5ECF6",
           "caxis": {
            "gridcolor": "white",
            "linecolor": "white",
            "ticks": ""
           }
          },
          "title": {
           "x": 0.05
          },
          "xaxis": {
           "automargin": true,
           "gridcolor": "white",
           "linecolor": "white",
           "ticks": "",
           "title": {
            "standoff": 15
           },
           "zerolinecolor": "white",
           "zerolinewidth": 2
          },
          "yaxis": {
           "automargin": true,
           "gridcolor": "white",
           "linecolor": "white",
           "ticks": "",
           "title": {
            "standoff": 15
           },
           "zerolinecolor": "white",
           "zerolinewidth": 2
          }
         }
        },
        "title": {
         "font": {
          "color": "white"
         },
         "text": "Attendance ratio mean and median"
        },
        "width": 900,
        "xaxis": {
         "anchor": "y",
         "color": "white",
         "domain": [
          0,
          1
         ],
         "title": {
          "text": "x"
         }
        },
        "yaxis": {
         "anchor": "x",
         "color": "white",
         "domain": [
          0,
          1
         ],
         "title": {
          "text": "Attendance_ratio"
         }
        }
       }
      }
     },
     "metadata": {},
     "output_type": "display_data"
    }
   ],
   "source": [
    "#we will plot attendance mean and median\n",
    "four_1_fig = px.line(att_ratio_mean_median_df,x=att_mean_median_df.index,y=['mean','median'],\n",
    "                  width=900,height=500,title='Attendance ratio mean and median')\n",
    "four_1_fig.update_yaxes(title_text='Attendance_ratio')\n",
    "four_1_fig.update_layout(**layout_options)\n",
    "four_1_fig.show()\n"
   ]
  },
  {
   "attachments": {},
   "cell_type": "markdown",
   "metadata": {},
   "source": [
    "#### <strong> `The results:`</strong>"
   ]
  },
  {
   "attachments": {},
   "cell_type": "markdown",
   "metadata": {},
   "source": [
    "* We can see that we can not rely on Attendance number to determine that if the number soccer fans is increase or not because every county has different stadiums capacity so that we will rely on Attendance ratio to remove stadiums capacity effect from chart\n",
    "* We can see that both the medium and mean of Attendance ratio are increase and become closer to one and that means soccer fans number is increasing and fills more stadiums every tournament."
   ]
  },
  {
   "attachments": {},
   "cell_type": "markdown",
   "metadata": {},
   "source": [
    "### 2.attendance distribution box plot:"
   ]
  },
  {
   "cell_type": "code",
   "execution_count": 132,
   "metadata": {},
   "outputs": [
    {
     "data": {
      "application/vnd.plotly.v1+json": {
       "config": {
        "plotlyServerURL": "https://plot.ly"
       },
       "data": [
        {
         "alignmentgroup": "True",
         "hovertemplate": "tournament_year=%{x}<br>used_capacity_ratio=%{y}<extra></extra>",
         "legendgroup": "",
         "marker": {
          "color": "#636efa"
         },
         "name": "",
         "notched": false,
         "offsetgroup": "",
         "orientation": "v",
         "showlegend": false,
         "type": "box",
         "x": [
          1930,
          1930,
          1930,
          1930,
          1930,
          1930,
          1930,
          1930,
          1930,
          1930,
          1930,
          1930,
          1930,
          1930,
          1930,
          1930,
          1930,
          1930,
          1934,
          1934,
          1934,
          1934,
          1934,
          1934,
          1934,
          1934,
          1934,
          1934,
          1934,
          1934,
          1990,
          1990,
          1990,
          1990,
          1934,
          1934,
          1990,
          1990,
          1990,
          1990,
          1934,
          1934,
          1934,
          1990,
          1990,
          1990,
          1990,
          1990,
          1990,
          1938,
          1938,
          1938,
          1998,
          1998,
          1998,
          1998,
          1998,
          1998,
          1938,
          1938,
          1938,
          1938,
          1938,
          1938,
          1938,
          1938,
          1998,
          1998,
          1998,
          1998,
          1998,
          1998,
          1998,
          1938,
          1938,
          1938,
          1938,
          1938,
          1998,
          1998,
          1998,
          1998,
          1998,
          1998,
          1938,
          1938,
          1950,
          1950,
          1950,
          1950,
          1950,
          1950,
          1950,
          1950,
          2014,
          2014,
          2014,
          2014,
          2014,
          2014,
          2014,
          1950,
          1950,
          1950,
          1950,
          1950,
          1950,
          1950,
          1950,
          1950,
          1950,
          1950,
          1950,
          1950,
          1950,
          1954,
          1954,
          1954,
          1954,
          1954,
          1954,
          1954,
          1954,
          1954,
          1954,
          1954,
          1954,
          1954,
          1954,
          1954,
          1954,
          1954,
          1954,
          1954,
          1954,
          1954,
          1954,
          1954,
          1954,
          1954,
          1954,
          1958,
          1958,
          1958,
          1958,
          1958,
          1958,
          1958,
          1958,
          1958,
          1958,
          1958,
          1958,
          1958,
          1958,
          1958,
          1958,
          1958,
          1958,
          1958,
          1958,
          1958,
          1958,
          1958,
          1958,
          1958,
          1958,
          1958,
          1958,
          1958,
          1958,
          1958,
          1958,
          1958,
          1958,
          1958,
          1962,
          1962,
          1962,
          1962,
          1962,
          1962,
          1962,
          1962,
          1962,
          1962,
          1962,
          1962,
          1962,
          1962,
          1962,
          1962,
          1962,
          1962,
          1962,
          1962,
          1962,
          1962,
          1962,
          1962,
          1962,
          1962,
          1962,
          1962,
          1962,
          1962,
          1962,
          1962,
          1966,
          1966,
          1966,
          1966,
          1966,
          1966,
          1966,
          1966,
          1966,
          1966,
          1966,
          1966,
          1966,
          1966,
          1966,
          1966,
          1966,
          1966,
          1966,
          1966,
          1966,
          1966,
          1966,
          1966,
          1966,
          1966,
          1966,
          1966,
          1966,
          1966,
          1966,
          1966,
          1970,
          1970,
          1970,
          1970,
          1970,
          1970,
          1970,
          1970,
          1970,
          1970,
          1986,
          1986,
          1986,
          1986,
          1986,
          1986,
          1986,
          1986,
          1986,
          1970,
          1970,
          1970,
          1986,
          1986,
          1986,
          1986,
          1986,
          1970,
          1970,
          1970,
          1970,
          1970,
          1970,
          1970,
          1970,
          1986,
          1986,
          1986,
          1986,
          1986,
          1986,
          1970,
          1970,
          1970,
          1970,
          1970,
          1970,
          1970,
          1986,
          1986,
          1986,
          1986,
          1970,
          1970,
          1970,
          1970,
          1986,
          1986,
          1986,
          1974,
          1974,
          1974,
          1974,
          1974,
          2006,
          2006,
          2006,
          2006,
          2006,
          1974,
          1974,
          1974,
          2006,
          2006,
          2006,
          2006,
          2006,
          2006,
          1974,
          1974,
          1974,
          2006,
          2006,
          2006,
          2006,
          2006,
          1974,
          1974,
          1974,
          1974,
          2006,
          2006,
          2006,
          2006,
          2006,
          2006,
          1974,
          1974,
          1974,
          1974,
          1974,
          1974,
          1974,
          1974,
          1974,
          2006,
          2006,
          2006,
          2006,
          2006,
          1974,
          1974,
          1974,
          1974,
          1974,
          1974,
          1974,
          1974,
          1974,
          2006,
          2006,
          2006,
          2006,
          2006,
          2006,
          1974,
          1974,
          1974,
          1974,
          1974,
          1978,
          1978,
          1978,
          1978,
          1978,
          1978,
          1978,
          1978,
          1978,
          1978,
          1978,
          1978,
          1978,
          1978,
          1978,
          1978,
          1978,
          1978,
          1978,
          1978,
          1978,
          1978,
          1978,
          1978,
          1978,
          1978,
          1978,
          1978,
          1978,
          1978,
          1978,
          1978,
          1978,
          1978,
          1978,
          1978,
          1978,
          1978,
          1982,
          1982,
          1982,
          1982,
          1982,
          1982,
          1982,
          1982,
          1982,
          1982,
          1982,
          1982,
          1982,
          1982,
          1982,
          1982,
          1982,
          1982,
          1982,
          1982,
          1982,
          1982,
          1982,
          1982,
          1982,
          1982,
          1982,
          1982,
          1982,
          1982,
          1982,
          1982,
          1982,
          1982,
          1982,
          1982,
          1982,
          1982,
          1982,
          1982,
          1982,
          1982,
          1982,
          1982,
          1982,
          1982,
          1982,
          1982,
          1982,
          1982,
          1982,
          1982,
          1986,
          1986,
          1986,
          1986,
          1986,
          1986,
          1986,
          1986,
          1986,
          1986,
          1986,
          1986,
          1986,
          1986,
          1986,
          1986,
          1986,
          1986,
          1986,
          1986,
          1986,
          1986,
          1986,
          1986,
          1986,
          1990,
          1990,
          1990,
          1990,
          1990,
          1990,
          1990,
          1990,
          1990,
          1990,
          1990,
          1990,
          1990,
          1990,
          1990,
          1990,
          1990,
          1990,
          1990,
          1990,
          1990,
          1990,
          1990,
          1990,
          1990,
          1990,
          1990,
          1990,
          1990,
          1990,
          1990,
          1990,
          1990,
          1990,
          1990,
          1990,
          1990,
          1990,
          1994,
          1994,
          1994,
          1994,
          1994,
          1994,
          1994,
          1994,
          1994,
          1994,
          1994,
          1994,
          1994,
          1994,
          1994,
          1994,
          1994,
          1994,
          1994,
          1994,
          1994,
          1994,
          1994,
          1994,
          1994,
          1994,
          1994,
          1994,
          1994,
          1994,
          1994,
          1994,
          1994,
          1994,
          1994,
          1994,
          1994,
          1994,
          1994,
          1994,
          1994,
          1994,
          1994,
          1994,
          1994,
          1994,
          1994,
          1994,
          1994,
          1994,
          1994,
          1994,
          1998,
          1998,
          1998,
          1998,
          1998,
          1998,
          1998,
          1998,
          1998,
          1998,
          1998,
          1998,
          1998,
          1998,
          1998,
          1998,
          1998,
          1998,
          1998,
          1998,
          1998,
          1998,
          1998,
          1998,
          1998,
          1998,
          1998,
          1998,
          1998,
          1998,
          1998,
          1998,
          1998,
          1998,
          1998,
          1998,
          1998,
          1998,
          1998,
          1998,
          1998,
          1998,
          1998,
          1998,
          1998,
          2002,
          2002,
          2002,
          2002,
          2002,
          2002,
          2002,
          2002,
          2002,
          2002,
          2002,
          2002,
          2002,
          2002,
          2002,
          2002,
          2002,
          2002,
          2002,
          2002,
          2002,
          2002,
          2002,
          2002,
          2002,
          2002,
          2002,
          2002,
          2002,
          2002,
          2002,
          2002,
          2002,
          2002,
          2002,
          2002,
          2002,
          2002,
          2002,
          2002,
          2002,
          2002,
          2002,
          2002,
          2002,
          2002,
          2002,
          2002,
          2002,
          2002,
          2002,
          2002,
          2002,
          2002,
          2002,
          2002,
          2002,
          2002,
          2002,
          2002,
          2002,
          2002,
          2002,
          2002,
          2006,
          2006,
          2006,
          2006,
          2006,
          2006,
          2006,
          2006,
          2006,
          2006,
          2006,
          2006,
          2006,
          2006,
          2006,
          2006,
          2006,
          2006,
          2006,
          2006,
          2006,
          2006,
          2006,
          2006,
          2006,
          2006,
          2006,
          2006,
          2006,
          2006,
          2006,
          2010,
          2010,
          2010,
          2010,
          2010,
          2010,
          2010,
          2010,
          2010,
          2010,
          2010,
          2010,
          2010,
          2010,
          2010,
          2010,
          2010,
          2010,
          2010,
          2010,
          2010,
          2010,
          2010,
          2010,
          2010,
          2010,
          2010,
          2010,
          2010,
          2010,
          2010,
          2010,
          2010,
          2010,
          2010,
          2010,
          2010,
          2010,
          2010,
          2010,
          2010,
          2010,
          2010,
          2010,
          2010,
          2010,
          2010,
          2010,
          2010,
          2010,
          2010,
          2010,
          2010,
          2010,
          2010,
          2010,
          2010,
          2010,
          2010,
          2010,
          2010,
          2010,
          2010,
          2010,
          2014,
          2014,
          2014,
          2014,
          2014,
          2014,
          2014,
          2014,
          2014,
          2014,
          2014,
          2014,
          2014,
          2014,
          2014,
          2014,
          2014,
          2014,
          2014,
          2014,
          2014,
          2014,
          2014,
          2014,
          2014,
          2014,
          2014,
          2014,
          2014,
          2014,
          2014,
          2014,
          2014,
          2014,
          2014,
          2014,
          2014,
          2014,
          2014,
          2014,
          2014,
          2014,
          2014,
          2014,
          2014,
          2014,
          2014,
          2014,
          2014,
          2014,
          2014,
          2014,
          2014,
          2014,
          2014,
          2014,
          2014,
          2018,
          2018,
          2018,
          2018,
          2018,
          2018,
          2018,
          2018,
          2018,
          2018,
          2018,
          2018,
          2018,
          2018,
          2018,
          2018,
          2018,
          2018,
          2018,
          2018,
          2018,
          2018,
          2018,
          2018,
          2018,
          2018,
          2018,
          2018,
          2018,
          2018,
          2018,
          2018,
          2018,
          2018,
          2018,
          2018,
          2018,
          2018,
          2018,
          2018,
          2018,
          2018,
          2018,
          2018,
          2018,
          2018,
          2018,
          2018,
          2018,
          2018,
          2018,
          2018,
          2018,
          2018,
          2018,
          2018,
          2018,
          2018,
          2018,
          2018,
          2018,
          2018,
          2018,
          2018,
          2022,
          2022,
          2022,
          2022,
          2022,
          2022,
          2022,
          2022,
          2022,
          2022,
          2022,
          2022,
          2022,
          2022,
          2022,
          2022,
          2022,
          2022,
          2022,
          2022,
          2022,
          2022,
          2022,
          2022,
          2022,
          2022,
          2022,
          2022,
          2022,
          2022,
          2022,
          2022,
          2022,
          2022,
          2022,
          2022,
          2022,
          2022,
          2022,
          2022,
          2022,
          2022,
          2022,
          2022,
          2022,
          2022,
          2022,
          2022,
          2022,
          2022,
          2022,
          2022,
          2022,
          2022,
          2022,
          2022,
          2022,
          2022,
          2022,
          2022,
          2022,
          2022,
          2022,
          2022
         ],
         "x0": " ",
         "xaxis": "x",
         "y": [
          0.4444,
          0.2549,
          0.9173,
          1.20295,
          1.17045,
          0.46245,
          0.9153,
          0.9153,
          0.6415,
          0.022222222222222223,
          0.4677777777777778,
          0.28295555555555557,
          0.13333333333333333,
          0.7780222222222222,
          0.46065555555555554,
          0.8098444444444445,
          0.8874111111111112,
          0.7594,
          0.5714285714285714,
          0.42857142857142855,
          1.125,
          0.1702127659574468,
          0.7446808510638298,
          0.9148936170212766,
          0.225,
          0.175,
          0.5319148936170213,
          0.3191489361702128,
          1.1702127659574468,
          0.5675675675675675,
          0.8342432432432433,
          0.8600810810810811,
          0.8168378378378378,
          0.859945945945946,
          0.28,
          0.46,
          0.61582,
          0.64514,
          0.55666,
          0.6904,
          0.44,
          0.04,
          0.4666666666666667,
          0.9837333333333333,
          0.9968666666666667,
          0.94892,
          0.9668,
          0.99412,
          0.97796,
          0.5541224489795918,
          0.4086734693877551,
          0.40816326530612246,
          1,
          0.9795918367346939,
          0.9285714285714286,
          0.9285714285714286,
          0.9285714285714286,
          0.8979591836734694,
          0.4666666666666667,
          0.5333333333333333,
          0.5075666666666667,
          0.97425,
          0.75,
          0.4090909090909091,
          0.31666666666666665,
          0.55,
          0.9166666666666666,
          0.9097833333333334,
          0.9166666666666666,
          0.95,
          0.9166666666666666,
          1,
          1,
          0.4484,
          0.5,
          0.6291714285714286,
          0.5183142857142857,
          0.34285714285714286,
          1.0057142857142858,
          0.9085714285714286,
          0.9085714285714286,
          0.9085714285714286,
          0.9085714285714286,
          0.9085714285714286,
          1,
          1,
          0.408245,
          0.148515,
          0.09895,
          0.712145,
          0.37231,
          0.69443,
          0.76386,
          0.86925,
          0.37369,
          0.370505,
          0.369095,
          0.368745,
          0.36902,
          0.3712,
          0.37369,
          0.24453333333333332,
          0.33836666666666665,
          0.17613333333333334,
          0.9511,
          0.7903,
          0.6083666666666666,
          0.7005333333333333,
          0.4301833333333333,
          0.7467,
          0.13311666666666666,
          0.18711666666666665,
          0.5539,
          0.179,
          0.28336666666666666,
          0.37416666666666665,
          0.5277777777777778,
          0.1111111111111111,
          0.4722222222222222,
          0.32,
          0.86,
          0.49274,
          0.7,
          0.9,
          0.7142857142857143,
          0.37142857142857144,
          0.7428571428571429,
          0.4857142857142857,
          0.9142857142857143,
          0.3153846153846154,
          0.4307692307692308,
          0.6692307692307692,
          0.6153846153846154,
          0.9615384615384616,
          0.2545454545454545,
          0.6181818181818182,
          1.018181818181818,
          0.5454545454545454,
          0.509090909090909,
          1.0545454545454545,
          0.6666666666666666,
          0.6559038461538461,
          0.29134615384615387,
          0.7471153846153846,
          0.5824423076923076,
          0.054288461538461535,
          0.6134615384615385,
          0.5211538461538462,
          0.9564807692307692,
          1.0385333333333333,
          0.733,
          0.20653333333333335,
          0.6685,
          0.7098,
          0.9449333333333333,
          0.8259,
          0.58325,
          0.59,
          0.9591,
          1.2217,
          0.76715,
          0.665,
          0.9882222222222222,
          0.9138518518518518,
          0.7573148148148148,
          0.9431111111111111,
          0.4292962962962963,
          0.48005555555555557,
          0.9161296296296296,
          0.6015370370370371,
          0.9259259259259259,
          0.6080740740740741,
          1.4159333333333333,
          1.0581333333333334,
          1.0426153846153847,
          0.5955909090909091,
          0.43933333333333335,
          0.5345555555555556,
          0.4905,
          0.44666666666666666,
          0.5540555555555555,
          0.39816666666666667,
          0.9593333333333334,
          0.9702388059701492,
          0.9767164179104477,
          0.9859253731343284,
          0.9689850746268657,
          1.0033432835820895,
          0.892955223880597,
          0.945134328358209,
          1.1431940298507464,
          0.9954776119402985,
          1.0250597014925373,
          0.5824444444444444,
          0.7055555555555556,
          0.8279444444444445,
          0.6597222222222222,
          1.0397222222222222,
          0.5915555555555555,
          0.9853333333333333,
          0.32722222222222225,
          0.3963333333333333,
          0.441,
          0.5441111111111111,
          0.41344444444444445,
          0.4413888888888889,
          0.31666666666666665,
          0.6494444444444445,
          0.8802828282828283,
          0.6993636363636364,
          0.935050505050505,
          0.6172929292929293,
          0.9926262626262626,
          0.914989898989899,
          0.9544747474747475,
          0.8858181818181818,
          0.979030303030303,
          0.8401627906976744,
          0.7448372093023256,
          0.747139534883721,
          0.9303953488372093,
          0.94616,
          1.02774,
          1.16958,
          0.80496,
          0.76546,
          0.57515,
          0.3448,
          0.445725,
          0.8218846153846154,
          0.8959038461538461,
          0.8112884615384616,
          0.5152758620689655,
          0.4385862068965517,
          0.41601724137931034,
          0.679975,
          0.694825,
          0.400675,
          0.6711,
          0.593012987012987,
          0.9318260869565217,
          0.8017826086956522,
          0.8283565217391304,
          0.8961565217391304,
          0.7824260869565217,
          0.9408,
          0.22682608695652173,
          0.8908173913043478,
          0.9078521739130435,
          0.9340173913043478,
          0.8347826086956521,
          0.9565217391304348,
          0.9965217391304347,
          0.9022869565217392,
          0.9963478260869565,
          0.858504347826087,
          0.9963478260869565,
          0.9956521739130435,
          0.9965217391304347,
          0.449,
          0.6514782608695652,
          0.3948478260869565,
          0.6956521739130435,
          0.43478260869565216,
          0.5652173913043478,
          0.9782608695652174,
          0.45652173913043476,
          0.712112676056338,
          0.7450281690140845,
          0.8002535211267605,
          0.9414507042253522,
          0.7155492957746479,
          0.6942535211267605,
          0.7638450704225352,
          0.7219859154929578,
          0.5034929577464788,
          0.676056338028169,
          0.7183098591549296,
          0.6338028169014085,
          0.9154929577464789,
          0.6338028169014085,
          0.4440322580645161,
          0.4174838709677419,
          0.4366774193548387,
          0.41,
          0.5766129032258065,
          0.396741935483871,
          0.7534516129032258,
          2.1129032258064515,
          1.1787096774193548,
          1.013548387096774,
          1.0411935483870969,
          0.40706060606060607,
          0.29163636363636364,
          0.2996969696969697,
          0.8136666666666666,
          0.7272727272727273,
          0.6060606060606061,
          0.48484848484848486,
          1,
          1,
          0.9032258064516129,
          0.9354838709677419,
          1,
          0.7741935483870968,
          0.7741935483870968,
          0.7741935483870968,
          0.7741935483870968,
          0.7741935483870968,
          0.9430232558139535,
          0.32906976744186045,
          0.20232558139534884,
          0.8372093023255814,
          0.8372093023255814,
          0.8372093023255814,
          0.8372093023255814,
          0.8372093023255814,
          0.8023255813953488,
          0.2786885245901639,
          0.8737704918032787,
          0.9868852459016394,
          0.8111475409836065,
          0.819672131147541,
          0.819672131147541,
          0.819672131147541,
          0.819672131147541,
          0.4153846153846154,
          0.8261538461538461,
          0.82,
          0.8261538461538461,
          0.9686,
          1,
          1,
          1,
          1,
          1,
          0.34,
          0.4042857142857143,
          0.9626428571428571,
          0.9685714285714285,
          0.59,
          0.9183333333333333,
          0.22333333333333333,
          0.9977166666666667,
          0.6566666666666666,
          0.7166666666666667,
          0.7166666666666667,
          0.7166666666666667,
          0.7166666666666667,
          0.7166666666666667,
          0.6794871794871795,
          0.3243589743589744,
          0.33205128205128204,
          0.9884615384615385,
          1.0025641025641026,
          0.45416666666666666,
          0.9736111111111111,
          0.9736111111111111,
          0.624375,
          0.7222222222222222,
          0.7222222222222222,
          0.7222222222222222,
          0.7222222222222222,
          0.7222222222222222,
          0.7222222222222222,
          0.44027777777777777,
          0.5027777777777778,
          0.7853888888888889,
          0.9492777777777778,
          0.7535277777777778,
          0.9010533333333334,
          0.9548666666666666,
          0.9555466666666667,
          0.95616,
          0.9006266666666667,
          0.8892666666666666,
          0.8991066666666667,
          0.9287866666666666,
          0.9531066666666667,
          0.9630227272727273,
          0.7402045454545455,
          0.6030227272727273,
          0.79025,
          0.5256136363636363,
          0.8004772727272728,
          0.37817391304347825,
          0.20921739130434783,
          0.49241304347826087,
          0.8063260869565217,
          0.8114347826086956,
          0.8111956521739131,
          0.8334897959183674,
          0.8453877551020408,
          0.8598367346938776,
          0.9551714285714286,
          0.8035714285714286,
          1.0037142857142858,
          0.8936571428571428,
          1.0082285714285715,
          1.1310285714285715,
          0.8069574468085107,
          0.7501702127659574,
          0.1688936170212766,
          0.6524893617021277,
          0.45238297872340427,
          0.5329787234042553,
          0.8670212765957447,
          0.8152765957446808,
          0.7851239669421488,
          0.5371900826446281,
          0.371900826446281,
          0.5371900826446281,
          0.4132231404958678,
          1,
          0.7575757575757576,
          0.6060606060606061,
          1,
          1.0294117647058822,
          0.3235294117647059,
          0.5588235294117647,
          0.7352941176470589,
          0.4339622641509434,
          0.2830188679245283,
          0.6981132075471698,
          0.8,
          0.4222222222222222,
          1,
          0.9333333333333333,
          0.9333333333333333,
          0.9111111111111111,
          0.9602608695652174,
          0.8939782608695652,
          0.8630434782608696,
          0.99124,
          0.96,
          0.99124,
          0.9375,
          0.9166666666666666,
          0.6666666666666666,
          0.8333333333333334,
          1.0014333333333334,
          0.9333333333333333,
          0.5952380952380952,
          0.35714285714285715,
          0.5952380952380952,
          0.9725151515151516,
          0.9848484848484849,
          0.8484848484848485,
          0.94758,
          0.86,
          0.5606060606060606,
          0.30303030303030304,
          0.5606060606060606,
          1.075,
          1.1,
          1.1,
          0.8333333333333334,
          1.000988888888889,
          0.8333333333333334,
          1,
          0.8333333333333334,
          0.625,
          0.9027777777777778,
          0.9722222222222222,
          0.532258064516129,
          0.44516129032258067,
          0.45806451612903226,
          0.45227272727272727,
          0.4526136363636364,
          0.5159090909090909,
          0.45,
          0.9477272727272728,
          0.7333333333333333,
          0.9333333333333333,
          0.9333333333333333,
          0.6764705882352942,
          0.5941176470588235,
          0.7052941176470588,
          0.782051282051282,
          0.7692307692307693,
          0.9230769230769231,
          0.9871794871794872,
          0.5142857142857142,
          0.7571428571428571,
          0.5714285714285714,
          0.8413137254901961,
          0.7585686274509804,
          0.7315098039215686,
          0.9347647058823529,
          1.0083529411764707,
          0.9905810810810811,
          0.9922027027027027,
          0.9905810810810811,
          0.9905810810810811,
          0.9905810810810811,
          0.9946351351351351,
          0.852974358974359,
          0.9990256410256411,
          0.8937692307692308,
          0.9992564102564102,
          0.9940952380952381,
          0.9207460317460318,
          0.9920952380952381,
          0.9743015873015873,
          0.9940952380952381,
          1.0068,
          1.0076285714285713,
          0.9988285714285714,
          0.9108333333333334,
          0.93775,
          0.9986111111111111,
          0.9861111111111112,
          1.0087272727272727,
          1.0087272727272727,
          1.0087272727272727,
          0.9920277777777777,
          0.90925,
          0.8066388888888889,
          0.9293166666666667,
          0.8788833333333333,
          0.8337666666666667,
          0.9200833333333334,
          0.9996333333333334,
          1.0018571428571428,
          1.001793650793651,
          1.0025396825396826,
          1.0014126984126983,
          0.9562857142857143,
          0.878859375,
          0.6895625,
          0.99996875,
          0.99996875,
          0.941828125,
          0.9921875,
          0.9413461538461538,
          0.7875384615384615,
          0.917025641025641,
          0.9899615384615384,
          0.9912894736842105,
          0.9818947368421053,
          1.0042368421052632,
          0.9526842105263158,
          0.9346052631578947,
          0.9473684210526315,
          0.9751315789473685,
          0.9771914893617021,
          0.9914255319148936,
          0.9986063829787234,
          0.9986063829787234,
          0.962436170212766,
          0.9771914893617021,
          0.973404255319149,
          1.002063829787234,
          0.9874032258064516,
          0.9804838709677419,
          1.006241935483871,
          0.9770645161290322,
          0.9895967741935484,
          0.9885849056603774,
          0.9534905660377359,
          0.9912264150943396,
          0.9992264150943396,
          1.0022830188679246,
          0.9650119047619048,
          0.9928690476190476,
          0.9928690476190476,
          0.8918333333333334,
          1.00175,
          0.9940476190476191,
          1.0084444444444445,
          1.0083888888888888,
          1.0083888888888888,
          0.9815,
          1.0067962962962962,
          0.9888888888888889,
          1,
          0.9625,
          1,
          1,
          1,
          0.9625,
          1,
          1,
          1,
          0.875,
          0.8132352941176471,
          1.0441176470588236,
          1.0441176470588236,
          1.0441176470588236,
          0.8764705882352941,
          0.9864864864864865,
          0.9054054054054054,
          0.9054054054054054,
          0.8956756756756756,
          0.9027027027027027,
          0.8918918918918919,
          0.9292682926829269,
          0.9292682926829269,
          1.0067073170731706,
          1.0067073170731706,
          1.024390243902439,
          0.775609756097561,
          0.95,
          0.9625,
          0.8875,
          0.9875,
          0.9625,
          1.2375,
          0.8886363636363637,
          0.9840909090909091,
          0.9840909090909091,
          0.8886363636363637,
          0.8886363636363637,
          0.9840909090909091,
          1,
          1,
          1,
          1,
          0.85,
          0.85,
          0.977515625,
          0.681328125,
          1.025390625,
          0.8018809523809524,
          0.7675952380952381,
          0.9662380952380952,
          0.6853863636363636,
          0.7691363636363636,
          0.8485681818181818,
          0.767095238095238,
          0.7400238095238095,
          0.8554047619047619,
          0.8107142857142857,
          0.8536666666666667,
          0.8683809523809524,
          0.44975,
          0.8707142857142857,
          0.6798214285714286,
          0.8368412698412698,
          0.8770793650793651,
          0.8306031746031746,
          0.9691746031746031,
          0.6648372093023256,
          0.632953488372093,
          0.9793953488372094,
          0.7370714285714286,
          0.8617619047619047,
          0.9628571428571429,
          0.8675813953488372,
          0.7832790697674419,
          0.8959069767441861,
          0.9052558139534884,
          0.6397058823529411,
          0.6945,
          0.8937941176470589,
          0.9335735294117647,
          0.5714285714285714,
          0.7380952380952381,
          0.8661904761904762,
          0.875,
          0.7184761904761905,
          0.5994285714285714,
          0.9308163265306122,
          0.9342244897959183,
          0.9319591836734694,
          0.8134423076923077,
          0.925,
          0.9661346153846154,
          0.9181666666666667,
          0.9072222222222223,
          0.91475,
          0.9587361111111111,
          0.9232558139534883,
          0.9137441860465116,
          0.9243488372093023,
          0.923235294117647,
          0.9145098039215687,
          0.9301176470588235,
          0.89728,
          0.90426,
          0.88466,
          0.7756,
          0.66205,
          0.9647,
          0.9840909090909091,
          1,
          1,
          1,
          1,
          1,
          1,
          1,
          1,
          1,
          1,
          0.8654883720930232,
          1,
          1,
          0.8837209302325582,
          1,
          1,
          1,
          1,
          1,
          1,
          1,
          1,
          1,
          1,
          1,
          1,
          1,
          1,
          1,
          1,
          1.0058333333333334,
          0.9936309523809523,
          0.9782619047619048,
          1.0054166666666666,
          0.99275,
          1.0044880952380952,
          1.000202380952381,
          1.0058333333333334,
          1.0015625,
          0.982328125,
          1.0015625,
          0.9944375,
          0.985828125,
          0.983671875,
          1.0015625,
          0.976234375,
          0.7503095238095238,
          0.8817619047619047,
          0.9117619047619048,
          0.8302857142857143,
          0.8784047619047619,
          0.7285,
          0.9568095238095238,
          0.8631904761904762,
          0.9943928571428572,
          0.9701964285714286,
          0.8138035714285714,
          0.9711785714285714,
          0.9537857142857142,
          0.966,
          0.9885535714285715,
          0.9201428571428572,
          0.5683571428571429,
          0.8288571428571428,
          0.7958333333333333,
          0.6658809523809524,
          0.8327619047619048,
          0.7220238095238095,
          0.8421428571428572,
          0.9259761904761905,
          0.8297619047619048,
          0.903093023255814,
          0.992046511627907,
          0.8854418604651163,
          0.8331860465116279,
          0.9757674418604652,
          0.8544651162790697,
          0.9946031746031746,
          0.9913174603174603,
          0.9842857142857143,
          0.9821269841269842,
          0.9954285714285714,
          0.9835238095238096,
          0.9676190476190476,
          0.7468292682926829,
          0.7705609756097561,
          0.649829268292683,
          0.9613414634146341,
          0.6839512195121952,
          0.9880487804878049,
          0.7966829268292683,
          0.9324146341463415,
          0.922829268292683,
          0.8478780487804878,
          0.9857619047619047,
          0.9932539682539683,
          0.9999365079365079,
          0.9745555555555555,
          1.004047619047619,
          1.0042380952380952,
          0.9804,
          0.994,
          0.987125,
          0.99265,
          0.9264038461538462,
          0.982326923076923,
          0.9808269230769231,
          0.9232884615384616,
          0.9851346153846153,
          0.9842115384615384,
          0.9823170731707317,
          0.9171463414634147,
          0.987780487804878,
          0.9839024390243902,
          1.3296279069767443,
          1.3209302325581396,
          1.3418139534883722,
          1.3447209302325582,
          1.342186046511628,
          1.3521162790697674,
          0.9314126984126984,
          0.9578095238095238,
          0.9463650793650794,
          0.938015873015873,
          0.9336031746031747,
          0.9578095238095238,
          0.9707317073170731,
          0.975170731707317,
          0.978609756097561,
          0.9834634146341463,
          0.9364418604651162,
          0.9368604651162791,
          0.9584186046511628,
          0.9738604651162791,
          0.9591162790697675,
          0.9764428571428572,
          0.9821142857142857,
          0.9873142857142857,
          0.9648571428571429,
          0.9697428571428571,
          0.9793,
          0.9719142857142857,
          1.000279069767442,
          0.997139534883721,
          0.9937674418604651,
          1.006627906976744,
          1.0014651162790698,
          0.977025,
          0.9806,
          0.984375,
          0.982775,
          1.0001410256410257,
          1.0001410256410257,
          1.0001410256410257,
          1.0001410256410257,
          1.0001410256410257,
          1.0001410256410257,
          1.0001410256410257,
          0.8186363636363636,
          0.9936060606060606,
          0.987030303030303,
          1.0018484848484848,
          0.9773125,
          1.0073125,
          1.0073125,
          1.0073125,
          1.00065625,
          1.00446875,
          1.00634375,
          0.9969545454545454,
          0.9831136363636364,
          1.0065227272727273,
          1.001659090909091,
          1.0065227272727273,
          1.0065227272727273,
          0.9599767441860465,
          0.9934418604651163,
          0.997046511627907,
          0.972906976744186,
          0.997046511627907,
          0.997046511627907,
          1.0043181818181819,
          1.0043181818181819,
          1.0043181818181819,
          1.0043181818181819,
          1.0043181818181819,
          0.9643333333333334,
          0.9724285714285714,
          0.9925,
          0.8849523809523809,
          0.9157647058823529,
          0.9755,
          0.9992058823529412,
          0.9992058823529412,
          0.9864761904761905,
          0.9696904761904762,
          0.9992857142857143,
          0.9992857142857143,
          0.9992857142857143,
          0.9521666666666667,
          1.0025348837209302,
          0.9925116279069768,
          1.0109767441860464,
          1.0109767441860464,
          0.9643255813953489,
          0.9837209302325581,
          1.0074186046511628,
          1.0074186046511628,
          1.0074186046511628,
          0.9500232558139535,
          1.0074186046511628,
          0.9332727272727273,
          0.9296363636363636,
          0.8368863636363636,
          0.9588409090909091,
          0.9764057971014493,
          0.8609710144927536,
          0.9922173913043478,
          0.9984782608695653,
          0.9678840579710145,
          0.9717971014492753,
          0.956304347826087,
          0.9984782608695653,
          0.989768115942029,
          0.9855217391304348,
          0.9262608695652174,
          0.9746304347826087,
          0.9646521739130435,
          0.9688913043478261,
          0.9750217391304348,
          0.9749130434782609,
          0.9595,
          0.9482045454545455,
          0.9093863636363636,
          0.9499318181818182,
          0.9940454545454546,
          0.9574318181818182,
          0.9795909090909091,
          0.9315681818181818,
          1.0045,
          0.9648444444444444,
          0.8984888888888889,
          0.9083333333333333,
          0.9217555555555556,
          0.9843777777777778,
          0.9774222222222222,
          1.000711111111111,
          0.9888988764044944,
          0.9899213483146068,
          0.9996179775280899,
          0.9962696629213483,
          0.9548876404494382,
          0.9661348314606741,
          0.9406741573033708,
          0.9914044943820225,
          0.9996179775280899,
          0.9996179775280899,
          0.9538888888888889,
          0.9258444444444445,
          0.9835333333333334,
          0.9774,
          0.9694888888888888,
          0.9799333333333333,
          0.9926,
          0.9754,
          0.89475,
          0.9695909090909091,
          0.9740909090909091,
          0.9920227272727272,
          1.0020227272727273,
          0.9404090909090909,
          0.9965227272727273,
          0.9289772727272727,
          0.8883863636363636,
          0.9505227272727272,
          0.9042954545454546,
          0.9370909090909091,
          0.9873409090909091,
          0.9664318181818182
         ],
         "y0": " ",
         "yaxis": "y"
        }
       ],
       "layout": {
        "boxmode": "group",
        "height": 500,
        "legend": {
         "font": {
          "color": "white"
         },
         "tracegroupgap": 0
        },
        "paper_bgcolor": "#383838",
        "plot_bgcolor": "#383838",
        "template": {
         "data": {
          "bar": [
           {
            "error_x": {
             "color": "#2a3f5f"
            },
            "error_y": {
             "color": "#2a3f5f"
            },
            "marker": {
             "line": {
              "color": "#E5ECF6",
              "width": 0.5
             },
             "pattern": {
              "fillmode": "overlay",
              "size": 10,
              "solidity": 0.2
             }
            },
            "type": "bar"
           }
          ],
          "barpolar": [
           {
            "marker": {
             "line": {
              "color": "#E5ECF6",
              "width": 0.5
             },
             "pattern": {
              "fillmode": "overlay",
              "size": 10,
              "solidity": 0.2
             }
            },
            "type": "barpolar"
           }
          ],
          "carpet": [
           {
            "aaxis": {
             "endlinecolor": "#2a3f5f",
             "gridcolor": "white",
             "linecolor": "white",
             "minorgridcolor": "white",
             "startlinecolor": "#2a3f5f"
            },
            "baxis": {
             "endlinecolor": "#2a3f5f",
             "gridcolor": "white",
             "linecolor": "white",
             "minorgridcolor": "white",
             "startlinecolor": "#2a3f5f"
            },
            "type": "carpet"
           }
          ],
          "choropleth": [
           {
            "colorbar": {
             "outlinewidth": 0,
             "ticks": ""
            },
            "type": "choropleth"
           }
          ],
          "contour": [
           {
            "colorbar": {
             "outlinewidth": 0,
             "ticks": ""
            },
            "colorscale": [
             [
              0,
              "#0d0887"
             ],
             [
              0.1111111111111111,
              "#46039f"
             ],
             [
              0.2222222222222222,
              "#7201a8"
             ],
             [
              0.3333333333333333,
              "#9c179e"
             ],
             [
              0.4444444444444444,
              "#bd3786"
             ],
             [
              0.5555555555555556,
              "#d8576b"
             ],
             [
              0.6666666666666666,
              "#ed7953"
             ],
             [
              0.7777777777777778,
              "#fb9f3a"
             ],
             [
              0.8888888888888888,
              "#fdca26"
             ],
             [
              1,
              "#f0f921"
             ]
            ],
            "type": "contour"
           }
          ],
          "contourcarpet": [
           {
            "colorbar": {
             "outlinewidth": 0,
             "ticks": ""
            },
            "type": "contourcarpet"
           }
          ],
          "heatmap": [
           {
            "colorbar": {
             "outlinewidth": 0,
             "ticks": ""
            },
            "colorscale": [
             [
              0,
              "#0d0887"
             ],
             [
              0.1111111111111111,
              "#46039f"
             ],
             [
              0.2222222222222222,
              "#7201a8"
             ],
             [
              0.3333333333333333,
              "#9c179e"
             ],
             [
              0.4444444444444444,
              "#bd3786"
             ],
             [
              0.5555555555555556,
              "#d8576b"
             ],
             [
              0.6666666666666666,
              "#ed7953"
             ],
             [
              0.7777777777777778,
              "#fb9f3a"
             ],
             [
              0.8888888888888888,
              "#fdca26"
             ],
             [
              1,
              "#f0f921"
             ]
            ],
            "type": "heatmap"
           }
          ],
          "heatmapgl": [
           {
            "colorbar": {
             "outlinewidth": 0,
             "ticks": ""
            },
            "colorscale": [
             [
              0,
              "#0d0887"
             ],
             [
              0.1111111111111111,
              "#46039f"
             ],
             [
              0.2222222222222222,
              "#7201a8"
             ],
             [
              0.3333333333333333,
              "#9c179e"
             ],
             [
              0.4444444444444444,
              "#bd3786"
             ],
             [
              0.5555555555555556,
              "#d8576b"
             ],
             [
              0.6666666666666666,
              "#ed7953"
             ],
             [
              0.7777777777777778,
              "#fb9f3a"
             ],
             [
              0.8888888888888888,
              "#fdca26"
             ],
             [
              1,
              "#f0f921"
             ]
            ],
            "type": "heatmapgl"
           }
          ],
          "histogram": [
           {
            "marker": {
             "pattern": {
              "fillmode": "overlay",
              "size": 10,
              "solidity": 0.2
             }
            },
            "type": "histogram"
           }
          ],
          "histogram2d": [
           {
            "colorbar": {
             "outlinewidth": 0,
             "ticks": ""
            },
            "colorscale": [
             [
              0,
              "#0d0887"
             ],
             [
              0.1111111111111111,
              "#46039f"
             ],
             [
              0.2222222222222222,
              "#7201a8"
             ],
             [
              0.3333333333333333,
              "#9c179e"
             ],
             [
              0.4444444444444444,
              "#bd3786"
             ],
             [
              0.5555555555555556,
              "#d8576b"
             ],
             [
              0.6666666666666666,
              "#ed7953"
             ],
             [
              0.7777777777777778,
              "#fb9f3a"
             ],
             [
              0.8888888888888888,
              "#fdca26"
             ],
             [
              1,
              "#f0f921"
             ]
            ],
            "type": "histogram2d"
           }
          ],
          "histogram2dcontour": [
           {
            "colorbar": {
             "outlinewidth": 0,
             "ticks": ""
            },
            "colorscale": [
             [
              0,
              "#0d0887"
             ],
             [
              0.1111111111111111,
              "#46039f"
             ],
             [
              0.2222222222222222,
              "#7201a8"
             ],
             [
              0.3333333333333333,
              "#9c179e"
             ],
             [
              0.4444444444444444,
              "#bd3786"
             ],
             [
              0.5555555555555556,
              "#d8576b"
             ],
             [
              0.6666666666666666,
              "#ed7953"
             ],
             [
              0.7777777777777778,
              "#fb9f3a"
             ],
             [
              0.8888888888888888,
              "#fdca26"
             ],
             [
              1,
              "#f0f921"
             ]
            ],
            "type": "histogram2dcontour"
           }
          ],
          "mesh3d": [
           {
            "colorbar": {
             "outlinewidth": 0,
             "ticks": ""
            },
            "type": "mesh3d"
           }
          ],
          "parcoords": [
           {
            "line": {
             "colorbar": {
              "outlinewidth": 0,
              "ticks": ""
             }
            },
            "type": "parcoords"
           }
          ],
          "pie": [
           {
            "automargin": true,
            "type": "pie"
           }
          ],
          "scatter": [
           {
            "fillpattern": {
             "fillmode": "overlay",
             "size": 10,
             "solidity": 0.2
            },
            "type": "scatter"
           }
          ],
          "scatter3d": [
           {
            "line": {
             "colorbar": {
              "outlinewidth": 0,
              "ticks": ""
             }
            },
            "marker": {
             "colorbar": {
              "outlinewidth": 0,
              "ticks": ""
             }
            },
            "type": "scatter3d"
           }
          ],
          "scattercarpet": [
           {
            "marker": {
             "colorbar": {
              "outlinewidth": 0,
              "ticks": ""
             }
            },
            "type": "scattercarpet"
           }
          ],
          "scattergeo": [
           {
            "marker": {
             "colorbar": {
              "outlinewidth": 0,
              "ticks": ""
             }
            },
            "type": "scattergeo"
           }
          ],
          "scattergl": [
           {
            "marker": {
             "colorbar": {
              "outlinewidth": 0,
              "ticks": ""
             }
            },
            "type": "scattergl"
           }
          ],
          "scattermapbox": [
           {
            "marker": {
             "colorbar": {
              "outlinewidth": 0,
              "ticks": ""
             }
            },
            "type": "scattermapbox"
           }
          ],
          "scatterpolar": [
           {
            "marker": {
             "colorbar": {
              "outlinewidth": 0,
              "ticks": ""
             }
            },
            "type": "scatterpolar"
           }
          ],
          "scatterpolargl": [
           {
            "marker": {
             "colorbar": {
              "outlinewidth": 0,
              "ticks": ""
             }
            },
            "type": "scatterpolargl"
           }
          ],
          "scatterternary": [
           {
            "marker": {
             "colorbar": {
              "outlinewidth": 0,
              "ticks": ""
             }
            },
            "type": "scatterternary"
           }
          ],
          "surface": [
           {
            "colorbar": {
             "outlinewidth": 0,
             "ticks": ""
            },
            "colorscale": [
             [
              0,
              "#0d0887"
             ],
             [
              0.1111111111111111,
              "#46039f"
             ],
             [
              0.2222222222222222,
              "#7201a8"
             ],
             [
              0.3333333333333333,
              "#9c179e"
             ],
             [
              0.4444444444444444,
              "#bd3786"
             ],
             [
              0.5555555555555556,
              "#d8576b"
             ],
             [
              0.6666666666666666,
              "#ed7953"
             ],
             [
              0.7777777777777778,
              "#fb9f3a"
             ],
             [
              0.8888888888888888,
              "#fdca26"
             ],
             [
              1,
              "#f0f921"
             ]
            ],
            "type": "surface"
           }
          ],
          "table": [
           {
            "cells": {
             "fill": {
              "color": "#EBF0F8"
             },
             "line": {
              "color": "white"
             }
            },
            "header": {
             "fill": {
              "color": "#C8D4E3"
             },
             "line": {
              "color": "white"
             }
            },
            "type": "table"
           }
          ]
         },
         "layout": {
          "annotationdefaults": {
           "arrowcolor": "#2a3f5f",
           "arrowhead": 0,
           "arrowwidth": 1
          },
          "autotypenumbers": "strict",
          "coloraxis": {
           "colorbar": {
            "outlinewidth": 0,
            "ticks": ""
           }
          },
          "colorscale": {
           "diverging": [
            [
             0,
             "#8e0152"
            ],
            [
             0.1,
             "#c51b7d"
            ],
            [
             0.2,
             "#de77ae"
            ],
            [
             0.3,
             "#f1b6da"
            ],
            [
             0.4,
             "#fde0ef"
            ],
            [
             0.5,
             "#f7f7f7"
            ],
            [
             0.6,
             "#e6f5d0"
            ],
            [
             0.7,
             "#b8e186"
            ],
            [
             0.8,
             "#7fbc41"
            ],
            [
             0.9,
             "#4d9221"
            ],
            [
             1,
             "#276419"
            ]
           ],
           "sequential": [
            [
             0,
             "#0d0887"
            ],
            [
             0.1111111111111111,
             "#46039f"
            ],
            [
             0.2222222222222222,
             "#7201a8"
            ],
            [
             0.3333333333333333,
             "#9c179e"
            ],
            [
             0.4444444444444444,
             "#bd3786"
            ],
            [
             0.5555555555555556,
             "#d8576b"
            ],
            [
             0.6666666666666666,
             "#ed7953"
            ],
            [
             0.7777777777777778,
             "#fb9f3a"
            ],
            [
             0.8888888888888888,
             "#fdca26"
            ],
            [
             1,
             "#f0f921"
            ]
           ],
           "sequentialminus": [
            [
             0,
             "#0d0887"
            ],
            [
             0.1111111111111111,
             "#46039f"
            ],
            [
             0.2222222222222222,
             "#7201a8"
            ],
            [
             0.3333333333333333,
             "#9c179e"
            ],
            [
             0.4444444444444444,
             "#bd3786"
            ],
            [
             0.5555555555555556,
             "#d8576b"
            ],
            [
             0.6666666666666666,
             "#ed7953"
            ],
            [
             0.7777777777777778,
             "#fb9f3a"
            ],
            [
             0.8888888888888888,
             "#fdca26"
            ],
            [
             1,
             "#f0f921"
            ]
           ]
          },
          "colorway": [
           "#636efa",
           "#EF553B",
           "#00cc96",
           "#ab63fa",
           "#FFA15A",
           "#19d3f3",
           "#FF6692",
           "#B6E880",
           "#FF97FF",
           "#FECB52"
          ],
          "font": {
           "color": "#2a3f5f"
          },
          "geo": {
           "bgcolor": "white",
           "lakecolor": "white",
           "landcolor": "#E5ECF6",
           "showlakes": true,
           "showland": true,
           "subunitcolor": "white"
          },
          "hoverlabel": {
           "align": "left"
          },
          "hovermode": "closest",
          "mapbox": {
           "style": "light"
          },
          "paper_bgcolor": "white",
          "plot_bgcolor": "#E5ECF6",
          "polar": {
           "angularaxis": {
            "gridcolor": "white",
            "linecolor": "white",
            "ticks": ""
           },
           "bgcolor": "#E5ECF6",
           "radialaxis": {
            "gridcolor": "white",
            "linecolor": "white",
            "ticks": ""
           }
          },
          "scene": {
           "xaxis": {
            "backgroundcolor": "#E5ECF6",
            "gridcolor": "white",
            "gridwidth": 2,
            "linecolor": "white",
            "showbackground": true,
            "ticks": "",
            "zerolinecolor": "white"
           },
           "yaxis": {
            "backgroundcolor": "#E5ECF6",
            "gridcolor": "white",
            "gridwidth": 2,
            "linecolor": "white",
            "showbackground": true,
            "ticks": "",
            "zerolinecolor": "white"
           },
           "zaxis": {
            "backgroundcolor": "#E5ECF6",
            "gridcolor": "white",
            "gridwidth": 2,
            "linecolor": "white",
            "showbackground": true,
            "ticks": "",
            "zerolinecolor": "white"
           }
          },
          "shapedefaults": {
           "line": {
            "color": "#2a3f5f"
           }
          },
          "ternary": {
           "aaxis": {
            "gridcolor": "white",
            "linecolor": "white",
            "ticks": ""
           },
           "baxis": {
            "gridcolor": "white",
            "linecolor": "white",
            "ticks": ""
           },
           "bgcolor": "#E5ECF6",
           "caxis": {
            "gridcolor": "white",
            "linecolor": "white",
            "ticks": ""
           }
          },
          "title": {
           "x": 0.05
          },
          "xaxis": {
           "automargin": true,
           "gridcolor": "white",
           "linecolor": "white",
           "ticks": "",
           "title": {
            "standoff": 15
           },
           "zerolinecolor": "white",
           "zerolinewidth": 2
          },
          "yaxis": {
           "automargin": true,
           "gridcolor": "white",
           "linecolor": "white",
           "ticks": "",
           "title": {
            "standoff": 15
           },
           "zerolinecolor": "white",
           "zerolinewidth": 2
          }
         }
        },
        "title": {
         "font": {
          "color": "white"
         },
         "text": "Attendance_ratio distribution"
        },
        "width": 1000,
        "xaxis": {
         "anchor": "y",
         "color": "white",
         "domain": [
          0,
          1
         ],
         "title": {
          "text": "tournament_year"
         }
        },
        "yaxis": {
         "anchor": "x",
         "color": "white",
         "domain": [
          0,
          1
         ],
         "title": {
          "text": "used_capacity_ratio"
         }
        }
       }
      }
     },
     "metadata": {},
     "output_type": "display_data"
    }
   ],
   "source": [
    "four_2_fig = px.box(final_match_df,\n",
    "                 y='used_capacity_ratio',x='tournament_year',\n",
    "                 width=1000, height=500,title='Attendance_ratio distribution')\n",
    "four_2_fig.update_layout(**layout_options)\n",
    "four_2_fig.show()"
   ]
  },
  {
   "attachments": {},
   "cell_type": "markdown",
   "metadata": {},
   "source": [
    "#### <strong> `The results:`</strong>"
   ]
  },
  {
   "attachments": {},
   "cell_type": "markdown",
   "metadata": {},
   "source": [
    "* we can see that there are some matches when the number of Attendance bigger than the stadiums capacity\n",
    "* 1986 cup has the busiest match in the world cup history where the number of Attendance was more than two times bigger than stadium capacity.\n",
    "* In the plot above we can see that in every tournament Attendance_ratio distribution be closer and under <strong>1</strong> and that happen because that every tournament the number of Attendance is increasing and that `shift` the distribution `up` and in the other hand every country try to make stadiums bigger and that `shift` the distribution `down` so that in every tournament the distribution is `compressed` `(have less spread)` in the area that close and under <strong>1</strong> in the plot.\n",
    "  \n"
   ]
  }
 ],
 "metadata": {
  "kernelspec": {
   "display_name": "Python 3",
   "language": "python",
   "name": "python3"
  },
  "language_info": {
   "codemirror_mode": {
    "name": "ipython",
    "version": 3
   },
   "file_extension": ".py",
   "mimetype": "text/x-python",
   "name": "python",
   "nbconvert_exporter": "python",
   "pygments_lexer": "ipython3",
   "version": "3.11.2"
  },
  "orig_nbformat": 4
 },
 "nbformat": 4,
 "nbformat_minor": 2
}
